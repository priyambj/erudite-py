{
 "cells": [
  {
   "cell_type": "code",
   "execution_count": 1,
   "metadata": {
    "collapsed": false
   },
   "outputs": [
    {
     "name": "stdout",
     "output_type": "stream",
     "text": [
      "Populating the interactive namespace from numpy and matplotlib\n"
     ]
    }
   ],
   "source": [
    "from __future__ import print_function, division\n",
    "%pylab inline\n",
    "import numpy as np\n",
    "import pandas as pd\n",
    "import warnings\n",
    "warnings.filterwarnings('ignore')\n",
    "import seaborn as sns"
   ]
  },
  {
   "cell_type": "code",
   "execution_count": 2,
   "metadata": {
    "collapsed": false
   },
   "outputs": [
    {
     "name": "stdout",
     "output_type": "stream",
     "text": [
      "Index([u'id', u'title', u'homepage', u'subtitle', u'level', u'starter',\n",
      "       u'image', u'banner_image', u'teaser_video', u'summary',\n",
      "       u'short_summary', u'required_knowledge', u'expected_learning',\n",
      "       u'featured', u'syllabus', u'faq', u'full_course_available',\n",
      "       u'expected_duration', u'expected_duration_unit', u'new_release',\n",
      "       u'transcripts_url', u'transcripts_zip_fn', u'transcript'],\n",
      "      dtype='object')\n"
     ]
    },
    {
     "data": {
      "text/html": [
       "<div>\n",
       "<table border=\"1\" class=\"dataframe\">\n",
       "  <thead>\n",
       "    <tr style=\"text-align: right;\">\n",
       "      <th></th>\n",
       "      <th>id</th>\n",
       "      <th>title</th>\n",
       "      <th>homepage</th>\n",
       "      <th>subtitle</th>\n",
       "      <th>level</th>\n",
       "      <th>starter</th>\n",
       "      <th>image</th>\n",
       "      <th>banner_image</th>\n",
       "      <th>teaser_video</th>\n",
       "      <th>summary</th>\n",
       "      <th>...</th>\n",
       "      <th>featured</th>\n",
       "      <th>syllabus</th>\n",
       "      <th>faq</th>\n",
       "      <th>full_course_available</th>\n",
       "      <th>expected_duration</th>\n",
       "      <th>expected_duration_unit</th>\n",
       "      <th>new_release</th>\n",
       "      <th>transcripts_url</th>\n",
       "      <th>transcripts_zip_fn</th>\n",
       "      <th>transcript</th>\n",
       "    </tr>\n",
       "  </thead>\n",
       "  <tbody>\n",
       "    <tr>\n",
       "      <th>0</th>\n",
       "      <td>bio110</td>\n",
       "      <td>Tales from the Genome</td>\n",
       "      <td>https://www.udacity.com/course/tales-from-the-...</td>\n",
       "      <td>Introduction to Genetics for Beginners</td>\n",
       "      <td>beginner</td>\n",
       "      <td>False</td>\n",
       "      <td>https://lh5.ggpht.com/Fh07_XbT61CGDWsQoOMQaIeH...</td>\n",
       "      <td>https://lh4.ggpht.com/_AHqr0EXcLBzF0rrwtBagE0t...</td>\n",
       "      <td>https://www.youtube.com/watch?v=sEXrjh-tme8</td>\n",
       "      <td>This course is a journey into the biology of t...</td>\n",
       "      <td>...</td>\n",
       "      <td>False</td>\n",
       "      <td>## Lesson 1: Introduction to traits and heredi...</td>\n",
       "      <td>NaN</td>\n",
       "      <td>False</td>\n",
       "      <td>3</td>\n",
       "      <td>months</td>\n",
       "      <td>False</td>\n",
       "      <td>https://www.udacity.com/course/progress#!/c-bi...</td>\n",
       "      <td>transcripts_zips/bio110.zip</td>\n",
       "      <td>In the same way that our genomes influence tr...</td>\n",
       "    </tr>\n",
       "    <tr>\n",
       "      <th>1</th>\n",
       "      <td>cs046</td>\n",
       "      <td>Intro to Java Programming</td>\n",
       "      <td>https://www.udacity.com/course/intro-to-java-p...</td>\n",
       "      <td>Building Programs with Classes &amp; Objects</td>\n",
       "      <td>beginner</td>\n",
       "      <td>False</td>\n",
       "      <td>https://lh4.ggpht.com/9ytiUdz0QYHwuMJFTXcNXZn4...</td>\n",
       "      <td>https://lh3.ggpht.com/AdAALPYhCsWuIvDl0ZY6zIW2...</td>\n",
       "      <td>https://www.youtube.com/watch?v=Wsp5Rrenoq4</td>\n",
       "      <td>In this introductory course, you'll learn and ...</td>\n",
       "      <td>...</td>\n",
       "      <td>False</td>\n",
       "      <td>### Lesson 1: Introduction to Computers, Progr...</td>\n",
       "      <td>NaN</td>\n",
       "      <td>True</td>\n",
       "      <td>4</td>\n",
       "      <td>months</td>\n",
       "      <td>False</td>\n",
       "      <td>https://www.udacity.com/course/progress#!/c-cs046</td>\n",
       "      <td>transcripts_zips/cs046.zip</td>\n",
       "      <td>Hi, I'm Cay. I'm Sara. We'll be the instructo...</td>\n",
       "    </tr>\n",
       "  </tbody>\n",
       "</table>\n",
       "<p>2 rows × 23 columns</p>\n",
       "</div>"
      ],
      "text/plain": [
       "       id                      title  \\\n",
       "0  bio110      Tales from the Genome   \n",
       "1   cs046  Intro to Java Programming   \n",
       "\n",
       "                                            homepage  \\\n",
       "0  https://www.udacity.com/course/tales-from-the-...   \n",
       "1  https://www.udacity.com/course/intro-to-java-p...   \n",
       "\n",
       "                                   subtitle     level starter  \\\n",
       "0    Introduction to Genetics for Beginners  beginner   False   \n",
       "1  Building Programs with Classes & Objects  beginner   False   \n",
       "\n",
       "                                               image  \\\n",
       "0  https://lh5.ggpht.com/Fh07_XbT61CGDWsQoOMQaIeH...   \n",
       "1  https://lh4.ggpht.com/9ytiUdz0QYHwuMJFTXcNXZn4...   \n",
       "\n",
       "                                        banner_image  \\\n",
       "0  https://lh4.ggpht.com/_AHqr0EXcLBzF0rrwtBagE0t...   \n",
       "1  https://lh3.ggpht.com/AdAALPYhCsWuIvDl0ZY6zIW2...   \n",
       "\n",
       "                                  teaser_video  \\\n",
       "0  https://www.youtube.com/watch?v=sEXrjh-tme8   \n",
       "1  https://www.youtube.com/watch?v=Wsp5Rrenoq4   \n",
       "\n",
       "                                             summary  \\\n",
       "0  This course is a journey into the biology of t...   \n",
       "1  In this introductory course, you'll learn and ...   \n",
       "\n",
       "                         ...                         featured  \\\n",
       "0                        ...                            False   \n",
       "1                        ...                            False   \n",
       "\n",
       "                                            syllabus  faq  \\\n",
       "0  ## Lesson 1: Introduction to traits and heredi...  NaN   \n",
       "1  ### Lesson 1: Introduction to Computers, Progr...  NaN   \n",
       "\n",
       "  full_course_available expected_duration expected_duration_unit new_release  \\\n",
       "0                 False                 3                 months       False   \n",
       "1                  True                 4                 months       False   \n",
       "\n",
       "                                     transcripts_url  \\\n",
       "0  https://www.udacity.com/course/progress#!/c-bi...   \n",
       "1  https://www.udacity.com/course/progress#!/c-cs046   \n",
       "\n",
       "            transcripts_zip_fn  \\\n",
       "0  transcripts_zips/bio110.zip   \n",
       "1   transcripts_zips/cs046.zip   \n",
       "\n",
       "                                          transcript  \n",
       "0   In the same way that our genomes influence tr...  \n",
       "1   Hi, I'm Cay. I'm Sara. We'll be the instructo...  \n",
       "\n",
       "[2 rows x 23 columns]"
      ]
     },
     "execution_count": 2,
     "metadata": {},
     "output_type": "execute_result"
    }
   ],
   "source": [
    "df = pd.read_pickle('udacity_courses.df')\n",
    "print(df.columns)\n",
    "df.head(2)"
   ]
  },
  {
   "cell_type": "code",
   "execution_count": 5,
   "metadata": {
    "collapsed": true
   },
   "outputs": [],
   "source": [
    "from textstat.textstat import textstat"
   ]
  },
  {
   "cell_type": "code",
   "execution_count": 13,
   "metadata": {
    "collapsed": false
   },
   "outputs": [
    {
     "name": "stdout",
     "output_type": "stream",
     "text": [
      "flesch_reading_ease            -0.250851\n",
      "flesch_kincaid_grade            0.222640\n",
      "len                            -0.033279\n",
      "n words                        -0.038163\n",
      "lexicon_count                  -0.038102\n",
      "sentence_count                 -0.064048\n",
      "automated_readability_index     0.220472\n",
      "coleman_liau_index              0.260412\n",
      "linsear_write_formula           0.186380\n",
      "dale_chall_readability_score    0.121015\n",
      "Name: level, dtype: float64\n"
     ]
    }
   ],
   "source": [
    "columns = ['transcript']\n",
    "scores = [('flesch_reading_ease', textstat.flesch_reading_ease), \n",
    "          ('flesch_kincaid_grade', textstat.flesch_kincaid_grade),\n",
    "          ('len', len), ('n words', lambda x: len(x.split())),\n",
    "          ('lexicon_count', textstat.lexicon_count), ('sentence_count', textstat.sentence_count),\n",
    "          ('automated_readability_index', textstat.automated_readability_index),\n",
    "          ('coleman_liau_index', textstat.coleman_liau_index), ('linsear_write_formula', textstat.linsear_write_formula),\n",
    "          ('dale_chall_readability_score', textstat.dale_chall_readability_score)]\n",
    "\n",
    "for i in columns:\n",
    "    if isinstance(i, str):\n",
    "        text = df[i]\n",
    "    else:\n",
    "        text = df[i[0]].copy()\n",
    "        for c in i[1:]:\n",
    "            text += ' ' + df[c]\n",
    "    res_df = df[['level']].copy()\n",
    "    res_df['level'] = res_df['level'].apply(lambda x: 0 if x=='beginner' else (1 if x == 'intermediate' else 2))\n",
    "    contains_text = text.apply(lambda x: '.' in x)\n",
    "    res_df = res_df[contains_text]\n",
    "    text = text[contains_text]\n",
    "    for s_n, s_f in scores:\n",
    "        res_df[s_n] = text.apply(s_f)\n",
    "    print(res_df.corr().loc['level'][1:])"
   ]
  },
  {
   "cell_type": "code",
   "execution_count": null,
   "metadata": {
    "collapsed": true
   },
   "outputs": [],
   "source": []
  }
 ],
 "metadata": {
  "kernelspec": {
   "display_name": "Python 2",
   "language": "python",
   "name": "python2"
  },
  "language_info": {
   "codemirror_mode": {
    "name": "ipython",
    "version": 2
   },
   "file_extension": ".py",
   "mimetype": "text/x-python",
   "name": "python",
   "nbconvert_exporter": "python",
   "pygments_lexer": "ipython2",
   "version": "2.7.12"
  }
 },
 "nbformat": 4,
 "nbformat_minor": 0
}
