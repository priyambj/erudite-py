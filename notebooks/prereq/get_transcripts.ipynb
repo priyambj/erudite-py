{
 "cells": [
  {
   "cell_type": "code",
   "execution_count": null,
   "metadata": {
    "collapsed": false
   },
   "outputs": [],
   "source": [
    "from __future__ import print_function, division\n",
    "%pylab inline\n",
    "import numpy as np\n",
    "import pandas as pd\n",
    "import seaborn as sns\n",
    "from bokeh.plotting import *\n",
    "\n",
    "from bokeh.io import output_notebook\n",
    "output_notebook()\n",
    "from collections import Counter\n",
    "from operator import itemgetter\n",
    "\n",
    "import sys\n",
    "import bs4 as bs\n",
    "import time\n",
    "import dryscrape\n",
    "import time\n",
    "import json\n",
    "from tqdm import tqdm\n",
    "import urllib\n",
    "from zipfile import ZipFile\n",
    "import os\n",
    "from itertools import groupby\n",
    "import pysrt\n",
    "\n",
    "from IPython.display import Image\n",
    "\n",
    "if 'linux' in sys.platform:\n",
    "    # start xvfb in case no X is running. Make sure xvfb \n",
    "    # is installed, otherwise this won't work!\n",
    "    dryscrape.start_xvfb()\n",
    "    \n",
    "import traceback\n",
    "from tqdm import tqdm, tqdm_pandas\n",
    "    \n",
    "import warnings\n",
    "warnings.filterwarnings('ignore')"
   ]
  },
  {
   "cell_type": "code",
   "execution_count": null,
   "metadata": {
    "collapsed": false
   },
   "outputs": [],
   "source": [
    "df = pd.read_csv('udacity_courses.csv')\n",
    "print(len(df))\n",
    "df.head(2)"
   ]
  },
  {
   "cell_type": "code",
   "execution_count": null,
   "metadata": {
    "collapsed": false
   },
   "outputs": [],
   "source": [
    "dl_base_url = 'https://www.udacity.com/course/progress#!/c-'\n",
    "df['transcripts_url'] = dl_base_url + df['id']\n",
    "df.head(2)"
   ]
  },
  {
   "cell_type": "code",
   "execution_count": null,
   "metadata": {
    "collapsed": true
   },
   "outputs": [],
   "source": [
    "username = u'f277779@mvrht.com'\n",
    "pw = u'BigDataU'"
   ]
  },
  {
   "cell_type": "code",
   "execution_count": null,
   "metadata": {
    "collapsed": true
   },
   "outputs": [],
   "source": [
    "def init_session(url, username, pw, wait=8):\n",
    "    sess = dryscrape.Session()\n",
    "    sess.set_viewport_size(width=1024, height=800)\n",
    "    sess.set_attribute('auto_load_images', False)\n",
    "    sess.set_attribute('javascript_can_open_windows', True)\n",
    "    sess.visit(url)\n",
    "    #time.sleep(wait)\n",
    "    mail_field = sess.at_xpath(\"//input[contains(@type, 'email')]\")\n",
    "    if mail_field is None:\n",
    "        print('already logged in!')\n",
    "        render_fn = 'page.png'\n",
    "        sess.render(render_fn)\n",
    "    else:\n",
    "        mail_field.set(username)\n",
    "        pw_field = sess.at_xpath(\"//input[contains(@id, 'password')]\")\n",
    "        pw_field.set(pw)\n",
    "        login_button = sess.at_xpath(\"//button[contains(@type, 'submit')]\")\n",
    "        login_button.click()\n",
    "        time.sleep(wait)\n",
    "    render_fn = 'page.png'\n",
    "    sess.render(render_fn)\n",
    "    return sess\n",
    "\n",
    "def get_page_session(url, sess=None, wait=8):\n",
    "    if sess is None:\n",
    "        sess = init_session\n",
    "    sess.visit(url)\n",
    "    time.sleep(wait)\n",
    "    #render_fn = 'page.png'\n",
    "    #sess.render(render_fn)\n",
    "    return sess\n",
    "\n",
    "def download_transscript(url, sess=None, wait=8):\n",
    "    course_id = url.rsplit('/')[-1][2:]\n",
    "    #print('process:', course_id)\n",
    "    dl_folder = 'transcripts_zips/'\n",
    "    zip_fname = dl_folder + course_id + '.zip'\n",
    "    if os.path.isfile(zip_fname):\n",
    "        try:\n",
    "            with ZipFile(zip_fname, 'r') as f:\n",
    "                pass\n",
    "            return zip_fname\n",
    "        except:\n",
    "            print(traceback.format_exc())\n",
    "    if not os.path.isdir(dl_folder):\n",
    "        os.makedirs(dl_folder)\n",
    "    fails = 0\n",
    "    while True:\n",
    "        try:\n",
    "            sess = get_page_session(url, sess, wait)\n",
    "            transcripts_dl_button = sess.at_xpath('//div[contains(@data-supplemental-material-item, \"_transcript_zip_archive\")]')\n",
    "            if transcripts_dl_button is None or not transcripts_dl_button.is_visible():\n",
    "                print(course_id, 'no transript:', url)\n",
    "                return None\n",
    "            sess.exec_script('window.open = function (url, windowName, windowFeatures) { \\\n",
    "                                        window.dl_url = url; \\\n",
    "                                        return url; \\\n",
    "                                    }')\n",
    "            transcripts_dl_button.click()\n",
    "            dl_url = sess.eval_script('window.dl_url;')\n",
    "            if course_id in dl_url:\n",
    "                urllib.urlretrieve(dl_url, zip_fname)\n",
    "                break\n",
    "            else:\n",
    "                print('wrong dl url.', course_id, dl_url)\n",
    "                print('retry')\n",
    "                fails += 1\n",
    "                if fails > 10:\n",
    "                    raise Exception()\n",
    "        except:\n",
    "            print('course:', course_id)\n",
    "            print('20 sec timeout')\n",
    "            render_fn = 'page.png'\n",
    "            sess.render(render_fn)\n",
    "            fails += 1\n",
    "            if fails > 2:\n",
    "                print(traceback.format_exc())\n",
    "                print(course_id, 'no transript:', url)\n",
    "                return None\n",
    "            time.sleep(20)\n",
    "            sess = init_session('https://www.udacity.com/account/auth#!/signin', username, pw)\n",
    "\n",
    "    return zip_fname"
   ]
  },
  {
   "cell_type": "code",
   "execution_count": null,
   "metadata": {
    "collapsed": false
   },
   "outputs": [],
   "source": [
    "sess = init_session('https://www.udacity.com/account/auth#!/signin', username, pw)\n",
    "# Image('page.png')\n",
    "print('done')"
   ]
  },
  {
   "cell_type": "code",
   "execution_count": null,
   "metadata": {
    "collapsed": false
   },
   "outputs": [],
   "source": [
    "tqdm_pandas(tqdm(position=0))\n",
    "df['transcripts_zip_fn'] = df['transcripts_url'].progress_apply(download_transscript, args=(sess, 15))"
   ]
  },
  {
   "cell_type": "code",
   "execution_count": null,
   "metadata": {
    "collapsed": false
   },
   "outputs": [],
   "source": [
    "Image('page.png')"
   ]
  },
  {
   "cell_type": "code",
   "execution_count": null,
   "metadata": {
    "collapsed": false
   },
   "outputs": [],
   "source": [
    "from collections import namedtuple\n",
    "from itertools import groupby\n",
    "\n",
    "# http://stackoverflow.com/a/23620587\n",
    "def parse_srt_content(text):\n",
    "    # \"chunk\" our input file, delimited by blank lines\n",
    "    res = [list(g) for b, g in groupby(text, lambda x: bool(x.strip())) if b]\n",
    "\n",
    "    Subtitle = namedtuple('Subtitle', 'number start end content')\n",
    "\n",
    "    subs = []\n",
    "\n",
    "    for sub in res:\n",
    "        if len(sub) >= 3: # not strictly necessary, but better safe than sorry\n",
    "            sub = [x.strip() for x in sub]\n",
    "            # number, start_end, *content = sub # py3 syntax\n",
    "            number = sub[0]\n",
    "            start_end = sub[1]\n",
    "            content = sub[2:]\n",
    "            #print(start_end)\n",
    "            start, end = start_end.split(' --> ')\n",
    "            subs.append(Subtitle(number, start, end, content))\n",
    "    return subs"
   ]
  },
  {
   "cell_type": "code",
   "execution_count": null,
   "metadata": {
    "collapsed": false
   },
   "outputs": [],
   "source": [
    "\n",
    "def extract_transripts_text(fn):\n",
    "    if fn is None:\n",
    "        return ''\n",
    "    text = list()\n",
    "    with ZipFile(fn, 'r') as zf:\n",
    "        files = [item for item in zf.namelist() if item.endswith('.srt')]\n",
    "        for srt_f in files:\n",
    "            with zf.open(srt_f) as f:\n",
    "                subs = parse_srt_content(f)\n",
    "                for s in subs:\n",
    "                    text.extend(s.content)\n",
    "    text = ' '.join(text)\n",
    "    text = text.replace('>>', ' ')\n",
    "    while '  ' in text:\n",
    "        text = text.replace('  ', ' ')\n",
    "    return text"
   ]
  },
  {
   "cell_type": "code",
   "execution_count": null,
   "metadata": {
    "collapsed": false
   },
   "outputs": [],
   "source": [
    "df['transcript'] = df['transcripts_zip_fn'].apply(extract_transripts_text)"
   ]
  },
  {
   "cell_type": "code",
   "execution_count": null,
   "metadata": {
    "collapsed": false
   },
   "outputs": [],
   "source": [
    "for i in df['transcript'].head(20).values:\n",
    "    print(i)"
   ]
  },
  {
   "cell_type": "code",
   "execution_count": null,
   "metadata": {
    "collapsed": true
   },
   "outputs": [],
   "source": [
    "df.to_pickle('udacity_courses.df')"
   ]
  },
  {
   "cell_type": "code",
   "execution_count": null,
   "metadata": {
    "collapsed": false
   },
   "outputs": [],
   "source": [
    "df.columns"
   ]
  },
  {
   "cell_type": "code",
   "execution_count": null,
   "metadata": {
    "collapsed": false
   },
   "outputs": [],
   "source": [
    "df[['id', 'transcript']].head(2)"
   ]
  },
  {
   "cell_type": "code",
   "execution_count": null,
   "metadata": {
    "collapsed": true
   },
   "outputs": [],
   "source": [
    "txt_folder = 'transcripts_txt/'\n",
    "if not os.path.isdir(txt_folder):\n",
    "    os.makedirs(txt_folder)\n",
    "for idx, (c_id, trans) in df[['id', 'transcript']].iterrows():\n",
    "    with open(txt_folder + c_id + '.txt', 'w') as f:\n",
    "        f.write(trans)"
   ]
  },
  {
   "cell_type": "code",
   "execution_count": null,
   "metadata": {
    "collapsed": true
   },
   "outputs": [],
   "source": []
  }
 ],
 "metadata": {
  "kernelspec": {
   "display_name": "Python 2",
   "language": "python",
   "name": "python2"
  },
  "language_info": {
   "codemirror_mode": {
    "name": "ipython",
    "version": 2
   },
   "file_extension": ".py",
   "mimetype": "text/x-python",
   "name": "python",
   "nbconvert_exporter": "python",
   "pygments_lexer": "ipython2",
   "version": "2.7.12"
  }
 },
 "nbformat": 4,
 "nbformat_minor": 0
}
