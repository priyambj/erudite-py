{
 "cells": [
  {
   "cell_type": "code",
   "execution_count": 1,
   "metadata": {
    "collapsed": false
   },
   "outputs": [
    {
     "name": "stdout",
     "output_type": "stream",
     "text": [
      "Populating the interactive namespace from numpy and matplotlib\n"
     ]
    },
    {
     "data": {
      "text/html": [
       "\n",
       "    <div class=\"bk-root\">\n",
       "        <a href=\"http://bokeh.pydata.org\" target=\"_blank\" class=\"bk-logo bk-logo-small bk-logo-notebook\"></a>\n",
       "        <span id=\"abdccc61-a584-429a-a054-2fed05ccc939\">Loading BokehJS ...</span>\n",
       "    </div>"
      ]
     },
     "metadata": {},
     "output_type": "display_data"
    },
    {
     "data": {
      "application/javascript": [
       "\n",
       "(function(global) {\n",
       "  function now() {\n",
       "    return new Date();\n",
       "  }\n",
       "\n",
       "  if (typeof (window._bokeh_onload_callbacks) === \"undefined\") {\n",
       "    window._bokeh_onload_callbacks = [];\n",
       "  }\n",
       "\n",
       "  function run_callbacks() {\n",
       "    window._bokeh_onload_callbacks.forEach(function(callback) { callback() });\n",
       "    delete window._bokeh_onload_callbacks\n",
       "    console.info(\"Bokeh: all callbacks have finished\");\n",
       "  }\n",
       "\n",
       "  function load_libs(js_urls, callback) {\n",
       "    window._bokeh_onload_callbacks.push(callback);\n",
       "    if (window._bokeh_is_loading > 0) {\n",
       "      console.log(\"Bokeh: BokehJS is being loaded, scheduling callback at\", now());\n",
       "      return null;\n",
       "    }\n",
       "    if (js_urls == null || js_urls.length === 0) {\n",
       "      run_callbacks();\n",
       "      return null;\n",
       "    }\n",
       "    console.log(\"Bokeh: BokehJS not loaded, scheduling load and callback at\", now());\n",
       "    window._bokeh_is_loading = js_urls.length;\n",
       "    for (var i = 0; i < js_urls.length; i++) {\n",
       "      var url = js_urls[i];\n",
       "      var s = document.createElement('script');\n",
       "      s.src = url;\n",
       "      s.async = false;\n",
       "      s.onreadystatechange = s.onload = function() {\n",
       "        window._bokeh_is_loading--;\n",
       "        if (window._bokeh_is_loading === 0) {\n",
       "          console.log(\"Bokeh: all BokehJS libraries loaded\");\n",
       "          run_callbacks()\n",
       "        }\n",
       "      };\n",
       "      s.onerror = function() {\n",
       "        console.warn(\"failed to load library \" + url);\n",
       "      };\n",
       "      console.log(\"Bokeh: injecting script tag for BokehJS library: \", url);\n",
       "      document.getElementsByTagName(\"head\")[0].appendChild(s);\n",
       "    }\n",
       "  };\n",
       "\n",
       "  var js_urls = ['https://cdn.pydata.org/bokeh/release/bokeh-0.12.0.min.js', 'https://cdn.pydata.org/bokeh/release/bokeh-widgets-0.12.0.min.js', 'https://cdn.pydata.org/bokeh/release/bokeh-compiler-0.12.0.min.js'];\n",
       "\n",
       "  var inline_js = [\n",
       "    function(Bokeh) {\n",
       "      Bokeh.set_log_level(\"info\");\n",
       "    },\n",
       "    \n",
       "    function(Bokeh) {\n",
       "      Bokeh.$(\"#abdccc61-a584-429a-a054-2fed05ccc939\").text(\"BokehJS successfully loaded\");\n",
       "    },\n",
       "    function(Bokeh) {\n",
       "      console.log(\"Bokeh: injecting CSS: https://cdn.pydata.org/bokeh/release/bokeh-0.12.0.min.css\");\n",
       "      Bokeh.embed.inject_css(\"https://cdn.pydata.org/bokeh/release/bokeh-0.12.0.min.css\");\n",
       "      console.log(\"Bokeh: injecting CSS: https://cdn.pydata.org/bokeh/release/bokeh-widgets-0.12.0.min.css\");\n",
       "      Bokeh.embed.inject_css(\"https://cdn.pydata.org/bokeh/release/bokeh-widgets-0.12.0.min.css\");\n",
       "    }\n",
       "  ];\n",
       "\n",
       "  function run_inline_js() {\n",
       "    for (var i = 0; i < inline_js.length; i++) {\n",
       "      inline_js[i](window.Bokeh);\n",
       "    }\n",
       "  }\n",
       "\n",
       "  if (window._bokeh_is_loading === 0) {\n",
       "    console.log(\"Bokeh: BokehJS loaded, going straight to plotting\");\n",
       "    run_inline_js();\n",
       "  } else {\n",
       "    load_libs(js_urls, function() {\n",
       "      console.log(\"Bokeh: BokehJS plotting callback run at\", now());\n",
       "      run_inline_js();\n",
       "    });\n",
       "  }\n",
       "}(this));"
      ]
     },
     "metadata": {},
     "output_type": "display_data"
    },
    {
     "name": "stderr",
     "output_type": "stream",
     "text": [
      "Using Theano backend.\n"
     ]
    }
   ],
   "source": [
    "from __future__ import print_function, division\n",
    "%run basics.ipynb\n",
    "from sklearn.decomposition import NMF"
   ]
  },
  {
   "cell_type": "code",
   "execution_count": 2,
   "metadata": {
    "collapsed": false
   },
   "outputs": [
    {
     "name": "stdout",
     "output_type": "stream",
     "text": [
      "69\n"
     ]
    },
    {
     "data": {
      "text/plain": [
       "Index([u'course', u'lesson', u'title', u'text'], dtype='object')"
      ]
     },
     "execution_count": 2,
     "metadata": {},
     "output_type": "execute_result"
    }
   ],
   "source": [
    "#df = pd.read_pickle('udacity_all_text.df')\n",
    "df = pd.read_pickle('udacity_video_seq_simple.df')\n",
    "#df = pd.read_csv('coursera_courses.csv')\n",
    "print(len(pd.unique(df['course'])))\n",
    "df.columns"
   ]
  },
  {
   "cell_type": "code",
   "execution_count": 3,
   "metadata": {
    "collapsed": false
   },
   "outputs": [
    {
     "data": {
      "text/html": [
       "<div>\n",
       "<table border=\"1\" class=\"dataframe\">\n",
       "  <thead>\n",
       "    <tr style=\"text-align: right;\">\n",
       "      <th></th>\n",
       "      <th>course</th>\n",
       "      <th>lesson</th>\n",
       "      <th>title</th>\n",
       "      <th>text</th>\n",
       "    </tr>\n",
       "  </thead>\n",
       "  <tbody>\n",
       "    <tr>\n",
       "      <th>0</th>\n",
       "      <td>bio110</td>\n",
       "      <td>0</td>\n",
       "      <td>Lesson 0: Orientation and Expectations (~5 min...</td>\n",
       "      <td>[SOUND]. Hey there, I'm Matt. One of the inst...</td>\n",
       "    </tr>\n",
       "    <tr>\n",
       "      <th>1</th>\n",
       "      <td>bio110</td>\n",
       "      <td>1</td>\n",
       "      <td>Lesson 1: Introduction to Traits and Heredity ...</td>\n",
       "      <td>Let's get started with Tales from the Genome....</td>\n",
       "    </tr>\n",
       "  </tbody>\n",
       "</table>\n",
       "</div>"
      ],
      "text/plain": [
       "   course  lesson                                              title  \\\n",
       "0  bio110       0  Lesson 0: Orientation and Expectations (~5 min...   \n",
       "1  bio110       1  Lesson 1: Introduction to Traits and Heredity ...   \n",
       "\n",
       "                                                text  \n",
       "0   [SOUND]. Hey there, I'm Matt. One of the inst...  \n",
       "1   Let's get started with Tales from the Genome....  "
      ]
     },
     "execution_count": 3,
     "metadata": {},
     "output_type": "execute_result"
    }
   ],
   "source": [
    "df.head(2)"
   ]
  },
  {
   "cell_type": "code",
   "execution_count": 4,
   "metadata": {
    "collapsed": false
   },
   "outputs": [
    {
     "data": {
      "text/plain": [
       "course    419\n",
       "lesson    419\n",
       "title     419\n",
       "text      419\n",
       "dtype: int64"
      ]
     },
     "execution_count": 4,
     "metadata": {},
     "output_type": "execute_result"
    }
   ],
   "source": [
    "df.count()"
   ]
  },
  {
   "cell_type": "code",
   "execution_count": 5,
   "metadata": {
    "collapsed": false
   },
   "outputs": [
    {
     "data": {
      "text/plain": [
       "0     [SOUND]. Hey there, I'm Matt. One of the inst...\n",
       "1     Let's get started with Tales from the Genome....\n",
       "Name: text, dtype: object"
      ]
     },
     "execution_count": 5,
     "metadata": {},
     "output_type": "execute_result"
    }
   ],
   "source": [
    "#text = df['title'] + ' ' + df['description']\n",
    "#text = df['all-text']\n",
    "text = df['text']\n",
    "text.head(2)"
   ]
  },
  {
   "cell_type": "code",
   "execution_count": 6,
   "metadata": {
    "collapsed": false
   },
   "outputs": [
    {
     "name": "stdout",
     "output_type": "stream",
     "text": [
      "0    hey there matt one of the instructors from the...\n",
      "1    let get started with tales from the genome we ...\n",
      "Name: text, dtype: object\n"
     ]
    }
   ],
   "source": [
    "text = text.apply(text_cleanup, args=(None, 2))\n",
    "print(text.head(2))"
   ]
  },
  {
   "cell_type": "code",
   "execution_count": 7,
   "metadata": {
    "collapsed": false
   },
   "outputs": [],
   "source": [
    "vectorizer = TfidfVectorizer(stop_words='english', max_df=0.6, min_df=5, ngram_range=(1, 2))\n",
    "tfidf = vectorizer.fit_transform(text)\n",
    "tfidf, words = filter_word_rep(tfidf, vectorizer.get_feature_names())"
   ]
  },
  {
   "cell_type": "code",
   "execution_count": 8,
   "metadata": {
    "collapsed": false
   },
   "outputs": [
    {
     "name": "stdout",
     "output_type": "stream",
     "text": [
      "Topic #0:\n",
      "width, pixels, viewport, layout, image, images, screen, css, pixel, page\n",
      "\n",
      "Topic #1:\n",
      "equation, negative, equals, minus, squared, graph, plus, equal, grant, slope\n",
      "\n",
      "Topic #2:\n",
      "patient, patients, health, clinical, physicians, healthcare, care, providers, chronic, marla\n",
      "\n",
      "Topic #3:\n",
      "app, app engine, conference, engine, profile, datastore, application, api, memcache, conferences\n",
      "\n",
      "Topic #4:\n",
      "android, app, layout, activity, gradle, view, ui, xml, fragment, textview\n",
      "\n",
      "Topic #5:\n",
      "algorithm, np, node, nodes, graph, vertex, vertices, edges, shortest, vertex cover\n",
      "\n",
      "Topic #6:\n",
      "string, method, program, return, python, variable, expression, grammar, array, loop\n",
      "\n",
      "Topic #7:\n",
      "dna, genetic, chromosome, allele, genome, traits, chromosomes, gene, trait, mutation\n",
      "\n",
      "Topic #8:\n",
      "customer, business, customers, market, product, company, investors, marketing, startup, revenue\n",
      "\n",
      "Topic #9:\n",
      "regression, machine learning, training, features, learning, machine, algorithm, data set, feature, model\n",
      "\n",
      "Topic #10:\n",
      "file, gulp, directory, files, command, git, commit, gradle, css, shell\n",
      "\n",
      "Topic #11:\n",
      "mobile, device, chrome, development machine, mobile device, web, development, usb, tools, devices\n",
      "\n",
      "Topic #12:\n",
      "alice, bob, key, message, encryption, hash, public key, attacker, rsa, protocol\n",
      "\n",
      "Topic #13:\n",
      "velocity, force, motion, acceleration, mass, object, energy, earth, vector, angle\n",
      "\n",
      "Topic #14:\n",
      "database, table, firebase, sql, shopping, shopping list, query, tables, column, id\n",
      "\n",
      "Topic #15:\n",
      "bolt, storm, topology, yeah, stage, festival, mm hm, mm, spout, hm\n",
      "\n",
      "Topic #16:\n",
      "thread, memory, threads, gpu, kernel, cuda, parallel, array, cpu, shared memory\n",
      "\n",
      "Topic #17:\n",
      "sample, deviation, standard deviation, standard, population, distribution, deviations, statistic, degrees freedom, score\n",
      "\n",
      "Topic #18:\n",
      "controller, view, view controller, button, swift, app, audio, storyboard, ui, method\n",
      "\n",
      "Topic #19:\n",
      "request, server, http, url, api, network, client, restaurant, web, requests\n",
      "\n"
     ]
    }
   ],
   "source": [
    "nmf = NMF(n_components=20, random_state=1).fit(tfidf)\n",
    "\n",
    "feature_names = words\n",
    "n_top_words = 10\n",
    "topic_dict = dict()\n",
    "for topic_idx, topic in enumerate(nmf.components_):\n",
    "    print(\"Topic #%d:\" % topic_idx)\n",
    "    topic_top_words = \", \".join([feature_names[i]\n",
    "                    for i in topic.argsort()[:-n_top_words - 1:-1]])\n",
    "    print(topic_top_words)\n",
    "    topic_dict[topic_idx] = topic_top_words\n",
    "    print()"
   ]
  },
  {
   "cell_type": "code",
   "execution_count": 9,
   "metadata": {
    "collapsed": false,
    "scrolled": false
   },
   "outputs": [
    {
     "data": {
      "image/png": "[encoded data removed]",
      "text/plain": [
       "<matplotlib.figure.Figure at 0x7f4c4dfbdc50>"
      ]
     },
     "metadata": {},
     "output_type": "display_data"
    },
    {
     "name": "stdout",
     "output_type": "stream",
     "text": [
      "\n",
      "--------------------------------------------------------------------------------\n",
      "welcome back hope you enjoyed the previous lesson on the common features of frameworks in many cases frameworks seem like magic want to strip away some of the magic so that you ll better understand how your code and framework code fit together in this lesson we ll be diving into backbone and the utility library underscore backbone is highly opinionated framework in the nbc family it uses underscor\n",
      "topic id: 6\n",
      "string, method, program, return, python, variable, expression, grammar, array, loop\n",
      "\n",
      "--------------------------------------------------------------------------------\n",
      "for the majority of android developers out there the concept of performance is the last thing on their minds most app development is mad sprint towards getting features in making the ui look perfect and figuring out viable monetization strategy or lack thereof if you re in silicon valley but application performance is lot like the plumbing in your house when it working great no one really notices \n",
      "topic id: 4\n",
      "android, app, layout, activity, gradle, view, ui, xml, fragment, textview\n",
      "\n",
      "--------------------------------------------------------------------------------\n",
      "today we re going to be talking about distribution channels how does your product get from your company to your customer you re all familiar with the business model canvas we ve already talked about value propositions and we ve talked about customer segments in the last two lectures but today we re going to talk about channels so let take look at our business model canvas channels is just one of t\n",
      "topic id: 8\n",
      "customer, business, customers, market, product, company, investors, marketing, startup, revenue\n",
      "\n",
      "--------------------------------------------------------------------------------\n",
      "okay excellent you ve started to find and fix issues now hopefully you re javascript is behaving well but remember that it only small part of making frame in this lesson you ll be tackling styles or as it labeled in devtools recalculate styles by the end of this lesson you ll be identifying and solving performance issues from style calculations but bear in mind that javascript can often be the tri\n",
      "topic id: 0\n",
      "width, pixels, viewport, layout, image, images, screen, css, pixel, page\n",
      "\n",
      "--------------------------------------------------------------------------------\n",
      "hi my name is andy and instructor at udacity worked with sara and ian and ngundega to help prepare this lesson and today going to deliver it for you so let get started up to this point you ve familiarized yourself with mapreduce you ve written some mapper code some reducer code and you probably have decent understanding of what going on behind the scenes but you might not yet know when to use mapr\n",
      "topic id: 9\n",
      "regression, machine learning, training, features, learning, machine, algorithm, data set, feature, model\n",
      "\n",
      "--------------------------------------------------------------------------------\n",
      "hello welcome to the lesson on how to solve problems solving problems is one of the most important skills you can learn and calling it skill is really an understatement nearly everything you can do can be viewed as solving problems and improving as problem solver is lifelong challenge one short lesson is not going to be enough to make anyone an expert problem solver but for this lesson we re going\n",
      "topic id: 6\n",
      "string, method, program, return, python, variable, expression, grammar, array, loop\n",
      "\n",
      "--------------------------------------------------------------------------------\n",
      "welcome to the first unit of our course on differential equations and simulation in this unit and the next we ll look into how to bring the crew of apollo back to earth we start with writing programs that model the orbit of the moon and of the spacecraft around the earth this unit contains quite number of supplementary segments to bring everybody up to speed if you know your way around derivatives\n",
      "topic id: 13\n",
      "velocity, force, motion, acceleration, mass, object, energy, earth, vector, angle\n",
      "\n",
      "--------------------------------------------------------------------------------\n",
      "in this lesson you ll become more familiar with anova by going through full length example that not only includes calculating the statistic but learning about and calculating measure of effect size for the differences between three or more groups this is similar to cohen for the tests to improve the lives of dairy cows researcher examined types of foods they wanted to assess cows prefernece for on\n",
      "topic id: 17\n",
      "sample, deviation, standard deviation, standard, population, distribution, deviations, statistic, degrees freedom, score\n",
      "\n",
      "--------------------------------------------------------------------------------\n",
      "in this exercise you ll add body to the robot this body is created by the create robot body function you ll see it in the code this body can rotate and has the upper arm attached to its top your job is to add this body to the robots design when your done your robot arm should look like this you might want to turn off the display of the other two arm parts while you re testing out the body itself s\n",
      "topic id: 13\n",
      "velocity, force, motion, acceleration, mass, object, energy, earth, vector, angle\n",
      "\n",
      "--------------------------------------------------------------------------------\n",
      "do you remember what you had for breakfast do you remember the name of your first grade teacher do you remember the directions to that awesome indian restaurant you ate at last year or do you remember hebb law that we talked about in lesson well as sure you noticed all of these have to do with memory that what we re going to talk about in this lesson how our brain has this amazing capability to re\n",
      "topic id: 16\n",
      "thread, memory, threads, gpu, kernel, cuda, parallel, array, cpu, shared memory\n"
     ]
    }
   ],
   "source": [
    "transformed = nmf.transform(tfidf)\n",
    "sns.distplot(transformed.argmax(axis=1).flatten())\n",
    "plt.title('documents over topics distribution')\n",
    "plt.show()\n",
    "#most_freq_topic = max(Counter(transformed.argmax(axis=1).flatten()).items(), key=itemgetter(1))[0]\n",
    "#print('most freq. topic:', most_freq_topic)\n",
    "#topic_range = np.array(filter(lambda x: x!= most_freq_topic, range(transformed.shape[1])))\n",
    "#print(topic_range)\n",
    "#sns.distplot(transformed[:, topic_range].argmax(axis=1).flatten())\n",
    "#plt.show()\n",
    "for i in np.random.choice(range(len(text)), size=10):\n",
    "    print()\n",
    "    print('-'*80)\n",
    "    print(text.iloc[i][:400])\n",
    "    comp_prob = nmf.transform(tfidf[i, :])[:, :].argmax(axis=1)[0]\n",
    "    print('topic id:', comp_prob)\n",
    "    print(topic_dict[comp_prob])  "
   ]
  },
  {
   "cell_type": "code",
   "execution_count": 10,
   "metadata": {
    "collapsed": false
   },
   "outputs": [
    {
     "data": {
      "text/html": [
       "<div>\n",
       "<table border=\"1\" class=\"dataframe\">\n",
       "  <thead>\n",
       "    <tr style=\"text-align: right;\">\n",
       "      <th></th>\n",
       "      <th>course</th>\n",
       "      <th>lesson</th>\n",
       "      <th>title</th>\n",
       "      <th>text</th>\n",
       "      <th>topic</th>\n",
       "    </tr>\n",
       "  </thead>\n",
       "  <tbody>\n",
       "    <tr>\n",
       "      <th>0</th>\n",
       "      <td>bio110</td>\n",
       "      <td>0</td>\n",
       "      <td>Lesson 0: Orientation and Expectations (~5 min...</td>\n",
       "      <td>[SOUND]. Hey there, I'm Matt. One of the inst...</td>\n",
       "      <td>7</td>\n",
       "    </tr>\n",
       "    <tr>\n",
       "      <th>1</th>\n",
       "      <td>bio110</td>\n",
       "      <td>1</td>\n",
       "      <td>Lesson 1: Introduction to Traits and Heredity ...</td>\n",
       "      <td>Let's get started with Tales from the Genome....</td>\n",
       "      <td>7</td>\n",
       "    </tr>\n",
       "  </tbody>\n",
       "</table>\n",
       "</div>"
      ],
      "text/plain": [
       "   course  lesson                                              title  \\\n",
       "0  bio110       0  Lesson 0: Orientation and Expectations (~5 min...   \n",
       "1  bio110       1  Lesson 1: Introduction to Traits and Heredity ...   \n",
       "\n",
       "                                                text  topic  \n",
       "0   [SOUND]. Hey there, I'm Matt. One of the inst...      7  \n",
       "1   Let's get started with Tales from the Genome....      7  "
      ]
     },
     "execution_count": 10,
     "metadata": {},
     "output_type": "execute_result"
    }
   ],
   "source": [
    "df['topic'] = transformed.argmax(axis=1)\n",
    "df.head(2)"
   ]
  },
  {
   "cell_type": "code",
   "execution_count": 11,
   "metadata": {
    "collapsed": false
   },
   "outputs": [
    {
     "data": {
      "text/plain": [
       "<matplotlib.axes._subplots.AxesSubplot at 0x7f4c4981c690>"
      ]
     },
     "execution_count": 11,
     "metadata": {},
     "output_type": "execute_result"
    },
    {
     "data": {
      "image/png": "[encoded data removed]",
      "text/plain": [
       "<matplotlib.figure.Figure at 0x7f4c4dfae450>"
      ]
     },
     "metadata": {},
     "output_type": "display_data"
    }
   ],
   "source": [
    "gdf = df.groupby(by='course')\n",
    "sns.distplot(gdf.apply(lambda x: len(pd.unique(x['topic']))))"
   ]
  },
  {
   "cell_type": "code",
   "execution_count": 12,
   "metadata": {
    "collapsed": true
   },
   "outputs": [],
   "source": [
    "num_topics = gdf.apply(lambda x: len(pd.unique(x['topic'])))"
   ]
  },
  {
   "cell_type": "code",
   "execution_count": 13,
   "metadata": {
    "collapsed": false
   },
   "outputs": [
    {
     "data": {
      "text/plain": [
       "course\n",
       "bio110    1\n",
       "cs046     1\n",
       "dtype: int64"
      ]
     },
     "execution_count": 13,
     "metadata": {},
     "output_type": "execute_result"
    }
   ],
   "source": [
    "num_topics.head(2)"
   ]
  },
  {
   "cell_type": "code",
   "execution_count": 14,
   "metadata": {
    "collapsed": true
   },
   "outputs": [],
   "source": [
    "two_topics = set(num_topics[num_topics == 2].index)"
   ]
  },
  {
   "cell_type": "code",
   "execution_count": 15,
   "metadata": {
    "collapsed": false
   },
   "outputs": [],
   "source": [
    "filt_df = df[df['course'].apply(lambda x: x in two_topics)]"
   ]
  },
  {
   "cell_type": "code",
   "execution_count": 16,
   "metadata": {
    "collapsed": false
   },
   "outputs": [
    {
     "data": {
      "text/html": [
       "<div>\n",
       "<table border=\"1\" class=\"dataframe\">\n",
       "  <thead>\n",
       "    <tr style=\"text-align: right;\">\n",
       "      <th></th>\n",
       "      <th>course</th>\n",
       "      <th>lesson</th>\n",
       "      <th>title</th>\n",
       "      <th>text</th>\n",
       "      <th>topic</th>\n",
       "    </tr>\n",
       "  </thead>\n",
       "  <tbody>\n",
       "    <tr>\n",
       "      <th>21</th>\n",
       "      <td>cs101</td>\n",
       "      <td>1</td>\n",
       "      <td>Lesson 1: Q&amp;A</td>\n",
       "      <td>Welcome to CS101. I'm Dave Evans, I will be y...</td>\n",
       "      <td>6</td>\n",
       "    </tr>\n",
       "    <tr>\n",
       "      <th>22</th>\n",
       "      <td>cs101</td>\n",
       "      <td>2</td>\n",
       "      <td>Lesson 2: Q&amp;A</td>\n",
       "      <td>Hello. Welcome to the lesson on How to Solve ...</td>\n",
       "      <td>6</td>\n",
       "    </tr>\n",
       "  </tbody>\n",
       "</table>\n",
       "</div>"
      ],
      "text/plain": [
       "   course  lesson          title  \\\n",
       "21  cs101       1  Lesson 1: Q&A   \n",
       "22  cs101       2  Lesson 2: Q&A   \n",
       "\n",
       "                                                 text  topic  \n",
       "21   Welcome to CS101. I'm Dave Evans, I will be y...      6  \n",
       "22   Hello. Welcome to the lesson on How to Solve ...      6  "
      ]
     },
     "execution_count": 16,
     "metadata": {},
     "output_type": "execute_result"
    }
   ],
   "source": [
    "filt_df.head(2)"
   ]
  },
  {
   "cell_type": "code",
   "execution_count": 17,
   "metadata": {
    "collapsed": true
   },
   "outputs": [],
   "source": [
    "gfilt_df = pd.DataFrame(filt_df.groupby(by='course').apply(lambda x: pd.unique(x['topic'])))"
   ]
  },
  {
   "cell_type": "code",
   "execution_count": 18,
   "metadata": {
    "collapsed": false
   },
   "outputs": [
    {
     "data": {
      "text/html": [
       "<div>\n",
       "<table border=\"1\" class=\"dataframe\">\n",
       "  <thead>\n",
       "    <tr style=\"text-align: right;\">\n",
       "      <th>second</th>\n",
       "      <th>4</th>\n",
       "      <th>6</th>\n",
       "      <th>8</th>\n",
       "      <th>10</th>\n",
       "      <th>11</th>\n",
       "      <th>13</th>\n",
       "      <th>14</th>\n",
       "      <th>16</th>\n",
       "      <th>18</th>\n",
       "      <th>19</th>\n",
       "    </tr>\n",
       "    <tr>\n",
       "      <th>first</th>\n",
       "      <th></th>\n",
       "      <th></th>\n",
       "      <th></th>\n",
       "      <th></th>\n",
       "      <th></th>\n",
       "      <th></th>\n",
       "      <th></th>\n",
       "      <th></th>\n",
       "      <th></th>\n",
       "      <th></th>\n",
       "    </tr>\n",
       "  </thead>\n",
       "  <tbody>\n",
       "    <tr>\n",
       "      <th>0</th>\n",
       "      <td>NaN</td>\n",
       "      <td>NaN</td>\n",
       "      <td>NaN</td>\n",
       "      <td>NaN</td>\n",
       "      <td>2.0</td>\n",
       "      <td>NaN</td>\n",
       "      <td>NaN</td>\n",
       "      <td>NaN</td>\n",
       "      <td>NaN</td>\n",
       "      <td>NaN</td>\n",
       "    </tr>\n",
       "    <tr>\n",
       "      <th>3</th>\n",
       "      <td>1.0</td>\n",
       "      <td>1.0</td>\n",
       "      <td>NaN</td>\n",
       "      <td>NaN</td>\n",
       "      <td>NaN</td>\n",
       "      <td>NaN</td>\n",
       "      <td>NaN</td>\n",
       "      <td>NaN</td>\n",
       "      <td>NaN</td>\n",
       "      <td>NaN</td>\n",
       "    </tr>\n",
       "    <tr>\n",
       "      <th>4</th>\n",
       "      <td>NaN</td>\n",
       "      <td>NaN</td>\n",
       "      <td>1.0</td>\n",
       "      <td>1.0</td>\n",
       "      <td>1.0</td>\n",
       "      <td>NaN</td>\n",
       "      <td>1.0</td>\n",
       "      <td>1.0</td>\n",
       "      <td>1.0</td>\n",
       "      <td>NaN</td>\n",
       "    </tr>\n",
       "    <tr>\n",
       "      <th>5</th>\n",
       "      <td>NaN</td>\n",
       "      <td>1.0</td>\n",
       "      <td>NaN</td>\n",
       "      <td>NaN</td>\n",
       "      <td>NaN</td>\n",
       "      <td>1.0</td>\n",
       "      <td>NaN</td>\n",
       "      <td>1.0</td>\n",
       "      <td>NaN</td>\n",
       "      <td>NaN</td>\n",
       "    </tr>\n",
       "    <tr>\n",
       "      <th>6</th>\n",
       "      <td>NaN</td>\n",
       "      <td>NaN</td>\n",
       "      <td>NaN</td>\n",
       "      <td>3.0</td>\n",
       "      <td>NaN</td>\n",
       "      <td>NaN</td>\n",
       "      <td>1.0</td>\n",
       "      <td>NaN</td>\n",
       "      <td>2.0</td>\n",
       "      <td>1.0</td>\n",
       "    </tr>\n",
       "    <tr>\n",
       "      <th>9</th>\n",
       "      <td>NaN</td>\n",
       "      <td>NaN</td>\n",
       "      <td>NaN</td>\n",
       "      <td>1.0</td>\n",
       "      <td>NaN</td>\n",
       "      <td>NaN</td>\n",
       "      <td>NaN</td>\n",
       "      <td>NaN</td>\n",
       "      <td>NaN</td>\n",
       "      <td>NaN</td>\n",
       "    </tr>\n",
       "    <tr>\n",
       "      <th>14</th>\n",
       "      <td>NaN</td>\n",
       "      <td>NaN</td>\n",
       "      <td>NaN</td>\n",
       "      <td>NaN</td>\n",
       "      <td>NaN</td>\n",
       "      <td>NaN</td>\n",
       "      <td>NaN</td>\n",
       "      <td>NaN</td>\n",
       "      <td>NaN</td>\n",
       "      <td>1.0</td>\n",
       "    </tr>\n",
       "  </tbody>\n",
       "</table>\n",
       "</div>"
      ],
      "text/plain": [
       "second   4    6    8    10   11   13   14   16   18   19\n",
       "first                                                   \n",
       "0       NaN  NaN  NaN  NaN  2.0  NaN  NaN  NaN  NaN  NaN\n",
       "3       1.0  1.0  NaN  NaN  NaN  NaN  NaN  NaN  NaN  NaN\n",
       "4       NaN  NaN  1.0  1.0  1.0  NaN  1.0  1.0  1.0  NaN\n",
       "5       NaN  1.0  NaN  NaN  NaN  1.0  NaN  1.0  NaN  NaN\n",
       "6       NaN  NaN  NaN  3.0  NaN  NaN  1.0  NaN  2.0  1.0\n",
       "9       NaN  NaN  NaN  1.0  NaN  NaN  NaN  NaN  NaN  NaN\n",
       "14      NaN  NaN  NaN  NaN  NaN  NaN  NaN  NaN  NaN  1.0"
      ]
     },
     "execution_count": 18,
     "metadata": {},
     "output_type": "execute_result"
    }
   ],
   "source": [
    "gfilt_df['ones'] = 1\n",
    "gfilt_df['first'] = map(lambda x: sorted(x)[0], gfilt_df[0])\n",
    "gfilt_df['second'] = map(lambda x: sorted(x)[1], gfilt_df[0])\n",
    "pd.pivot_table(gfilt_df, index='first', columns='second', values='ones',\n",
    "              aggfunc='sum')"
   ]
  },
  {
   "cell_type": "code",
   "execution_count": 19,
   "metadata": {
    "collapsed": false
   },
   "outputs": [
    {
     "name": "stdout",
     "output_type": "stream",
     "text": [
      "419\n"
     ]
    },
    {
     "data": {
      "text/html": [
       "\n",
       "\n",
       "    <div class=\"bk-root\">\n",
       "        <div class=\"plotdiv\" id=\"246e38fc-f1f9-4e3a-b492-0afcb33d8456\"></div>\n",
       "    </div>\n",
       "<script type=\"text/javascript\">\n",
       "  \n",
       "  (function(global) {\n",
       "    function now() {\n",
       "      return new Date();\n",
       "    }\n",
       "  \n",
       "    if (typeof (window._bokeh_onload_callbacks) === \"undefined\") {\n",
       "      window._bokeh_onload_callbacks = [];\n",
       "    }\n",
       "  \n",
       "    function run_callbacks() {\n",
       "      window._bokeh_onload_callbacks.forEach(function(callback) { callback() });\n",
       "      delete window._bokeh_onload_callbacks\n",
       "      console.info(\"Bokeh: all callbacks have finished\");\n",
       "    }\n",
       "  \n",
       "    function load_libs(js_urls, callback) {\n",
       "      window._bokeh_onload_callbacks.push(callback);\n",
       "      if (window._bokeh_is_loading > 0) {\n",
       "        console.log(\"Bokeh: BokehJS is being loaded, scheduling callback at\", now());\n",
       "        return null;\n",
       "      }\n",
       "      if (js_urls == null || js_urls.length === 0) {\n",
       "        run_callbacks();\n",
       "        return null;\n",
       "      }\n",
       "      console.log(\"Bokeh: BokehJS not loaded, scheduling load and callback at\", now());\n",
       "      window._bokeh_is_loading = js_urls.length;\n",
       "      for (var i = 0; i < js_urls.length; i++) {\n",
       "        var url = js_urls[i];\n",
       "        var s = document.createElement('script');\n",
       "        s.src = url;\n",
       "        s.async = false;\n",
       "        s.onreadystatechange = s.onload = function() {\n",
       "          window._bokeh_is_loading--;\n",
       "          if (window._bokeh_is_loading === 0) {\n",
       "            console.log(\"Bokeh: all BokehJS libraries loaded\");\n",
       "            run_callbacks()\n",
       "          }\n",
       "        };\n",
       "        s.onerror = function() {\n",
       "          console.warn(\"failed to load library \" + url);\n",
       "        };\n",
       "        console.log(\"Bokeh: injecting script tag for BokehJS library: \", url);\n",
       "        document.getElementsByTagName(\"head\")[0].appendChild(s);\n",
       "      }\n",
       "    };var element = document.getElementById(\"246e38fc-f1f9-4e3a-b492-0afcb33d8456\");\n",
       "    if (element == null) {\n",
       "      console.log(\"Bokeh: ERROR: autoload.js configured with elementid '246e38fc-f1f9-4e3a-b492-0afcb33d8456' but no matching script tag was found. \")\n",
       "      return false;\n",
       "    }\n",
       "  \n",
       "    var js_urls = [];\n",
       "  \n",
       "    var inline_js = [\n",
       "      function(Bokeh) {\n",
       "        Bokeh.$(function() {\n",
       "            var docs_json = {\"4a7431c7-a243-4ddf-8192-b999dba6634e\":{\"roots\":{\"references\":[{\"attributes\":{\"dimension\":1,\"plot\":{\"id\":\"1e7ac0c3-62c0-4221-a590-11ec03e60af7\",\"subtype\":\"Figure\",\"type\":\"Plot\"},\"ticker\":{\"id\":\"9f77c002-fbd3-4b4d-80c6-ec4a6b2012d6\",\"type\":\"BasicTicker\"}},\"id\":\"d1f243ac-bef3-4a26-a3a6-733abc95a070\",\"type\":\"Grid\"},{\"attributes\":{\"plot\":null,\"text\":null},\"id\":\"4ec58aac-03b9-4859-87dd-7ff7c161970e\",\"type\":\"Title\"},{\"attributes\":{\"plot\":{\"id\":\"1e7ac0c3-62c0-4221-a590-11ec03e60af7\",\"subtype\":\"Figure\",\"type\":\"Plot\"}},\"id\":\"2b85e214-273c-4020-9ac9-e99218e2b95a\",\"type\":\"SaveTool\"},{\"attributes\":{},\"id\":\"3955da0e-da3d-4905-b44f-fe2018b4a56e\",\"type\":\"ToolEvents\"},{\"attributes\":{\"callback\":null,\"plot\":{\"id\":\"1e7ac0c3-62c0-4221-a590-11ec03e60af7\",\"subtype\":\"Figure\",\"type\":\"Plot\"},\"tooltips\":[[\"Titles\",\"@title\"],[\"Course\",\"@course\"]]},\"id\":\"82197c4c-292c-475d-9e13-7c456d252d65\",\"type\":\"HoverTool\"},{\"attributes\":{\"bottom_units\":\"screen\",\"fill_alpha\":{\"value\":0.5},\"fill_color\":{\"value\":\"lightgrey\"},\"left_units\":\"screen\",\"level\":\"overlay\",\"line_alpha\":{\"value\":1.0},\"line_color\":{\"value\":\"black\"},\"line_dash\":[4,4],\"line_width\":{\"value\":2},\"plot\":null,\"render_mode\":\"css\",\"right_units\":\"screen\",\"top_units\":\"screen\"},\"id\":\"e9215c74-f5da-4418-910c-93501bc0fec7\",\"type\":\"BoxAnnotation\"},{\"attributes\":{\"formatter\":{\"id\":\"3d1a7321-e754-45af-b93f-c3eb3b632e16\",\"type\":\"BasicTickFormatter\"},\"plot\":{\"id\":\"1e7ac0c3-62c0-4221-a590-11ec03e60af7\",\"subtype\":\"Figure\",\"type\":\"Plot\"},\"ticker\":{\"id\":\"9f77c002-fbd3-4b4d-80c6-ec4a6b2012d6\",\"type\":\"BasicTicker\"}},\"id\":\"67bf678d-01ba-4bc1-ac92-2323b766914d\",\"type\":\"LinearAxis\"},{\"attributes\":{\"plot\":{\"id\":\"1e7ac0c3-62c0-4221-a590-11ec03e60af7\",\"subtype\":\"Figure\",\"type\":\"Plot\"}},\"id\":\"9d8788a8-4d7b-4050-9b89-053b758f6c9f\",\"type\":\"WheelZoomTool\"},{\"attributes\":{},\"id\":\"3d1a7321-e754-45af-b93f-c3eb3b632e16\",\"type\":\"BasicTickFormatter\"},{\"attributes\":{\"plot\":{\"id\":\"1e7ac0c3-62c0-4221-a590-11ec03e60af7\",\"subtype\":\"Figure\",\"type\":\"Plot\"}},\"id\":\"2be26e52-f279-4e28-8e97-3ad7766d2085\",\"type\":\"ResetTool\"},{\"attributes\":{},\"id\":\"ffe8ae3a-6a37-4fec-9b8b-592902e4e5c3\",\"type\":\"BasicTickFormatter\"},{\"attributes\":{\"callback\":null},\"id\":\"14f8b6e5-5dcb-43f6-a45d-d4d81eaeb960\",\"type\":\"DataRange1d\"},{\"attributes\":{\"callback\":null,\"column_names\":[\"y\",\"x\",\"title\",\"index\",\"course\"],\"data\":{\"course\":[\"bio110\",\"bio110\",\"bio110\",\"bio110\",\"bio110\",\"bio110\",\"bio110\",\"bio110\",\"bio110\",\"bio110\",\"bio110\",\"bio110\",\"cs046\",\"cs046\",\"cs046\",\"cs046\",\"cs046\",\"cs046\",\"cs046\",\"cs046\",\"cs046\",\"cs101\",\"cs101\",\"cs101\",\"cs101\",\"cs101\",\"cs101\",\"cs101\",\"cs212\",\"cs212\",\"cs212\",\"cs212\",\"cs212\",\"cs212\",\"cs212\",\"cs215\",\"cs215\",\"cs215\",\"cs215\",\"cs215\",\"cs215\",\"cs215\",\"cs222\",\"cs222\",\"cs222\",\"cs222\",\"cs222\",\"cs222\",\"cs222\",\"cs253\",\"cs253\",\"cs253\",\"cs253\",\"cs253\",\"cs253\",\"cs253\",\"cs256\",\"cs256\",\"cs256\",\"cs256\",\"cs256\",\"cs256\",\"cs256\",\"cs256\",\"cs256\",\"cs256\",\"cs256\",\"cs256\",\"cs262\",\"cs262\",\"cs262\",\"cs262\",\"cs262\",\"cs262\",\"cs262\",\"cs291\",\"cs291\",\"cs291\",\"cs291\",\"cs291\",\"cs291\",\"cs291\",\"cs291\",\"cs291\",\"cs291\",\"cs313\",\"cs313\",\"cs313\",\"cs313\",\"cs313\",\"cs313\",\"cs313\",\"cs344\",\"cs344\",\"cs344\",\"cs344\",\"cs344\",\"cs344\",\"cs344\",\"cs373\",\"cs373\",\"cs373\",\"cs373\",\"cs373\",\"cs373\",\"cs387\",\"cs387\",\"cs387\",\"cs387\",\"cs387\",\"cs387\",\"cs387\",\"design101\",\"design101\",\"design101\",\"ep245\",\"ep245\",\"ep245\",\"ep245\",\"ep245\",\"ep245\",\"ep245\",\"ep245\",\"ep245\",\"ma008\",\"ma008\",\"ma008\",\"ma008\",\"ma008\",\"ma008\",\"ma008\",\"ma008\",\"ma008\",\"ma008\",\"ma008\",\"ma008\",\"ma008\",\"ma008\",\"ma008\",\"ma008\",\"ma008\",\"ma008\",\"ma008\",\"ma008\",\"ma008\",\"ma008\",\"ma008\",\"ma008\",\"ma008\",\"ma008\",\"ma008\",\"ma008\",\"ma008\",\"ma008\",\"ma008\",\"ma008\",\"ma008\",\"ma008\",\"ph100\",\"ph100\",\"ph100\",\"ph100\",\"ph100\",\"ph100\",\"ph100\",\"ps001\",\"ps001\",\"ps001\",\"ps001\",\"ps001\",\"ps001\",\"ps001\",\"ps001\",\"ps001\",\"ps001\",\"ps001\",\"ps001\",\"ps001\",\"ps001\",\"ps001\",\"ps001\",\"ud009\",\"ud009\",\"ud009\",\"ud009\",\"ud009\",\"ud036\",\"ud036\",\"ud036\",\"ud036\",\"ud088\",\"ud088\",\"ud088\",\"ud088\",\"ud1009\",\"ud1009\",\"ud1009\",\"ud1009\",\"ud1009\",\"ud1009\",\"ud120\",\"ud120\",\"ud120\",\"ud120\",\"ud120\",\"ud120\",\"ud120\",\"ud120\",\"ud120\",\"ud120\",\"ud120\",\"ud120\",\"ud120\",\"ud120\",\"ud120\",\"ud120\",\"ud162\",\"ud162\",\"ud162\",\"ud162\",\"ud162\",\"ud162\",\"ud170\",\"ud170\",\"ud170\",\"ud197\",\"ud197\",\"ud197\",\"ud197\",\"ud197\",\"ud201\",\"ud201\",\"ud201\",\"ud201\",\"ud201\",\"ud201\",\"ud201\",\"ud201\",\"ud201\",\"ud256\",\"ud256\",\"ud256\",\"ud256\",\"ud256\",\"ud281\",\"ud281\",\"ud281\",\"ud281\",\"ud292\",\"ud292\",\"ud299\",\"ud299\",\"ud325\",\"ud325\",\"ud325\",\"ud325\",\"ud325\",\"ud359\",\"ud359\",\"ud359\",\"ud359\",\"ud359\",\"ud381\",\"ud381\",\"ud381\",\"ud381\",\"ud388\",\"ud388\",\"ud388\",\"ud388\",\"ud388\",\"ud407\",\"ud407\",\"ud407\",\"ud421\",\"ud421\",\"ud421\",\"ud421\",\"ud421\",\"ud421\",\"ud549\",\"ud549\",\"ud576\",\"ud576\",\"ud576\",\"ud585\",\"ud585\",\"ud585\",\"ud585\",\"ud585\",\"ud595\",\"ud595\",\"ud595\",\"ud607\",\"ud607\",\"ud607\",\"ud617\",\"ud617\",\"ud617\",\"ud617\",\"ud719\",\"ud719\",\"ud719\",\"ud719\",\"ud719\",\"ud774\",\"ud774\",\"ud775\",\"ud775\",\"ud775\",\"ud788\",\"ud788\",\"ud788\",\"ud788\",\"ud788\",\"ud804\",\"ud804\",\"ud804\",\"ud806\",\"ud806\",\"ud806\",\"ud806\",\"ud806\",\"ud809\",\"ud809\",\"ud809\",\"ud809\",\"ud809\",\"ud809\",\"ud809\",\"ud809\",\"ud809\",\"ud809\",\"ud825\",\"ud825\",\"ud825\",\"ud825\",\"ud827\",\"ud827\",\"ud827\",\"ud827\",\"ud827\",\"ud827\",\"ud827\",\"ud837\",\"ud837\",\"ud837\",\"ud849\",\"ud849\",\"ud849\",\"ud849\",\"ud853\",\"ud853\",\"ud853\",\"ud853\",\"ud853\",\"ud853\",\"ud858\",\"ud858\",\"ud858\",\"ud858\",\"ud858\",\"ud859\",\"ud859\",\"ud859\",\"ud859\",\"ud859\",\"ud859\",\"ud860\",\"ud860\",\"ud860\",\"ud860\",\"ud860\",\"ud860\",\"ud862\",\"ud862\",\"ud862\",\"ud862\",\"ud862\",\"ud867\",\"ud867\",\"ud867\",\"ud867\",\"ud882\",\"ud882\",\"ud882\",\"ud882\",\"ud884\",\"ud884\",\"ud884\",\"ud892\",\"ud892\",\"ud892\",\"ud892\",\"ud892\",\"ud893\",\"ud893\",\"ud893\",\"ud893\",\"ud893\",\"ud894\",\"ud894\",\"ud894\",\"ud894\",\"ud898\",\"ud898\",\"ud902\",\"ud902\",\"ud902\",\"ud902\",\"ud902\",\"ud902\",\"ud902\",\"ud902\",\"ud902\",\"ud919\",\"ud919\",\"ud919\",\"ud919\"],\"index\":[0,1,2,3,4,5,6,7,8,9,10,11,12,13,14,15,16,17,18,19,20,21,22,23,24,25,26,27,28,29,30,31,32,33,34,35,36,37,38,39,40,41,42,43,44,45,46,47,48,49,50,51,52,53,54,55,56,57,58,59,60,61,62,63,64,65,66,67,68,69,70,71,72,73,74,75,76,77,78,79,80,81,82,83,84,85,86,87,88,89,90,91,92,93,94,95,96,97,98,99,100,101,102,103,104,105,106,107,108,109,110,111,112,113,114,115,116,117,118,119,120,121,122,123,124,125,126,127,128,129,130,131,132,133,134,135,136,137,138,139,140,141,142,143,144,145,146,147,148,149,150,151,152,153,154,155,156,157,158,159,160,161,162,163,164,165,166,167,168,169,170,171,172,173,174,175,176,177,178,179,180,181,182,183,184,185,186,187,188,189,190,191,192,193,194,195,196,197,198,199,200,201,202,203,204,205,206,207,208,209,210,211,212,213,214,215,216,217,218,219,220,221,222,223,224,225,226,227,228,229,230,231,232,233,234,235,236,237,238,239,240,241,242,243,244,245,246,247,248,249,250,251,252,253,254,255,256,257,258,259,260,261,262,263,264,265,266,267,268,269,270,271,272,273,274,275,276,277,278,279,280,281,282,283,284,285,286,287,288,289,290,291,292,293,294,295,296,297,298,299,300,301,302,303,304,305,306,307,308,309,310,311,312,313,314,315,316,317,318,319,320,321,322,323,324,325,326,327,328,329,330,331,332,333,334,335,336,337,338,339,340,341,342,343,344,345,346,347,348,349,350,351,352,353,354,355,356,357,358,359,360,361,362,363,364,365,366,367,368,369,370,371,372,373,374,375,376,377,378,379,380,381,382,383,384,385,386,387,388,389,390,391,392,393,394,395,396,397,398,399,400,401,402,403,404,405,406,407,408,409,410,411,412,413,414,415,416,417,418],\"title\":[\"Lesson 0: Orientation and Expectations (~5 minutes)\",\"Lesson 1: Introduction to Traits and Heredity (~35 minutes)\",\"Lesson 2: Defining the Genome (~50 minutes)\",\"Lesson 3: How a Genome Works (~65 minutes)\",\"Lesson 4: Gene Regulation (~50 minutes)\",\"Lesson 5: Transmission of Genes and Traits (~95 minutes)\",\"Variation (~60 minutes)\",\"Lesson 7: Personal Genetic Information (~80 minutes)\",\"Lesson 8: Simple Genetic Traits (~70 minutes)\",\"Lesson 9: Multifactorial Traits (~65 minutes)\",\"Lesson 11: Human Ancestry and Evolution (~75 minutes)\",\"Lesson 12: Professional Genetics ~95 min\",\"Lesson 1 - Introduction\",\"Lesson 2 - Objects\",\"Lesson 3 - Classes\",\"Lesson 4 - Fundamental Data Types\",\"Lesson 5.2 - Decisions\",\"Lesson 6.2 - Loops\",\"Lesson 7.3 - ArrayLists and Arrays\",\"Lesson 8 - More About Classes\",\"Lesson 9 - Interfaces and Inheritance\",\"Lesson 1: Q&A\",\"Lesson 2: Q&A\",\"Lesson 3: Problem Set\",\"Lesson 4: Responding to Queries\",\"Lesson 5: Q&A\",\"Lesson 6: Q&A\",\"Lesson 7: Past, Present, and Future of Computing\",\"Lesson 1\",\"Lesson 2\",\"Lesson 3\",\"Lesson 4\",\"Lesson 5\",\"Lesson 6\",\"Lesson 7\",\"Lesson 1: A Social Network Magic Trick\",\"Lesson 2: Growth Rates in Social Networks\",\"Lesson 3: Basic Graph Algorithms\",\"Lesson 4: It's Who You Know\",\"Lesson 5: Strong and Weak Bonds\",\"Lesson 6: Hardness of Network Problems\",\"Lesson 7\",\"Lesson 1 - Houston We Have a Problem\",\"Lesson 2 - Houston We Have a Solution\",\"Lesson 3 - Contagion\",\"Lesson4s - Supplement on Euler's Number\",\"Lesson 5 - Antilock Braking Systems\",\"Lesson 6 - Wildfire\",\"Lesson 7 - Advanced Applications of Numerical Methods\",\"Lesson 1 - How the Web Works\",\"Lesson 2a - Templates\",\"Lesson 3 - Databases\",\"Lesson 4 - User Accounts and Security\",\"Lesson 5 - APIs\",\"Lesson 6 - Caching\",\"Lesson 7 - Scaling Up\",\"Lesson 1 - Introduction\",\"Lesson 2 - Mobile Developer Tools\",\"Lesson 3 - Mobile UX and Viewport\",\"Lesson 4 - Fluid Design\",\"Lesson 5 - Media Queries\",\"Lesson 6 - Responsive Images\",\"Lesson 7 - Optimizing Performance\",\"Lesson 8 - Touch\",\"Lesson 9 - Input\",\"Lesson 10 - Device Access\",\"Lesson 11 - Offline and Storage\",\"Lesson 12 - Conclusion and Next Steps\",\"Lesson 1\",\"Lesson 2\",\"Lesson 3\",\"Lesson 4\",\"Lesson 5\",\"Lesson 6\",\"Lesson 7\",\"Lesson 1: Problem Set\",\"Lesson 2: Problem Set\",\"Lesson 3: Problem Set\",\"Lesson 4: Transforms\",\"Lesson 5: Problem Set\",\"Lesson 6: Problem Set\",\"Lesson 7: Problem Set\",\"Lesson 8: Textures and Reflections\",\"Lesson 9: Shader Programming\",\"Lesson 10: Interaction and Animation\",\"Lesson 1.4 - Connecting Similar Problems\",\"Lesson 2.5 - NP-Completeness Via Reductions\",\"Lesson 3 - Solving NP-Complete Problems\",\"Lessons 4.2 - Preprocessing\",\"Lesson 5.4 - PTAS\",\"Lesson 6.2 - What You've Learnt\",\"Lesson 7.2  - More Undecidability\",\"Lesson 1 - The GPU Programming Model\",\"Lesson 2 - GPU Hardware and Parallel Communication Patterns\",\"Lesson 3 - Fundamental GPU Algorithms (Reduce, Scan, Histogram)\",\"Lesson 4 - Ian Buck Interview\",\"Lesson 5 - Optimizing GPU Programs\",\"Lesson 6.2 - Parallel Computing Patterns Part B\",\"Lesson 7.3 - Stephen Jones Interview\",\"Lesson 1 - Localization\",\"Lesson 2 - Kalman Filters\",\"Lesson 3 - Particle Filters\",\"Lesson 4 - Search\",\"Lesson 5 - PID Control\",\"Lesson 6 - SLAM\",\"Lesson 1\",\"Lesson 2\",\"Lesson 3\",\"Lesson 4\",\"Lesson 5\",\"Lesson 6\",\"Lesson 7\",\"Lesson 1: Affordances and Signifiers\",\"Lesson 2: Conceptual Model & System Image\",\"Lesson 3: Gulfs of Evaluation & Execution\",\"Lesson 0: Before You Get Started\",\"Lesson 1: What We Now Know\",\"Lesson 2: Value Proposition\",\"Lesson 3: Customer Segments\",\"Lesson 4: Channels\",\"Lesson 5: Customer Relationships\",\"Lesson 6: Revenue Model\",\"Lesson 7: Partners\",\"Lesson 8: Resources, Activities & Costs\",\"Lesson 1: Number\",\"Lesson 2: Expressions\",\"Lesson 3: Polynomials\",\"Lesson 4: Equations\",\"Lesson 5-3: Midpoints And Slope\",\"Lesson 6-2: Points\",\"Lesson 7: Forms of the Equation of a Line\",\"Lesson 8: Inequalities And Absolute Value\",\"Lesson 9: More Inequalities And Equations\",\"Lesson 10:  Parabolas\",\"Lesson 11: Factoring\",\"Lesson 12: Quadratic and Rational Inequalities\",\"Lesson 13:  More Parabolas\",\"Lesson 14: Completing the Square\",\"Lesson 15: Quadratic Formula\",\"Lesson 16:  Complex Numbers\",\"Lesson 17: Functions\",\"Lesson 18: Domain and Range\",\"Lesson 19: Behavior of Functions\",\"Lesson 20: Factor Theorem\",\"Lesson 21: Rational Zero Test\",\"Lesson 22:  Intermediate Value Theorem\",\"Lesson 23 Piecewise and Rational Functions\",\"Lesson 24: Asymptotes\",\"Lesson 25: Slant Asymptotes\",\"Lesson 26: Transformations\",\"Lesson 27 Combining Functions\",\"Lesson 28 Inverses\",\"Lesson 29: Exponential Functions\",\"Lesson 30: Scientific Notation\",\"Lesson 31: Logarithmic Functions\",\"Lesson 32: Log Properties\",\"Lesson 33: Exponential and Logarithmic Equations\",\"Lesson 34: Population, Scrolls and Sound\",\"Lesson 1b - Bonus - Error Analysis\",\"Lesson 2b - Motion in Two Dimensions\",\"Lesson 3 - What Causes Motion?\",\"Lessons 4 - Keeping Holland Dry\",\"Lesson 5 - Lost at Sea\",\"Lesson 6 - Lightning Strikes\",\"Lesson 7 - Special Relativity\",\"Lesson 01 What Is Psychology\",\"Lesson 02 Research Methods\",\"Lesson 03 Biology of Behavior\",\"Lesson 04 Sensation and Perception\",\"Lesson 05 Development\",\"Lesson 06 Consciousness\",\"Lesson 07 Learning\",\"Lesson 08 Memory\",\"Lesson 09 Language and Thought\",\"Lesson 10 Intelligence\",\"Lesson 11 Motivation and Emotion\",\"Lesson 12 Stress and Health\",\"Lesson 13 Personality\",\"Lesson 14 Social\",\"Lesson 15 Psychological Disorders\",\"Lesson 16 Treatments for Psychological Disorders\",\"Lesson 1-Setting up Firebase\",\"Lesson 2-Reading and writing data\",\"Lesson 3-Create user accounts\",\"Lesson 4-Structure your database schema\",\"Lesson 5-Offline access & securing data\",\"Lesson 0 (Introduction)\",\"Lesson 1 (Use Functions)\",\"Lesson 2c(Use Classes): Profanity Editor\",\"Lesson 3b(Make Classes): Advanced Topics\",\"Lesson 1 - Working with the CRUD\",\"Lesson 2 - Making a Web Server\",\"Lesson 3 - Developing with Frameworks\",\"Lesson 4 - Iterative Development\",\"Lesson 1: Objective-C vs. Swift\",\"Lesson 2: Writing Classes\",\"Lesson 3: Methods and Messages\",\"Lesson 4: Port an app, Obj-C to Swift\",\"Lesson 5: Port an app, Obj-C to Swift\",\"Lesson 6: Common Interop Challenges\",\"Lesson 0--Welcome\",\"Lesson 1--Naive Bayes\",\"Lesson 2--SVM\",\"Lesson 3--Decision Trees\",\"Lesson 4--Choose Your Own Algorithm\",\"Lesson 5--Datasets And Questions\",\"Lesson 6--Regressions\",\"Lesson 7--Outliers\",\"Lesson 8--Clustering\",\"Lesson 9--Feature Scaling\",\"Lesson 10--Text Learning\",\"Lesson 11--Feature Selection\",\"Lesson 12--PCA\",\"Lesson 13--Validation\",\"Lesson 14--Evaluation Metrics\",\"Lesson 15--Tying It All Together\",\"Lesson 0: What is Salesforce? (15 mins)\",\"Lesson 1: Creating your First App (90 mins)\",\"Lesson 2: Building out your Data Model (90 mins)\",\"Lesson 3: Visualizing your Data (45 mins)\",\"Lesson 4: Automating Everything (45 mins)\",\"Lesson 5: Make it Social. Make it Mobile. (30 mins)\",\"Lesson 1: Data Analysis Process\",\"Lesson 2: NumPy and Pandas for 1D Data\",\"Lesson 3: NumPy and Pandas for 2D Data\",\"Lesson 01: Data and Tables\",\"Lesson 02: Elements of SQL\",\"Lesson 03: Python DB-API\",\"Lesson 04: Deeper Into SQL\",\"Lesson 05: Final Project\",\"Lesson 8: Estimation\",\"Lesson 9: Hypothesis Testing\",\"Lesson 10b: t-Tests, Part 2\",\"Lesson 11: t-Tests, Part 3\",\"Lesson 12: One-Way ANOVA\",\"Lesson 13: ANOVA, Continued\",\"Lesson 14: Correlation\",\"Lesson 15: Regression\",\"Lesson 16: \\u03c7^2 Tests\",\"Lesson 1\",\"Lesson 2\",\"Lesson 3\",\"Lesson 4\",\"Lesson 5\",\"Lesson 0: Introduction to High Performance Computing\",\"Lesson 1-6: Shared Memory Parallel BFS\",\"Lesson 2-7: Graph Partitioning\",\"Lesson 3-4: Cache-Oblivious Algorithms\",\"Lesson 1 - HTML5 Canvas Basics\",\"Lesson 2 - From Pixels to Animation\",\"Lesson 1: Intro to Linux\",\"Lesson 2: Linux Security\",\"Lesson 1: NSUserDefaults\",\"NSKeyedArchiver\",\"Lesson 3: Persistent Objects & Core Data\",\"Lesson 4: Core Data from Scratch\",\"Core Data\",\"Lesson 1: Introduction\",\"Lesson 2: Data Wrangling\",\"Lesson 3: Data Analysis\",\"Lesson 4: Data Visualization\",\"Lesson 5: MapReduce\",\"Lesson 1 - Theory, Setup and Basic Storm\",\"Lesson 2 - Storm with Twitter Streams\",\"Lesson 3 - Beyond Storm Basics\",\"Lesson 4 - Storm Project and Hackathon\",\"Lesson 1-What's and Why's of APIs\",\"Lesson 2-Accessing Published APIs\",\"Lesson 3-Creating your own API Endpoints\",\"Lesson 4-Securing your API\",\"Lesson 5-Writing Developer-Friendly APIs\",\"Lesson 1 - Engagement\",\"Lesson 2 - Monetization Models\",\"Lesson 3 - Best Publishing Practices\",\"Lesson 0: Making a Network Request\",\"Lesson 1: Using Web Services and APIs\",\"Lesson 2: Chaining Asynchronous Requests\",\"Lesson 3: Authenticating Requests\",\"Lesson 4: Improving Networking with MVC\",\"Lesson 5: Preparing for \\\"On the Map\\\"\",\"Lesson 1: Rethinking Testing\",\"Lesson 2: Writing Test Suites\",\"Lesson 1: Closures Reloaded\",\"Lesson 2: GCD and Queues\",\"Lesson 3: Putting it all Together\",\"Lesson 1 Introduction and Xcode\",\"Lesson 2 AutoLayout and Buttons\",\"Lesson 3b: Playing Audio\",\"Lesson 4b: Chipmunk & DarthVader Effects\",\"Lesson 5 Playback and Effects\",\"Lesson 1: Get Into the Shell\",\"Lesson 2: Shell Commands\",\"Lesson 3: The Linux Filesystem\",\"Lesson 1: Research\",\"Lesson 2: Build\",\"Lesson 3: Reflect\",\"Lesson 1: Big Data\",\"Lesson 2: HDFS and MapReduce\",\"Lesson 3: MapReduce Code\",\"Lesson 4: MapReduce Design Patterns\",\"Lesson 1 - Understanding the User\",\"Lesson 2 - Pre-Launch\",\"Lesson 3 - Launch\",\"Lesson 4 - Customer Acquisition\",\"Lesson 5 - Measurement Fundamentals\",\"Lesson 1B: Stepping Through Code\",\"Lesson 2B: Breakpoints and Visual Tools\",\"Lesson 1\",\"Lesson 2\",\"Lesson 3\",\"Lesson 1: Outlets & Actions\",\"Lesson 2: Presenting View Controllers\",\"Lesson 3: Delegates\",\"Lesson 4: Table Views\",\"Lesson 5: Navigation\",\"Lesson 0 - Getting Up and Running\",\"Lesson 1 - Data Types\",\"Lesson 2 - Flow Control\",\"Lesson 01 : Set Your Goals\",\"Lesson 02: Define the Skills You Need\",\"Lesson 03: Get the People You Need\",\"Lesson 04: Get Capital for Your Startup\",\"Lesson 05: Create Your Pitch Deck\",\"Lesson 1: The US Healthcare System\",\"Lesson 2: Federal Policies & Initiatives\",\"Lesson 3: Health Information Exchange\",\"Lesson 4: Privacy, Security and Trust\",\"Lesson 5B: Interoperability Standards\",\"Lesson 6: Clinical Data Collection and Visualization Challenges\",\"Lesson 7: Empowering the Patient\",\"Lesson 8: Population Health Management\",\"Lesson 9: Data Query in a Federated Environment\",\"Lesson 10: Big Data Meets Healthcare\",\"Lesson 0: Welcome!\",\"Lesson 1: Render\",\"Lesson 2B: Memory\",\"Lesson 3: Battery\",\"Lesson 1: Intro to Research Methods\",\"Lesson 2: Visualizing Data\",\"Lesson 3: Central Tendency\",\"Lesson 4: Variability\",\"Lesson 5: Standardizing\",\"Lesson 6: Normal Distribution\",\"Lesson 7: Sampling Distributions\",\"Lesson 1B: Building Layouts\",\"Lesson 2B: Making an App Interactive\",\"Lesson 3B: Object Oriented Programming\",\"Lesson 1: What is UX?\",\"Lesson 2: User-Centered Design\",\"Lesson 3: Design for Mobile Constraints\",\"Lesson 4: Design for Android Amazement\",\"Lesson 1: Create Project Sunshine\",\"Lesson 2: Connect Sunshine to the Cloud\",\"Lesson 3: New Activities and Intents\",\"Lesson 4C: Hooking it Up with Loaders\",\"Lesson 5: Rich and Responsive Layouts\",\"Lesson 6: Services and Notifications\",\"Lesson 1 - Scalability Basics\",\"Lesson 2 - Getting Started\",\"Lesson 3 - Storing and Retrieving Data\",\"Lesson 4 - Advanced Datastore Concepts\",\"Lesson 5 - Advanced App Engine Topics\",\"Lesson 1 - Scalability Basics\",\"Lesson 2 - Getting Started\",\"Lesson 3 - Storing and Retrieving Data\",\"Lesson 4 - Advanced Datastore Concepts\",\"Lesson 5 - Advanced App Engine Topics\",\"Lesson 6 - App Engine and Mobile Apps\",\"Lesson 1 - The Critical Rendering Path\",\"Lesson 2 - App Lifecycles\",\"Lesson 3 - Weapons of Jank Destruction\",\"Lesson 4 - JavaScript\",\"Lesson 5 - Styles and Layout\",\"Lesson 6 - Compositing and Painting\",\"Lesson 1: Introduction to Android Design\",\"Lesson 2: Surfaces\",\"Lesson 3: Bold Graphic Design\",\"Lesson 4: Meaningful Motion\",\"Lesson 5: Adaptive Design\",\"Lesson 1: Gradle Fundamentals\",\"Lesson 2: Building Java with Gradle\",\"Lesson 3: Building Android with Gradle\",\"Lesson 4: Advanced Android Builds\",\"Lesson 1 - Getting Up and Running\",\"Lesson 2 - Units, Formats, Environments\",\"Lesson 3 - Images with Markup\",\"Lesson 4 - Full Responsiveness\",\"Lesson 0 - Getting Up and Running\",\"Lesson 1 - The Critical Rendering Path\",\"Lesson 2 - Optimizing the CRP\",\"Lesson 1: Productive Editing\",\"Lesson 2: Powerful Builds\",\"Lesson 3: Expressive Live Editing\",\"Lesson 4: How to Prevent Disasters\",\"Lesson 5: Awesome Optimizations\",\"Lesson 1 - Why Responsive?\",\"Lesson 2 - Starting Small\",\"Lesson 3 - Building Up\",\"Lesson 4 - Common Responsive Patterns\",\"Lesson 5 - Optimizations\",\"Lesson 1 - Features of Single Page Apps\",\"Lesson 2 - Examine A Framework's Source\",\"Lesson 3 - Angular\",\"Lesson 4 - Ember\",\"Lesson 1 - Creating Promises\",\"Lesson 2 - Chaining Promises\",\"Lesson 1: Swift Basics\",\"Lesson 2: Optionals\",\"Lesson 3: Collections\",\"Lesson 4: Control Flow\",\"Lesson 5: Functions\",\"Lesson 6: Classes, Properties, & Methods\",\"Lesson 7: Enumerations and Structs\",\"Lesson 8: Protocols & Extensions\",\"Lesson 9: Closures\",\"Lesson 1 - Intro to the QMV Process\",\"Lesson 2 - The Questioning Phase\",\"Lesson 3 - The Modeling Phase\",\"Lesson 4 - The Validation Phase\"],\"x\":[-2.948213477018792,-3.3307252197105175,-3.3168212628905285,-3.309804950892439,-3.3291445752738884,-3.2790973375877805,-3.2657696604262187,-3.311692439057784,-3.290987564547096,-3.3291078361922977,-3.2893346755247515,-3.778747621864167,1.8377866528523663,3.928361587866431,3.316768314511871,4.052184204028408,4.2256872946232695,4.370167589446755,5.0205236568674465,3.0785454651865023,3.4655224753358413,5.699474753566676,4.9373306492903435,4.91778643791919,-1.1729413466166743,2.9950765664770365,3.249995153035044,-0.44776420087890095,0.920235943634398,4.593451826256516,5.278204299197059,0.8888335593083715,-0.010859041958651505,0.9111598073782355,0.292368165371897,-14.501650948467306,-15.473298077619917,-15.800401865379557,-14.349470082894467,-15.807685073077172,-16.046964865703934,-14.494863979457383,15.997946894426981,15.807516054658526,13.54441189833783,13.960835642739355,14.898938743040787,13.954816442155815,15.771447081372393,8.33928187290065,6.985441985010012,-0.39342726654474325,-1.6916901078680793,7.293419978021541,-1.156796969190953,-4.47596039541487,-7.071128505464039,-7.6742157022719715,-3.660629621620435,-4.190319457422071,-4.234189605836968,-4.18436715541906,-1.6972957134930537,0.2381822664917519,-1.134304257349258,-1.7709996060864,-3.3273881608117595,-1.5456347749224992,4.5527652787067705,4.869473635824362,5.162574430352333,4.511754655686082,5.3650505129234745,4.736799797444591,5.407333667468715,14.024043329720188,14.195277129710046,14.631095325702319,14.882869186848458,14.077008084663339,14.327982031858143,13.555806385122438,13.927160071809984,13.732720831133905,14.808079030690278,-14.997912130548938,-15.728958284655414,-15.594344445597248,-15.56871691370622,-15.787187331450918,-15.671969243589288,1.0532746019529604,3.5766361910689772,3.532749923139417,3.794492302551044,3.7866740546815065,3.526835585594925,3.686690460604773,3.537832149921048,12.752416806431489,14.95084986272216,13.340626796562331,0.9902578371673638,13.052638581213364,13.952398312544567,-9.040124681352536,-9.041121633198253,-9.040891206167087,-9.041236505141867,-9.045167790650979,-9.040470708784076,-9.04031786261908,-0.5905032101159563,-0.6297306898243676,-0.7702427127460717,5.595162179533092,7.401926661421114,6.89076504942246,7.142396604546496,5.688905782338646,6.7792187760216445,6.311672054129799,6.07398795305342,6.88197371891752,14.058706028712246,15.552080169378291,14.365862205794198,16.11832187772351,15.438753584326575,15.650776374367448,15.958967834711377,14.281498260073253,15.846283522170651,16.468767608265274,16.569256751197752,15.108307041965555,16.20875664807974,16.282911553076822,16.67150498631178,16.424081324689624,14.150729308281553,14.545148951564668,14.870150127016249,15.622871115007287,16.19916794910174,15.32967887142244,15.68178413135103,15.22966721500633,15.399661730269125,15.528027539944008,16.31180204814467,14.477336722149834,14.572659310798135,13.620317402459131,14.373023050870815,13.780471050117404,15.062641274637388,13.987492017428407,14.57982220388824,15.722477747045462,15.57362660337355,14.945238759905282,15.654976506339729,13.801114935920143,14.37213125089988,-2.3897506633220247,-4.729228627145864,-3.29709965023054,-2.2854766885842053,-2.947604758275965,-2.93434269476123,-2.0916085826254935,3.9755658280378783,-2.174855989138711,-3.3441378887539654,-2.5368536267033823,-2.2730146132721587,-2.8872667542229755,-2.923606656629014,-2.708996346223752,-2.5286750712402633,0.3381118738327957,0.15760246439796646,-0.03322417127228177,0.14016107062767635,0.07134664686418006,0.8805956049682866,-5.164247344501863,-0.6458350518403018,0.16933061046794523,-0.1085227590239875,8.738965522840948,7.989600304215706,7.859402986603951,-0.007687939579876587,0.6420391046737,1.5717763503459974,-0.8561627604639356,-0.9865535977272548,0.5815365050797026,7.40639126442158,7.904704370410419,7.3980458895388885,6.361725079335739,7.489076399452155,7.475684756692255,8.090844908443584,7.156396523264659,5.821270906495871,6.4074026971407125,6.048952065647353,8.258958756822203,7.18728467306997,7.962133269036628,7.247256541086298,7.670751367978536,0.0783650107278168,-12.80578163445324,-12.868349174135277,-12.872723244407329,-12.83265849939972,-12.901961351130318,-3.394603537023807,1.2223841933897663,-3.5746746765900177,0.04010275562040615,-0.05667216121962875,-0.08001859774991892,0.051650912639703894,-0.6123961211923623,-8.441586148881822,-8.158603490743307,-8.510680154638095,-8.399441237774225,-8.161463843219755,-8.059386150017678,-5.829029179424238,6.22350725241152,-6.8791454924207525,8.721862861535017,8.208606690790468,8.00943878986568,8.780978671490553,8.305746368713223,3.9436370427514675,-14.910290542495833,-15.315002980647957,3.8813552283667208,-3.5871195997573966,-3.242996797754061,-6.897892369926097,-5.7403285821264225,1.6809261886682987,1.752859798298895,-0.42264886270213786,-0.355069330284929,-1.189006527877914,-2.881711353297823,-0.7890850549330707,6.487339041514378,-0.7062997418112845,-3.371675953674321,-13.340310953847155,-13.429157478784154,-13.370956874551085,-13.35721914718227,8.566060745112912,8.870193485797971,7.807186840496383,8.129078361980195,7.961623923712554,0.6314164235760105,1.0822715595098356,1.0064380921275466,8.533107004278685,6.955434669244935,7.307825257671714,7.52481724970303,6.096251819261069,-2.4319059248265638,-1.1028639433321943,-4.072704874653672,1.4394614695413062,1.761434792430257,1.6715287157786332,-1.2368174719637695,-1.4969811370921788,-1.930801296408838,-1.8167556127588946,-1.5244316107010447,-7.169733300578153,-7.735643420406048,-7.450772632767262,1.7464296306065856,1.702359083312694,0.7467313815025086,-3.9758353605662715,-6.237144236223978,-5.009440685529987,-3.3187134390350272,6.554519275738273,5.994938742148586,5.744194553519061,5.993326384940628,5.666363066434456,-0.6041663640738764,-0.34315055647199544,-7.735428435676738,-7.252604783675196,-6.631052955097755,-1.610819413185372,-1.731875847101363,-0.2732781783955565,-0.7390761266432355,-1.8535871960620498,-5.2620590113702805,2.977885762075601,3.9258780052015947,6.350632123055517,6.190282692991217,5.830723097370053,6.250428867651472,5.85738368602084,-3.0130694822623494,-2.97581771471203,-2.973765529394615,-2.7024676783902906,-3.0273324937184714,-3.071394189694339,-2.9964989048857076,-2.997204239949105,-3.1775617983127042,-3.0165551307961898,0.6497063160462561,2.135073248122327,4.63371672002029,0.4957501604859326,-5.039317076218281,-5.077903698351134,-5.2620470979386536,-8.218254422250052,-8.028642425480827,-8.056630450178984,-8.469714589617489,1.8281442072623413,2.5661204328962453,2.8262189116971626,0.6883454827671766,0.7874586035076225,-0.21807320470325559,0.5142498203925026,2.065137276465763,2.663618048644785,2.1322875325706065,0.4086881341989415,2.051154779252166,2.2482454656265305,-6.573245416041266,-6.923480363103946,-6.608065682975458,-6.414748580770524,-6.798600936557199,-6.570677241562922,-6.84489474604795,-6.556214961584398,-6.43583724545576,-6.645520007026916,-6.200205535550346,-0.9613004739558515,-0.2563108518768872,-7.250192279728283,-2.3497784090355505,-2.2270411727966093,-1.330997543147897,1.8259756727922207,1.83913240141441,1.703693260280405,1.6620974402626116,1.5051409637163566,-7.100537502243663,-7.038796008980581,1.5757997048746146,1.7568334138792898,-7.667081890005799,-4.456097814146439,-4.25559982854197,-4.502794573977022,-7.685402562070434,-4.4831770991398745,-5.6099262860398955,-6.5445327247614,-7.583676944262113,-6.231524637933534,-7.709342618128081,-7.679488457517336,-7.54284844531863,-4.449278247282672,-4.482226510982779,-4.455382956992516,-4.55915696532577,-3.317020739691173,-0.3352064168471995,-0.4289822998577874,-3.851747175629611,-0.4142624969159614,-2.850812407062394,2.873152290321502,0.4458261096128475,1.9979542619719737,2.144935864788708,4.347542928774616,0.8651180012427755,0.827071087073491,0.19635741512586816,1.8574040529129079,7.076054604136289,5.695478518826629,5.4377581487065845,7.731364623859302],\"y\":[0.954559803825811,-7.902344142375113,-8.142967796254565,-8.214871277162164,-7.740759853897128,-8.454145437979895,-8.54277552967657,-8.533374722694814,-8.432821566317063,-8.194420362528678,-8.407517490176758,-8.24632510961336,4.631338270960362,6.067291676655386,5.796603154122138,4.854198945172933,5.3546878097237025,5.314966768996955,4.734342927130023,5.75066584232166,5.894830112255681,6.329791781741978,5.640728622650202,5.1120539980405235,5.437861726443003,4.145608106847444,4.515825250341018,3.6449061203210427,3.026561621651125,5.434807201349406,6.077095677771252,3.3070936512793203,3.8889668213052473,5.272149873486882,4.26640695686782,2.0352069441893437,1.8262986204466096,1.8586231099946648,2.0813204139022603,1.8782944889315332,1.797529015611571,1.9542216093088562,2.600599768610752,2.476475043225962,0.30777466001672993,-0.451619632534803,1.632820325390444,0.46797268825337623,2.45462814744127,14.022753352436151,13.159658009058235,-15.090491052575189,5.6202756876984505,13.410064665762368,-14.265547178001558,-13.72010103069629,-2.6103112988592634,-2.581384978492515,-3.3034235756187287,-3.1844763029496015,-3.195654032819944,-2.806436622205355,-0.9536521809415524,-0.9268686654916902,4.784584847906223,-2.6964099172735763,6.3946877700790585,-2.851602551605857,5.975143257780448,6.2729368160888495,5.9960777602161714,5.99271099320362,6.379515417522335,6.628650206037396,6.240095493654014,2.0635817235459433,1.4195295793665725,2.0471890335458256,1.6947622662355537,1.491015798362697,1.4333928223640757,1.948911176510779,1.1976001908407032,1.2713103377377408,2.263944448137029,1.8666458398557468,1.8362018925141754,1.8125100805216763,1.8209558182772667,1.869629147280143,1.8242465398913132,3.4334814183302114,11.278520159161646,11.41128472315098,10.551232496226682,10.526463934767856,11.42961132763139,10.459522682943069,11.393694122937474,0.5114299017154538,1.2760662237984233,0.7509750693184639,2.801624770813235,1.2124276337028301,1.300389203197153,-7.32447255737457,-7.325939089396738,-7.325404206319403,-7.325273991581247,-7.324956198368661,-7.324944601623365,-7.325201808437382,1.5116231534002602,1.5056817025836797,1.587540999389428,-10.637468723724584,-10.703559043776494,-10.59299216832778,-10.684981198974548,-10.650263571123924,-10.472481192337712,-10.722734598330149,-10.683371713593363,-10.620570503713507,-7.134780212934765,-8.113144458777914,-7.467036262397415,-8.66513320711136,-9.46793080522086,-8.814652972186563,-8.485255598041862,-7.211268183984577,-8.45414062293128,-9.607901848706145,-9.198334574212119,-8.247673304589144,-9.636380562740522,-9.772280165875534,-9.398852481881335,-9.145629662163504,-7.858844668906636,-7.725574075713743,-8.79747018049939,-9.580767375812298,-8.818588141021598,-9.005531324029198,-9.050104022538187,-8.521949084274318,-8.260928990490486,-9.21856851489123,-8.622688670451584,-7.3189508199116515,-7.601943454968263,-6.163246683339962,-6.913976810296145,-6.380647482251877,-7.515710511398286,-6.743727218479046,1.1636914125556101,2.428347867028898,2.124911529702778,1.6906130684533673,2.303490219506095,0.6318192725798624,1.1158825282988436,1.3587258134325773,2.070738132127549,-7.002072386255223,0.8919018843811797,0.9906644443061097,1.0233846427349775,1.6503237822527037,9.65897285707015,2.10747868718866,1.843341576755807,1.4916508225778355,1.2496312644789112,1.1477979308072692,1.722696433231305,1.1882348169477124,1.4590731391029446,-14.240478818852996,-14.486520600579787,-14.193937217049651,-14.494151438272834,-14.272928064456243,2.0325524970682967,6.867225790431348,6.147619039279725,5.985241503647626,-15.305416011285052,14.638182332861641,13.895335802448706,13.301908284385673,9.194973813521386,6.484196711478367,7.225345867189303,10.216334431365853,10.39469568546206,8.39730396850385,-1.2283525046959232,-1.159296186946583,-0.9676741398047631,-0.9231082354630332,-1.499915752766481,-1.269608835750663,-0.8882623588509816,-1.1393226481573717,-0.8243127314214693,-0.8846744493902995,-0.8652504102955851,-1.2768838654752641,-0.7777644155486666,-1.2571620546222206,-0.9190090985843845,-1.214950471974415,0.29291637605507476,-4.411184016557817,-4.459643316997022,-4.462619579307602,-4.4325921647632835,-4.489862387376598,3.740628287205076,4.416653930685686,3.4709253867153715,-15.424461654542561,-15.132151698014676,-15.195193466522483,-15.450492460356529,-14.127013745124382,1.8424313660904141,1.868850945985991,1.8346086776388921,1.8446321023920091,1.8686662700718077,1.8759270211047863,2.088326135084875,0.8010163502640737,1.985366422974123,14.298764215691243,13.48488644894835,12.85643283648035,14.375566874719324,13.287675881999654,9.600578977930544,2.3058160693935537,2.239689759559463,9.887292959910345,-1.145729566895553,-1.2886226961436913,7.5023011170462395,7.741277505012648,-0.22599801756748872,0.5661081102354104,8.00804895286713,8.175263873608403,10.833744903119667,3.694141124175098,-13.948661769308726,0.6035040025562807,1.9302958494360976,4.597787659031058,-4.837557678776483,-4.914103382125387,-4.866193652409799,-4.853080807282035,13.825028033852831,14.564652330829421,14.024300148840629,13.663522888374569,12.943613492234672,-0.3926265662431203,-1.939910229860957,-2.2223488127051167,14.473737469496998,13.36274933729645,13.53534680417605,14.175352401944734,14.093460479779653,7.490553084335644,3.0143235220887434,5.975874668688173,5.815199016184186,0.9427401227121138,1.0549363830786969,10.708907801603528,11.06970522716154,11.55350488588756,11.428045407088456,11.105965272412627,7.649400125285367,7.9886248395865005,7.752670974931741,-1.1797991821211475,-1.1706553135359588,-1.8903353510062664,4.7379225346167795,6.650120557871375,5.639319241972952,4.085664668253094,-10.608661768403701,-9.835300927605996,-9.707554524540962,-10.045955847475334,-9.822823093534046,9.895285436324766,9.224158753811915,7.981310409106575,7.553250179920552,7.095766334436289,11.205662078269695,11.336693007565914,9.266905601811988,10.672414691086901,11.47234927829095,6.837899737488613,6.116422305213996,6.4032503391103255,-10.615764645575467,-10.35190610197434,-10.653389866227371,-10.71881681305291,-10.66953907506421,16.775191914255924,16.873094841548017,16.821634105441145,16.881986393472275,16.784369620518156,16.692425136334172,16.812664423734862,16.812960233416497,16.5517817475497,16.780443938084357,-0.7226577556481093,-4.730567283119242,9.711544950446719,-1.8157902607021863,2.1480431853105926,2.245790094959536,2.1555582229722257,1.8633100309223465,1.8794043750808413,1.8772354872126347,1.8405565536485777,-4.772674645083795,-5.218307611114522,-5.3099943003602235,-1.2114537393844627,-2.4772461027621713,-2.60948053074141,-3.3186668162434456,-5.955444511030962,-4.699860859404722,-5.428713381266972,-14.224928217786994,-5.527259243844838,-4.701240389645213,-13.648464395478877,-13.642066638679136,-13.724845674116995,-13.672628704304046,-13.661145157486068,-13.648566520589553,-13.637010459855519,-13.678126183491488,-13.66759792684935,-13.653519980798496,-13.586445803001517,-1.9335452741893973,-1.6946831498045218,-2.6089423194068257,-1.02210437548191,-2.0206445165430202,-1.5163523714682092,-5.006888901823326,-4.585558420684558,-4.354639448154141,-3.869234310735288,-4.19019215392095,6.167494870522952,6.267211607273033,-5.531569951932929,-5.598838944062455,-2.5824888070977936,-2.667059464032596,-1.9255850608400098,-3.0989927721054302,-2.5813225167660576,-1.7761397358609021,6.900847603683494,6.92190583359041,7.868239313547516,6.889544592732458,7.963056234462433,7.9502863603494,-2.5954718477173455,-3.410381317013532,-3.40697498507007,-3.2838931089138894,-3.5936884887210243,6.6810862357731935,5.667346129634783,9.18784812430168,6.961374355394844,9.57532538936258,3.586468470684319,6.6461369556686805,8.540005978341208,5.5823663515362565,6.096463732591514,6.110408400291858,7.84790100688215,5.52957091591802,8.588725433132208,5.81349283616999,-1.0930117052236354,-0.17713846596275473,0.00039773575261134057,-0.6759444032808978]}},\"id\":\"65b31e0f-f495-4473-8928-9ec0b288a443\",\"type\":\"ColumnDataSource\"},{\"attributes\":{\"callback\":null},\"id\":\"69d6d99a-fcb3-4e78-801f-cd5d6478a637\",\"type\":\"DataRange1d\"},{\"attributes\":{\"active_drag\":\"auto\",\"active_scroll\":\"auto\",\"active_tap\":\"auto\",\"tools\":[{\"id\":\"0eecce4d-98fd-4d78-a26c-5c7eb57f7876\",\"type\":\"PanTool\"},{\"id\":\"9d8788a8-4d7b-4050-9b89-053b758f6c9f\",\"type\":\"WheelZoomTool\"},{\"id\":\"e65d6007-2de6-4463-a4d7-d99c3294cc4e\",\"type\":\"BoxZoomTool\"},{\"id\":\"2b85e214-273c-4020-9ac9-e99218e2b95a\",\"type\":\"SaveTool\"},{\"id\":\"2be26e52-f279-4e28-8e97-3ad7766d2085\",\"type\":\"ResetTool\"},{\"id\":\"2f04a5a5-a777-4f77-875e-5e17c15fbed5\",\"type\":\"HelpTool\"},{\"id\":\"82197c4c-292c-475d-9e13-7c456d252d65\",\"type\":\"HoverTool\"}]},\"id\":\"42b37fd9-6dda-4e82-8ee9-435ac1b63a82\",\"type\":\"Toolbar\"},{\"attributes\":{\"fill_alpha\":{\"value\":0.5},\"fill_color\":{\"value\":\"#1f77b4\"},\"line_alpha\":{\"value\":0.5},\"line_color\":{\"value\":\"#1f77b4\"},\"size\":{\"units\":\"screen\",\"value\":7},\"x\":{\"field\":\"x\"},\"y\":{\"field\":\"y\"}},\"id\":\"5263ac75-95df-48b4-af0e-e3d0c40917b2\",\"type\":\"Circle\"},{\"attributes\":{\"plot\":{\"id\":\"1e7ac0c3-62c0-4221-a590-11ec03e60af7\",\"subtype\":\"Figure\",\"type\":\"Plot\"}},\"id\":\"2f04a5a5-a777-4f77-875e-5e17c15fbed5\",\"type\":\"HelpTool\"},{\"attributes\":{},\"id\":\"30b7cd05-023a-4b10-b7cc-8c689c4c70fb\",\"type\":\"BasicTicker\"},{\"attributes\":{\"plot\":{\"id\":\"1e7ac0c3-62c0-4221-a590-11ec03e60af7\",\"subtype\":\"Figure\",\"type\":\"Plot\"},\"ticker\":{\"id\":\"30b7cd05-023a-4b10-b7cc-8c689c4c70fb\",\"type\":\"BasicTicker\"}},\"id\":\"256e7471-67e5-462d-bcd3-5895e0be1ac4\",\"type\":\"Grid\"},{\"attributes\":{\"plot\":{\"id\":\"1e7ac0c3-62c0-4221-a590-11ec03e60af7\",\"subtype\":\"Figure\",\"type\":\"Plot\"}},\"id\":\"0eecce4d-98fd-4d78-a26c-5c7eb57f7876\",\"type\":\"PanTool\"},{\"attributes\":{},\"id\":\"9f77c002-fbd3-4b4d-80c6-ec4a6b2012d6\",\"type\":\"BasicTicker\"},{\"attributes\":{\"data_source\":{\"id\":\"65b31e0f-f495-4473-8928-9ec0b288a443\",\"type\":\"ColumnDataSource\"},\"glyph\":{\"id\":\"5263ac75-95df-48b4-af0e-e3d0c40917b2\",\"type\":\"Circle\"},\"hover_glyph\":null,\"nonselection_glyph\":{\"id\":\"37395885-c66f-4248-9297-cef09962a59b\",\"type\":\"Circle\"},\"selection_glyph\":null},\"id\":\"9753c45e-52c8-4cd0-a0b2-43614d803101\",\"type\":\"GlyphRenderer\"},{\"attributes\":{\"formatter\":{\"id\":\"ffe8ae3a-6a37-4fec-9b8b-592902e4e5c3\",\"type\":\"BasicTickFormatter\"},\"plot\":{\"id\":\"1e7ac0c3-62c0-4221-a590-11ec03e60af7\",\"subtype\":\"Figure\",\"type\":\"Plot\"},\"ticker\":{\"id\":\"30b7cd05-023a-4b10-b7cc-8c689c4c70fb\",\"type\":\"BasicTicker\"}},\"id\":\"1176a12a-1bbe-481c-916d-a5e3dcc49a46\",\"type\":\"LinearAxis\"},{\"attributes\":{\"fill_alpha\":{\"value\":0.1},\"fill_color\":{\"value\":\"#1f77b4\"},\"line_alpha\":{\"value\":0.1},\"line_color\":{\"value\":\"#1f77b4\"},\"size\":{\"units\":\"screen\",\"value\":7},\"x\":{\"field\":\"x\"},\"y\":{\"field\":\"y\"}},\"id\":\"37395885-c66f-4248-9297-cef09962a59b\",\"type\":\"Circle\"},{\"attributes\":{\"background_fill_color\":{\"value\":\"#DFDFE5\"},\"below\":[{\"id\":\"1176a12a-1bbe-481c-916d-a5e3dcc49a46\",\"type\":\"LinearAxis\"}],\"left\":[{\"id\":\"67bf678d-01ba-4bc1-ac92-2323b766914d\",\"type\":\"LinearAxis\"}],\"plot_height\":450,\"plot_width\":650,\"renderers\":[{\"id\":\"1176a12a-1bbe-481c-916d-a5e3dcc49a46\",\"type\":\"LinearAxis\"},{\"id\":\"256e7471-67e5-462d-bcd3-5895e0be1ac4\",\"type\":\"Grid\"},{\"id\":\"67bf678d-01ba-4bc1-ac92-2323b766914d\",\"type\":\"LinearAxis\"},{\"id\":\"d1f243ac-bef3-4a26-a3a6-733abc95a070\",\"type\":\"Grid\"},{\"id\":\"e9215c74-f5da-4418-910c-93501bc0fec7\",\"type\":\"BoxAnnotation\"},{\"id\":\"9753c45e-52c8-4cd0-a0b2-43614d803101\",\"type\":\"GlyphRenderer\"}],\"title\":{\"id\":\"4ec58aac-03b9-4859-87dd-7ff7c161970e\",\"type\":\"Title\"},\"tool_events\":{\"id\":\"3955da0e-da3d-4905-b44f-fe2018b4a56e\",\"type\":\"ToolEvents\"},\"toolbar\":{\"id\":\"42b37fd9-6dda-4e82-8ee9-435ac1b63a82\",\"type\":\"Toolbar\"},\"x_range\":{\"id\":\"69d6d99a-fcb3-4e78-801f-cd5d6478a637\",\"type\":\"DataRange1d\"},\"y_range\":{\"id\":\"14f8b6e5-5dcb-43f6-a45d-d4d81eaeb960\",\"type\":\"DataRange1d\"}},\"id\":\"1e7ac0c3-62c0-4221-a590-11ec03e60af7\",\"subtype\":\"Figure\",\"type\":\"Plot\"},{\"attributes\":{\"overlay\":{\"id\":\"e9215c74-f5da-4418-910c-93501bc0fec7\",\"type\":\"BoxAnnotation\"},\"plot\":{\"id\":\"1e7ac0c3-62c0-4221-a590-11ec03e60af7\",\"subtype\":\"Figure\",\"type\":\"Plot\"}},\"id\":\"e65d6007-2de6-4463-a4d7-d99c3294cc4e\",\"type\":\"BoxZoomTool\"}],\"root_ids\":[\"1e7ac0c3-62c0-4221-a590-11ec03e60af7\"]},\"title\":\"Bokeh Application\",\"version\":\"0.12.0\"}};\n",
       "            var render_items = [{\"docid\":\"4a7431c7-a243-4ddf-8192-b999dba6634e\",\"elementid\":\"246e38fc-f1f9-4e3a-b492-0afcb33d8456\",\"modelid\":\"1e7ac0c3-62c0-4221-a590-11ec03e60af7\",\"notebook_comms_target\":\"59a14794-9984-4171-8990-8be6a9360113\"}];\n",
       "            \n",
       "            Bokeh.embed.embed_items(docs_json, render_items);\n",
       "        });\n",
       "      },\n",
       "      function(Bokeh) {\n",
       "      }\n",
       "    ];\n",
       "  \n",
       "    function run_inline_js() {\n",
       "      for (var i = 0; i < inline_js.length; i++) {\n",
       "        inline_js[i](window.Bokeh);\n",
       "      }\n",
       "    }\n",
       "  \n",
       "    if (window._bokeh_is_loading === 0) {\n",
       "      console.log(\"Bokeh: BokehJS loaded, going straight to plotting\");\n",
       "      run_inline_js();\n",
       "    } else {\n",
       "      load_libs(js_urls, function() {\n",
       "        console.log(\"Bokeh: BokehJS plotting callback run at\", now());\n",
       "        run_inline_js();\n",
       "      });\n",
       "    }\n",
       "  }(this));\n",
       "</script>"
      ]
     },
     "metadata": {},
     "output_type": "display_data"
    },
    {
     "data": {
      "text/html": [
       "<p><code>&lt;Bokeh Notebook handle for <strong>In[19]</strong>&gt;</code></p>"
      ],
      "text/plain": [
       "<bokeh.io._CommsHandle at 0x7f4c4da06e90>"
      ]
     },
     "execution_count": 19,
     "metadata": {},
     "output_type": "execute_result"
    }
   ],
   "source": [
    "from bokeh.charts import Scatter\n",
    "from bokeh.models import HoverTool, ColumnDataSource \n",
    "from sklearn.manifold import TSNE\n",
    "tsne = TSNE(n_components=2, learning_rate=500, n_iter=1000000, random_state=2016)\n",
    "tsne_text = tsne.fit_transform(transformed) # [n_samples, n_features]\n",
    "plot_df = pd.DataFrame(columns=['x', 'y'], data=tsne_text)\n",
    "plot_df['course'] = df['course'] # add info for hovering \n",
    "plot_df['title'] = df['title'] # add info for hovering\n",
    "print(len(plot_df))\n",
    "hover = HoverTool(\n",
    "    tooltips=[(\"Titles\", \"@title\"), ('Course', '@course')]\n",
    ")\n",
    "\n",
    "source = ColumnDataSource(plot_df)\n",
    "p = figure(background_fill='#DFDFE5', plot_width=650, \n",
    "                          plot_height=450)\n",
    "# Add the hover tool\n",
    "p.add_tools(hover)\n",
    "\n",
    "# Populate glyphs\n",
    "p.circle(x='x', y='y', size=7, alpha=0.5, source=source)\n",
    "#p = Scatter(plot_df, title=\"scat\", width=800, tools=[hover, \"pan\",\"box_zoom\",\"wheel_zoom\",\"reset\",\"resize\",\"save\"])\n",
    "show(p)"
   ]
  },
  {
   "cell_type": "code",
   "execution_count": 20,
   "metadata": {
    "collapsed": false
   },
   "outputs": [
    {
     "data": {
      "text/html": [
       "<div>\n",
       "<table border=\"1\" class=\"dataframe\">\n",
       "  <thead>\n",
       "    <tr style=\"text-align: right;\">\n",
       "      <th></th>\n",
       "      <th>course</th>\n",
       "      <th>lesson</th>\n",
       "      <th>title</th>\n",
       "      <th>text</th>\n",
       "      <th>topic</th>\n",
       "    </tr>\n",
       "  </thead>\n",
       "  <tbody>\n",
       "  </tbody>\n",
       "</table>\n",
       "</div>"
      ],
      "text/plain": [
       "Empty DataFrame\n",
       "Columns: [course, lesson, title, text, topic]\n",
       "Index: []"
      ]
     },
     "execution_count": 20,
     "metadata": {},
     "output_type": "execute_result"
    }
   ],
   "source": [
    "df[df['title']=='']"
   ]
  },
  {
   "cell_type": "code",
   "execution_count": null,
   "metadata": {
    "collapsed": true
   },
   "outputs": [],
   "source": []
  }
 ],
 "metadata": {
  "kernelspec": {
   "display_name": "Python 2",
   "language": "python",
   "name": "python2"
  },
  "language_info": {
   "codemirror_mode": {
    "name": "ipython",
    "version": 2
   },
   "file_extension": ".py",
   "mimetype": "text/x-python",
   "name": "python",
   "nbconvert_exporter": "python",
   "pygments_lexer": "ipython2",
   "version": "2.7.12"
  }
 },
 "nbformat": 4,
 "nbformat_minor": 0
}
