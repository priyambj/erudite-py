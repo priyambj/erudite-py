{
 "cells": [
  {
   "cell_type": "code",
   "execution_count": 14,
   "metadata": {
    "collapsed": false,
    "nbpresent": {
     "id": "a865ec7f-bf8e-4954-89cc-bea0c1afd3fe"
    }
   },
   "outputs": [
    {
     "name": "stdout",
     "output_type": "stream",
     "text": [
      "Populating the interactive namespace from numpy and matplotlib\n"
     ]
    },
    {
     "name": "stderr",
     "output_type": "stream",
     "text": [
      "WARNING: pylab import has clobbered these variables: ['figure', 'GridSpec', 'show', 'Figure', 'save']\n",
      "`%matplotlib` prevents importing * from pylab and numpy\n"
     ]
    },
    {
     "data": {
      "text/html": [
       "\n",
       "    <div class=\"bk-root\">\n",
       "        <a href=\"http://bokeh.pydata.org\" target=\"_blank\" class=\"bk-logo bk-logo-small bk-logo-notebook\"></a>\n",
       "        <span id=\"ea18f533-54c9-4c3d-917e-e2205c905b34\">Loading BokehJS ...</span>\n",
       "    </div>"
      ]
     },
     "metadata": {},
     "output_type": "display_data"
    },
    {
     "data": {
      "application/javascript": [
       "\n",
       "(function(global) {\n",
       "  function now() {\n",
       "    return new Date();\n",
       "  }\n",
       "\n",
       "  if (typeof (window._bokeh_onload_callbacks) === \"undefined\") {\n",
       "    window._bokeh_onload_callbacks = [];\n",
       "  }\n",
       "\n",
       "  function run_callbacks() {\n",
       "    window._bokeh_onload_callbacks.forEach(function(callback) { callback() });\n",
       "    delete window._bokeh_onload_callbacks\n",
       "    console.info(\"Bokeh: all callbacks have finished\");\n",
       "  }\n",
       "\n",
       "  function load_libs(js_urls, callback) {\n",
       "    window._bokeh_onload_callbacks.push(callback);\n",
       "    if (window._bokeh_is_loading > 0) {\n",
       "      console.log(\"Bokeh: BokehJS is being loaded, scheduling callback at\", now());\n",
       "      return null;\n",
       "    }\n",
       "    if (js_urls == null || js_urls.length === 0) {\n",
       "      run_callbacks();\n",
       "      return null;\n",
       "    }\n",
       "    console.log(\"Bokeh: BokehJS not loaded, scheduling load and callback at\", now());\n",
       "    window._bokeh_is_loading = js_urls.length;\n",
       "    for (var i = 0; i < js_urls.length; i++) {\n",
       "      var url = js_urls[i];\n",
       "      var s = document.createElement('script');\n",
       "      s.src = url;\n",
       "      s.async = false;\n",
       "      s.onreadystatechange = s.onload = function() {\n",
       "        window._bokeh_is_loading--;\n",
       "        if (window._bokeh_is_loading === 0) {\n",
       "          console.log(\"Bokeh: all BokehJS libraries loaded\");\n",
       "          run_callbacks()\n",
       "        }\n",
       "      };\n",
       "      s.onerror = function() {\n",
       "        console.warn(\"failed to load library \" + url);\n",
       "      };\n",
       "      console.log(\"Bokeh: injecting script tag for BokehJS library: \", url);\n",
       "      document.getElementsByTagName(\"head\")[0].appendChild(s);\n",
       "    }\n",
       "  };\n",
       "\n",
       "  var js_urls = ['https://cdn.pydata.org/bokeh/release/bokeh-0.12.0.min.js', 'https://cdn.pydata.org/bokeh/release/bokeh-widgets-0.12.0.min.js', 'https://cdn.pydata.org/bokeh/release/bokeh-compiler-0.12.0.min.js'];\n",
       "\n",
       "  var inline_js = [\n",
       "    function(Bokeh) {\n",
       "      Bokeh.set_log_level(\"info\");\n",
       "    },\n",
       "    \n",
       "    function(Bokeh) {\n",
       "      Bokeh.$(\"#ea18f533-54c9-4c3d-917e-e2205c905b34\").text(\"BokehJS successfully loaded\");\n",
       "    },\n",
       "    function(Bokeh) {\n",
       "      console.log(\"Bokeh: injecting CSS: https://cdn.pydata.org/bokeh/release/bokeh-0.12.0.min.css\");\n",
       "      Bokeh.embed.inject_css(\"https://cdn.pydata.org/bokeh/release/bokeh-0.12.0.min.css\");\n",
       "      console.log(\"Bokeh: injecting CSS: https://cdn.pydata.org/bokeh/release/bokeh-widgets-0.12.0.min.css\");\n",
       "      Bokeh.embed.inject_css(\"https://cdn.pydata.org/bokeh/release/bokeh-widgets-0.12.0.min.css\");\n",
       "    }\n",
       "  ];\n",
       "\n",
       "  function run_inline_js() {\n",
       "    for (var i = 0; i < inline_js.length; i++) {\n",
       "      inline_js[i](window.Bokeh);\n",
       "    }\n",
       "  }\n",
       "\n",
       "  if (window._bokeh_is_loading === 0) {\n",
       "    console.log(\"Bokeh: BokehJS loaded, going straight to plotting\");\n",
       "    run_inline_js();\n",
       "  } else {\n",
       "    load_libs(js_urls, function() {\n",
       "      console.log(\"Bokeh: BokehJS plotting callback run at\", now());\n",
       "      run_inline_js();\n",
       "    });\n",
       "  }\n",
       "}(this));"
      ]
     },
     "metadata": {},
     "output_type": "display_data"
    }
   ],
   "source": [
    "from __future__ import print_function, division\n",
    "%run basics.ipynb"
   ]
  },
  {
   "cell_type": "code",
   "execution_count": 3,
   "metadata": {
    "collapsed": false,
    "nbpresent": {
     "id": "01895500-9dda-4ea8-9ff8-03888edd8519"
    }
   },
   "outputs": [
    {
     "data": {
      "text/html": [
       "<div>\n",
       "<table border=\"1\" class=\"dataframe\">\n",
       "  <thead>\n",
       "    <tr style=\"text-align: right;\">\n",
       "      <th></th>\n",
       "      <th>title</th>\n",
       "      <th>homepage</th>\n",
       "      <th>subtitle</th>\n",
       "      <th>level</th>\n",
       "      <th>starter</th>\n",
       "      <th>image</th>\n",
       "      <th>banner_image</th>\n",
       "      <th>teaser_video</th>\n",
       "      <th>summary</th>\n",
       "      <th>short_summary</th>\n",
       "      <th>required_knowledge</th>\n",
       "      <th>expected_learning</th>\n",
       "      <th>featured</th>\n",
       "      <th>syllabus</th>\n",
       "      <th>faq</th>\n",
       "      <th>full_course_available</th>\n",
       "      <th>expected_duration</th>\n",
       "      <th>expected_duration_unit</th>\n",
       "      <th>new_release</th>\n",
       "    </tr>\n",
       "    <tr>\n",
       "      <th>id</th>\n",
       "      <th></th>\n",
       "      <th></th>\n",
       "      <th></th>\n",
       "      <th></th>\n",
       "      <th></th>\n",
       "      <th></th>\n",
       "      <th></th>\n",
       "      <th></th>\n",
       "      <th></th>\n",
       "      <th></th>\n",
       "      <th></th>\n",
       "      <th></th>\n",
       "      <th></th>\n",
       "      <th></th>\n",
       "      <th></th>\n",
       "      <th></th>\n",
       "      <th></th>\n",
       "      <th></th>\n",
       "      <th></th>\n",
       "    </tr>\n",
       "  </thead>\n",
       "  <tbody>\n",
       "    <tr>\n",
       "      <th>bio110</th>\n",
       "      <td>Tales from the Genome</td>\n",
       "      <td>https://www.udacity.com/course/tales-from-the-...</td>\n",
       "      <td>Introduction to Genetics for Beginners</td>\n",
       "      <td>beginner</td>\n",
       "      <td>False</td>\n",
       "      <td>https://lh5.ggpht.com/Fh07_XbT61CGDWsQoOMQaIeH...</td>\n",
       "      <td>https://lh4.ggpht.com/_AHqr0EXcLBzF0rrwtBagE0t...</td>\n",
       "      <td>https://www.youtube.com/watch?v=sEXrjh-tme8</td>\n",
       "      <td>This course is a journey into the biology of t...</td>\n",
       "      <td>Learn the basics of genetics, with a personal ...</td>\n",
       "      <td>No previous experience in genetics is necessar...</td>\n",
       "      <td>You will learn about fundamental principles of...</td>\n",
       "      <td>False</td>\n",
       "      <td>## Lesson 1: Introduction to traits and heredi...</td>\n",
       "      <td>NaN</td>\n",
       "      <td>False</td>\n",
       "      <td>3</td>\n",
       "      <td>months</td>\n",
       "      <td>False</td>\n",
       "    </tr>\n",
       "    <tr>\n",
       "      <th>cs046</th>\n",
       "      <td>Intro to Java Programming</td>\n",
       "      <td>https://www.udacity.com/course/intro-to-java-p...</td>\n",
       "      <td>Building Programs with Classes &amp; Objects</td>\n",
       "      <td>beginner</td>\n",
       "      <td>False</td>\n",
       "      <td>https://lh4.ggpht.com/9ytiUdz0QYHwuMJFTXcNXZn4...</td>\n",
       "      <td>https://lh3.ggpht.com/AdAALPYhCsWuIvDl0ZY6zIW2...</td>\n",
       "      <td>https://www.youtube.com/watch?v=Wsp5Rrenoq4</td>\n",
       "      <td>In this introductory course, you'll learn and ...</td>\n",
       "      <td>Learn essential computer science and object-or...</td>\n",
       "      <td>No prior programming experience and knowledge ...</td>\n",
       "      <td>Java is one of the most popular programming la...</td>\n",
       "      <td>False</td>\n",
       "      <td>### Lesson 1: Introduction to Computers, Progr...</td>\n",
       "      <td>NaN</td>\n",
       "      <td>True</td>\n",
       "      <td>4</td>\n",
       "      <td>months</td>\n",
       "      <td>False</td>\n",
       "    </tr>\n",
       "  </tbody>\n",
       "</table>\n",
       "</div>"
      ],
      "text/plain": [
       "                            title  \\\n",
       "id                                  \n",
       "bio110      Tales from the Genome   \n",
       "cs046   Intro to Java Programming   \n",
       "\n",
       "                                                 homepage  \\\n",
       "id                                                          \n",
       "bio110  https://www.udacity.com/course/tales-from-the-...   \n",
       "cs046   https://www.udacity.com/course/intro-to-java-p...   \n",
       "\n",
       "                                        subtitle     level starter  \\\n",
       "id                                                                   \n",
       "bio110    Introduction to Genetics for Beginners  beginner   False   \n",
       "cs046   Building Programs with Classes & Objects  beginner   False   \n",
       "\n",
       "                                                    image  \\\n",
       "id                                                          \n",
       "bio110  https://lh5.ggpht.com/Fh07_XbT61CGDWsQoOMQaIeH...   \n",
       "cs046   https://lh4.ggpht.com/9ytiUdz0QYHwuMJFTXcNXZn4...   \n",
       "\n",
       "                                             banner_image  \\\n",
       "id                                                          \n",
       "bio110  https://lh4.ggpht.com/_AHqr0EXcLBzF0rrwtBagE0t...   \n",
       "cs046   https://lh3.ggpht.com/AdAALPYhCsWuIvDl0ZY6zIW2...   \n",
       "\n",
       "                                       teaser_video  \\\n",
       "id                                                    \n",
       "bio110  https://www.youtube.com/watch?v=sEXrjh-tme8   \n",
       "cs046   https://www.youtube.com/watch?v=Wsp5Rrenoq4   \n",
       "\n",
       "                                                  summary  \\\n",
       "id                                                          \n",
       "bio110  This course is a journey into the biology of t...   \n",
       "cs046   In this introductory course, you'll learn and ...   \n",
       "\n",
       "                                            short_summary  \\\n",
       "id                                                          \n",
       "bio110  Learn the basics of genetics, with a personal ...   \n",
       "cs046   Learn essential computer science and object-or...   \n",
       "\n",
       "                                       required_knowledge  \\\n",
       "id                                                          \n",
       "bio110  No previous experience in genetics is necessar...   \n",
       "cs046   No prior programming experience and knowledge ...   \n",
       "\n",
       "                                        expected_learning featured  \\\n",
       "id                                                                   \n",
       "bio110  You will learn about fundamental principles of...    False   \n",
       "cs046   Java is one of the most popular programming la...    False   \n",
       "\n",
       "                                                 syllabus  faq  \\\n",
       "id                                                               \n",
       "bio110  ## Lesson 1: Introduction to traits and heredi...  NaN   \n",
       "cs046   ### Lesson 1: Introduction to Computers, Progr...  NaN   \n",
       "\n",
       "       full_course_available  expected_duration expected_duration_unit  \\\n",
       "id                                                                       \n",
       "bio110                 False                  3                 months   \n",
       "cs046                   True                  4                 months   \n",
       "\n",
       "       new_release  \n",
       "id                  \n",
       "bio110       False  \n",
       "cs046        False  "
      ]
     },
     "execution_count": 3,
     "metadata": {},
     "output_type": "execute_result"
    }
   ],
   "source": [
    "df = pd.read_pickle('clf.df')\n",
    "course_desc = pd.read_csv('udacity_courses.csv', index_col='id')\n",
    "course_desc.head(2)"
   ]
  },
  {
   "cell_type": "code",
   "execution_count": 4,
   "metadata": {
    "collapsed": false,
    "nbpresent": {
     "id": "bdbd319d-667a-4762-ad2d-f7d01243c01d"
    }
   },
   "outputs": [
    {
     "name": "stdout",
     "output_type": "stream",
     "text": [
      "Index([u'idx', u'jdx', u'vec-diff', u'cos-sim', u'euc-dist', u'man-dist',\n",
      "       u'bin_diff', u'max_diff', u'mean_diff', u'median_diff', u'v1_max',\n",
      "       u'v2_max', u'v1_min', u'v2_min', u'v1_mean', u'v2_mean', u'v1_median',\n",
      "       u'v2_median', u'v1_count', u'v2_count', u'v1_n_chars', u'v1_n_words',\n",
      "       u'v2_n_chars', u'v2_n_words', u'v1_flesch', u'v2_flesch', u'v1_depth',\n",
      "       u'v2_depth', u'depth_diff', u'v1', u'v2', u'title->title',\n",
      "       u'title->transcript', u'title->summary', u'transcript->title',\n",
      "       u'transcript->transcript', u'transcript->summary', u'summary->title',\n",
      "       u'summary->transcript', u'summary->summary', u'c1', u'c2', u'c_id',\n",
      "       u'prereq_id', u'ground-truth'],\n",
      "      dtype='object')\n",
      "16641\n"
     ]
    },
    {
     "data": {
      "text/html": [
       "<div>\n",
       "<table border=\"1\" class=\"dataframe\">\n",
       "  <thead>\n",
       "    <tr style=\"text-align: right;\">\n",
       "      <th></th>\n",
       "      <th>idx</th>\n",
       "      <th>jdx</th>\n",
       "      <th>vec-diff</th>\n",
       "      <th>cos-sim</th>\n",
       "      <th>euc-dist</th>\n",
       "      <th>man-dist</th>\n",
       "      <th>bin_diff</th>\n",
       "      <th>max_diff</th>\n",
       "      <th>mean_diff</th>\n",
       "      <th>median_diff</th>\n",
       "      <th>...</th>\n",
       "      <th>transcript-&gt;transcript</th>\n",
       "      <th>transcript-&gt;summary</th>\n",
       "      <th>summary-&gt;title</th>\n",
       "      <th>summary-&gt;transcript</th>\n",
       "      <th>summary-&gt;summary</th>\n",
       "      <th>c1</th>\n",
       "      <th>c2</th>\n",
       "      <th>c_id</th>\n",
       "      <th>prereq_id</th>\n",
       "      <th>ground-truth</th>\n",
       "    </tr>\n",
       "  </thead>\n",
       "  <tbody>\n",
       "    <tr>\n",
       "      <th>8696</th>\n",
       "      <td>67</td>\n",
       "      <td>53</td>\n",
       "      <td>1.657688</td>\n",
       "      <td>0.10348</td>\n",
       "      <td>1.339044</td>\n",
       "      <td>33.780440</td>\n",
       "      <td>29</td>\n",
       "      <td>0.602820</td>\n",
       "      <td>-0.002963</td>\n",
       "      <td>0.0</td>\n",
       "      <td>...</td>\n",
       "      <td>0</td>\n",
       "      <td>129</td>\n",
       "      <td>2</td>\n",
       "      <td>0</td>\n",
       "      <td>58</td>\n",
       "      <td>data visualization and js</td>\n",
       "      <td>intro to html and css</td>\n",
       "      <td>ud507</td>\n",
       "      <td>ud304</td>\n",
       "      <td>True</td>\n",
       "    </tr>\n",
       "    <tr>\n",
       "      <th>11534</th>\n",
       "      <td>89</td>\n",
       "      <td>53</td>\n",
       "      <td>1.655318</td>\n",
       "      <td>0.07399</td>\n",
       "      <td>1.360890</td>\n",
       "      <td>24.182832</td>\n",
       "      <td>29</td>\n",
       "      <td>0.649549</td>\n",
       "      <td>-0.001866</td>\n",
       "      <td>0.0</td>\n",
       "      <td>...</td>\n",
       "      <td>0</td>\n",
       "      <td>113</td>\n",
       "      <td>2</td>\n",
       "      <td>0</td>\n",
       "      <td>58</td>\n",
       "      <td>javascript basics</td>\n",
       "      <td>intro to html and css</td>\n",
       "      <td>ud804</td>\n",
       "      <td>ud304</td>\n",
       "      <td>False</td>\n",
       "    </tr>\n",
       "  </tbody>\n",
       "</table>\n",
       "<p>2 rows × 45 columns</p>\n",
       "</div>"
      ],
      "text/plain": [
       "       idx  jdx  vec-diff  cos-sim  euc-dist   man-dist  bin_diff  max_diff  \\\n",
       "8696    67   53  1.657688  0.10348  1.339044  33.780440        29  0.602820   \n",
       "11534   89   53  1.655318  0.07399  1.360890  24.182832        29  0.649549   \n",
       "\n",
       "       mean_diff  median_diff      ...       transcript->transcript  \\\n",
       "8696   -0.002963          0.0      ...                            0   \n",
       "11534  -0.001866          0.0      ...                            0   \n",
       "\n",
       "       transcript->summary  summary->title  summary->transcript  \\\n",
       "8696                   129               2                    0   \n",
       "11534                  113               2                    0   \n",
       "\n",
       "       summary->summary                         c1                     c2  \\\n",
       "8696                 58  data visualization and js  intro to html and css   \n",
       "11534                58          javascript basics  intro to html and css   \n",
       "\n",
       "        c_id  prereq_id  ground-truth  \n",
       "8696   ud507      ud304          True  \n",
       "11534  ud804      ud304         False  \n",
       "\n",
       "[2 rows x 45 columns]"
      ]
     },
     "execution_count": 4,
     "metadata": {},
     "output_type": "execute_result"
    }
   ],
   "source": [
    "print(df.columns)\n",
    "print(len(df))\n",
    "df.head(2)"
   ]
  },
  {
   "cell_type": "code",
   "execution_count": 5,
   "metadata": {
    "collapsed": false,
    "nbpresent": {
     "id": "38bb241d-cda8-4ec3-8e12-83a9e1fd9aa1"
    }
   },
   "outputs": [
    {
     "data": {
      "text/plain": [
       "Index([u'idx', u'jdx', u'vec-diff', u'cos-sim', u'euc-dist', u'man-dist',\n",
       "       u'bin_diff', u'max_diff', u'mean_diff', u'median_diff', u'v1_max',\n",
       "       u'v2_max', u'v1_min', u'v2_min', u'v1_mean', u'v2_mean', u'v1_median',\n",
       "       u'v2_median', u'v1_count', u'v2_count', u'v1_n_chars', u'v1_n_words',\n",
       "       u'v2_n_chars', u'v2_n_words', u'v1_flesch', u'v2_flesch', u'v1_depth',\n",
       "       u'v2_depth', u'depth_diff', u'v1', u'v2', u'title->title',\n",
       "       u'title->transcript', u'title->summary', u'transcript->title',\n",
       "       u'transcript->transcript', u'transcript->summary', u'summary->title',\n",
       "       u'summary->transcript', u'summary->summary', u'c1', u'c2', u'c_id',\n",
       "       u'prereq_id', u'ground-truth'],\n",
       "      dtype='object')"
      ]
     },
     "execution_count": 5,
     "metadata": {},
     "output_type": "execute_result"
    }
   ],
   "source": [
    "df = df[df['idx'] != df['jdx']]\n",
    "df.columns"
   ]
  },
  {
   "cell_type": "code",
   "execution_count": 8,
   "metadata": {
    "collapsed": false,
    "nbpresent": {
     "id": "b78cb4db-98e1-4154-b541-bb680a31b64b"
    }
   },
   "outputs": [
    {
     "name": "stdout",
     "output_type": "stream",
     "text": [
      "[u'vec-diff', u'cos-sim', u'euc-dist', u'man-dist', u'bin_diff', u'max_diff', u'mean_diff', u'median_diff', u'v1_max', u'v2_max', u'v1_min', u'v2_min', u'v1_mean', u'v2_mean', u'v1_median', u'v2_median', u'v1_count', u'v2_count', u'v1_n_chars', u'v1_n_words', u'v2_n_chars', u'v2_n_words', u'v1_flesch', u'v2_flesch', u'title->title', u'title->transcript', u'title->summary', u'transcript->title', u'transcript->transcript', u'transcript->summary', u'summary->title', u'summary->transcript', u'summary->summary', 'v1_depth', 'v2_depth', 'depth_diff']\n",
      "ground-truth\n",
      "('unused:', set(['c_id', 'idx', 'prereq_id', 'v1', 'v2', 'jdx', 'w', 'c2', 'c1']))\n"
     ]
    }
   ],
   "source": [
    "features = [u'vec-diff', u'cos-sim', u'euc-dist', u'man-dist',\n",
    "       u'bin_diff', u'max_diff', u'mean_diff', u'median_diff', u'v1_max',\n",
    "       u'v2_max', u'v1_min', u'v2_min', u'v1_mean', u'v2_mean', u'v1_median',\n",
    "       u'v2_median', u'v1_count', u'v2_count', u'v1_n_chars', u'v1_n_words',\n",
    "       u'v2_n_chars', u'v2_n_words', u'v1_flesch', u'v2_flesch',\n",
    "       u'title->title', u'title->transcript', u'title->summary',\n",
    "       u'transcript->title', u'transcript->transcript', u'transcript->summary',\n",
    "       u'summary->title', u'summary->transcript', u'summary->summary', 'v1_depth', 'v2_depth', 'depth_diff']\n",
    "target = 'ground-truth'\n",
    "print(features)\n",
    "print(target)\n",
    "print('unused:', set(df.columns) - set(features) - set([target]))"
   ]
  },
  {
   "cell_type": "code",
   "execution_count": 10,
   "metadata": {
    "collapsed": false,
    "nbpresent": {
     "id": "ae955a44-0cb0-467f-82b2-3282f20ebdbe"
    }
   },
   "outputs": [],
   "source": [
    "df['w'] = gen_weights(df[target])"
   ]
  },
  {
   "cell_type": "code",
   "execution_count": 11,
   "metadata": {
    "collapsed": false,
    "nbpresent": {
     "id": "d821300a-d627-4910-b42d-e655256d2eae"
    }
   },
   "outputs": [],
   "source": [
    "from sklearn.grid_search import GridSearchCV"
   ]
  },
  {
   "cell_type": "code",
   "execution_count": 12,
   "metadata": {
    "collapsed": true,
    "nbpresent": {
     "id": "6727879b-c008-4a82-99d4-e9d4a26d2a33"
    }
   },
   "outputs": [],
   "source": [
    "def filter_false_pos(df, y_true, y_pred, pred_th = .5):\n",
    "    r = df.copy()\n",
    "    r['y_true'] = y_true\n",
    "    r['y_pred'] = y_pred\n",
    "    r = r[(r['y_true'] != (r['y_pred'] > pred_th)) & (r['y_true'] == 0)]\n",
    "    return r"
   ]
  },
  {
   "cell_type": "code",
   "execution_count": 15,
   "metadata": {
    "collapsed": false,
    "nbpresent": {
     "id": "fa9d6c2a-493d-4a90-9b11-08f324552b2a"
    }
   },
   "outputs": [],
   "source": [
    "train_test_split = list(StratifiedKFold(df[target], n_folds=10))"
   ]
  },
  {
   "cell_type": "code",
   "execution_count": 16,
   "metadata": {
    "collapsed": false,
    "nbpresent": {
     "id": "04a1f1e4-17bd-44a0-bba2-ec75ec47a6bc"
    }
   },
   "outputs": [
    {
     "name": "stderr",
     "output_type": "stream",
     "text": [
      "100%|██████████| 10/10 [00:09<00:00,  1.07it/s]\n"
     ]
    },
    {
     "data": {
      "image/png": "[encoded data removed]",
      "text/plain": [
       "<matplotlib.figure.Figure at 0x7fb0a95e8910>"
      ]
     },
     "metadata": {},
     "output_type": "display_data"
    },
    {
     "data": {
      "image/png": "[encoded data removed]",
      "text/plain": [
       "<matplotlib.figure.Figure at 0x7fb0a8b758d0>"
      ]
     },
     "metadata": {},
     "output_type": "display_data"
    },
    {
     "name": "stdout",
     "output_type": "stream",
     "text": [
      "fit and predict on whole training data\n",
      "('precission:', 0.0)\n",
      "('recall:', 0.0)\n",
      "('f1:', 0.0)\n",
      "done\n"
     ]
    }
   ],
   "source": [
    "r = list()\n",
    "fi = list()\n",
    "false_pos = list()\n",
    "pred_th = .9\n",
    "\n",
    "def get_rf():\n",
    "    return RandomForestClassifier(n_estimators=20,\n",
    "                                  max_depth = 10,\n",
    "                                  bootstrap = False,\n",
    "                                  min_samples_leaf = 5, \n",
    "                                  n_jobs=16,\n",
    "                                  random_state=2016)\n",
    "\n",
    "for train_idx, test_idx in tqdm(train_test_split):\n",
    "    train = df.iloc[train_idx].copy()\n",
    "    test = df.iloc[test_idx].copy()\n",
    "    \n",
    "    scaler = RobustScaler()\n",
    "    train[features] = scaler.fit_transform(train[features])\n",
    "    test[features] = scaler.transform(test[features])\n",
    "    \n",
    "    clf = get_rf()\n",
    "    #print(train[features])\n",
    "    clf.fit(train[features], train[target], train['w'].values)\n",
    "    \n",
    "    true_class_idx = list(filter(lambda x: x[1] > 0, enumerate(clf.classes_)))[0][0]\n",
    "    #print('class idx', clf.classes_, true_class_idx)\n",
    "    \n",
    "    train_pred = clf.predict_proba(train[features])[:, true_class_idx]\n",
    "    train_true = train[target]\n",
    "    test_pred = clf.predict_proba(test[features])[:, true_class_idx]\n",
    "    test_true = test[target]\n",
    "    train_w = train['w']\n",
    "    test_w = test['w']\n",
    "    train_w = None\n",
    "    test_w = None\n",
    "    r.append(('train precision', precision_score(train_true, train_pred > pred_th, sample_weight=train_w)))\n",
    "    r.append(('test precision', precision_score(test_true, test_pred > pred_th, sample_weight=test_w)))\n",
    "    r.append(('train recall', recall_score(train_true, train_pred > pred_th, sample_weight=train_w)))\n",
    "    r.append(('test recall', recall_score(test_true, test_pred > pred_th, sample_weight=test_w)))\n",
    "    r.append(('train f1', f1_score(train_true, train_pred > pred_th, sample_weight=train_w)))\n",
    "    r.append(('test f1', f1_score(test_true, test_pred > pred_th, sample_weight=test_w)))\n",
    "    r.append(('train roc-auc', roc_auc_score(train_true, train_pred, sample_weight=train_w)))\n",
    "    r.append(('test roc-auc', roc_auc_score(test_true, test_pred, sample_weight=test_w)))\n",
    "    false_pos.append(('train', filter_false_pos(train, train_true, train_pred, pred_th = pred_th)))\n",
    "    false_pos.append(('test', filter_false_pos(test, test_true, test_pred, pred_th = pred_th)))\n",
    "    \n",
    "    fi.append(zip(clf.feature_importances_, features))\n",
    "fi = [j for i in fi for j in i]\n",
    "fi = pd.DataFrame(columns=['feature importance', 'feature name'], \n",
    "             data=fi)\n",
    "order = list(fi.groupby(by='feature name').mean().sort_values(by='feature importance', ascending=False).index)\n",
    "sns.barplot(x='feature name', y='feature importance', data=fi, order=order)\n",
    "plt.xticks(rotation=90)\n",
    "plt.show()\n",
    "r = pd.DataFrame(columns=['type', 'value'], data=r)\n",
    "sns.barplot(x='type', y='value', data=r)\n",
    "plt.xticks(rotation=90)\n",
    "plt.ylim([0.,1.])\n",
    "plt.show()\n",
    "print('fit and predict on whole training data')\n",
    "clf = get_rf()\n",
    "clf.fit(df[features], df[target], df['w'].values)\n",
    "true_class_idx = list(filter(lambda x: x[1] > 0, enumerate(clf.classes_)))[0][0]\n",
    "df['rf_pred'] = clf.predict_proba(df[features])[:, true_class_idx]\n",
    "print('precission:', precision_score(df[target], df['rf_pred'] > pred_th))\n",
    "print('recall:', recall_score(df[target], df['rf_pred'] > pred_th))\n",
    "print('f1:', f1_score(df[target], df['rf_pred'] > pred_th))\n",
    "if not os.path.isdir('models'):\n",
    "    os.makedirs('models')\n",
    "joblib.dump(clf, 'models/random_forest.clf')\n",
    "print('done')"
   ]
  },
  {
   "cell_type": "code",
   "execution_count": 40,
   "metadata": {
    "collapsed": false,
    "nbpresent": {
     "id": "23ebce12-cb00-440b-b7bb-a7777871447f"
    }
   },
   "outputs": [],
   "source": [
    "train_false_pos = pd.concat(zip(*list(filter(lambda x: x[0] == 'train', false_pos)))[1])\n",
    "test_false_pos = pd.concat(zip(*list(filter(lambda x: x[0] == 'test', false_pos)))[1])"
   ]
  },
  {
   "cell_type": "code",
   "execution_count": 41,
   "metadata": {
    "collapsed": false,
    "nbpresent": {
     "id": "543d7459-3784-4752-8f68-902ebddd9fea"
    }
   },
   "outputs": [
    {
     "name": "stdout",
     "output_type": "stream",
     "text": [
      "possible new true prereq: 37\n",
      "ab testing\n",
      "\t intro to computer science\n",
      "add google maps to your android app\n",
      "\t programming foundations with python\n",
      "android auto development\n",
      "\t programming foundations with python\n",
      "android performance\n",
      "\t advanced android app development\n",
      "android tv and google cast development\n",
      "\t intro to computer science\n",
      "\t advanced android app development\n",
      "android wear development\n",
      "\t intro to computer science\n",
      "\t advanced android app development\n",
      "app monetization\n",
      "\t linux command line basics\n",
      "building high conversion web forms\n",
      "\t how to use git and github\n",
      "computational photography\n",
      "\t intro to computer science\n",
      "d game development with libgdx\n",
      "\t intro to computer science\n",
      "\t linux command line basics\n",
      "\t advanced android app development\n",
      "\t how to use git and github\n",
      "\t android development for beginners\n",
      "deep learning\n",
      "\t how to use git and github\n",
      "designing restful apis\n",
      "\t programming foundations with python\n",
      "\t how to use git and github\n",
      "firebase essentials for android\n",
      "\t android development for beginners\n",
      "full stack foundations\n",
      "\t programming foundations with python\n",
      "\t how to use git and github\n",
      "google analytics for android\n",
      "\t programming foundations with python\n",
      "\t intro to computer science\n",
      "google location services on android\n",
      "\t programming foundations with python\n",
      "html game development\n",
      "\t intro to computer science\n",
      "intro to data science\n",
      "\t programming foundations with python\n",
      "intro to devops\n",
      "\t programming foundations with python\n",
      "intro to ios app development with swift\n",
      "\t intro to java programming\n",
      "\t how to use git and github\n",
      "\t android development for beginners\n",
      "intro to jquery\n",
      "\t how to use git and github\n",
      "intro to machine learning\n",
      "\t intro to java programming\n",
      "intro to relational databases\n",
      "\t intro to computer science\n",
      "linear algebra refresher course\n",
      "\t programming foundations with python\n",
      "linux command line basics\n",
      "\t intro to computer science\n",
      "\t how to use git and github\n",
      "make your own \n",
      "\t programming foundations with python\n",
      "\t javascript basics\n",
      "monetize your android app with ads\n",
      "\t programming foundations with python\n",
      "networking for web developers\n",
      "\t configuring linux web servers\n",
      "objectoriented javascript\n",
      "\t intro to java programming\n",
      "offline web applications\n",
      "\t linux command line basics\n",
      "\t how to use git and github\n",
      "responsive images\n",
      "\t programming foundations with python\n",
      "\t how to use git and github\n",
      "scalable microservices with kubernetes\n",
      "\t intro to html and css\n",
      "software debugging\n",
      "\t intro to java programming\n",
      "\t intro to computer science\n",
      "technical interview\n",
      "\t programming foundations with python\n",
      "\t intro to java programming\n",
      "\t linux command line basics\n",
      "\t how to use git and github\n",
      "uikit fundamentals\n",
      "\t programming foundations with python\n",
      "web tooling  automation\n",
      "\t intro to java programming\n",
      "website performance optimization\n",
      "\t intro to java programming\n",
      "\t intro to computer science\n"
     ]
    }
   ],
   "source": [
    "train_false_pos = pd.DataFrame(train_false_pos.sort_values(by='y_pred', ascending=False)[['c1', 'c2', 'y_pred']].groupby(by='c1').apply(lambda x: set(x['c2'])))\n",
    "print('possible new true prereq:', len(train_false_pos))\n",
    "for c1, c2 in train_false_pos.iterrows():\n",
    "    print(c1)\n",
    "    for i in c2[0]:\n",
    "        print('\\t', i)"
   ]
  },
  {
   "cell_type": "code",
   "execution_count": 26,
   "metadata": {
    "collapsed": false,
    "nbpresent": {
     "id": "b1bcd7bb-c936-4e1f-a301-23911c9bbc8e"
    },
    "scrolled": false
   },
   "outputs": [
    {
     "name": "stdout",
     "output_type": "stream",
     "text": [
      "android performance\n",
      "\t advanced android app development\n",
      "android tv and google cast development\n",
      "\t advanced android app development\n",
      "android wear development\n",
      "\t advanced android app development\n",
      "building high conversion web forms\n",
      "\t how to use git and github\n",
      "d game development with libgdx\n",
      "\t linux command line basics\n",
      "\t advanced android app development\n",
      "\t how to use git and github\n",
      "intro to information security\n",
      "\t programming foundations with python\n",
      "intro to ios app development with swift\n",
      "\t how to use git and github\n",
      "make your own \n",
      "\t intro to html and css\n"
     ]
    }
   ],
   "source": [
    "test_false_pos = pd.DataFrame(test_false_pos.sort_values(by='y_pred', ascending=False)[['c1', 'c2', 'y_pred']].groupby(by='c1').apply(lambda x: set(x['c2'])))\n",
    "for c1, c2 in test_false_pos.iterrows():\n",
    "    print(c1)\n",
    "    for i in c2[0]:\n",
    "        print('\\t', i)"
   ]
  },
  {
   "cell_type": "code",
   "execution_count": 27,
   "metadata": {
    "collapsed": false,
    "nbpresent": {
     "id": "fa3c763a-f0c6-461e-ba03-941db037c467"
    },
    "scrolled": true
   },
   "outputs": [
    {
     "name": "stdout",
     "output_type": "stream",
     "text": [
      "================================================================================\n",
      "\u001b[34mandroid performance\u001b[0m\n",
      "If you’ve ever hit performance issues that affect your app’s usability, this course will teach you how to identify and diagnose your performance problems. By the end of this course, you’ll be able to perform exploratory tests, run profiling tools, use outputs to navigate to problematic code, and design a plan of attack to mitigate poor performance. You’ll also gain a higher level of understanding about how program code and the Android platform interact, which will help you optimize for performance in the future.\n",
      "********************************************************************************\n",
      "To get the most from this course, you should have experience developing apps in Java on Android devices, understand the basics of the Android life cycle, and know how to perform basic operations in a terminal.    \n",
      "\n",
      "You also need access to an Android device, and working knowledge of Github, in order to follow along with the exercises. \n",
      "\n",
      "If you’ve never developed a working Android app, check out our <a href=\"http://www.udacity.com/course/ud853\" target=\"_blank\">Developing Android Apps</a> course before taking this one.\n",
      "\n",
      "If you're unfamiliar with Github, check out our course on <a href=\"http://www.udacity.com/course/ud775\" target=\"_blank\">How to Use Git and Github</a>.\n",
      "--------------------------------------------------------------------------------\n",
      "\t \u001b[31madvanced android app development\u001b[0m \t 0.915683943557\n",
      "This course will guide you through the process of productionizing an app, using Sunshine, the weather app we built in <a href=\"https://www.udacity.com/course/ud853\" target=\"_blank\">Developing Android Apps</a>. Following Android's <a href=\"http://developer.android.com/distribute/essentials/quality/core.html\" target=\"_blank\">Core App Quality Guidelines</a>, we'll identify the production criteria that still needs to be implemented, then tackle each problem until Sunshine is ready to publish on the Google Play Store. In the process, we'll introduce you to a host of tools and concepts, including: material design approaches, image-handling, performance profiling, and more!\n",
      "================================================================================\n",
      "\u001b[34mandroid tv and google cast development\u001b[0m\n",
      "Go where your users are: the living room! With Google Cast and Android TV, you can add a big screen and cinematic experience to your app. This course shows you how to extend your existing Android app to work on Android TV and Google Cast. You can take advantage of both technologies without having to rewrite your app.\n",
      "\n",
      "This course is part of the Ubiquitous Computing series. Designed as standalone short courses, you can take any course on its own, or take them all!\n",
      "\n",
      "* <a href=\"https://www.udacity.com/course/android-wear-development--ud875A\" target=\"_blank\">Android Wear Development</a>\n",
      "* **Android TV and Google Cast Development** [this course]\n",
      "* <a href=\"https://www.udacity.com/course/android-auto-development--ud875C\" target=\"_blank\">Android Auto Development</a>\n",
      "********************************************************************************\n",
      "To get the most out of this course, you should have prior experience developing Android apps. If you lack this experience, please take <a href=\"https://www.udacity.com/course/ud853\" target=\"_blank\">Developing Android Apps</a> prior to enrolling in this one.\n",
      "\n",
      "To follow along with course activities, you **must** have access to the latest release of <a href=\"https://developer.android.com/sdk/index.html\" target=\"_blank\">Android Studio</a>.  \n",
      "\n",
      "We share code through Github, so you must be familiar with using Github to access code. Take our course on <a href=\"https://www.udacity.com/course/how-to-use-git-and-github--ud775\" target=\"_blank\">Using Git and Github</a> if you lack this background.\n",
      "--------------------------------------------------------------------------------\n",
      "\t \u001b[31madvanced android app development\u001b[0m \t 0.967419192762\n",
      "This course will guide you through the process of productionizing an app, using Sunshine, the weather app we built in <a href=\"https://www.udacity.com/course/ud853\" target=\"_blank\">Developing Android Apps</a>. Following Android's <a href=\"http://developer.android.com/distribute/essentials/quality/core.html\" target=\"_blank\">Core App Quality Guidelines</a>, we'll identify the production criteria that still needs to be implemented, then tackle each problem until Sunshine is ready to publish on the Google Play Store. In the process, we'll introduce you to a host of tools and concepts, including: material design approaches, image-handling, performance profiling, and more!\n",
      "================================================================================\n",
      "\u001b[34mandroid wear development\u001b[0m\n",
      "Extending your app to Android Wear smart watches allows you to reach your users wherever and whenever they'd want or need your app. As you'll learn in this course, you can take your existing Android development experience and apply it to developing for Android Wear. This course will take you through getting started, application structure, and information sharing between the wearable and the companion phone or the cloud. We'll also give you the knowledge necessary for designing great user experiences for wearables including how to take advantage of the always-on display of Android Wear devices.\n",
      "\n",
      "This course is part of the Ubiquitous Computing series. Designed as standalone short courses, you can take any course on its own, or take them all!\n",
      "\n",
      "* **Android Wear Development** [this course]\n",
      "* <a href=\"https://www.udacity.com/course/android-tv-and-google-cast-development--ud875B\" target=\"_blank\">Android TV and Google Cast Development</a>\n",
      "* <a href=\"https://www.udacity.com/course/android-auto-development--ud875C\" target=\"_blank\">Android Auto Development</a>\n",
      "********************************************************************************\n",
      "To get the most out of this course, you should have prior experience developing Android apps. If you lack this experience, please take <a href=\"https://www.udacity.com/course/ud853\" target=\"_blank\">Developing Android Apps</a> prior to enrolling in this one.\n",
      "\n",
      "To follow along with course activities, you **must** have access to the latest release of <a href=\"https://developer.android.com/sdk/index.html\" target=\"_blank\">Android Studio</a>.  \n",
      "\n",
      "We share code through Github, so you must be familiar with using Github to access code. Take our course on <a href=\"https://www.udacity.com/course/how-to-use-git-and-github--ud775\" target=\"_blank\">Using Git and Github</a> if you lack this background.\n",
      "--------------------------------------------------------------------------------\n",
      "\t \u001b[31madvanced android app development\u001b[0m \t 0.916995916214\n",
      "This course will guide you through the process of productionizing an app, using Sunshine, the weather app we built in <a href=\"https://www.udacity.com/course/ud853\" target=\"_blank\">Developing Android Apps</a>. Following Android's <a href=\"http://developer.android.com/distribute/essentials/quality/core.html\" target=\"_blank\">Core App Quality Guidelines</a>, we'll identify the production criteria that still needs to be implemented, then tackle each problem until Sunshine is ready to publish on the Google Play Store. In the process, we'll introduce you to a host of tools and concepts, including: material design approaches, image-handling, performance profiling, and more!\n",
      "================================================================================\n",
      "\u001b[34mintro to information security\u001b[0m\n",
      "This course provides a one-semester overview of information security. It is designed to help students with\n",
      "prior computer and programming knowledge — both undergraduate and graduate — understand this important\n",
      "priority in society today. The technical content of the course gives a broad overview of essential concepts and\n",
      "methods for providing and evaluating security in information processing systems (operating systems and\n",
      "applications, networks, protocols, and so on). \n",
      "\n",
      "In addition to its technical content, the course touches on the\n",
      "importance of management and administration, the place information security holds in overall business risk,\n",
      "social issues such as individual privacy, and the role of public policy.\n",
      "********************************************************************************\n",
      "nan\n",
      "--------------------------------------------------------------------------------\n",
      "\t \u001b[31mprogramming foundations with python\u001b[0m \t 0.918025040539\n",
      "In this introductory programming class, you’ll learn Object-Oriented Programming, a must-have technique for software engineers that will allow you to reuse and share code easily. You’ll learn by doing, and will build byte-sized (ha!) mini projects in each lesson to learn and practice programming concepts. \n",
      "\n",
      "We’ve heard that programming can be intimidating for newcomers, and we’ve created this course to make sure that you have a great learning experience! You’ll learn ***actively*** with our mini projects (see the awesome list below), which you’ll be able to share proudly with your friends. You’ll also learn important programming concepts one by one, with no surprises or leaps of logic along the way. \n",
      "\n",
      "You’ll pick up some great tools for your programming toolkit in this course! You will: \n",
      "\n",
      "- Start coding in the programming language Python;\n",
      "- Reuse and share code with Object-Oriented Programming;\n",
      "- Create and share amazing, life-hacking projects!   \n",
      "\n",
      "\n",
      "This introductory course is for you if you want to be a software engineer, or if you want to collaborate with programmers. Mastering Object-Oriented Programming will propel your career in tech forward, and it’s also a great way to learn how software engineers think about solving problems.\n",
      "\n",
      "This course is also a part of our <a href=\"https://www.udacity.com/course/nd004\" target=\"_blank\">Full Stack Web Developer</a> Nanodegree.\n"
     ]
    }
   ],
   "source": [
    "th = .9\n",
    "rf_false_pos = df[(df['rf_pred'] > th) & ((df['rf_pred'] > th) != df[target])][['c1', 'c2', 'rf_pred', 'c_id', 'prereq_id']].groupby(by='c1')\n",
    "for c1, (g_df) in rf_false_pos:\n",
    "    print('=' * 80)\n",
    "    print(colored(c1, 'blue'))\n",
    "    for idx, (cid, c2, pid, y) in enumerate(g_df[['c_id', 'c2', 'prereq_id', 'rf_pred']].values):\n",
    "        if idx==0:\n",
    "            print(course_desc.loc[cid]['summary'])\n",
    "            print('*' * 80)\n",
    "            print(course_desc.loc[cid]['required_knowledge'])\n",
    "        print('-' * 80)\n",
    "        print('\\t', colored(c2, 'red'), '\\t', y)\n",
    "        print(course_desc.loc[pid]['summary'])"
   ]
  },
  {
   "cell_type": "code",
   "execution_count": null,
   "metadata": {
    "collapsed": false,
    "nbpresent": {
     "id": "4113f242-3a82-4b37-84ba-c3c211737359"
    }
   },
   "outputs": [],
   "source": [
    "from keras.models import Sequential\n",
    "from keras.layers.core import Activation, Dropout, Dense\n",
    "from keras.layers.advanced_activations import LeakyReLU\n",
    "from keras.layers.normalization import BatchNormalization\n",
    "from keras.optimizers import RMSprop, SGD\n",
    "from keras.regularizers import l2, activity_l2, activity_l1, l1l2, l1\n",
    "from keras.callbacks import EarlyStopping"
   ]
  },
  {
   "cell_type": "code",
   "execution_count": null,
   "metadata": {
    "collapsed": false,
    "nbpresent": {
     "id": "74376cef-a919-4797-848d-4f53c2aba184"
    }
   },
   "outputs": [],
   "source": [
    "num_pos = df[target].sum()\n",
    "num_neg = len(df) - num_pos\n",
    "print('pos groundtruth:', num_pos)\n",
    "print('neg groundtruth:', num_neg)\n",
    "pos_weight = 1. / num_pos\n",
    "neg_weight = 1. / num_neg\n",
    "df['w'] = df[target].apply(lambda x: pos_weight if x > 0 else neg_weight)"
   ]
  },
  {
   "cell_type": "code",
   "execution_count": null,
   "metadata": {
    "collapsed": false,
    "nbpresent": {
     "id": "03432faa-2efe-466c-a4a7-4aca979906e3"
    }
   },
   "outputs": [],
   "source": [
    "def gen_nn(features, hidden_layers, verbose):\n",
    "    if verbose:\n",
    "        print('gen nn...')\n",
    "    np.random.seed(2016)\n",
    "    model = Sequential()\n",
    "    num_features = len(features)\n",
    "    output_activation = 'sigmoid'\n",
    "    \n",
    "    if verbose:\n",
    "        print('input size:', num_features)\n",
    "    for i, (n_neurons, activation, dropout) in enumerate(hidden_layers):\n",
    "        if verbose:\n",
    "            print('layer:', i, ' neurons:', n_neurons, ' - ', activation, ' dropout:', dropout)\n",
    "        if i == 0:\n",
    "            model.add(Dense(n_neurons, input_dim=num_features, **dense_kwargs))\n",
    "        else:\n",
    "            model.add(Dense(n_neurons, **dense_kwargs))\n",
    "        #model.add(BatchNormalization(mode=0))\n",
    "        model.add(Activation(activation))        \n",
    "        if dropout > 0:\n",
    "            model.add(Dropout(dropout))\n",
    "            \n",
    "    model.add(Dense(1, **dense_kwargs))\n",
    "    model.add(Activation(output_activation))\n",
    "    #model.compile(optimizer=RMSprop(lr=0.000001), loss='binary_crossentropy', metrics=['accuracy']) #binary_crossentropy, mse\n",
    "    model.compile(optimizer='Adam', loss='binary_crossentropy', metrics=['accuracy'])\n",
    "    #model.compile(optimizer=SGD(lr=0.000001, nesterov=True), loss='binary_crossentropy', metrics=['accuracy'])\n",
    "    if verbose:\n",
    "        print('output size:', 1, output_activation)\n",
    "        print('done')\n",
    "    return model\n",
    "\n",
    "def model_acc(nn, X, y_true, weights, th=.5):\n",
    "    y_pred = nn.predict(X)\n",
    "    print('max', y_pred.max())\n",
    "    print('min', y_pred.min())\n",
    "    y_pred = y_pred > th\n",
    "    return accuracy_score(y_true, y_pred, normalize=True, sample_weight=weights)"
   ]
  },
  {
   "cell_type": "code",
   "execution_count": null,
   "metadata": {
    "collapsed": false,
    "nbpresent": {
     "id": "11dfd4a5-bd50-4eb8-9790-3d1eebe868d5"
    }
   },
   "outputs": [],
   "source": [
    "hidden_layers = [(30, 'tanh', 0.3),\n",
    "                (30, 'tanh', 0.3),\n",
    "                (30, 'tanh', 0.3),\n",
    "                (30, 'tanh', 0.3)]\n",
    "epochs = 500\n",
    "batch_size = 8\n",
    "dense_kwargs = dict()\n",
    "dense_kwargs[\"init\"] = 'uniform'"
   ]
  },
  {
   "cell_type": "code",
   "execution_count": null,
   "metadata": {
    "collapsed": false,
    "nbpresent": {
     "id": "320cbb2e-3735-4f11-ba9a-0ef328fa74f0"
    },
    "scrolled": false
   },
   "outputs": [],
   "source": [
    "r = list()\n",
    "fi = list()\n",
    "false_pos = list()\n",
    "pred_th = .8\n",
    "\n",
    "for nn_idx, (train_idx, test_idx) in tqdm(enumerate(train_test_split[:1])):\n",
    "    \n",
    "    early_stopping = EarlyStopping(monitor='val_loss', patience=5)\n",
    "    \n",
    "    train = df.iloc[train_idx].copy()\n",
    "    test = df.iloc[test_idx].copy()\n",
    "    train['w'] /= train['w'].sum()\n",
    "    test['w'] /= test['w'].sum()\n",
    "    scaler = StandardScaler()\n",
    "    train[features] = scaler.fit_transform(train[features])\n",
    "    test[features] = scaler.transform(test[features])\n",
    "    \n",
    "    nn_features = copy.copy(features)\n",
    "    \n",
    "    if True:\n",
    "        pow_f = map(lambda x: 'pow_' + x, features)\n",
    "        train[pow_f] = train[features]**2\n",
    "        test[pow_f] = test[features]**2    \n",
    "        nn_features += pow_f\n",
    "        \n",
    "    if True:\n",
    "        sin_f = map(lambda x: 'sin_f' + x, features)\n",
    "        train[sin_f] = np.sin(train[features]*2*np.pi)\n",
    "        test[sin_f] = np.sin(test[features]*2*np.pi)\n",
    "        nn_features += sin_f\n",
    "    \n",
    "    nn = gen_nn(nn_features, hidden_layers, verbose=nn_idx == 0)\n",
    "    \n",
    "    hist = nn.fit_generator(train[nn_features].values, train[target].values, \n",
    "                  nb_epoch=epochs, \n",
    "                  batch_size=batch_size, \n",
    "                  validation_data=(test[nn_features].values, test[target].values), \n",
    "                  shuffle=True,\n",
    "                  sample_weight=train['w'].values,\n",
    "                  callbacks=[early_stopping],\n",
    "                  verbose=2 if nn_idx == 0 else 0)\n",
    "    if nn_idx == 0:\n",
    "        print(nn_features)\n",
    "\n",
    "    data = zip(hist.history['loss'], hist.history['val_loss'])\n",
    "    hist_df = pd.DataFrame(columns=['train', 'val'], data=data[1:])\n",
    "    hist_df.plot(y=['train', 'val'], secondary_y=['val'])\n",
    "    plt.show()\n",
    "    #print(train[features])\n",
    "    \n",
    "    train_pred = nn.predict(train[nn_features].values)\n",
    "    train_true = train[target]\n",
    "    test_pred = nn.predict(test[nn_features].values)\n",
    "    test_true = test[target]\n",
    "    train_w = train['w']\n",
    "    test_w = test['w']\n",
    "    train_w = None\n",
    "    test_w = None\n",
    "    r.append(('train precision', precision_score(train_true, train_pred > pred_th, sample_weight=train_w)))\n",
    "    r.append(('test precision', precision_score(test_true, test_pred > pred_th, sample_weight=test_w)))\n",
    "    r.append(('train recall', recall_score(train_true, train_pred > pred_th, sample_weight=train_w)))\n",
    "    r.append(('test recall', recall_score(test_true, test_pred > pred_th, sample_weight=test_w)))\n",
    "    r.append(('train f1', f1_score(train_true, train_pred > pred_th, sample_weight=train_w)))\n",
    "    r.append(('test f1', f1_score(test_true, test_pred > pred_th, sample_weight=test_w)))\n",
    "    r.append(('train roc-auc', roc_auc_score(train_true, train_pred, sample_weight=train_w)))\n",
    "    r.append(('test roc-auc', roc_auc_score(test_true, test_pred, sample_weight=test_w)))\n",
    "    false_pos.append(('train', filter_false_pos(train, train_true, train_pred, pred_th = pred_th)))\n",
    "    false_pos.append(('test', filter_false_pos(test, test_true, test_pred, pred_th = pred_th)))\n",
    "    \n",
    "\n",
    "r = pd.DataFrame(columns=['type', 'value'], data=r)\n",
    "sns.barplot(x='type', y='value', data=r)\n",
    "plt.xticks(rotation=90)\n",
    "plt.ylim([0.,1.])\n",
    "plt.show()"
   ]
  },
  {
   "cell_type": "code",
   "execution_count": null,
   "metadata": {
    "collapsed": true,
    "nbpresent": {
     "id": "81477d4d-7bdf-43c2-8054-192891703c9b"
    }
   },
   "outputs": [],
   "source": [
    "train_false_pos = pd.concat(zip(*list(filter(lambda x: x[0] == 'train', false_pos)))[1])\n",
    "test_false_pos = pd.concat(zip(*list(filter(lambda x: x[0] == 'test', false_pos)))[1])"
   ]
  },
  {
   "cell_type": "code",
   "execution_count": null,
   "metadata": {
    "collapsed": false,
    "nbpresent": {
     "id": "2766a371-fd4a-4fd5-88a0-4c3c84efc145"
    }
   },
   "outputs": [],
   "source": [
    "train_false_pos = pd.DataFrame(train_false_pos.sort_values(by='y_pred', ascending=False)[['c1', 'c2', 'y_pred']].groupby(by='c1').apply(lambda x: set(x['c2'])))\n",
    "print('possible new true prereq:', len(train_false_pos))\n",
    "for c1, c2 in train_false_pos.iterrows():\n",
    "    print(c1)\n",
    "    for i in c2[0]:\n",
    "        print('\\t', i)"
   ]
  },
  {
   "cell_type": "code",
   "execution_count": null,
   "metadata": {
    "collapsed": false,
    "nbpresent": {
     "id": "c35335fa-ef2f-47a5-98e4-b44160a93c09"
    }
   },
   "outputs": [],
   "source": [
    "test_false_pos = pd.DataFrame(test_false_pos.sort_values(by='y_pred', ascending=False)[['c1', 'c2', 'y_pred']].groupby(by='c1').apply(lambda x: set(x['c2'])))\n",
    "for c1, c2 in test_false_pos.iterrows():\n",
    "    print(c1)\n",
    "    for i in c2[0]:\n",
    "        print('\\t', i)"
   ]
  },
  {
   "cell_type": "code",
   "execution_count": null,
   "metadata": {
    "collapsed": true,
    "nbpresent": {
     "id": "be8fb6e1-4473-441b-be86-f20b218b4878"
    }
   },
   "outputs": [],
   "source": []
  }
 ],
 "metadata": {
  "kernelspec": {
   "display_name": "Python 2",
   "language": "python",
   "name": "python2"
  },
  "language_info": {
   "codemirror_mode": {
    "name": "ipython",
    "version": 2
   },
   "file_extension": ".py",
   "mimetype": "text/x-python",
   "name": "python",
   "nbconvert_exporter": "python",
   "pygments_lexer": "ipython2",
   "version": "2.7.12"
  },
  "nbpresent": {
   "slides": {
    "09759c7a-94d0-4235-b9c1-fd5b14747e7a": {
     "id": "09759c7a-94d0-4235-b9c1-fd5b14747e7a",
     "prev": null,
     "regions": {
      "a7cc76c0-1390-4526-9d7b-479032b80336": {
       "attrs": {
        "height": 0.8,
        "width": 0.8,
        "x": 0.1,
        "y": 0.1
       },
       "content": {
        "cell": "bdbd319d-667a-4762-ad2d-f7d01243c01d",
        "part": "whole"
       },
       "id": "a7cc76c0-1390-4526-9d7b-479032b80336"
      }
     }
    },
    "11734e9f-b764-4805-92b5-52de838a9684": {
     "id": "11734e9f-b764-4805-92b5-52de838a9684",
     "prev": "9f254d43-6903-4f20-a36f-8fd44ed69d2f",
     "regions": {
      "c04a33f9-7faa-4574-8d75-d1dc7f6f7802": {
       "attrs": {
        "height": 0.8,
        "width": 0.8,
        "x": 0.1,
        "y": 0.1
       },
       "content": {
        "cell": "ae955a44-0cb0-467f-82b2-3282f20ebdbe",
        "part": "whole"
       },
       "id": "c04a33f9-7faa-4574-8d75-d1dc7f6f7802"
      }
     }
    },
    "133419a4-2d67-4cf9-8dc6-e6e220c2e799": {
     "id": "133419a4-2d67-4cf9-8dc6-e6e220c2e799",
     "prev": "d0451e07-eab2-49ba-bf7b-2751098904cd",
     "regions": {
      "b5f52f03-ac78-4eca-95df-1b6c53b6529a": {
       "attrs": {
        "height": 0.8,
        "width": 0.8,
        "x": 0.1,
        "y": 0.1
       },
       "content": {
        "cell": "543d7459-3784-4752-8f68-902ebddd9fea",
        "part": "whole"
       },
       "id": "b5f52f03-ac78-4eca-95df-1b6c53b6529a"
      }
     }
    },
    "3a49155c-ba76-42f6-9251-47cc880d894f": {
     "id": "3a49155c-ba76-42f6-9251-47cc880d894f",
     "prev": "9f03f22b-b3be-43b9-8956-2c257b747e12",
     "regions": {
      "174ae56c-8d65-4f98-b079-f6d58b18d921": {
       "attrs": {
        "height": 0.8,
        "width": 0.8,
        "x": 0.1,
        "y": 0.1
       },
       "content": {
        "cell": "2766a371-fd4a-4fd5-88a0-4c3c84efc145",
        "part": "whole"
       },
       "id": "174ae56c-8d65-4f98-b079-f6d58b18d921"
      }
     }
    },
    "3d968107-45ec-446e-9208-bad43218be87": {
     "id": "3d968107-45ec-446e-9208-bad43218be87",
     "prev": "557cbabe-044f-4029-818d-3751344fc901",
     "regions": {
      "c3be5df4-5c55-4e1b-94df-ea5f82157301": {
       "attrs": {
        "height": 0.8,
        "width": 0.8,
        "x": 0.1,
        "y": 0.1
       },
       "content": {
        "cell": "04a1f1e4-17bd-44a0-bba2-ec75ec47a6bc",
        "part": "whole"
       },
       "id": "c3be5df4-5c55-4e1b-94df-ea5f82157301"
      }
     }
    },
    "557cbabe-044f-4029-818d-3751344fc901": {
     "id": "557cbabe-044f-4029-818d-3751344fc901",
     "prev": "851af80c-8e8a-4dec-8238-b688f5e69f76",
     "regions": {
      "cb85edaf-4d43-4b38-8532-7c5502d49f7d": {
       "attrs": {
        "height": 0.8,
        "width": 0.8,
        "x": 0.1,
        "y": 0.1
       },
       "content": {
        "cell": "fa9d6c2a-493d-4a90-9b11-08f324552b2a",
        "part": "whole"
       },
       "id": "cb85edaf-4d43-4b38-8532-7c5502d49f7d"
      }
     }
    },
    "7552db1f-3d79-4798-9262-8e779bce3c6f": {
     "id": "7552db1f-3d79-4798-9262-8e779bce3c6f",
     "prev": "dccc537e-3167-4be5-8f22-20454ba3aa61",
     "regions": {
      "f389b3ae-6fab-4788-8c57-dad4a7b911b5": {
       "attrs": {
        "height": 0.8,
        "width": 0.8,
        "x": 0.1,
        "y": 0.1
       },
       "content": {
        "cell": "be8fb6e1-4473-441b-be86-f20b218b4878",
        "part": "whole"
       },
       "id": "f389b3ae-6fab-4788-8c57-dad4a7b911b5"
      }
     }
    },
    "8217d01e-678c-4425-a542-aa5b5e922887": {
     "id": "8217d01e-678c-4425-a542-aa5b5e922887",
     "prev": "d4044c17-6645-4efb-ab40-480256ed4701",
     "regions": {
      "c0832388-2f53-4c6b-83a0-0cb0e1c13854": {
       "attrs": {
        "height": 0.8,
        "width": 0.8,
        "x": 0.1,
        "y": 0.1
       },
       "content": {
        "cell": "fa3c763a-f0c6-461e-ba03-941db037c467",
        "part": "whole"
       },
       "id": "c0832388-2f53-4c6b-83a0-0cb0e1c13854"
      }
     }
    },
    "851af80c-8e8a-4dec-8238-b688f5e69f76": {
     "id": "851af80c-8e8a-4dec-8238-b688f5e69f76",
     "prev": "d9f79ef7-1de8-46d0-9123-d1707974be44",
     "regions": {
      "063cae3a-ba24-42dd-bb40-298920a55f8f": {
       "attrs": {
        "height": 0.8,
        "width": 0.8,
        "x": 0.1,
        "y": 0.1
       },
       "content": {
        "cell": "6727879b-c008-4a82-99d4-e9d4a26d2a33",
        "part": "whole"
       },
       "id": "063cae3a-ba24-42dd-bb40-298920a55f8f"
      }
     }
    },
    "90484271-f329-44ff-ae0f-292e006d7d9b": {
     "id": "90484271-f329-44ff-ae0f-292e006d7d9b",
     "prev": "09759c7a-94d0-4235-b9c1-fd5b14747e7a",
     "regions": {
      "f109652e-767d-4cd3-93a6-3908fe5569a2": {
       "attrs": {
        "height": 0.8,
        "width": 0.8,
        "x": 0.1,
        "y": 0.1
       },
       "content": {
        "cell": "38bb241d-cda8-4ec3-8e12-83a9e1fd9aa1",
        "part": "whole"
       },
       "id": "f109652e-767d-4cd3-93a6-3908fe5569a2"
      }
     }
    },
    "9f03f22b-b3be-43b9-8956-2c257b747e12": {
     "id": "9f03f22b-b3be-43b9-8956-2c257b747e12",
     "prev": "e98f842a-4296-49fb-ab16-ede31bf86c0f",
     "regions": {
      "fab4fe9d-457d-41c0-8d97-fed6c363d8de": {
       "attrs": {
        "height": 0.8,
        "width": 0.8,
        "x": 0.1,
        "y": 0.1
       },
       "content": {
        "cell": "81477d4d-7bdf-43c2-8054-192891703c9b",
        "part": "whole"
       },
       "id": "fab4fe9d-457d-41c0-8d97-fed6c363d8de"
      }
     }
    },
    "9f254d43-6903-4f20-a36f-8fd44ed69d2f": {
     "id": "9f254d43-6903-4f20-a36f-8fd44ed69d2f",
     "prev": "90484271-f329-44ff-ae0f-292e006d7d9b",
     "regions": {
      "3c83ca8c-0ebc-4e7a-ab37-e6fd326b2dd5": {
       "attrs": {
        "height": 0.8,
        "width": 0.8,
        "x": 0.1,
        "y": 0.1
       },
       "content": {
        "cell": "b78cb4db-98e1-4154-b541-bb680a31b64b",
        "part": "whole"
       },
       "id": "3c83ca8c-0ebc-4e7a-ab37-e6fd326b2dd5"
      }
     }
    },
    "a7ac7c04-8d3c-4aff-beb2-7cfcc9f958aa": {
     "id": "a7ac7c04-8d3c-4aff-beb2-7cfcc9f958aa",
     "prev": "e348330f-fb77-44e5-801c-3fe95e1c4eee",
     "regions": {
      "d234aca0-9779-4c48-89e3-9e0c38d3e524": {
       "attrs": {
        "height": 0.8,
        "width": 0.8,
        "x": 0.1,
        "y": 0.1
       },
       "content": {
        "cell": "11dfd4a5-bd50-4eb8-9790-3d1eebe868d5",
        "part": "whole"
       },
       "id": "d234aca0-9779-4c48-89e3-9e0c38d3e524"
      }
     }
    },
    "d0451e07-eab2-49ba-bf7b-2751098904cd": {
     "id": "d0451e07-eab2-49ba-bf7b-2751098904cd",
     "prev": "3d968107-45ec-446e-9208-bad43218be87",
     "regions": {
      "b07597b7-7a4a-44fe-9b23-3894c595a703": {
       "attrs": {
        "height": 0.8,
        "width": 0.8,
        "x": 0.1,
        "y": 0.1
       },
       "content": {
        "cell": "23ebce12-cb00-440b-b7bb-a7777871447f",
        "part": "whole"
       },
       "id": "b07597b7-7a4a-44fe-9b23-3894c595a703"
      }
     }
    },
    "d4044c17-6645-4efb-ab40-480256ed4701": {
     "id": "d4044c17-6645-4efb-ab40-480256ed4701",
     "prev": "133419a4-2d67-4cf9-8dc6-e6e220c2e799",
     "regions": {
      "1214d301-b698-4363-b69c-57c6910bed34": {
       "attrs": {
        "height": 0.8,
        "width": 0.8,
        "x": 0.1,
        "y": 0.1
       },
       "content": {
        "cell": "b1bcd7bb-c936-4e1f-a301-23911c9bbc8e",
        "part": "whole"
       },
       "id": "1214d301-b698-4363-b69c-57c6910bed34"
      }
     }
    },
    "d9f79ef7-1de8-46d0-9123-d1707974be44": {
     "id": "d9f79ef7-1de8-46d0-9123-d1707974be44",
     "prev": "11734e9f-b764-4805-92b5-52de838a9684",
     "regions": {
      "6a8d1b63-3f69-4d00-bbc4-f5585262a843": {
       "attrs": {
        "height": 0.8,
        "width": 0.8,
        "x": 0.1,
        "y": 0.1
       },
       "content": {
        "cell": "d821300a-d627-4910-b42d-e655256d2eae",
        "part": "whole"
       },
       "id": "6a8d1b63-3f69-4d00-bbc4-f5585262a843"
      }
     }
    },
    "dccc537e-3167-4be5-8f22-20454ba3aa61": {
     "id": "dccc537e-3167-4be5-8f22-20454ba3aa61",
     "prev": "3a49155c-ba76-42f6-9251-47cc880d894f",
     "regions": {
      "670116b2-c6d1-459e-b113-b94d28cadd7b": {
       "attrs": {
        "height": 0.8,
        "width": 0.8,
        "x": 0.1,
        "y": 0.1
       },
       "content": {
        "cell": "c35335fa-ef2f-47a5-98e4-b44160a93c09",
        "part": "whole"
       },
       "id": "670116b2-c6d1-459e-b113-b94d28cadd7b"
      }
     }
    },
    "df16b0ff-01ca-40d8-aa0a-f507a23f26ee": {
     "id": "df16b0ff-01ca-40d8-aa0a-f507a23f26ee",
     "prev": "8217d01e-678c-4425-a542-aa5b5e922887",
     "regions": {
      "41ee4c8a-bf00-45aa-9763-8bbe7ea10556": {
       "attrs": {
        "height": 0.8,
        "width": 0.8,
        "x": 0.1,
        "y": 0.1
       },
       "content": {
        "cell": "4113f242-3a82-4b37-84ba-c3c211737359",
        "part": "whole"
       },
       "id": "41ee4c8a-bf00-45aa-9763-8bbe7ea10556"
      }
     }
    },
    "e348330f-fb77-44e5-801c-3fe95e1c4eee": {
     "id": "e348330f-fb77-44e5-801c-3fe95e1c4eee",
     "prev": "df16b0ff-01ca-40d8-aa0a-f507a23f26ee",
     "regions": {
      "db5472a9-2d82-4a54-a009-fe9068baa66e": {
       "attrs": {
        "height": 0.8,
        "width": 0.8,
        "x": 0.1,
        "y": 0.1
       },
       "content": {
        "cell": "03432faa-2efe-466c-a4a7-4aca979906e3",
        "part": "whole"
       },
       "id": "db5472a9-2d82-4a54-a009-fe9068baa66e"
      }
     }
    },
    "e98f842a-4296-49fb-ab16-ede31bf86c0f": {
     "id": "e98f842a-4296-49fb-ab16-ede31bf86c0f",
     "prev": "a7ac7c04-8d3c-4aff-beb2-7cfcc9f958aa",
     "regions": {
      "93f299f6-085a-45ea-b464-98f107331fd5": {
       "attrs": {
        "height": 0.8,
        "width": 0.8,
        "x": 0.1,
        "y": 0.1
       },
       "content": {
        "cell": "320cbb2e-3735-4f11-ba9a-0ef328fa74f0",
        "part": "whole"
       },
       "id": "93f299f6-085a-45ea-b464-98f107331fd5"
      }
     }
    }
   },
   "themes": {}
  }
 },
 "nbformat": 4,
 "nbformat_minor": 0
}
