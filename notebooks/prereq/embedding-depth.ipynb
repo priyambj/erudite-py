{
 "cells": [
  {
   "cell_type": "code",
   "execution_count": 1,
   "metadata": {
    "collapsed": false
   },
   "outputs": [
    {
     "name": "stdout",
     "output_type": "stream",
     "text": [
      "Populating the interactive namespace from numpy and matplotlib\n"
     ]
    },
    {
     "data": {
      "text/html": [
       "\n",
       "    <div class=\"bk-root\">\n",
       "        <a href=\"http://bokeh.pydata.org\" target=\"_blank\" class=\"bk-logo bk-logo-small bk-logo-notebook\"></a>\n",
       "        <span id=\"c18dfac3-ec05-48a6-a88c-039e03032dd9\">Loading BokehJS ...</span>\n",
       "    </div>"
      ]
     },
     "metadata": {},
     "output_type": "display_data"
    },
    {
     "data": {
      "application/javascript": [
       "\n",
       "(function(global) {\n",
       "  function now() {\n",
       "    return new Date();\n",
       "  }\n",
       "\n",
       "  if (typeof (window._bokeh_onload_callbacks) === \"undefined\") {\n",
       "    window._bokeh_onload_callbacks = [];\n",
       "  }\n",
       "\n",
       "  function run_callbacks() {\n",
       "    window._bokeh_onload_callbacks.forEach(function(callback) { callback() });\n",
       "    delete window._bokeh_onload_callbacks\n",
       "    console.info(\"Bokeh: all callbacks have finished\");\n",
       "  }\n",
       "\n",
       "  function load_libs(js_urls, callback) {\n",
       "    window._bokeh_onload_callbacks.push(callback);\n",
       "    if (window._bokeh_is_loading > 0) {\n",
       "      console.log(\"Bokeh: BokehJS is being loaded, scheduling callback at\", now());\n",
       "      return null;\n",
       "    }\n",
       "    if (js_urls == null || js_urls.length === 0) {\n",
       "      run_callbacks();\n",
       "      return null;\n",
       "    }\n",
       "    console.log(\"Bokeh: BokehJS not loaded, scheduling load and callback at\", now());\n",
       "    window._bokeh_is_loading = js_urls.length;\n",
       "    for (var i = 0; i < js_urls.length; i++) {\n",
       "      var url = js_urls[i];\n",
       "      var s = document.createElement('script');\n",
       "      s.src = url;\n",
       "      s.async = false;\n",
       "      s.onreadystatechange = s.onload = function() {\n",
       "        window._bokeh_is_loading--;\n",
       "        if (window._bokeh_is_loading === 0) {\n",
       "          console.log(\"Bokeh: all BokehJS libraries loaded\");\n",
       "          run_callbacks()\n",
       "        }\n",
       "      };\n",
       "      s.onerror = function() {\n",
       "        console.warn(\"failed to load library \" + url);\n",
       "      };\n",
       "      console.log(\"Bokeh: injecting script tag for BokehJS library: \", url);\n",
       "      document.getElementsByTagName(\"head\")[0].appendChild(s);\n",
       "    }\n",
       "  };\n",
       "\n",
       "  var js_urls = ['https://cdn.pydata.org/bokeh/release/bokeh-0.12.0.min.js', 'https://cdn.pydata.org/bokeh/release/bokeh-widgets-0.12.0.min.js', 'https://cdn.pydata.org/bokeh/release/bokeh-compiler-0.12.0.min.js'];\n",
       "\n",
       "  var inline_js = [\n",
       "    function(Bokeh) {\n",
       "      Bokeh.set_log_level(\"info\");\n",
       "    },\n",
       "    \n",
       "    function(Bokeh) {\n",
       "      Bokeh.$(\"#c18dfac3-ec05-48a6-a88c-039e03032dd9\").text(\"BokehJS successfully loaded\");\n",
       "    },\n",
       "    function(Bokeh) {\n",
       "      console.log(\"Bokeh: injecting CSS: https://cdn.pydata.org/bokeh/release/bokeh-0.12.0.min.css\");\n",
       "      Bokeh.embed.inject_css(\"https://cdn.pydata.org/bokeh/release/bokeh-0.12.0.min.css\");\n",
       "      console.log(\"Bokeh: injecting CSS: https://cdn.pydata.org/bokeh/release/bokeh-widgets-0.12.0.min.css\");\n",
       "      Bokeh.embed.inject_css(\"https://cdn.pydata.org/bokeh/release/bokeh-widgets-0.12.0.min.css\");\n",
       "    }\n",
       "  ];\n",
       "\n",
       "  function run_inline_js() {\n",
       "    for (var i = 0; i < inline_js.length; i++) {\n",
       "      inline_js[i](window.Bokeh);\n",
       "    }\n",
       "  }\n",
       "\n",
       "  if (window._bokeh_is_loading === 0) {\n",
       "    console.log(\"Bokeh: BokehJS loaded, going straight to plotting\");\n",
       "    run_inline_js();\n",
       "  } else {\n",
       "    load_libs(js_urls, function() {\n",
       "      console.log(\"Bokeh: BokehJS plotting callback run at\", now());\n",
       "      run_inline_js();\n",
       "    });\n",
       "  }\n",
       "}(this));"
      ]
     },
     "metadata": {},
     "output_type": "display_data"
    },
    {
     "name": "stderr",
     "output_type": "stream",
     "text": [
      "Using Theano backend.\n"
     ]
    }
   ],
   "source": [
    "%run basics.ipynb"
   ]
  },
  {
   "cell_type": "code",
   "execution_count": 2,
   "metadata": {
    "collapsed": false
   },
   "outputs": [
    {
     "name": "stdout",
     "output_type": "stream",
     "text": [
      "Index([u'id', u'title', u'homepage', u'subtitle', u'level', u'starter',\n",
      "       u'image', u'banner_image', u'teaser_video', u'summary',\n",
      "       u'short_summary', u'required_knowledge', u'expected_learning',\n",
      "       u'featured', u'syllabus', u'faq', u'full_course_available',\n",
      "       u'expected_duration', u'expected_duration_unit', u'new_release',\n",
      "       u'transcripts_url', u'transcripts_zip_fn', u'transcript'],\n",
      "      dtype='object')\n"
     ]
    },
    {
     "data": {
      "text/html": [
       "<div>\n",
       "<table border=\"1\" class=\"dataframe\">\n",
       "  <thead>\n",
       "    <tr style=\"text-align: right;\">\n",
       "      <th></th>\n",
       "      <th>id</th>\n",
       "      <th>title</th>\n",
       "      <th>homepage</th>\n",
       "      <th>subtitle</th>\n",
       "      <th>level</th>\n",
       "      <th>starter</th>\n",
       "      <th>image</th>\n",
       "      <th>banner_image</th>\n",
       "      <th>teaser_video</th>\n",
       "      <th>summary</th>\n",
       "      <th>...</th>\n",
       "      <th>featured</th>\n",
       "      <th>syllabus</th>\n",
       "      <th>faq</th>\n",
       "      <th>full_course_available</th>\n",
       "      <th>expected_duration</th>\n",
       "      <th>expected_duration_unit</th>\n",
       "      <th>new_release</th>\n",
       "      <th>transcripts_url</th>\n",
       "      <th>transcripts_zip_fn</th>\n",
       "      <th>transcript</th>\n",
       "    </tr>\n",
       "  </thead>\n",
       "  <tbody>\n",
       "    <tr>\n",
       "      <th>0</th>\n",
       "      <td>bio110</td>\n",
       "      <td>Tales from the Genome</td>\n",
       "      <td>https://www.udacity.com/course/tales-from-the-...</td>\n",
       "      <td>Introduction to Genetics for Beginners</td>\n",
       "      <td>beginner</td>\n",
       "      <td>False</td>\n",
       "      <td>https://lh5.ggpht.com/Fh07_XbT61CGDWsQoOMQaIeH...</td>\n",
       "      <td>https://lh4.ggpht.com/_AHqr0EXcLBzF0rrwtBagE0t...</td>\n",
       "      <td>https://www.youtube.com/watch?v=sEXrjh-tme8</td>\n",
       "      <td>This course is a journey into the biology of t...</td>\n",
       "      <td>...</td>\n",
       "      <td>False</td>\n",
       "      <td>## Lesson 1: Introduction to traits and heredi...</td>\n",
       "      <td>NaN</td>\n",
       "      <td>False</td>\n",
       "      <td>3</td>\n",
       "      <td>months</td>\n",
       "      <td>False</td>\n",
       "      <td>https://www.udacity.com/course/progress#!/c-bi...</td>\n",
       "      <td>transcripts_zips/bio110.zip</td>\n",
       "      <td>In the same way that our genomes influence tr...</td>\n",
       "    </tr>\n",
       "    <tr>\n",
       "      <th>1</th>\n",
       "      <td>cs046</td>\n",
       "      <td>Intro to Java Programming</td>\n",
       "      <td>https://www.udacity.com/course/intro-to-java-p...</td>\n",
       "      <td>Building Programs with Classes &amp; Objects</td>\n",
       "      <td>beginner</td>\n",
       "      <td>False</td>\n",
       "      <td>https://lh4.ggpht.com/9ytiUdz0QYHwuMJFTXcNXZn4...</td>\n",
       "      <td>https://lh3.ggpht.com/AdAALPYhCsWuIvDl0ZY6zIW2...</td>\n",
       "      <td>https://www.youtube.com/watch?v=Wsp5Rrenoq4</td>\n",
       "      <td>In this introductory course, you'll learn and ...</td>\n",
       "      <td>...</td>\n",
       "      <td>False</td>\n",
       "      <td>### Lesson 1: Introduction to Computers, Progr...</td>\n",
       "      <td>NaN</td>\n",
       "      <td>True</td>\n",
       "      <td>4</td>\n",
       "      <td>months</td>\n",
       "      <td>False</td>\n",
       "      <td>https://www.udacity.com/course/progress#!/c-cs046</td>\n",
       "      <td>transcripts_zips/cs046.zip</td>\n",
       "      <td>Hi, I'm Cay. I'm Sara. We'll be the instructo...</td>\n",
       "    </tr>\n",
       "  </tbody>\n",
       "</table>\n",
       "<p>2 rows × 23 columns</p>\n",
       "</div>"
      ],
      "text/plain": [
       "       id                      title  \\\n",
       "0  bio110      Tales from the Genome   \n",
       "1   cs046  Intro to Java Programming   \n",
       "\n",
       "                                            homepage  \\\n",
       "0  https://www.udacity.com/course/tales-from-the-...   \n",
       "1  https://www.udacity.com/course/intro-to-java-p...   \n",
       "\n",
       "                                   subtitle     level starter  \\\n",
       "0    Introduction to Genetics for Beginners  beginner   False   \n",
       "1  Building Programs with Classes & Objects  beginner   False   \n",
       "\n",
       "                                               image  \\\n",
       "0  https://lh5.ggpht.com/Fh07_XbT61CGDWsQoOMQaIeH...   \n",
       "1  https://lh4.ggpht.com/9ytiUdz0QYHwuMJFTXcNXZn4...   \n",
       "\n",
       "                                        banner_image  \\\n",
       "0  https://lh4.ggpht.com/_AHqr0EXcLBzF0rrwtBagE0t...   \n",
       "1  https://lh3.ggpht.com/AdAALPYhCsWuIvDl0ZY6zIW2...   \n",
       "\n",
       "                                  teaser_video  \\\n",
       "0  https://www.youtube.com/watch?v=sEXrjh-tme8   \n",
       "1  https://www.youtube.com/watch?v=Wsp5Rrenoq4   \n",
       "\n",
       "                                             summary  \\\n",
       "0  This course is a journey into the biology of t...   \n",
       "1  In this introductory course, you'll learn and ...   \n",
       "\n",
       "                         ...                         featured  \\\n",
       "0                        ...                            False   \n",
       "1                        ...                            False   \n",
       "\n",
       "                                            syllabus  faq  \\\n",
       "0  ## Lesson 1: Introduction to traits and heredi...  NaN   \n",
       "1  ### Lesson 1: Introduction to Computers, Progr...  NaN   \n",
       "\n",
       "  full_course_available expected_duration expected_duration_unit new_release  \\\n",
       "0                 False                 3                 months       False   \n",
       "1                  True                 4                 months       False   \n",
       "\n",
       "                                     transcripts_url  \\\n",
       "0  https://www.udacity.com/course/progress#!/c-bi...   \n",
       "1  https://www.udacity.com/course/progress#!/c-cs046   \n",
       "\n",
       "            transcripts_zip_fn  \\\n",
       "0  transcripts_zips/bio110.zip   \n",
       "1   transcripts_zips/cs046.zip   \n",
       "\n",
       "                                          transcript  \n",
       "0   In the same way that our genomes influence tr...  \n",
       "1   Hi, I'm Cay. I'm Sara. We'll be the instructo...  \n",
       "\n",
       "[2 rows x 23 columns]"
      ]
     },
     "execution_count": 2,
     "metadata": {},
     "output_type": "execute_result"
    }
   ],
   "source": [
    "df = pd.read_pickle('udacity_courses.df')\n",
    "print(df.columns)\n",
    "df.head(2)"
   ]
  },
  {
   "cell_type": "code",
   "execution_count": 3,
   "metadata": {
    "collapsed": false
   },
   "outputs": [
    {
     "data": {
      "text/html": [
       "<div>\n",
       "<table border=\"1\" class=\"dataframe\">\n",
       "  <thead>\n",
       "    <tr style=\"text-align: right;\">\n",
       "      <th></th>\n",
       "      <th>u_id</th>\n",
       "      <th>u_pre_req_id</th>\n",
       "    </tr>\n",
       "  </thead>\n",
       "  <tbody>\n",
       "    <tr>\n",
       "      <th>0</th>\n",
       "      <td>cs222</td>\n",
       "      <td>cs101</td>\n",
       "    </tr>\n",
       "    <tr>\n",
       "      <th>1</th>\n",
       "      <td>cs222</td>\n",
       "      <td>ph100</td>\n",
       "    </tr>\n",
       "  </tbody>\n",
       "</table>\n",
       "</div>"
      ],
      "text/plain": [
       "    u_id u_pre_req_id\n",
       "0  cs222        cs101\n",
       "1  cs222        ph100"
      ]
     },
     "execution_count": 3,
     "metadata": {},
     "output_type": "execute_result"
    }
   ],
   "source": [
    "df_prereq = pd.read_csv('udacity_prereq_graph.csv')\n",
    "df_prereq.head(2)"
   ]
  },
  {
   "cell_type": "code",
   "execution_count": 4,
   "metadata": {
    "collapsed": true
   },
   "outputs": [],
   "source": [
    "def is_prereq(a, b, preq):\n",
    "    a_p = preq[preq['u_id'] == a]\n",
    "    if len(a_p) > 0:\n",
    "        if b in a_p['u_pre_req_id'].values.tolist():\n",
    "            return True\n",
    "        else:\n",
    "            return False\n",
    "    else:\n",
    "        return False"
   ]
  },
  {
   "cell_type": "code",
   "execution_count": 5,
   "metadata": {
    "collapsed": false
   },
   "outputs": [
    {
     "name": "stdout",
     "output_type": "stream",
     "text": [
      "title         129\n",
      "subtitle      127\n",
      "summary       129\n",
      "syllabus      129\n",
      "transcript    129\n",
      "dtype: int64\n",
      "0    tales from the genome introduction to genetics...\n",
      "1    intro to java programming building programs wi...\n",
      "Name: title, dtype: object\n",
      "('# distinct words:', 9813)\n",
      "('# excluded words:', 30619)\n"
     ]
    }
   ],
   "source": [
    "fields = ['title', 'subtitle', 'summary', 'syllabus', 'transcript']\n",
    "print(df[fields].count())\n",
    "vectorizer = TfidfVectorizer(stop_words='english', max_df=0.5, min_df=5)\n",
    "all_text = df[fields[0]].copy()\n",
    "for c in fields[1:]:\n",
    "    all_text += ' ' + df[c]\n",
    "all_text = all_text.apply(text_cleanup)\n",
    "print(all_text.head(2))\n",
    "vectorizer.fit(all_text)\n",
    "filter_w = set(vectorizer.get_feature_names())\n",
    "print('# distinct words:', len(filter_w))\n",
    "print('# excluded words:', len(vectorizer.stop_words_))"
   ]
  },
  {
   "cell_type": "code",
   "execution_count": 6,
   "metadata": {
    "collapsed": false
   },
   "outputs": [
    {
     "name": "stdout",
     "output_type": "stream",
     "text": [
      "('title', 4)\n",
      "0        genome\n",
      "1    intro java\n",
      "Name: title, dtype: object\n",
      "0    [1, 0, 0, 0]\n",
      "1    [2, 3, 0, 0]\n",
      "Name: title, dtype: object\n",
      "('subtitle', 4)\n",
      "0    genetics beginners\n",
      "1              programs\n",
      "Name: subtitle, dtype: object\n",
      "0    [121, 96, 0, 0]\n",
      "1       [4, 0, 0, 0]\n",
      "Name: subtitle, dtype: object\n",
      "('summary', 69)\n",
      "0    journey biology genome highlight scientific so...\n",
      "1    introductory essential java oriented programme...\n",
      "Name: summary, dtype: object\n",
      "0    [234, 235, 1, 236, 237, 123, 238, 239, 240, 24...\n",
      "1    [242, 243, 3, 31, 244, 4, 3, 245, 246, 0, 0, 0...\n",
      "Name: summary, dtype: object\n",
      "('syllabus', 244)\n",
      "0    traits trait variation categorization inherita...\n",
      "1    computers algorithms java graphics fundamental...\n",
      "Name: syllabus, dtype: object\n",
      "0    [241, 1219, 1220, 1221, 1222, 1223, 171, 1224,...\n",
      "1    [524, 5, 3, 13, 666, 1271, 1272, 5, 1088, 1222...\n",
      "Name: syllabus, dtype: object\n",
      "('transcript', 40593)\n",
      "0    influence traits eye hair cancer influence dru...\n",
      "1    sara instructors processor buttons secret secr...\n",
      "Name: transcript, dtype: object\n",
      "0    [2652, 241, 1531, 2653, 334, 2652, 1255, 2654,...\n",
      "1    [4340, 577, 1683, 956, 1573, 1573, 3, 4, 271, ...\n",
      "Name: transcript, dtype: object\n"
     ]
    }
   ],
   "source": [
    "digiz = Digitizer()\n",
    "max_words = 10000\n",
    "text_series = list()\n",
    "for i in fields:\n",
    "    ser = df[i].copy()\n",
    "    ser = ser.apply(text_cleanup, args=(filter_w, ))\n",
    "    print(i, ser.apply(lambda x: len(x.split())).max())\n",
    "    print(ser.head(2))\n",
    "    dig_ser = digiz.series_digitizer(ser, max_len=max_words)\n",
    "    text_series.append(dig_ser)\n",
    "    print(dig_ser.head(2))"
   ]
  },
  {
   "cell_type": "code",
   "execution_count": 7,
   "metadata": {
    "collapsed": false
   },
   "outputs": [
    {
     "data": {
      "text/plain": [
       "0    [1, 0, 0, 0]\n",
       "1    [2, 3, 0, 0]\n",
       "Name: title, dtype: object"
      ]
     },
     "execution_count": 7,
     "metadata": {},
     "output_type": "execute_result"
    }
   ],
   "source": [
    "text_series[0].head(2)"
   ]
  },
  {
   "cell_type": "code",
   "execution_count": 8,
   "metadata": {
    "collapsed": false
   },
   "outputs": [
    {
     "name": "stdout",
     "output_type": "stream",
     "text": [
      "10321\n",
      "('syllabus', 'len:', 244)\n",
      "('summary', 'len:', 69)\n",
      "('subtitle', 'len:', 4)\n",
      "('transcript', 'len:', 10000)\n",
      "('title', 'len:', 4)\n"
     ]
    }
   ],
   "source": [
    "all_text = text_series[0].copy()\n",
    "text_block_len = dict()\n",
    "text_block_len[fields[0]] = len(text_series[0].iloc[0])\n",
    "for i, f in zip(text_series[1:], fields[1:]):\n",
    "    all_text += i\n",
    "    text_block_len[f] = len(i.iloc[0])\n",
    "df['digitized_text'] = all_text\n",
    "max_len = df['digitized_text'].apply(len).max()\n",
    "print(max_len)\n",
    "df['digitized_text'] = df['digitized_text'].apply(lambda x: np.array(x))\n",
    "df['digitized_text'].head(10)\n",
    "for key, val in text_block_len.iteritems():\n",
    "    print(key, 'len:', val)"
   ]
  },
  {
   "cell_type": "code",
   "execution_count": 9,
   "metadata": {
    "collapsed": false
   },
   "outputs": [
    {
     "name": "stdout",
     "output_type": "stream",
     "text": [
      "('#words:', 9809)\n",
      "('seq len:', 10321)\n"
     ]
    }
   ],
   "source": [
    "n_words = digiz.num_words()\n",
    "print('#words:', n_words)\n",
    "print('seq len:', max_len)\n",
    "df['digitized_text'].head(2)\n",
    "assert all(df['digitized_text'].apply(lambda x: len(x) == max_len).tolist())"
   ]
  },
  {
   "cell_type": "code",
   "execution_count": 10,
   "metadata": {
    "collapsed": false
   },
   "outputs": [],
   "source": [
    "def get_nn(n_words, input_len):   \n",
    "    dim = 10\n",
    "    emb = Embedding(input_dim=n_words, output_dim=dim, mask_zero=True)\n",
    "    c = Input(shape=(max_len,), dtype='int32', name='course')\n",
    "    \n",
    "    dropout = Dropout(0.8)(emb(c))\n",
    "    \n",
    "    c_act = Activation('relu')(dropout)\n",
    "    \n",
    "    c_lstm = GRU(10, W_regularizer=WeightRegularizer(l1=0., l2=0.5))(c_act)\n",
    "    \n",
    "    dense_100 = Dense(10, activation='relu', \n",
    "                      W_regularizer=WeightRegularizer(l1=0., l2=0.5))(c_lstm)\n",
    "    dense_1 = Dense(1, activation='relu')(dense_100)\n",
    "    \n",
    "    model = Model(c, dense_1)\n",
    "    model.compile(optimizer='adam', loss='mse', metrics=['mae'])\n",
    "    return model"
   ]
  },
  {
   "cell_type": "code",
   "execution_count": 11,
   "metadata": {
    "collapsed": false
   },
   "outputs": [
    {
     "name": "stdout",
     "output_type": "stream",
     "text": [
      "____________________________________________________________________________________________________\n",
      "Layer (type)                     Output Shape          Param #     Connected to                     \n",
      "====================================================================================================\n",
      "course (InputLayer)              (None, 10321)         0                                            \n",
      "____________________________________________________________________________________________________\n",
      "embedding_1 (Embedding)          (None, 10321, 10)     98090       course[0][0]                     \n",
      "____________________________________________________________________________________________________\n",
      "dropout_1 (Dropout)              (None, 10321, 10)     0           embedding_1[0][0]                \n",
      "____________________________________________________________________________________________________\n",
      "activation_1 (Activation)        (None, 10321, 10)     0           dropout_1[0][0]                  \n",
      "____________________________________________________________________________________________________\n",
      "gru_1 (GRU)                      (None, 10)            630         activation_1[0][0]               \n",
      "____________________________________________________________________________________________________\n",
      "dense_1 (Dense)                  (None, 10)            110         gru_1[0][0]                      \n",
      "____________________________________________________________________________________________________\n",
      "dense_2 (Dense)                  (None, 1)             11          dense_1[0][0]                    \n",
      "====================================================================================================\n",
      "Total params: 98841\n",
      "____________________________________________________________________________________________________\n",
      "None\n"
     ]
    }
   ],
   "source": [
    "nn = get_nn(n_words, max_len)\n",
    "print(nn.summary())\n",
    "#embedded_text = nn.predict(df['digitized_text'].values.tolist())"
   ]
  },
  {
   "cell_type": "code",
   "execution_count": 12,
   "metadata": {
    "collapsed": false
   },
   "outputs": [
    {
     "name": "stdout",
     "output_type": "stream",
     "text": [
      "1    66\n",
      "2    33\n",
      "0    30\n",
      "Name: level, dtype: int64\n"
     ]
    },
    {
     "data": {
      "text/plain": [
       "intermediate    66\n",
       "advanced        32\n",
       "beginner        30\n",
       "Name: level, dtype: int64"
      ]
     },
     "execution_count": 12,
     "metadata": {},
     "output_type": "execute_result"
    }
   ],
   "source": [
    "y = df['level'].apply(lambda x: 0 if x=='beginner' else (1 if x == 'intermediate' else 2))\n",
    "print(y.value_counts())\n",
    "df['level'].value_counts()"
   ]
  },
  {
   "cell_type": "code",
   "execution_count": 13,
   "metadata": {
    "collapsed": false,
    "scrolled": false
   },
   "outputs": [
    {
     "name": "stdout",
     "output_type": "stream",
     "text": [
      "103\n",
      "206\n",
      "1    13\n",
      "2     7\n",
      "0     6\n",
      "Name: level, dtype: int64\n",
      "Train on 206 samples, validate on 26 samples\n",
      "Epoch 1/20\n",
      "206/206 [==============================] - 53s - loss: 1.7762 - mean_absolute_error: 0.9515 - val_loss: 1.0862 - val_mean_absolute_error: 0.8885\n",
      "Epoch 2/20\n",
      "184/206 [=========================>....] - ETA: 5s - loss: nan - mean_absolute_error: nan"
     ]
    },
    {
     "ename": "KeyboardInterrupt",
     "evalue": "",
     "output_type": "error",
     "traceback": [
      "\u001b[1;31m---------------------------------------------------------------------------\u001b[0m",
      "\u001b[1;31mKeyboardInterrupt\u001b[0m                         Traceback (most recent call last)",
      "\u001b[1;32m<ipython-input-13-9b5c132419c0>\u001b[0m in \u001b[0;36m<module>\u001b[1;34m()\u001b[0m\n\u001b[0;32m     40\u001b[0m                   \u001b[0mshuffle\u001b[0m\u001b[1;33m=\u001b[0m\u001b[0mTrue\u001b[0m\u001b[1;33m,\u001b[0m\u001b[1;33m\u001b[0m\u001b[0m\n\u001b[0;32m     41\u001b[0m                   \u001b[0mnb_epoch\u001b[0m\u001b[1;33m=\u001b[0m\u001b[1;36m20\u001b[0m\u001b[1;33m,\u001b[0m\u001b[1;33m\u001b[0m\u001b[0m\n\u001b[1;32m---> 42\u001b[1;33m                   verbose=1)\n\u001b[0m\u001b[0;32m     43\u001b[0m     \u001b[0mplot_nn_hist\u001b[0m\u001b[1;33m(\u001b[0m\u001b[0mhist\u001b[0m\u001b[1;33m)\u001b[0m\u001b[1;33m\u001b[0m\u001b[0m\n\u001b[0;32m     44\u001b[0m     \u001b[0my_train_pred\u001b[0m \u001b[1;33m=\u001b[0m \u001b[0mnn\u001b[0m\u001b[1;33m.\u001b[0m\u001b[0mpredict\u001b[0m\u001b[1;33m(\u001b[0m\u001b[0mX_train\u001b[0m\u001b[1;33m)\u001b[0m\u001b[1;33m\u001b[0m\u001b[0m\n",
      "\u001b[1;32m/opt/anaconda2/lib/python2.7/site-packages/keras/engine/training.pyc\u001b[0m in \u001b[0;36mfit\u001b[1;34m(self, x, y, batch_size, nb_epoch, verbose, callbacks, validation_split, validation_data, shuffle, class_weight, sample_weight)\u001b[0m\n\u001b[0;32m   1106\u001b[0m                               \u001b[0mverbose\u001b[0m\u001b[1;33m=\u001b[0m\u001b[0mverbose\u001b[0m\u001b[1;33m,\u001b[0m \u001b[0mcallbacks\u001b[0m\u001b[1;33m=\u001b[0m\u001b[0mcallbacks\u001b[0m\u001b[1;33m,\u001b[0m\u001b[1;33m\u001b[0m\u001b[0m\n\u001b[0;32m   1107\u001b[0m                               \u001b[0mval_f\u001b[0m\u001b[1;33m=\u001b[0m\u001b[0mval_f\u001b[0m\u001b[1;33m,\u001b[0m \u001b[0mval_ins\u001b[0m\u001b[1;33m=\u001b[0m\u001b[0mval_ins\u001b[0m\u001b[1;33m,\u001b[0m \u001b[0mshuffle\u001b[0m\u001b[1;33m=\u001b[0m\u001b[0mshuffle\u001b[0m\u001b[1;33m,\u001b[0m\u001b[1;33m\u001b[0m\u001b[0m\n\u001b[1;32m-> 1108\u001b[1;33m                               callback_metrics=callback_metrics)\n\u001b[0m\u001b[0;32m   1109\u001b[0m \u001b[1;33m\u001b[0m\u001b[0m\n\u001b[0;32m   1110\u001b[0m     \u001b[1;32mdef\u001b[0m \u001b[0mevaluate\u001b[0m\u001b[1;33m(\u001b[0m\u001b[0mself\u001b[0m\u001b[1;33m,\u001b[0m \u001b[0mx\u001b[0m\u001b[1;33m,\u001b[0m \u001b[0my\u001b[0m\u001b[1;33m,\u001b[0m \u001b[0mbatch_size\u001b[0m\u001b[1;33m=\u001b[0m\u001b[1;36m32\u001b[0m\u001b[1;33m,\u001b[0m \u001b[0mverbose\u001b[0m\u001b[1;33m=\u001b[0m\u001b[1;36m1\u001b[0m\u001b[1;33m,\u001b[0m \u001b[0msample_weight\u001b[0m\u001b[1;33m=\u001b[0m\u001b[0mNone\u001b[0m\u001b[1;33m)\u001b[0m\u001b[1;33m:\u001b[0m\u001b[1;33m\u001b[0m\u001b[0m\n",
      "\u001b[1;32m/opt/anaconda2/lib/python2.7/site-packages/keras/engine/training.pyc\u001b[0m in \u001b[0;36m_fit_loop\u001b[1;34m(self, f, ins, out_labels, batch_size, nb_epoch, verbose, callbacks, val_f, val_ins, shuffle, callback_metrics)\u001b[0m\n\u001b[0;32m    824\u001b[0m                 \u001b[0mbatch_logs\u001b[0m\u001b[1;33m[\u001b[0m\u001b[1;34m'size'\u001b[0m\u001b[1;33m]\u001b[0m \u001b[1;33m=\u001b[0m \u001b[0mlen\u001b[0m\u001b[1;33m(\u001b[0m\u001b[0mbatch_ids\u001b[0m\u001b[1;33m)\u001b[0m\u001b[1;33m\u001b[0m\u001b[0m\n\u001b[0;32m    825\u001b[0m                 \u001b[0mcallbacks\u001b[0m\u001b[1;33m.\u001b[0m\u001b[0mon_batch_begin\u001b[0m\u001b[1;33m(\u001b[0m\u001b[0mbatch_index\u001b[0m\u001b[1;33m,\u001b[0m \u001b[0mbatch_logs\u001b[0m\u001b[1;33m)\u001b[0m\u001b[1;33m\u001b[0m\u001b[0m\n\u001b[1;32m--> 826\u001b[1;33m                 \u001b[0mouts\u001b[0m \u001b[1;33m=\u001b[0m \u001b[0mf\u001b[0m\u001b[1;33m(\u001b[0m\u001b[0mins_batch\u001b[0m\u001b[1;33m)\u001b[0m\u001b[1;33m\u001b[0m\u001b[0m\n\u001b[0m\u001b[0;32m    827\u001b[0m                 \u001b[1;32mif\u001b[0m \u001b[0mtype\u001b[0m\u001b[1;33m(\u001b[0m\u001b[0mouts\u001b[0m\u001b[1;33m)\u001b[0m \u001b[1;33m!=\u001b[0m \u001b[0mlist\u001b[0m\u001b[1;33m:\u001b[0m\u001b[1;33m\u001b[0m\u001b[0m\n\u001b[0;32m    828\u001b[0m                     \u001b[0mouts\u001b[0m \u001b[1;33m=\u001b[0m \u001b[1;33m[\u001b[0m\u001b[0mouts\u001b[0m\u001b[1;33m]\u001b[0m\u001b[1;33m\u001b[0m\u001b[0m\n",
      "\u001b[1;32m/opt/anaconda2/lib/python2.7/site-packages/keras/backend/theano_backend.pyc\u001b[0m in \u001b[0;36m__call__\u001b[1;34m(self, inputs)\u001b[0m\n\u001b[0;32m    560\u001b[0m     \u001b[1;32mdef\u001b[0m \u001b[0m__call__\u001b[0m\u001b[1;33m(\u001b[0m\u001b[0mself\u001b[0m\u001b[1;33m,\u001b[0m \u001b[0minputs\u001b[0m\u001b[1;33m)\u001b[0m\u001b[1;33m:\u001b[0m\u001b[1;33m\u001b[0m\u001b[0m\n\u001b[0;32m    561\u001b[0m         \u001b[1;32massert\u001b[0m \u001b[0mtype\u001b[0m\u001b[1;33m(\u001b[0m\u001b[0minputs\u001b[0m\u001b[1;33m)\u001b[0m \u001b[1;32min\u001b[0m \u001b[1;33m{\u001b[0m\u001b[0mlist\u001b[0m\u001b[1;33m,\u001b[0m \u001b[0mtuple\u001b[0m\u001b[1;33m}\u001b[0m\u001b[1;33m\u001b[0m\u001b[0m\n\u001b[1;32m--> 562\u001b[1;33m         \u001b[1;32mreturn\u001b[0m \u001b[0mself\u001b[0m\u001b[1;33m.\u001b[0m\u001b[0mfunction\u001b[0m\u001b[1;33m(\u001b[0m\u001b[1;33m*\u001b[0m\u001b[0minputs\u001b[0m\u001b[1;33m)\u001b[0m\u001b[1;33m\u001b[0m\u001b[0m\n\u001b[0m\u001b[0;32m    563\u001b[0m \u001b[1;33m\u001b[0m\u001b[0m\n\u001b[0;32m    564\u001b[0m \u001b[1;33m\u001b[0m\u001b[0m\n",
      "\u001b[1;32m/opt/anaconda2/lib/python2.7/site-packages/theano/compile/function_module.pyc\u001b[0m in \u001b[0;36m__call__\u001b[1;34m(self, *args, **kwargs)\u001b[0m\n\u001b[0;32m    860\u001b[0m         \u001b[1;32mtry\u001b[0m\u001b[1;33m:\u001b[0m\u001b[1;33m\u001b[0m\u001b[0m\n\u001b[0;32m    861\u001b[0m             \u001b[0moutputs\u001b[0m \u001b[1;33m=\u001b[0m\u001b[0;31m\\\u001b[0m\u001b[1;33m\u001b[0m\u001b[0m\n\u001b[1;32m--> 862\u001b[1;33m                 \u001b[0mself\u001b[0m\u001b[1;33m.\u001b[0m\u001b[0mfn\u001b[0m\u001b[1;33m(\u001b[0m\u001b[1;33m)\u001b[0m \u001b[1;32mif\u001b[0m \u001b[0moutput_subset\u001b[0m \u001b[1;32mis\u001b[0m \u001b[0mNone\u001b[0m \u001b[1;32melse\u001b[0m\u001b[0;31m\\\u001b[0m\u001b[1;33m\u001b[0m\u001b[0m\n\u001b[0m\u001b[0;32m    863\u001b[0m                 \u001b[0mself\u001b[0m\u001b[1;33m.\u001b[0m\u001b[0mfn\u001b[0m\u001b[1;33m(\u001b[0m\u001b[0moutput_subset\u001b[0m\u001b[1;33m=\u001b[0m\u001b[0moutput_subset\u001b[0m\u001b[1;33m)\u001b[0m\u001b[1;33m\u001b[0m\u001b[0m\n\u001b[0;32m    864\u001b[0m         \u001b[1;32mexcept\u001b[0m \u001b[0mException\u001b[0m\u001b[1;33m:\u001b[0m\u001b[1;33m\u001b[0m\u001b[0m\n",
      "\u001b[1;32m/opt/anaconda2/lib/python2.7/site-packages/theano/scan_module/scan_op.pyc\u001b[0m in \u001b[0;36mrval\u001b[1;34m(p, i, o, n, allow_gc)\u001b[0m\n\u001b[0;32m    947\u001b[0m         \u001b[0mallow_gc\u001b[0m \u001b[1;33m=\u001b[0m \u001b[0mconfig\u001b[0m\u001b[1;33m.\u001b[0m\u001b[0mallow_gc\u001b[0m \u001b[1;32mand\u001b[0m \u001b[1;32mnot\u001b[0m \u001b[0mself\u001b[0m\u001b[1;33m.\u001b[0m\u001b[0mallow_gc\u001b[0m\u001b[1;33m\u001b[0m\u001b[0m\n\u001b[0;32m    948\u001b[0m \u001b[1;33m\u001b[0m\u001b[0m\n\u001b[1;32m--> 949\u001b[1;33m         def rval(p=p, i=node_input_storage, o=node_output_storage, n=node,\n\u001b[0m\u001b[0;32m    950\u001b[0m                  allow_gc=allow_gc):\n\u001b[0;32m    951\u001b[0m             \u001b[0mr\u001b[0m \u001b[1;33m=\u001b[0m \u001b[0mp\u001b[0m\u001b[1;33m(\u001b[0m\u001b[0mn\u001b[0m\u001b[1;33m,\u001b[0m \u001b[1;33m[\u001b[0m\u001b[0mx\u001b[0m\u001b[1;33m[\u001b[0m\u001b[1;36m0\u001b[0m\u001b[1;33m]\u001b[0m \u001b[1;32mfor\u001b[0m \u001b[0mx\u001b[0m \u001b[1;32min\u001b[0m \u001b[0mi\u001b[0m\u001b[1;33m]\u001b[0m\u001b[1;33m,\u001b[0m \u001b[0mo\u001b[0m\u001b[1;33m)\u001b[0m\u001b[1;33m\u001b[0m\u001b[0m\n",
      "\u001b[1;31mKeyboardInterrupt\u001b[0m: "
     ]
    }
   ],
   "source": [
    "train_res = list()\n",
    "test_res = list()\n",
    "\n",
    "n_shuffles = 1\n",
    "\n",
    "for train_idx, test_idx in StratifiedShuffleSplit(y, n_iter=10, test_size=0.2, random_state=2016):\n",
    "    X_train = df.iloc[train_idx]['digitized_text'].values.tolist()\n",
    "    y_train = y.iloc[train_idx].values.tolist()\n",
    "    print(len(X_train))\n",
    "    for s in range(n_shuffles):\n",
    "        for i in range(len(train_idx)):\n",
    "            orig_x = X_train[i]\n",
    "            orig_y = y_train[i]\n",
    "            f_start = 0\n",
    "            f_end = 0\n",
    "            shuffled = list()\n",
    "            for f in fields:\n",
    "                f_start = f_end\n",
    "                f_end += text_block_len[f]\n",
    "                f = orig_x[f_start:f_end].tolist()\n",
    "                random.shuffle(f)\n",
    "                shuffled.extend(f)\n",
    "            assert len(shuffled) == len(orig_x)\n",
    "            X_train.append(np.array(shuffled))\n",
    "            y_train.append(orig_y)\n",
    "    \n",
    "    X_train = np.vstack(X_train)\n",
    "    y_train = np.array(y_train)\n",
    "    print(len(X_train))\n",
    "    \n",
    "    X_valid = np.vstack(df.iloc[test_idx]['digitized_text'].values)\n",
    "    y_valid = y.iloc[test_idx].values\n",
    "    print(y.iloc[test_idx].value_counts())\n",
    "    nn = get_nn(n_words, max_len)\n",
    "    class_dist = y.iloc[train_idx].value_counts().to_dict()\n",
    "    class_w = {i:(len(y_train)/(len(class_dist) + n_shuffles * len(class_dist)))/j for i,j in class_dist.iteritems()}\n",
    "    hist = nn.fit(X_train, y_train, class_weight=class_w,\n",
    "                  batch_size=8,\n",
    "                  validation_data=(X_valid, y_valid),\n",
    "                  shuffle=True,\n",
    "                  nb_epoch=20, \n",
    "                  verbose=1)\n",
    "    plot_nn_hist(hist)\n",
    "    y_train_pred = nn.predict(X_train)\n",
    "    y_valid_pred = nn.predict(X_valid)\n",
    "    train_res.extend(evaluate(y_train, y_train_pred))\n",
    "    test_res.extend(evaluate(y_valid, y_valid_pred))\n",
    "    viz_res(train_res, 'training')\n",
    "    viz_res(test_res, 'validation')"
   ]
  },
  {
   "cell_type": "code",
   "execution_count": null,
   "metadata": {
    "collapsed": false,
    "scrolled": false
   },
   "outputs": [],
   "source": [
    "viz_res(train_res, 'training')\n",
    "viz_res(test_res, 'validation')"
   ]
  },
  {
   "cell_type": "code",
   "execution_count": null,
   "metadata": {
    "collapsed": true
   },
   "outputs": [],
   "source": []
  }
 ],
 "metadata": {
  "kernelspec": {
   "display_name": "Python 2",
   "language": "python",
   "name": "python2"
  },
  "language_info": {
   "codemirror_mode": {
    "name": "ipython",
    "version": 2
   },
   "file_extension": ".py",
   "mimetype": "text/x-python",
   "name": "python",
   "nbconvert_exporter": "python",
   "pygments_lexer": "ipython2",
   "version": "2.7.12"
  }
 },
 "nbformat": 4,
 "nbformat_minor": 0
}
