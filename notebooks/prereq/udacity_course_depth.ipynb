{
 "cells": [
  {
   "cell_type": "code",
   "execution_count": 1,
   "metadata": {
    "collapsed": false
   },
   "outputs": [
    {
     "name": "stdout",
     "output_type": "stream",
     "text": [
      "Populating the interactive namespace from numpy and matplotlib\n"
     ]
    },
    {
     "data": {
      "text/html": [
       "\n",
       "    <div class=\"bk-root\">\n",
       "        <a href=\"http://bokeh.pydata.org\" target=\"_blank\" class=\"bk-logo bk-logo-small bk-logo-notebook\"></a>\n",
       "        <span id=\"f2f57129-8c11-45d6-9b17-1db14583327a\">Loading BokehJS ...</span>\n",
       "    </div>"
      ]
     },
     "metadata": {},
     "output_type": "display_data"
    },
    {
     "data": {
      "application/javascript": [
       "\n",
       "(function(global) {\n",
       "  function now() {\n",
       "    return new Date();\n",
       "  }\n",
       "\n",
       "  if (typeof (window._bokeh_onload_callbacks) === \"undefined\") {\n",
       "    window._bokeh_onload_callbacks = [];\n",
       "  }\n",
       "\n",
       "  function run_callbacks() {\n",
       "    window._bokeh_onload_callbacks.forEach(function(callback) { callback() });\n",
       "    delete window._bokeh_onload_callbacks\n",
       "    console.info(\"Bokeh: all callbacks have finished\");\n",
       "  }\n",
       "\n",
       "  function load_libs(js_urls, callback) {\n",
       "    window._bokeh_onload_callbacks.push(callback);\n",
       "    if (window._bokeh_is_loading > 0) {\n",
       "      console.log(\"Bokeh: BokehJS is being loaded, scheduling callback at\", now());\n",
       "      return null;\n",
       "    }\n",
       "    if (js_urls == null || js_urls.length === 0) {\n",
       "      run_callbacks();\n",
       "      return null;\n",
       "    }\n",
       "    console.log(\"Bokeh: BokehJS not loaded, scheduling load and callback at\", now());\n",
       "    window._bokeh_is_loading = js_urls.length;\n",
       "    for (var i = 0; i < js_urls.length; i++) {\n",
       "      var url = js_urls[i];\n",
       "      var s = document.createElement('script');\n",
       "      s.src = url;\n",
       "      s.async = false;\n",
       "      s.onreadystatechange = s.onload = function() {\n",
       "        window._bokeh_is_loading--;\n",
       "        if (window._bokeh_is_loading === 0) {\n",
       "          console.log(\"Bokeh: all BokehJS libraries loaded\");\n",
       "          run_callbacks()\n",
       "        }\n",
       "      };\n",
       "      s.onerror = function() {\n",
       "        console.warn(\"failed to load library \" + url);\n",
       "      };\n",
       "      console.log(\"Bokeh: injecting script tag for BokehJS library: \", url);\n",
       "      document.getElementsByTagName(\"head\")[0].appendChild(s);\n",
       "    }\n",
       "  };\n",
       "\n",
       "  var js_urls = ['https://cdn.pydata.org/bokeh/release/bokeh-0.12.0.min.js', 'https://cdn.pydata.org/bokeh/release/bokeh-widgets-0.12.0.min.js', 'https://cdn.pydata.org/bokeh/release/bokeh-compiler-0.12.0.min.js'];\n",
       "\n",
       "  var inline_js = [\n",
       "    function(Bokeh) {\n",
       "      Bokeh.set_log_level(\"info\");\n",
       "    },\n",
       "    \n",
       "    function(Bokeh) {\n",
       "      Bokeh.$(\"#f2f57129-8c11-45d6-9b17-1db14583327a\").text(\"BokehJS successfully loaded\");\n",
       "    },\n",
       "    function(Bokeh) {\n",
       "      console.log(\"Bokeh: injecting CSS: https://cdn.pydata.org/bokeh/release/bokeh-0.12.0.min.css\");\n",
       "      Bokeh.embed.inject_css(\"https://cdn.pydata.org/bokeh/release/bokeh-0.12.0.min.css\");\n",
       "      console.log(\"Bokeh: injecting CSS: https://cdn.pydata.org/bokeh/release/bokeh-widgets-0.12.0.min.css\");\n",
       "      Bokeh.embed.inject_css(\"https://cdn.pydata.org/bokeh/release/bokeh-widgets-0.12.0.min.css\");\n",
       "    }\n",
       "  ];\n",
       "\n",
       "  function run_inline_js() {\n",
       "    for (var i = 0; i < inline_js.length; i++) {\n",
       "      inline_js[i](window.Bokeh);\n",
       "    }\n",
       "  }\n",
       "\n",
       "  if (window._bokeh_is_loading === 0) {\n",
       "    console.log(\"Bokeh: BokehJS loaded, going straight to plotting\");\n",
       "    run_inline_js();\n",
       "  } else {\n",
       "    load_libs(js_urls, function() {\n",
       "      console.log(\"Bokeh: BokehJS plotting callback run at\", now());\n",
       "      run_inline_js();\n",
       "    });\n",
       "  }\n",
       "}(this));"
      ]
     },
     "metadata": {},
     "output_type": "display_data"
    },
    {
     "name": "stderr",
     "output_type": "stream",
     "text": [
      "Using Theano backend.\n"
     ]
    }
   ],
   "source": [
    "from __future__ import print_function, division\n",
    "%run basics.ipynb"
   ]
  },
  {
   "cell_type": "code",
   "execution_count": 2,
   "metadata": {
    "collapsed": false
   },
   "outputs": [
    {
     "name": "stdout",
     "output_type": "stream",
     "text": [
      "129\n",
      "Index([u'id', u'title', u'homepage', u'subtitle', u'level', u'starter',\n",
      "       u'image', u'banner_image', u'teaser_video', u'summary',\n",
      "       u'short_summary', u'required_knowledge', u'expected_learning',\n",
      "       u'featured', u'syllabus', u'faq', u'full_course_available',\n",
      "       u'expected_duration', u'expected_duration_unit', u'new_release',\n",
      "       u'transcripts_url', u'transcripts_zip_fn', u'transcript'],\n",
      "      dtype='object')\n"
     ]
    },
    {
     "data": {
      "text/html": [
       "<div>\n",
       "<table border=\"1\" class=\"dataframe\">\n",
       "  <thead>\n",
       "    <tr style=\"text-align: right;\">\n",
       "      <th></th>\n",
       "      <th>id</th>\n",
       "      <th>title</th>\n",
       "      <th>homepage</th>\n",
       "      <th>subtitle</th>\n",
       "      <th>level</th>\n",
       "      <th>starter</th>\n",
       "      <th>image</th>\n",
       "      <th>banner_image</th>\n",
       "      <th>teaser_video</th>\n",
       "      <th>summary</th>\n",
       "      <th>...</th>\n",
       "      <th>featured</th>\n",
       "      <th>syllabus</th>\n",
       "      <th>faq</th>\n",
       "      <th>full_course_available</th>\n",
       "      <th>expected_duration</th>\n",
       "      <th>expected_duration_unit</th>\n",
       "      <th>new_release</th>\n",
       "      <th>transcripts_url</th>\n",
       "      <th>transcripts_zip_fn</th>\n",
       "      <th>transcript</th>\n",
       "    </tr>\n",
       "  </thead>\n",
       "  <tbody>\n",
       "    <tr>\n",
       "      <th>0</th>\n",
       "      <td>bio110</td>\n",
       "      <td>Tales from the Genome</td>\n",
       "      <td>https://www.udacity.com/course/tales-from-the-...</td>\n",
       "      <td>Introduction to Genetics for Beginners</td>\n",
       "      <td>beginner</td>\n",
       "      <td>False</td>\n",
       "      <td>https://lh5.ggpht.com/Fh07_XbT61CGDWsQoOMQaIeH...</td>\n",
       "      <td>https://lh4.ggpht.com/_AHqr0EXcLBzF0rrwtBagE0t...</td>\n",
       "      <td>https://www.youtube.com/watch?v=sEXrjh-tme8</td>\n",
       "      <td>This course is a journey into the biology of t...</td>\n",
       "      <td>...</td>\n",
       "      <td>False</td>\n",
       "      <td>## Lesson 1: Introduction to traits and heredi...</td>\n",
       "      <td>NaN</td>\n",
       "      <td>False</td>\n",
       "      <td>3</td>\n",
       "      <td>months</td>\n",
       "      <td>False</td>\n",
       "      <td>https://www.udacity.com/course/progress#!/c-bi...</td>\n",
       "      <td>transcripts_zips/bio110.zip</td>\n",
       "      <td>In the same way that our genomes influence tr...</td>\n",
       "    </tr>\n",
       "    <tr>\n",
       "      <th>1</th>\n",
       "      <td>cs046</td>\n",
       "      <td>Intro to Java Programming</td>\n",
       "      <td>https://www.udacity.com/course/intro-to-java-p...</td>\n",
       "      <td>Building Programs with Classes &amp; Objects</td>\n",
       "      <td>beginner</td>\n",
       "      <td>False</td>\n",
       "      <td>https://lh4.ggpht.com/9ytiUdz0QYHwuMJFTXcNXZn4...</td>\n",
       "      <td>https://lh3.ggpht.com/AdAALPYhCsWuIvDl0ZY6zIW2...</td>\n",
       "      <td>https://www.youtube.com/watch?v=Wsp5Rrenoq4</td>\n",
       "      <td>In this introductory course, you'll learn and ...</td>\n",
       "      <td>...</td>\n",
       "      <td>False</td>\n",
       "      <td>### Lesson 1: Introduction to Computers, Progr...</td>\n",
       "      <td>NaN</td>\n",
       "      <td>True</td>\n",
       "      <td>4</td>\n",
       "      <td>months</td>\n",
       "      <td>False</td>\n",
       "      <td>https://www.udacity.com/course/progress#!/c-cs046</td>\n",
       "      <td>transcripts_zips/cs046.zip</td>\n",
       "      <td>Hi, I'm Cay. I'm Sara. We'll be the instructo...</td>\n",
       "    </tr>\n",
       "  </tbody>\n",
       "</table>\n",
       "<p>2 rows × 23 columns</p>\n",
       "</div>"
      ],
      "text/plain": [
       "       id                      title  \\\n",
       "0  bio110      Tales from the Genome   \n",
       "1   cs046  Intro to Java Programming   \n",
       "\n",
       "                                            homepage  \\\n",
       "0  https://www.udacity.com/course/tales-from-the-...   \n",
       "1  https://www.udacity.com/course/intro-to-java-p...   \n",
       "\n",
       "                                   subtitle     level starter  \\\n",
       "0    Introduction to Genetics for Beginners  beginner   False   \n",
       "1  Building Programs with Classes & Objects  beginner   False   \n",
       "\n",
       "                                               image  \\\n",
       "0  https://lh5.ggpht.com/Fh07_XbT61CGDWsQoOMQaIeH...   \n",
       "1  https://lh4.ggpht.com/9ytiUdz0QYHwuMJFTXcNXZn4...   \n",
       "\n",
       "                                        banner_image  \\\n",
       "0  https://lh4.ggpht.com/_AHqr0EXcLBzF0rrwtBagE0t...   \n",
       "1  https://lh3.ggpht.com/AdAALPYhCsWuIvDl0ZY6zIW2...   \n",
       "\n",
       "                                  teaser_video  \\\n",
       "0  https://www.youtube.com/watch?v=sEXrjh-tme8   \n",
       "1  https://www.youtube.com/watch?v=Wsp5Rrenoq4   \n",
       "\n",
       "                                             summary  \\\n",
       "0  This course is a journey into the biology of t...   \n",
       "1  In this introductory course, you'll learn and ...   \n",
       "\n",
       "                         ...                         featured  \\\n",
       "0                        ...                            False   \n",
       "1                        ...                            False   \n",
       "\n",
       "                                            syllabus  faq  \\\n",
       "0  ## Lesson 1: Introduction to traits and heredi...  NaN   \n",
       "1  ### Lesson 1: Introduction to Computers, Progr...  NaN   \n",
       "\n",
       "  full_course_available expected_duration expected_duration_unit new_release  \\\n",
       "0                 False                 3                 months       False   \n",
       "1                  True                 4                 months       False   \n",
       "\n",
       "                                     transcripts_url  \\\n",
       "0  https://www.udacity.com/course/progress#!/c-bi...   \n",
       "1  https://www.udacity.com/course/progress#!/c-cs046   \n",
       "\n",
       "            transcripts_zip_fn  \\\n",
       "0  transcripts_zips/bio110.zip   \n",
       "1   transcripts_zips/cs046.zip   \n",
       "\n",
       "                                          transcript  \n",
       "0   In the same way that our genomes influence tr...  \n",
       "1   Hi, I'm Cay. I'm Sara. We'll be the instructo...  \n",
       "\n",
       "[2 rows x 23 columns]"
      ]
     },
     "execution_count": 2,
     "metadata": {},
     "output_type": "execute_result"
    }
   ],
   "source": [
    "df = pd.read_pickle('udacity_courses.df')\n",
    "print(len(df))\n",
    "print(df.columns)\n",
    "df.head(2)"
   ]
  },
  {
   "cell_type": "code",
   "execution_count": 3,
   "metadata": {
    "collapsed": false
   },
   "outputs": [
    {
     "data": {
      "text/html": [
       "<div>\n",
       "<table border=\"1\" class=\"dataframe\">\n",
       "  <thead>\n",
       "    <tr style=\"text-align: right;\">\n",
       "      <th></th>\n",
       "      <th>u_id</th>\n",
       "      <th>u_pre_req_id</th>\n",
       "    </tr>\n",
       "  </thead>\n",
       "  <tbody>\n",
       "    <tr>\n",
       "      <th>0</th>\n",
       "      <td>cs222</td>\n",
       "      <td>cs101</td>\n",
       "    </tr>\n",
       "    <tr>\n",
       "      <th>1</th>\n",
       "      <td>cs222</td>\n",
       "      <td>ph100</td>\n",
       "    </tr>\n",
       "  </tbody>\n",
       "</table>\n",
       "</div>"
      ],
      "text/plain": [
       "    u_id u_pre_req_id\n",
       "0  cs222        cs101\n",
       "1  cs222        ph100"
      ]
     },
     "execution_count": 3,
     "metadata": {},
     "output_type": "execute_result"
    }
   ],
   "source": [
    "df_prereq = pd.read_csv('udacity_prereq_graph.csv')\n",
    "df_prereq.head(2)"
   ]
  },
  {
   "cell_type": "code",
   "execution_count": 4,
   "metadata": {
    "collapsed": false
   },
   "outputs": [
    {
     "name": "stdout",
     "output_type": "stream",
     "text": [
      "self prereq: 2\n"
     ]
    }
   ],
   "source": [
    "print('self prereq:', (df_prereq['u_id'] == df_prereq['u_pre_req_id']).sum())"
   ]
  },
  {
   "cell_type": "code",
   "execution_count": 5,
   "metadata": {
    "collapsed": false
   },
   "outputs": [
    {
     "name": "stdout",
     "output_type": "stream",
     "text": [
      "     u_id u_pre_req_id\n",
      "23  ud257        ud201\n",
      "24  ud257        ud827\n"
     ]
    }
   ],
   "source": [
    "print(df_prereq[df_prereq['u_id'] == 'ud257'])"
   ]
  },
  {
   "cell_type": "code",
   "execution_count": 6,
   "metadata": {
    "collapsed": false
   },
   "outputs": [
    {
     "data": {
      "text/plain": [
       "True    118\n",
       "Name: in_u_id, dtype: int64"
      ]
     },
     "execution_count": 6,
     "metadata": {},
     "output_type": "execute_result"
    }
   ],
   "source": [
    "set_cids = set(df_prereq['u_pre_req_id'])\n",
    "df_prereq['in_u_id'] = df_prereq['u_pre_req_id'].apply(lambda x: x in set_cids)\n",
    "df_prereq['in_u_id'].value_counts()"
   ]
  },
  {
   "cell_type": "code",
   "execution_count": 7,
   "metadata": {
    "collapsed": false
   },
   "outputs": [
    {
     "name": "stdout",
     "output_type": "stream",
     "text": [
      "[('ud775', 16), ('cs101', 13), ('ud853', 13), ('ud804', 8), ('ud036', 8), ('ud855', 8), ('ud304', 6), ('ud827', 5), ('ud201', 4), ('cs046', 4)]\n"
     ]
    }
   ],
   "source": [
    "prereq_counts = sorted(Counter(df_prereq['u_pre_req_id'].values).items(), key=itemgetter(1), reverse=True)\n",
    "print(prereq_counts[:10])"
   ]
  },
  {
   "cell_type": "code",
   "execution_count": 8,
   "metadata": {
    "collapsed": true
   },
   "outputs": [],
   "source": [
    "df_prereq = pd.DataFrame(columns=[0], data=df_prereq.groupby(by='u_id').apply(lambda x: ' '.join(x['u_pre_req_id'].values)))\n",
    "\n",
    "def resolve_course_titles(element, c_df):\n",
    "    if isinstance(element, float):\n",
    "        return np.nan\n",
    "    t = np.nan\n",
    "    try:\n",
    "        t = c_df[c_df['id']==element].iloc[0]['title']\n",
    "    except IndexError:\n",
    "        pass\n",
    "    return t\n",
    "\n",
    "df_prereq['c_title'] = map(lambda x: resolve_course_titles(x, df), df_prereq.index)\n",
    "\n",
    "\n",
    "def resolve_prereq_titles(element, c_df):\n",
    "    if isinstance(element, float):\n",
    "        return np.nan\n",
    "    t = list()\n",
    "    for i in element.split():\n",
    "        try:\n",
    "            t.append(c_df[c_df['id']==i].iloc[0]['title'])\n",
    "        except IndexError:\n",
    "            pass\n",
    "    return ' ,'.join(t)\n",
    "\n",
    "df_prereq['p_titles'] = df_prereq[0].apply(resolve_prereq_titles, args=(df ,))"
   ]
  },
  {
   "cell_type": "code",
   "execution_count": 9,
   "metadata": {
    "collapsed": false
   },
   "outputs": [
    {
     "name": "stdout",
     "output_type": "stream",
     "text": [
      "Differential Equations in Action\n",
      "\t Intro to Computer Science \n",
      "\t Intro to Physics \n",
      "\t Programming Foundations with Python\n",
      "Web Development\n",
      "\t Intro to Computer Science \n",
      "\t Programming Foundations with Python\n",
      "Intro to Artificial Intelligence\n",
      "\t Intro to Statistics\n",
      "Intro to Theoretical Computer Science\n",
      "\t Intro to Computer Science \n",
      "\t Intro to Algorithms\n",
      "Artificial Intelligence for Robotics\n",
      "\t Intro to Computer Science\n",
      "Firebase Essentials For Android\n",
      "\t Firebase Essentials For Android\n",
      "Object-Oriented JavaScript\n",
      "\t JavaScript Basics\n",
      "Intro to Machine Learning\n",
      "\t Intro to Computer Science \n",
      "\t Intro to Inferential Statistics \n",
      "\t Intro to Data Science \n",
      "\t How to Use Git and GitHub \n",
      "\t Intro to Descriptive Statistics\n",
      "Intro to Data Analysis\n",
      "\t Intro to Computer Science \n",
      "\t Programming Foundations with Python\n",
      "Intro to Relational Databases\n",
      "\t Programming Foundations with Python \n",
      "\t How to Use Git and GitHub\n",
      "Intro to Inferential Statistics\n",
      "\t Intro to Descriptive Statistics\n",
      "Intro to jQuery\n",
      "\t Intro to HTML and CSS \n",
      "\t JavaScript Basics\n",
      "A/B Testing\n",
      "\t Intro to Inferential Statistics \n",
      "\t Intro to Descriptive Statistics\n",
      "Machine Learning\n",
      "\t Intro to Computer Science \n",
      "\t Intro to Artificial Intelligence \n",
      "\t Intro to Statistics\n",
      "HTML5 Canvas\n",
      "\t Intro to HTML and CSS \n",
      "\t JavaScript Basics\n",
      "Configuring Linux Web Servers\n",
      "\t Programming Foundations with Python \n",
      "\t Intro to Relational Databases\n",
      "iOS Persistence and Core Data\n",
      "\t iOS Networking with Swift \n",
      "\t Intro to iOS App Development with Swift \n",
      "\t How to Use Git and GitHub \n",
      "\t UIKit Fundamentals\n",
      "Authentication & Authorization: OAuth\n",
      "\t Full Stack Foundations \n",
      "\t Intro to AJAX \n",
      "\t Intro to HTML and CSS \n",
      "\t JavaScript Basics\n",
      "Intro to Data Science\n",
      "\t Intro to Computer Science \n",
      "\t Intro to Inferential Statistics \n",
      "\t Intro to Descriptive Statistics\n",
      "Real-Time Analytics with Apache Storm\n",
      "\t Intro to Java Programming\n"
     ]
    }
   ],
   "source": [
    "for idx, row in df_prereq.iloc[:20].iterrows():\n",
    "    print(row['c_title'])\n",
    "    for p in row['p_titles'].split(','):\n",
    "        print('\\t', p)"
   ]
  },
  {
   "cell_type": "code",
   "execution_count": 10,
   "metadata": {
    "collapsed": true
   },
   "outputs": [],
   "source": [
    "df_prereq.drop(['p_titles', 'c_title'], inplace=True, axis=1)"
   ]
  },
  {
   "cell_type": "code",
   "execution_count": 11,
   "metadata": {
    "collapsed": false
   },
   "outputs": [
    {
     "name": "stdout",
     "output_type": "stream",
     "text": [
      "0.5\n",
      "0.931034482759\n"
     ]
    },
    {
     "data": {
      "text/html": [
       "<div>\n",
       "<table border=\"1\" class=\"dataframe\">\n",
       "  <thead>\n",
       "    <tr style=\"text-align: right;\">\n",
       "      <th></th>\n",
       "      <th>0</th>\n",
       "      <th>1</th>\n",
       "      <th>2</th>\n",
       "    </tr>\n",
       "    <tr>\n",
       "      <th>u_id</th>\n",
       "      <th></th>\n",
       "      <th></th>\n",
       "      <th></th>\n",
       "    </tr>\n",
       "  </thead>\n",
       "  <tbody>\n",
       "    <tr>\n",
       "      <th>cs222</th>\n",
       "      <td>cs101 ph100 ud036</td>\n",
       "      <td>NaN</td>\n",
       "      <td>NaN</td>\n",
       "    </tr>\n",
       "    <tr>\n",
       "      <th>cs253</th>\n",
       "      <td>cs101 ud036</td>\n",
       "      <td>NaN</td>\n",
       "      <td>NaN</td>\n",
       "    </tr>\n",
       "    <tr>\n",
       "      <th>cs271</th>\n",
       "      <td>st101</td>\n",
       "      <td>NaN</td>\n",
       "      <td>NaN</td>\n",
       "    </tr>\n",
       "    <tr>\n",
       "      <th>cs313</th>\n",
       "      <td>cs101 cs215</td>\n",
       "      <td>NaN</td>\n",
       "      <td>NaN</td>\n",
       "    </tr>\n",
       "    <tr>\n",
       "      <th>cs373</th>\n",
       "      <td>cs101</td>\n",
       "      <td>NaN</td>\n",
       "      <td>NaN</td>\n",
       "    </tr>\n",
       "    <tr>\n",
       "      <th>ud009</th>\n",
       "      <td>ud009</td>\n",
       "      <td>NaN</td>\n",
       "      <td>NaN</td>\n",
       "    </tr>\n",
       "    <tr>\n",
       "      <th>ud015</th>\n",
       "      <td>ud804</td>\n",
       "      <td>cs101 ud036</td>\n",
       "      <td>NaN</td>\n",
       "    </tr>\n",
       "    <tr>\n",
       "      <th>ud120</th>\n",
       "      <td>cs101 ud201 ud359 ud775 ud827</td>\n",
       "      <td>ud595</td>\n",
       "      <td>ud036 ud197</td>\n",
       "    </tr>\n",
       "    <tr>\n",
       "      <th>ud170</th>\n",
       "      <td>cs101 ud036</td>\n",
       "      <td>NaN</td>\n",
       "      <td>NaN</td>\n",
       "    </tr>\n",
       "    <tr>\n",
       "      <th>ud197</th>\n",
       "      <td>ud036 ud775</td>\n",
       "      <td>ud595</td>\n",
       "      <td>ud197</td>\n",
       "    </tr>\n",
       "  </tbody>\n",
       "</table>\n",
       "</div>"
      ],
      "text/plain": [
       "                                   0            1            2\n",
       "u_id                                                          \n",
       "cs222              cs101 ph100 ud036          NaN          NaN\n",
       "cs253                    cs101 ud036          NaN          NaN\n",
       "cs271                          st101          NaN          NaN\n",
       "cs313                    cs101 cs215          NaN          NaN\n",
       "cs373                          cs101          NaN          NaN\n",
       "ud009                          ud009          NaN          NaN\n",
       "ud015                          ud804  cs101 ud036          NaN\n",
       "ud120  cs101 ud201 ud359 ud775 ud827        ud595  ud036 ud197\n",
       "ud170                    cs101 ud036          NaN          NaN\n",
       "ud197                    ud036 ud775        ud595        ud197"
      ]
     },
     "execution_count": 11,
     "metadata": {},
     "output_type": "execute_result"
    }
   ],
   "source": [
    "def find_next_level_prereq(row, col, df):\n",
    "    prereq = ''\n",
    "    already_in = set()\n",
    "    for i in row:\n",
    "        if isinstance(i, float):\n",
    "            break\n",
    "        already_in.update(set(i.split()))\n",
    "    last_element = row.iloc[-1]\n",
    "    if isinstance(last_element, float):\n",
    "        return np.nan\n",
    "    # print(last_element)\n",
    "    for i in last_element.split():\n",
    "        try:\n",
    "            new_prereq = df.at[i, col]\n",
    "            if not isinstance(new_prereq, float):\n",
    "                new_prereq = ' '.join(filter(lambda x: x not in already_in, new_prereq.split()))\n",
    "                prereq += new_prereq\n",
    "        except KeyError:\n",
    "            pass\n",
    "    if prereq == '':\n",
    "        return np.nan\n",
    "    return prereq\n",
    "\n",
    "def add_prereq_level(df):\n",
    "    max_level = max(df.columns)\n",
    "    df[max_level + 1] = df.apply(find_next_level_prereq, args=(max_level, df), axis=1)\n",
    "\n",
    "for i in range(2):\n",
    "    add_prereq_level(df_prereq)\n",
    "    print(df_prereq[df_prereq.columns[-1]].isnull().sum()/len(df_prereq))\n",
    "df_prereq.head(10)"
   ]
  },
  {
   "cell_type": "code",
   "execution_count": 12,
   "metadata": {
    "collapsed": false
   },
   "outputs": [
    {
     "data": {
      "text/html": [
       "<div>\n",
       "<table border=\"1\" class=\"dataframe\">\n",
       "  <thead>\n",
       "    <tr style=\"text-align: right;\">\n",
       "      <th></th>\n",
       "      <th>id</th>\n",
       "      <th>title</th>\n",
       "      <th>homepage</th>\n",
       "      <th>subtitle</th>\n",
       "      <th>level</th>\n",
       "      <th>starter</th>\n",
       "      <th>image</th>\n",
       "      <th>banner_image</th>\n",
       "      <th>teaser_video</th>\n",
       "      <th>summary</th>\n",
       "      <th>...</th>\n",
       "      <th>featured</th>\n",
       "      <th>syllabus</th>\n",
       "      <th>faq</th>\n",
       "      <th>full_course_available</th>\n",
       "      <th>expected_duration</th>\n",
       "      <th>expected_duration_unit</th>\n",
       "      <th>new_release</th>\n",
       "      <th>transcripts_url</th>\n",
       "      <th>transcripts_zip_fn</th>\n",
       "      <th>transcript</th>\n",
       "    </tr>\n",
       "  </thead>\n",
       "  <tbody>\n",
       "    <tr>\n",
       "      <th>0</th>\n",
       "      <td>bio110</td>\n",
       "      <td>Tales from the Genome</td>\n",
       "      <td>https://www.udacity.com/course/tales-from-the-...</td>\n",
       "      <td>Introduction to Genetics for Beginners</td>\n",
       "      <td>beginner</td>\n",
       "      <td>False</td>\n",
       "      <td>https://lh5.ggpht.com/Fh07_XbT61CGDWsQoOMQaIeH...</td>\n",
       "      <td>https://lh4.ggpht.com/_AHqr0EXcLBzF0rrwtBagE0t...</td>\n",
       "      <td>https://www.youtube.com/watch?v=sEXrjh-tme8</td>\n",
       "      <td>This course is a journey into the biology of t...</td>\n",
       "      <td>...</td>\n",
       "      <td>False</td>\n",
       "      <td>## Lesson 1: Introduction to traits and heredi...</td>\n",
       "      <td>NaN</td>\n",
       "      <td>False</td>\n",
       "      <td>3</td>\n",
       "      <td>months</td>\n",
       "      <td>False</td>\n",
       "      <td>https://www.udacity.com/course/progress#!/c-bi...</td>\n",
       "      <td>transcripts_zips/bio110.zip</td>\n",
       "      <td>In the same way that our genomes influence tr...</td>\n",
       "    </tr>\n",
       "    <tr>\n",
       "      <th>1</th>\n",
       "      <td>cs046</td>\n",
       "      <td>Intro to Java Programming</td>\n",
       "      <td>https://www.udacity.com/course/intro-to-java-p...</td>\n",
       "      <td>Building Programs with Classes &amp; Objects</td>\n",
       "      <td>beginner</td>\n",
       "      <td>False</td>\n",
       "      <td>https://lh4.ggpht.com/9ytiUdz0QYHwuMJFTXcNXZn4...</td>\n",
       "      <td>https://lh3.ggpht.com/AdAALPYhCsWuIvDl0ZY6zIW2...</td>\n",
       "      <td>https://www.youtube.com/watch?v=Wsp5Rrenoq4</td>\n",
       "      <td>In this introductory course, you'll learn and ...</td>\n",
       "      <td>...</td>\n",
       "      <td>False</td>\n",
       "      <td>### Lesson 1: Introduction to Computers, Progr...</td>\n",
       "      <td>NaN</td>\n",
       "      <td>True</td>\n",
       "      <td>4</td>\n",
       "      <td>months</td>\n",
       "      <td>False</td>\n",
       "      <td>https://www.udacity.com/course/progress#!/c-cs046</td>\n",
       "      <td>transcripts_zips/cs046.zip</td>\n",
       "      <td>Hi, I'm Cay. I'm Sara. We'll be the instructo...</td>\n",
       "    </tr>\n",
       "  </tbody>\n",
       "</table>\n",
       "<p>2 rows × 23 columns</p>\n",
       "</div>"
      ],
      "text/plain": [
       "       id                      title  \\\n",
       "0  bio110      Tales from the Genome   \n",
       "1   cs046  Intro to Java Programming   \n",
       "\n",
       "                                            homepage  \\\n",
       "0  https://www.udacity.com/course/tales-from-the-...   \n",
       "1  https://www.udacity.com/course/intro-to-java-p...   \n",
       "\n",
       "                                   subtitle     level starter  \\\n",
       "0    Introduction to Genetics for Beginners  beginner   False   \n",
       "1  Building Programs with Classes & Objects  beginner   False   \n",
       "\n",
       "                                               image  \\\n",
       "0  https://lh5.ggpht.com/Fh07_XbT61CGDWsQoOMQaIeH...   \n",
       "1  https://lh4.ggpht.com/9ytiUdz0QYHwuMJFTXcNXZn4...   \n",
       "\n",
       "                                        banner_image  \\\n",
       "0  https://lh4.ggpht.com/_AHqr0EXcLBzF0rrwtBagE0t...   \n",
       "1  https://lh3.ggpht.com/AdAALPYhCsWuIvDl0ZY6zIW2...   \n",
       "\n",
       "                                  teaser_video  \\\n",
       "0  https://www.youtube.com/watch?v=sEXrjh-tme8   \n",
       "1  https://www.youtube.com/watch?v=Wsp5Rrenoq4   \n",
       "\n",
       "                                             summary  \\\n",
       "0  This course is a journey into the biology of t...   \n",
       "1  In this introductory course, you'll learn and ...   \n",
       "\n",
       "                         ...                         featured  \\\n",
       "0                        ...                            False   \n",
       "1                        ...                            False   \n",
       "\n",
       "                                            syllabus  faq  \\\n",
       "0  ## Lesson 1: Introduction to traits and heredi...  NaN   \n",
       "1  ### Lesson 1: Introduction to Computers, Progr...  NaN   \n",
       "\n",
       "  full_course_available expected_duration expected_duration_unit new_release  \\\n",
       "0                 False                 3                 months       False   \n",
       "1                  True                 4                 months       False   \n",
       "\n",
       "                                     transcripts_url  \\\n",
       "0  https://www.udacity.com/course/progress#!/c-bi...   \n",
       "1  https://www.udacity.com/course/progress#!/c-cs046   \n",
       "\n",
       "            transcripts_zip_fn  \\\n",
       "0  transcripts_zips/bio110.zip   \n",
       "1   transcripts_zips/cs046.zip   \n",
       "\n",
       "                                          transcript  \n",
       "0   In the same way that our genomes influence tr...  \n",
       "1   Hi, I'm Cay. I'm Sara. We'll be the instructo...  \n",
       "\n",
       "[2 rows x 23 columns]"
      ]
     },
     "execution_count": 12,
     "metadata": {},
     "output_type": "execute_result"
    }
   ],
   "source": [
    "df.head(2)"
   ]
  },
  {
   "cell_type": "code",
   "execution_count": 13,
   "metadata": {
    "collapsed": false
   },
   "outputs": [
    {
     "data": {
      "text/plain": [
       "array(['beginner', 'advanced', 'intermediate', nan], dtype=object)"
      ]
     },
     "execution_count": 13,
     "metadata": {},
     "output_type": "execute_result"
    }
   ],
   "source": [
    "pd.unique(df['level'])"
   ]
  },
  {
   "cell_type": "code",
   "execution_count": 14,
   "metadata": {
    "collapsed": false
   },
   "outputs": [
    {
     "data": {
      "text/plain": [
       "defaultdict(<function __main__.<lambda>>,\n",
       "            {nan: 3,\n",
       "             'advanced': 1,\n",
       "             'beginner': 0,\n",
       "             'intermediate': 2,\n",
       "             'nan': 3})"
      ]
     },
     "execution_count": 14,
     "metadata": {},
     "output_type": "execute_result"
    }
   ],
   "source": [
    "from collections import defaultdict\n",
    "c_level = defaultdict(lambda: 3, ((j, i) for i,j in enumerate(pd.unique(df['level']))))\n",
    "c_level[np.nan] = 3\n",
    "c_level['nan'] = 3\n",
    "c_level"
   ]
  },
  {
   "cell_type": "code",
   "execution_count": 15,
   "metadata": {
    "collapsed": false
   },
   "outputs": [
    {
     "data": {
      "text/plain": [
       "119    JavaScript Promises Async Work Made Easy Learn...\n",
       "120    Offline Web Applications Using IndexedDB & Ser...\n",
       "121    Learn Swift Programming Syntax From Optionals ...\n",
       "122    Educational Technology Offered at Georgia Tech...\n",
       "123    Model Building and Validation Advanced Techniq...\n",
       "124    Introduction to Operating Systems Offered at G...\n",
       "125    Linear Algebra Refresher Course A Brief Refres...\n",
       "126    Computational Photography Offered at Georgia T...\n",
       "127    JavaScript Design Patterns Organizing Code in ...\n",
       "128    Learn Backbone.js Write Organized JavaScript A...\n",
       "Name: all-text, dtype: object"
      ]
     },
     "execution_count": 15,
     "metadata": {},
     "output_type": "execute_result"
    }
   ],
   "source": [
    "#df['all-text'] = df['title'] + ' ' + df['subtitle'] + ' ' + df['description'] + ' ' + df['short_description'] + ' ' + df['syllabus']\n",
    "cols = ['title', 'subtitle', 'summary', 'expected_learning', 'syllabus', 'transcript']\n",
    "df['all-text'] = ''\n",
    "for i in cols:\n",
    "    df['all-text'] += df[i].astype('str')\n",
    "    df['all-text'] += ' '\n",
    "df['all-text'].tail(10)"
   ]
  },
  {
   "cell_type": "code",
   "execution_count": 16,
   "metadata": {
    "collapsed": false
   },
   "outputs": [
    {
     "data": {
      "image/png": "[encoded data removed]",
      "text/plain": [
       "<matplotlib.figure.Figure at 0x7fdeb665b690>"
      ]
     },
     "metadata": {},
     "output_type": "display_data"
    },
    {
     "data": {
      "image/png": "[encoded data removed]",
      "text/plain": [
       "<matplotlib.figure.Figure at 0x7fdeb5c43bd0>"
      ]
     },
     "metadata": {},
     "output_type": "display_data"
    }
   ],
   "source": [
    "df['all-text'].apply(len).plot(kind='hist')\n",
    "plt.xlabel('#char')\n",
    "plt.show()\n",
    "df['all-text'].apply(lambda x: len(x.split())).plot(kind='hist')\n",
    "plt.xlabel('#words')\n",
    "plt.show()"
   ]
  },
  {
   "cell_type": "code",
   "execution_count": 17,
   "metadata": {
    "collapsed": false
   },
   "outputs": [],
   "source": [
    "df['all-text'] = df['all-text'].apply(text_cleanup)\n",
    "df.to_pickle('udacity_all_text.df')\n",
    "df['title'] = df['title'].apply(text_cleanup)\n",
    "df['transcript'] = df['transcript'].apply(text_cleanup)"
   ]
  },
  {
   "cell_type": "code",
   "execution_count": 18,
   "metadata": {
    "collapsed": false
   },
   "outputs": [
    {
     "name": "stdout",
     "output_type": "stream",
     "text": [
      "tfidf shape: (129, 9172)\n",
      "<type 'numpy.ndarray'>\n",
      "(129, 9172)\n",
      "2\n"
     ]
    },
    {
     "data": {
      "image/png": "[encoded data removed]",
      "text/plain": [
       "<matplotlib.figure.Figure at 0x7fdef00f3950>"
      ]
     },
     "metadata": {},
     "output_type": "display_data"
    },
    {
     "data": {
      "image/png": "[encoded data removed]",
      "text/plain": [
       "<matplotlib.figure.Figure at 0x7fdea6eda990>"
      ]
     },
     "metadata": {},
     "output_type": "display_data"
    },
    {
     "data": {
      "image/png": "[encoded data removed]",
      "text/plain": [
       "<matplotlib.figure.Figure at 0x7fdeb51f7510>"
      ]
     },
     "metadata": {},
     "output_type": "display_data"
    }
   ],
   "source": [
    "vectorizer = TfidfVectorizer(stop_words='english', max_df=0.8, min_df=0.1, ngram_range=(2, 2))\n",
    "#vectorizer = CountVectorizer(stop_words='english', max_df=0.1, min_df=5)\n",
    "vectorized_text = vectorizer.fit_transform(df['all-text'].values)\n",
    "print('tfidf shape:', vectorized_text.shape)\n",
    "\n",
    "if False:\n",
    "    from sklearn.decomposition import TruncatedSVD\n",
    "    explained_var = list()\n",
    "    comp_range = range(2, 1100, 100)\n",
    "    shapes = list()\n",
    "    for i in tqdm(reversed(comp_range)):\n",
    "        svd = TruncatedSVD(n_components=i, n_iter=100)\n",
    "        tmp = svd.fit_transform(vectorized_text)\n",
    "        explained_var.append(svd.explained_variance_.sum())\n",
    "        shapes.append(tmp.shape[1])\n",
    "    pd.DataFrame(columns=['number of components', 'explained variance', 'true dim'], \n",
    "                 data=zip(comp_range, explained_var, shapes)).plot(x='number of components', secondary_y=['true dim'])\n",
    "    plt.show()\n",
    "    svd = TruncatedSVD(n_components=100, n_iter=100)\n",
    "    vectorized_text = svd.fit_transform(vectorized_text)\n",
    "else:\n",
    "    vectorized_text = np.array(vectorized_text.todense())\n",
    "print(type(vectorized_text))\n",
    "print(vectorized_text.shape)\n",
    "print(len(vectorized_text.shape))\n",
    "plot_tfidf_vals(vectorized_text)"
   ]
  },
  {
   "cell_type": "code",
   "execution_count": 19,
   "metadata": {
    "collapsed": false
   },
   "outputs": [
    {
     "data": {
      "image/png": "[encoded data removed]",
      "text/plain": [
       "<matplotlib.figure.Figure at 0x7fdeb55664d0>"
      ]
     },
     "metadata": {},
     "output_type": "display_data"
    },
    {
     "data": {
      "image/png": "[encoded data removed]",
      "text/plain": [
       "<matplotlib.figure.Figure at 0x7fdeb5573610>"
      ]
     },
     "metadata": {},
     "output_type": "display_data"
    },
    {
     "data": {
      "image/png": "[encoded data removed]",
      "text/plain": [
       "<matplotlib.figure.Figure at 0x7fdeb6814790>"
      ]
     },
     "metadata": {},
     "output_type": "display_data"
    },
    {
     "name": "stdout",
     "output_type": "stream",
     "text": [
      "(129, 2980)\n",
      "[u'computer programs' u'let add' u'different people' u'world just'\n",
      " u'input data' u'single day' u'worth mentioning' u'condition true'\n",
      " u'memory going' u'entire data' u'thing time' u'user data' u'memory need'\n",
      " u'question answer' u'takes string' u'tell difference' u'learn new'\n",
      " u'object just' u'statement ll' u'app does']\n"
     ]
    }
   ],
   "source": [
    "vectorized_text, words = filter_word_rep(vectorized_text, vectorizer.get_feature_names())\n",
    "\n",
    "vectorized_text, words = filter_tfidf_max(vectorized_text, words, min_th=.05, max_th=0.5)\n",
    "plot_tfidf_vals(vectorized_text)\n",
    "print(vectorized_text.shape)\n",
    "print(np.random.choice(words, size=20))"
   ]
  },
  {
   "cell_type": "code",
   "execution_count": 20,
   "metadata": {
    "collapsed": false
   },
   "outputs": [
    {
     "data": {
      "text/plain": [
       "Index([u'id', u'title', u'homepage', u'subtitle', u'level', u'starter',\n",
       "       u'image', u'banner_image', u'teaser_video', u'summary',\n",
       "       u'short_summary', u'required_knowledge', u'expected_learning',\n",
       "       u'featured', u'syllabus', u'faq', u'full_course_available',\n",
       "       u'expected_duration', u'expected_duration_unit', u'new_release',\n",
       "       u'transcripts_url', u'transcripts_zip_fn', u'transcript', u'all-text'],\n",
       "      dtype='object')"
      ]
     },
     "execution_count": 20,
     "metadata": {},
     "output_type": "execute_result"
    }
   ],
   "source": [
    "df.columns"
   ]
  },
  {
   "cell_type": "code",
   "execution_count": 21,
   "metadata": {
    "collapsed": false
   },
   "outputs": [
    {
     "data": {
      "text/plain": [
       "1"
      ]
     },
     "execution_count": 21,
     "metadata": {},
     "output_type": "execute_result"
    }
   ],
   "source": [
    "df[u'level'].isnull().sum()"
   ]
  },
  {
   "cell_type": "code",
   "execution_count": 22,
   "metadata": {
    "collapsed": false
   },
   "outputs": [
    {
     "data": {
      "text/plain": [
       "0"
      ]
     },
     "execution_count": 22,
     "metadata": {},
     "output_type": "execute_result"
    }
   ],
   "source": [
    "df.dropna(axis='index', subset=[u'level'], inplace=True)\n",
    "df[u'level'].isnull().sum()"
   ]
  },
  {
   "cell_type": "code",
   "execution_count": 23,
   "metadata": {
    "collapsed": false
   },
   "outputs": [
    {
     "data": {
      "text/plain": [
       "intermediate    66\n",
       "advanced        32\n",
       "beginner        30\n",
       "Name: level, dtype: int64"
      ]
     },
     "execution_count": 23,
     "metadata": {},
     "output_type": "execute_result"
    }
   ],
   "source": [
    "df[u'level'].value_counts()"
   ]
  },
  {
   "cell_type": "code",
   "execution_count": 24,
   "metadata": {
    "collapsed": false,
    "scrolled": true
   },
   "outputs": [
    {
     "data": {
      "image/png": "[encoded data removed]",
      "text/plain": [
       "<matplotlib.figure.Figure at 0x7fdea68df090>"
      ]
     },
     "metadata": {},
     "output_type": "display_data"
    }
   ],
   "source": [
    "levels = pd.unique(df['level'])\n",
    "fig, axes = plt.subplots(1, len(levels), figsize=(12, 6))\n",
    "t_w = list()\n",
    "words = vectorizer.get_feature_names()\n",
    "for t_idx, target_class in enumerate(levels):\n",
    "    y = (df['level'] == target_class).values\n",
    "    r = list()\n",
    "    #print('\\n===========')\n",
    "    #print(target_class)\n",
    "    #print('------------')\n",
    "    #print('\\tpos\\t\\t\\t\\t\\t\\t')\n",
    "    for train_idx, test_idx in StratifiedShuffleSplit(y, n_iter=10, test_size=0.1, random_state=2016):\n",
    "        x_train = vectorized_text[train_idx, :]\n",
    "        x_test = vectorized_text[test_idx, :]\n",
    "        y_train = y[train_idx]\n",
    "        y_test = y[test_idx]\n",
    "        w_train = gen_weights(y_train)\n",
    "        w_test = gen_weights(y_test)\n",
    "        \n",
    "        clf = MultinomialNB(alpha=1)\n",
    "        clf.fit(x_train, y_train, w_train)\n",
    "        r.append(('train', clf.score(x_train, y_train, w_train)))\n",
    "        r.append(('validation', clf.score(x_test, y_test, w_test)))\n",
    "\n",
    "        log_prob = clf.feature_log_prob_\n",
    "           \n",
    "        idx_p = sorted(enumerate(log_prob[1, :]), key=itemgetter(1), reverse=True)\n",
    "        #print(', '.join(words[i[0]] for i in idx_p[:10]), end='')\n",
    "        #print('\\n\\n\\tneg')\n",
    "        idx_p = sorted(enumerate(log_prob[0, :]), key=itemgetter(1), reverse=True)\n",
    "        #print(', '.join(words[i[0]] for i in idx_p[:10]))\n",
    "        #print('\\n\\n', end='')\n",
    "\n",
    "    r = pd.DataFrame(columns=['type', 'mean acc.'], data=r)\n",
    "    ax = axes[t_idx]\n",
    "    sns.barplot(x='type', y='mean acc.', data=r, ax=ax)\n",
    "    #ax.xticks(rotation=90)\n",
    "    ax.set_title(target_class + \" vs. all\")\n",
    "    ax.set_ylim([.0, 1])\n",
    "    if t_idx > 0:\n",
    "        ax.set_ylabel('')\n",
    "plt.show()"
   ]
  },
  {
   "cell_type": "code",
   "execution_count": 25,
   "metadata": {
    "collapsed": false
   },
   "outputs": [],
   "source": [
    "df['dig_level'] = df['level'].apply(lambda x: 0 if x=='beginner' else (1 if x == 'intermediate' else 2))"
   ]
  },
  {
   "cell_type": "code",
   "execution_count": 26,
   "metadata": {
    "collapsed": false
   },
   "outputs": [
    {
     "data": {
      "text/plain": [
       "1    66\n",
       "2    32\n",
       "0    30\n",
       "Name: dig_level, dtype: int64"
      ]
     },
     "execution_count": 26,
     "metadata": {},
     "output_type": "execute_result"
    }
   ],
   "source": [
    "df['dig_level'].value_counts()"
   ]
  },
  {
   "cell_type": "code",
   "execution_count": 27,
   "metadata": {
    "collapsed": false,
    "scrolled": false
   },
   "outputs": [
    {
     "data": {
      "image/png": "[encoded data removed]",
      "text/plain": [
       "<matplotlib.figure.Figure at 0x7fdea6b773d0>"
      ]
     },
     "metadata": {},
     "output_type": "display_data"
    },
    {
     "data": {
      "image/png": "[encoded data removed]",
      "text/plain": [
       "<matplotlib.figure.Figure at 0x7fdea6a36810>"
      ]
     },
     "metadata": {},
     "output_type": "display_data"
    },
    {
     "data": {
      "image/png": "[encoded data removed]",
      "text/plain": [
       "<matplotlib.figure.Figure at 0x7fdea6a80fd0>"
      ]
     },
     "metadata": {},
     "output_type": "display_data"
    },
    {
     "name": "stdout",
     "output_type": "stream",
     "text": [
      "class: 0\n",
      "\t 10 course want\n",
      "\t 10 come want\n",
      "\t 10 got wrong\n",
      "\t 10 good let\n",
      "\t 9 going remember\n",
      "\t 8 data does\n",
      "\t 8 course thing\n",
      "\t 8 data server\n",
      "\t 6 equal means\n",
      "\t 6 goes way\n",
      "\t 5 function point\n",
      "\t 3 data structures\n",
      "\t 3 add method\n",
      "\t 2 didn really\n",
      "\t 1 able check\n",
      "\t 1 different value\n",
      "class: 1\n",
      "\t 10 come want\n",
      "\t 10 going read\n",
      "\t 10 course thing\n",
      "\t 10 aren really\n",
      "\t 8 happen think\n",
      "\t 8 actually ve\n",
      "\t 7 course want\n",
      "\t 7 happens going\n",
      "\t 7 cause problems\n",
      "\t 7 don believe\n",
      "\t 5 bad thing\n",
      "\t 3 algorithm ll\n",
      "\t 3 add end\n",
      "\t 3 check number\n",
      "\t 2 different views\n",
      "class: 2\n",
      "\t 10 come want\n",
      "\t 10 based information\n",
      "\t 10 course thing\n",
      "\t 10 did things\n",
      "\t 9 classes ve\n",
      "\t 9 different problems\n",
      "\t 8 example program\n",
      "\t 7 correct way\n",
      "\t 7 answer check\n",
      "\t 6 actually created\n",
      "\t 4 aren really\n",
      "\t 3 heavy lifting\n",
      "\t 2 columns rows\n",
      "\t 2 check links\n",
      "\t 2 graph let\n",
      "\t 1 doesn add\n"
     ]
    }
   ],
   "source": [
    "levels = pd.unique(df['level'])\n",
    "t_w = list()\n",
    "\n",
    "y = df['dig_level'].values\n",
    "r = list()\n",
    "top_n = 10\n",
    "train_res = list()\n",
    "valid_res = list()\n",
    "pos_words = defaultdict(lambda :defaultdict(int))\n",
    "for train_idx, test_idx in StratifiedShuffleSplit(y, n_iter=10, test_size=0.1, random_state=2016):\n",
    "    x_train = vectorized_text[train_idx, :]\n",
    "    x_test = vectorized_text[test_idx, :]\n",
    "    y_train = y[train_idx]\n",
    "    y_test = y[test_idx]\n",
    "\n",
    "    clf = MultinomialNB(alpha=.5)\n",
    "    clf.fit(x_train, y_train)\n",
    "    r.append(('train', clf.score(x_train, y_train)))\n",
    "    r.append(('validation', clf.score(x_test, y_test)))\n",
    "    train_res.extend(evaluate(y_train, clf.predict(x_train)))\n",
    "    valid_res.extend(evaluate(y_test, clf.predict(x_test)))\n",
    "\n",
    "    log_prob = clf.feature_log_prob_\n",
    "    for i in range(log_prob.shape[0]):\n",
    "        s_lp_i = sorted(enumerate(log_prob[i, :]), key=itemgetter(1), reverse=True)\n",
    "        s_lp_i = s_lp_i[:top_n]\n",
    "        for idx in s_lp_i:\n",
    "            w = words[idx[0]]\n",
    "            pos_words[i][w] += 1\n",
    "    \n",
    "r = pd.DataFrame(columns=['type', 'mean acc.'], data=r)\n",
    "ax = axes[t_idx]\n",
    "sns.barplot(x='type', y='mean acc.', data=r)\n",
    "#ax.xticks(rotation=90)\n",
    "ax.set_title(target_class + \" vs. all\")\n",
    "ax.set_ylim([.0, 1])\n",
    "if t_idx > 0:\n",
    "    ax.set_ylabel('')\n",
    "plt.show()\n",
    "viz_res(train_res, 'training')\n",
    "viz_res(valid_res, 'validation')\n",
    "\n",
    "for key, val_dict in sorted(pos_words.items(), key=itemgetter(0)):\n",
    "    print('class:', key)\n",
    "    for word, count in sorted(val_dict.items(), key=itemgetter(1), reverse=True):\n",
    "        print('\\t', count, word)"
   ]
  },
  {
   "cell_type": "code",
   "execution_count": null,
   "metadata": {
    "collapsed": true
   },
   "outputs": [],
   "source": []
  },
  {
   "cell_type": "code",
   "execution_count": null,
   "metadata": {
    "collapsed": true
   },
   "outputs": [],
   "source": []
  }
 ],
 "metadata": {
  "kernelspec": {
   "display_name": "Python 2",
   "language": "python",
   "name": "python2"
  },
  "language_info": {
   "codemirror_mode": {
    "name": "ipython",
    "version": 2
   },
   "file_extension": ".py",
   "mimetype": "text/x-python",
   "name": "python",
   "nbconvert_exporter": "python",
   "pygments_lexer": "ipython2",
   "version": "2.7.12"
  }
 },
 "nbformat": 4,
 "nbformat_minor": 0
}
