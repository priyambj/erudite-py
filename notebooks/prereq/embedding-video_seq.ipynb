{
 "cells": [
  {
   "cell_type": "code",
   "execution_count": 10,
   "metadata": {
    "collapsed": false
   },
   "outputs": [
    {
     "name": "stdout",
     "output_type": "stream",
     "text": [
      "Populating the interactive namespace from numpy and matplotlib\n"
     ]
    },
    {
     "name": "stderr",
     "output_type": "stream",
     "text": [
      "WARNING: pylab import has clobbered these variables: ['copy', 'figure', 'GridSpec', 'show', 'random', 'Figure', 'save']\n",
      "`%matplotlib` prevents importing * from pylab and numpy\n"
     ]
    },
    {
     "data": {
      "text/html": [
       "\n",
       "    <div class=\"bk-root\">\n",
       "        <a href=\"http://bokeh.pydata.org\" target=\"_blank\" class=\"bk-logo bk-logo-small bk-logo-notebook\"></a>\n",
       "        <span id=\"9e42ea07-27d5-4243-aa69-47cec8432bc7\">Loading BokehJS ...</span>\n",
       "    </div>"
      ]
     },
     "metadata": {},
     "output_type": "display_data"
    },
    {
     "data": {
      "application/javascript": [
       "\n",
       "(function(global) {\n",
       "  function now() {\n",
       "    return new Date();\n",
       "  }\n",
       "\n",
       "  if (typeof (window._bokeh_onload_callbacks) === \"undefined\") {\n",
       "    window._bokeh_onload_callbacks = [];\n",
       "  }\n",
       "\n",
       "  function run_callbacks() {\n",
       "    window._bokeh_onload_callbacks.forEach(function(callback) { callback() });\n",
       "    delete window._bokeh_onload_callbacks\n",
       "    console.info(\"Bokeh: all callbacks have finished\");\n",
       "  }\n",
       "\n",
       "  function load_libs(js_urls, callback) {\n",
       "    window._bokeh_onload_callbacks.push(callback);\n",
       "    if (window._bokeh_is_loading > 0) {\n",
       "      console.log(\"Bokeh: BokehJS is being loaded, scheduling callback at\", now());\n",
       "      return null;\n",
       "    }\n",
       "    if (js_urls == null || js_urls.length === 0) {\n",
       "      run_callbacks();\n",
       "      return null;\n",
       "    }\n",
       "    console.log(\"Bokeh: BokehJS not loaded, scheduling load and callback at\", now());\n",
       "    window._bokeh_is_loading = js_urls.length;\n",
       "    for (var i = 0; i < js_urls.length; i++) {\n",
       "      var url = js_urls[i];\n",
       "      var s = document.createElement('script');\n",
       "      s.src = url;\n",
       "      s.async = false;\n",
       "      s.onreadystatechange = s.onload = function() {\n",
       "        window._bokeh_is_loading--;\n",
       "        if (window._bokeh_is_loading === 0) {\n",
       "          console.log(\"Bokeh: all BokehJS libraries loaded\");\n",
       "          run_callbacks()\n",
       "        }\n",
       "      };\n",
       "      s.onerror = function() {\n",
       "        console.warn(\"failed to load library \" + url);\n",
       "      };\n",
       "      console.log(\"Bokeh: injecting script tag for BokehJS library: \", url);\n",
       "      document.getElementsByTagName(\"head\")[0].appendChild(s);\n",
       "    }\n",
       "  };\n",
       "\n",
       "  var js_urls = ['https://cdn.pydata.org/bokeh/release/bokeh-0.12.0.min.js', 'https://cdn.pydata.org/bokeh/release/bokeh-widgets-0.12.0.min.js', 'https://cdn.pydata.org/bokeh/release/bokeh-compiler-0.12.0.min.js'];\n",
       "\n",
       "  var inline_js = [\n",
       "    function(Bokeh) {\n",
       "      Bokeh.set_log_level(\"info\");\n",
       "    },\n",
       "    \n",
       "    function(Bokeh) {\n",
       "      Bokeh.$(\"#9e42ea07-27d5-4243-aa69-47cec8432bc7\").text(\"BokehJS successfully loaded\");\n",
       "    },\n",
       "    function(Bokeh) {\n",
       "      console.log(\"Bokeh: injecting CSS: https://cdn.pydata.org/bokeh/release/bokeh-0.12.0.min.css\");\n",
       "      Bokeh.embed.inject_css(\"https://cdn.pydata.org/bokeh/release/bokeh-0.12.0.min.css\");\n",
       "      console.log(\"Bokeh: injecting CSS: https://cdn.pydata.org/bokeh/release/bokeh-widgets-0.12.0.min.css\");\n",
       "      Bokeh.embed.inject_css(\"https://cdn.pydata.org/bokeh/release/bokeh-widgets-0.12.0.min.css\");\n",
       "    }\n",
       "  ];\n",
       "\n",
       "  function run_inline_js() {\n",
       "    for (var i = 0; i < inline_js.length; i++) {\n",
       "      inline_js[i](window.Bokeh);\n",
       "    }\n",
       "  }\n",
       "\n",
       "  if (window._bokeh_is_loading === 0) {\n",
       "    console.log(\"Bokeh: BokehJS loaded, going straight to plotting\");\n",
       "    run_inline_js();\n",
       "  } else {\n",
       "    load_libs(js_urls, function() {\n",
       "      console.log(\"Bokeh: BokehJS plotting callback run at\", now());\n",
       "      run_inline_js();\n",
       "    });\n",
       "  }\n",
       "}(this));"
      ]
     },
     "metadata": {},
     "output_type": "display_data"
    }
   ],
   "source": [
    "from __future__ import print_function, division\n",
    "%run basics.ipynb"
   ]
  },
  {
   "cell_type": "code",
   "execution_count": 2,
   "metadata": {
    "collapsed": false
   },
   "outputs": [
    {
     "name": "stdout",
     "output_type": "stream",
     "text": [
      "Index([u'target', u'v1', u'v2'], dtype='object')\n"
     ]
    },
    {
     "data": {
      "text/html": [
       "<div>\n",
       "<table border=\"1\" class=\"dataframe\">\n",
       "  <thead>\n",
       "    <tr style=\"text-align: right;\">\n",
       "      <th></th>\n",
       "      <th>target</th>\n",
       "      <th>v1</th>\n",
       "      <th>v2</th>\n",
       "    </tr>\n",
       "  </thead>\n",
       "  <tbody>\n",
       "    <tr>\n",
       "      <th>0</th>\n",
       "      <td>1.0</td>\n",
       "      <td>[SOUND]. Hey there, I'm Matt. One of the inst...</td>\n",
       "      <td>Let's get started with Tales from the Genome....</td>\n",
       "    </tr>\n",
       "    <tr>\n",
       "      <th>1</th>\n",
       "      <td>1.0</td>\n",
       "      <td>Let's get started with Tales from the Genome....</td>\n",
       "      <td>Hey, Matt. Whatcha doin'? Oh, hey. Not much, ...</td>\n",
       "    </tr>\n",
       "  </tbody>\n",
       "</table>\n",
       "</div>"
      ],
      "text/plain": [
       "   target                                                 v1  \\\n",
       "0     1.0   [SOUND]. Hey there, I'm Matt. One of the inst...   \n",
       "1     1.0   Let's get started with Tales from the Genome....   \n",
       "\n",
       "                                                  v2  \n",
       "0   Let's get started with Tales from the Genome....  \n",
       "1   Hey, Matt. Whatcha doin'? Oh, hey. Not much, ...  "
      ]
     },
     "execution_count": 2,
     "metadata": {},
     "output_type": "execute_result"
    }
   ],
   "source": [
    "df = pd.read_pickle('udacity_videoseq.df')\n",
    "print(df.columns)\n",
    "df.head(2)"
   ]
  },
  {
   "cell_type": "code",
   "execution_count": 11,
   "metadata": {
    "collapsed": false
   },
   "outputs": [
    {
     "name": "stdout",
     "output_type": "stream",
     "text": [
      "0     sound hey there i m matt one of the instructo...\n",
      "1     let s get started with tales from the genome ...\n",
      "Name: v1, dtype: object\n",
      "# distinct words: 4312\n",
      "# excluded words: 15717\n"
     ]
    }
   ],
   "source": [
    "vectorizer = TfidfVectorizer(stop_words='english', max_df=0.8, min_df=5)\n",
    "all_text = df['v1'].apply(text_cleanup)\n",
    "print(all_text.head(2))\n",
    "v_text = vectorizer.fit_transform(all_text)\n",
    "filter_w = vectorizer.get_feature_names()\n",
    "_, filter_w = filter_tfidf_max(v_text, filter_w, min_th=0.05, max_th=.5)\n",
    "filter_w = set(filter_w)\n",
    "print('# distinct words:', len(filter_w))\n",
    "print('# excluded words:', len(vectorizer.stop_words_))"
   ]
  },
  {
   "cell_type": "code",
   "execution_count": 12,
   "metadata": {
    "collapsed": false
   },
   "outputs": [
    {
     "data": {
      "text/plain": [
       "Index([u'target', u'v1', u'v2'], dtype='object')"
      ]
     },
     "execution_count": 12,
     "metadata": {},
     "output_type": "execute_result"
    }
   ],
   "source": [
    "df.columns"
   ]
  },
  {
   "cell_type": "code",
   "execution_count": 13,
   "metadata": {
    "collapsed": false
   },
   "outputs": [
    {
     "name": "stdout",
     "output_type": "stream",
     "text": [
      "v1 9887\n",
      "0    sound hey matt instructors tales genome excite...\n",
      "1    started tales genome excited join exploration ...\n",
      "Name: v1, dtype: object\n"
     ]
    },
    {
     "data": {
      "image/png": "[encoded data removed]",
      "text/plain": [
       "<matplotlib.figure.Figure at 0x7f3c7c18c4d0>"
      ]
     },
     "metadata": {},
     "output_type": "display_data"
    },
    {
     "name": "stdout",
     "output_type": "stream",
     "text": [
      "v2 9887\n",
      "0    started tales genome excited join exploration ...\n",
      "1    hey matt oh hey reading suppose did series den...\n",
      "Name: v2, dtype: object\n"
     ]
    },
    {
     "data": {
      "image/png": "[encoded data removed]",
      "text/plain": [
       "<matplotlib.figure.Figure at 0x7f3c429221d0>"
      ]
     },
     "metadata": {},
     "output_type": "display_data"
    },
    {
     "data": {
      "text/html": [
       "<div>\n",
       "<table border=\"1\" class=\"dataframe\">\n",
       "  <thead>\n",
       "    <tr style=\"text-align: right;\">\n",
       "      <th></th>\n",
       "      <th>target</th>\n",
       "      <th>v1</th>\n",
       "      <th>v2</th>\n",
       "      <th>v1_clean</th>\n",
       "      <th>v1_dig</th>\n",
       "      <th>v2_clean</th>\n",
       "      <th>v2_dig</th>\n",
       "    </tr>\n",
       "  </thead>\n",
       "  <tbody>\n",
       "    <tr>\n",
       "      <th>0</th>\n",
       "      <td>1.0</td>\n",
       "      <td>[SOUND]. Hey there, I'm Matt. One of the inst...</td>\n",
       "      <td>Let's get started with Tales from the Genome....</td>\n",
       "      <td>sound hey matt instructors tales genome excite...</td>\n",
       "      <td>[1, 2, 3, 4, 5, 6, 7, 8, 9, 10, 11, 12, 13, 1,...</td>\n",
       "      <td>started tales genome excited join exploration ...</td>\n",
       "      <td>[12, 5, 6, 7, 168, 169, 55, 170, 22, 56, 171, ...</td>\n",
       "    </tr>\n",
       "    <tr>\n",
       "      <th>1</th>\n",
       "      <td>1.0</td>\n",
       "      <td>Let's get started with Tales from the Genome....</td>\n",
       "      <td>Hey, Matt. Whatcha doin'? Oh, hey. Not much, ...</td>\n",
       "      <td>started tales genome excited join exploration ...</td>\n",
       "      <td>[12, 5, 6, 7, 168, 169, 55, 170, 22, 56, 171, ...</td>\n",
       "      <td>hey matt oh hey reading suppose did series den...</td>\n",
       "      <td>[2, 3, 74, 2, 217, 565, 403, 244, 611, 217, 6,...</td>\n",
       "    </tr>\n",
       "  </tbody>\n",
       "</table>\n",
       "</div>"
      ],
      "text/plain": [
       "   target                                                 v1  \\\n",
       "0     1.0   [SOUND]. Hey there, I'm Matt. One of the inst...   \n",
       "1     1.0   Let's get started with Tales from the Genome....   \n",
       "\n",
       "                                                  v2  \\\n",
       "0   Let's get started with Tales from the Genome....   \n",
       "1   Hey, Matt. Whatcha doin'? Oh, hey. Not much, ...   \n",
       "\n",
       "                                            v1_clean  \\\n",
       "0  sound hey matt instructors tales genome excite...   \n",
       "1  started tales genome excited join exploration ...   \n",
       "\n",
       "                                              v1_dig  \\\n",
       "0  [1, 2, 3, 4, 5, 6, 7, 8, 9, 10, 11, 12, 13, 1,...   \n",
       "1  [12, 5, 6, 7, 168, 169, 55, 170, 22, 56, 171, ...   \n",
       "\n",
       "                                            v2_clean  \\\n",
       "0  started tales genome excited join exploration ...   \n",
       "1  hey matt oh hey reading suppose did series den...   \n",
       "\n",
       "                                              v2_dig  \n",
       "0  [12, 5, 6, 7, 168, 169, 55, 170, 22, 56, 171, ...  \n",
       "1  [2, 3, 74, 2, 217, 565, 403, 244, 611, 217, 6,...  "
      ]
     },
     "execution_count": 13,
     "metadata": {},
     "output_type": "execute_result"
    }
   ],
   "source": [
    "digiz = Digitizer()\n",
    "max_words = 2000\n",
    "\n",
    "for i in ['v1', 'v2']:\n",
    "    ser = df[i].copy()\n",
    "    ser = ser.apply(text_cleanup, args=(filter_w, ))\n",
    "    df[i + '_clean'] = ser\n",
    "    print(i, ser.apply(lambda x: len(x.split())).max())\n",
    "    print(ser.head(2))\n",
    "    sns.distplot(ser.apply(lambda x: len(x.split())))\n",
    "    plt.show()\n",
    "    df[i + '_dig'] = digiz.series_digitizer(ser, max_len=max_words)\n",
    "max_len = max(df[i + '_dig'].apply(len))\n",
    "df.head(2)"
   ]
  },
  {
   "cell_type": "code",
   "execution_count": 14,
   "metadata": {
    "collapsed": false
   },
   "outputs": [
    {
     "name": "stdout",
     "output_type": "stream",
     "text": [
      "#words: 4306\n",
      "seq len: 2000\n"
     ]
    }
   ],
   "source": [
    "n_words = digiz.num_words()\n",
    "print('#words:', n_words)\n",
    "print('seq len:', max_len)\n",
    "df['v1_dig'].head(2)\n",
    "assert all(df['v1_dig'].apply(lambda x: len(x) == max_len).tolist())"
   ]
  },
  {
   "cell_type": "code",
   "execution_count": 15,
   "metadata": {
    "collapsed": false
   },
   "outputs": [],
   "source": [
    "def get_nn(n_words, input_len):   \n",
    "    dim = 20\n",
    "    emb = Embedding(input_dim=n_words, output_dim=dim, mask_zero=False)\n",
    "    c = Input(shape=(max_len,), dtype='int32', name='v1')\n",
    "    p = Input(shape=(max_len,), dtype='int32', name='v2')\n",
    "    \n",
    "    dropout = Dropout(0.5)\n",
    "    c_emb = dropout(emb(c))\n",
    "    p_emb = dropout(emb(p))\n",
    "    \n",
    "    maxpool = Lambda(lambda x: K.max(x, axis=1, keepdims=False),\n",
    "                     output_shape=lambda x: (x[0], x[2]))\n",
    "    \n",
    "    c_mp = maxpool(c_emb)\n",
    "    p_emb = maxpool(p_emb)\n",
    "    \n",
    "    c_ac = Activation('tanh')(c_mp)\n",
    "    p_ac = Activation('tanh')(p_emb)\n",
    "    \n",
    "    #c_gru = GRU(10)(c_emb)\n",
    "    #p_gru = GRU(10)(p_emb)\n",
    "    \n",
    "    #adder = Lambda(lambda x: (x + 1.)/2., output_shape=(max_len, dim))\n",
    "    #c_emb = adder(emb(c))\n",
    "    #p_emb = adder(emb(p))\n",
    "    \n",
    "    merge_layer = merge([c_ac, p_ac], mode='cos', dot_axes=1)    \n",
    "    \n",
    "    flatten_layer = Flatten()(merge_layer)\n",
    "    #dense_1000 = Dense(20, activation='tanh')(merge_layer)\n",
    "    #dense_100 = Dense(20, activation='relu')(dense_1000)\n",
    "    #dense_1 = Dense(1, activation='sigmoid')(flatten_layer)\n",
    "    \n",
    "    model = Model([c, p], flatten_layer)\n",
    "    model.compile(optimizer='adam', loss='binary_crossentropy', metrics=['mae'])\n",
    "    return model"
   ]
  },
  {
   "cell_type": "code",
   "execution_count": 16,
   "metadata": {
    "collapsed": false
   },
   "outputs": [
    {
     "name": "stdout",
     "output_type": "stream",
     "text": [
      "____________________________________________________________________________________________________\n",
      "Layer (type)                     Output Shape          Param #     Connected to                     \n",
      "====================================================================================================\n",
      "v1 (InputLayer)                  (None, 2000)          0                                            \n",
      "____________________________________________________________________________________________________\n",
      "v2 (InputLayer)                  (None, 2000)          0                                            \n",
      "____________________________________________________________________________________________________\n",
      "embedding_1 (Embedding)          (None, 2000, 20)      86120       v1[0][0]                         \n",
      "                                                                   v2[0][0]                         \n",
      "____________________________________________________________________________________________________\n",
      "dropout_1 (Dropout)              (None, 2000, 20)      0           embedding_1[0][0]                \n",
      "                                                                   embedding_1[1][0]                \n",
      "____________________________________________________________________________________________________\n",
      "lambda_1 (Lambda)                (None, 20)            0           dropout_1[0][0]                  \n",
      "                                                                   dropout_1[1][0]                  \n",
      "____________________________________________________________________________________________________\n",
      "activation_1 (Activation)        (None, 20)            0           lambda_1[0][0]                   \n",
      "____________________________________________________________________________________________________\n",
      "activation_2 (Activation)        (None, 20)            0           lambda_1[1][0]                   \n",
      "____________________________________________________________________________________________________\n",
      "merge_1 (Merge)                  (None, 1)             0           activation_1[0][0]               \n",
      "                                                                   activation_2[0][0]               \n",
      "____________________________________________________________________________________________________\n",
      "flatten_1 (Flatten)              (None, 1)             0           merge_1[0][0]                    \n",
      "====================================================================================================\n",
      "Total params: 86120\n",
      "____________________________________________________________________________________________________\n",
      "None\n"
     ]
    }
   ],
   "source": [
    "nn = get_nn(n_words, max_len)\n",
    "print(nn.summary())\n",
    "#embedded_text = nn.predict(df['digitized_text'].values.tolist())"
   ]
  },
  {
   "cell_type": "code",
   "execution_count": 19,
   "metadata": {
    "collapsed": true
   },
   "outputs": [],
   "source": [
    "def gen_train_valid_slit(df):\n",
    "    idx = range(int(len(df)/2))\n",
    "    test_idx = np.random.choice(idx, replace=False, size=len(df)/2*0.1).tolist()\n",
    "    train_idx = list(set(idx) - set(test_idx))\n",
    "    half_idx = int(len(df)/2)\n",
    "    test_idx.extend([half_idx + i for i in test_idx])\n",
    "    train_idx.extend([half_idx + i for i in train_idx])\n",
    "    train_X = [np.vstack(df.iloc[train_idx]['v1_dig']), np.vstack(df['v2_dig'].iloc[train_idx])]\n",
    "    train_y = df.iloc[train_idx]['target'].values\n",
    "    valid_X = [np.vstack(df.iloc[test_idx]['v1_dig']), np.vstack(df['v2_dig'].iloc[test_idx])]\n",
    "    valid_y = df.iloc[test_idx]['target'].values\n",
    "    train_w = gen_weights(train_y)\n",
    "    valid_w = gen_weights(valid_y)\n",
    "    return (train_X, train_y, train_w), (valid_X, valid_y, valid_w)"
   ]
  },
  {
   "cell_type": "code",
   "execution_count": 20,
   "metadata": {
    "collapsed": false,
    "scrolled": false
   },
   "outputs": [
    {
     "name": "stdout",
     "output_type": "stream",
     "text": [
      "(628, 2000) (628,) (628,)\n"
     ]
    },
    {
     "data": {
      "image/png": "[encoded data removed]",
      "text/plain": [
       "<matplotlib.figure.Figure at 0x7f3c3d98ef10>"
      ]
     },
     "metadata": {},
     "output_type": "display_data"
    },
    {
     "name": "stdout",
     "output_type": "stream",
     "text": [
      "Train on 628 samples, validate on 68 samples\n",
      "Epoch 1/30\n",
      "628/628 [==============================] - 4s - loss: 1.3845 - mean_absolute_error: 0.5006 - val_loss: 1.8213 - val_mean_absolute_error: 0.5472\n",
      "Epoch 2/30\n",
      "628/628 [==============================] - 4s - loss: 0.9791 - mean_absolute_error: 0.4998 - val_loss: 1.6488 - val_mean_absolute_error: 0.5487\n",
      "Epoch 3/30\n",
      "628/628 [==============================] - 4s - loss: 0.8562 - mean_absolute_error: 0.4997 - val_loss: 1.5593 - val_mean_absolute_error: 0.5504\n",
      "Epoch 4/30\n",
      "628/628 [==============================] - 4s - loss: 0.7833 - mean_absolute_error: 0.5012 - val_loss: 1.5064 - val_mean_absolute_error: 0.5498\n",
      "Epoch 5/30\n",
      "628/628 [==============================] - 4s - loss: 0.7295 - mean_absolute_error: 0.5008 - val_loss: 1.4619 - val_mean_absolute_error: 0.5464\n",
      "Epoch 6/30\n",
      "628/628 [==============================] - 4s - loss: 0.6980 - mean_absolute_error: 0.5004 - val_loss: 1.4267 - val_mean_absolute_error: 0.5444\n",
      "Epoch 7/30\n",
      "628/628 [==============================] - 4s - loss: 0.6559 - mean_absolute_error: 0.4987 - val_loss: 1.3996 - val_mean_absolute_error: 0.5459\n",
      "Epoch 8/30\n",
      "628/628 [==============================] - 4s - loss: 0.6337 - mean_absolute_error: 0.5007 - val_loss: 1.3783 - val_mean_absolute_error: 0.5478\n",
      "Epoch 9/30\n",
      "628/628 [==============================] - 4s - loss: 0.6145 - mean_absolute_error: 0.5019 - val_loss: 1.3623 - val_mean_absolute_error: 0.5510\n",
      "Epoch 10/30\n",
      "628/628 [==============================] - 4s - loss: 0.5978 - mean_absolute_error: 0.5014 - val_loss: 1.3476 - val_mean_absolute_error: 0.5499\n",
      "Epoch 11/30\n",
      "628/628 [==============================] - 4s - loss: 0.5788 - mean_absolute_error: 0.5006 - val_loss: 1.3350 - val_mean_absolute_error: 0.5479\n",
      "Epoch 12/30\n",
      "628/628 [==============================] - 4s - loss: 0.5675 - mean_absolute_error: 0.4998 - val_loss: 1.3245 - val_mean_absolute_error: 0.5509\n",
      "Epoch 13/30\n",
      "628/628 [==============================] - 4s - loss: 0.5518 - mean_absolute_error: 0.5011 - val_loss: 1.3087 - val_mean_absolute_error: 0.5481\n",
      "Epoch 14/30\n",
      "628/628 [==============================] - 4s - loss: 0.5407 - mean_absolute_error: 0.5015 - val_loss: 1.2977 - val_mean_absolute_error: 0.5464\n",
      "Epoch 15/30\n",
      "628/628 [==============================] - 4s - loss: 0.5319 - mean_absolute_error: 0.5049 - val_loss: 1.2884 - val_mean_absolute_error: 0.5424\n",
      "Epoch 16/30\n",
      "628/628 [==============================] - 4s - loss: 0.5230 - mean_absolute_error: 0.5003 - val_loss: 1.2775 - val_mean_absolute_error: 0.5432\n",
      "Epoch 17/30\n",
      "628/628 [==============================] - 4s - loss: 0.5201 - mean_absolute_error: 0.5059 - val_loss: 1.2720 - val_mean_absolute_error: 0.5422\n",
      "Epoch 18/30\n",
      "628/628 [==============================] - 4s - loss: 0.5039 - mean_absolute_error: 0.4999 - val_loss: 1.2657 - val_mean_absolute_error: 0.5405\n",
      "Epoch 19/30\n",
      "628/628 [==============================] - 4s - loss: 0.4957 - mean_absolute_error: 0.4983 - val_loss: 1.2575 - val_mean_absolute_error: 0.5365\n",
      "Epoch 20/30\n",
      "628/628 [==============================] - 4s - loss: 0.4884 - mean_absolute_error: 0.4998 - val_loss: 1.2519 - val_mean_absolute_error: 0.5351\n",
      "Epoch 21/30\n",
      "628/628 [==============================] - 4s - loss: 0.4861 - mean_absolute_error: 0.5000 - val_loss: 1.2468 - val_mean_absolute_error: 0.5340\n",
      "Epoch 22/30\n",
      "628/628 [==============================] - 4s - loss: 0.4877 - mean_absolute_error: 0.5024 - val_loss: 1.2407 - val_mean_absolute_error: 0.5312\n",
      "Epoch 23/30\n",
      "628/628 [==============================] - 4s - loss: 0.4784 - mean_absolute_error: 0.5014 - val_loss: 1.2349 - val_mean_absolute_error: 0.5314\n",
      "Epoch 24/30\n",
      "628/628 [==============================] - 4s - loss: 0.4745 - mean_absolute_error: 0.5012 - val_loss: 1.2311 - val_mean_absolute_error: 0.5330\n",
      "Epoch 25/30\n",
      "628/628 [==============================] - 4s - loss: 0.4716 - mean_absolute_error: 0.5012 - val_loss: 1.2286 - val_mean_absolute_error: 0.5325\n",
      "Epoch 26/30\n",
      "628/628 [==============================] - 4s - loss: 0.4678 - mean_absolute_error: 0.5025 - val_loss: 1.2247 - val_mean_absolute_error: 0.5318\n",
      "Epoch 27/30\n",
      "628/628 [==============================] - 4s - loss: 0.4655 - mean_absolute_error: 0.5012 - val_loss: 1.2227 - val_mean_absolute_error: 0.5295\n",
      "Epoch 28/30\n",
      "628/628 [==============================] - 4s - loss: 0.4619 - mean_absolute_error: 0.4999 - val_loss: 1.1320 - val_mean_absolute_error: 0.5266\n",
      "Epoch 29/30\n",
      "628/628 [==============================] - 4s - loss: 0.4579 - mean_absolute_error: 0.4995 - val_loss: 1.1242 - val_mean_absolute_error: 0.5259\n",
      "Epoch 30/30\n",
      "628/628 [==============================] - 4s - loss: 0.4604 - mean_absolute_error: 0.5033 - val_loss: 1.1200 - val_mean_absolute_error: 0.5255\n"
     ]
    },
    {
     "data": {
      "image/png": "[encoded data removed]",
      "text/plain": [
       "<matplotlib.figure.Figure at 0x7f3c3739e8d0>"
      ]
     },
     "metadata": {},
     "output_type": "display_data"
    }
   ],
   "source": [
    "train, valid = gen_train_valid_slit(df)\n",
    "print(train[0][0].shape, train[1].shape, train[2].shape)\n",
    "sns.distplot(train[1])\n",
    "plt.show()\n",
    "hist = nn.fit(train[0], train[1], sample_weight=train[2],\n",
    "              batch_size=32,\n",
    "              validation_data=(valid[0], valid[1], valid[2]),\n",
    "              shuffle=True,\n",
    "              nb_epoch=30, \n",
    "              verbose=1)\n",
    "\n",
    "plot_nn_hist(hist)"
   ]
  },
  {
   "cell_type": "code",
   "execution_count": 21,
   "metadata": {
    "collapsed": false,
    "scrolled": false
   },
   "outputs": [
    {
     "data": {
      "image/png": "[encoded data removed]",
      "text/plain": [
       "<matplotlib.figure.Figure at 0x7f3c37cf3bd0>"
      ]
     },
     "metadata": {},
     "output_type": "display_data"
    }
   ],
   "source": [
    "y_pred = nn.predict(train[0]).flatten()\n",
    "plot_prediction_violins(train[1], y_pred)"
   ]
  },
  {
   "cell_type": "code",
   "execution_count": null,
   "metadata": {
    "collapsed": true
   },
   "outputs": [],
   "source": []
  },
  {
   "cell_type": "code",
   "execution_count": null,
   "metadata": {
    "collapsed": true
   },
   "outputs": [],
   "source": []
  }
 ],
 "metadata": {
  "kernelspec": {
   "display_name": "Python 2",
   "language": "python",
   "name": "python2"
  },
  "language_info": {
   "codemirror_mode": {
    "name": "ipython",
    "version": 2
   },
   "file_extension": ".py",
   "mimetype": "text/x-python",
   "name": "python",
   "nbconvert_exporter": "python",
   "pygments_lexer": "ipython2",
   "version": "2.7.12"
  }
 },
 "nbformat": 4,
 "nbformat_minor": 0
}
