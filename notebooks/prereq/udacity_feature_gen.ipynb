{
 "cells": [
  {
   "cell_type": "code",
   "execution_count": 35,
   "metadata": {
    "collapsed": false
   },
   "outputs": [
    {
     "name": "stdout",
     "output_type": "stream",
     "text": [
      "Populating the interactive namespace from numpy and matplotlib\n"
     ]
    },
    {
     "name": "stderr",
     "output_type": "stream",
     "text": [
      "WARNING: pylab import has clobbered these variables: ['show', 'figure', 'GridSpec', 'Figure', 'title', 'diff', 'save']\n",
      "`%matplotlib` prevents importing * from pylab and numpy\n"
     ]
    },
    {
     "data": {
      "text/html": [
       "\n",
       "    <div class=\"bk-root\">\n",
       "        <a href=\"http://bokeh.pydata.org\" target=\"_blank\" class=\"bk-logo bk-logo-small bk-logo-notebook\"></a>\n",
       "        <span id=\"b7902ab4-50c3-496e-bd83-272084df6e54\">Loading BokehJS ...</span>\n",
       "    </div>"
      ]
     },
     "metadata": {},
     "output_type": "display_data"
    },
    {
     "data": {
      "application/javascript": [
       "\n",
       "(function(global) {\n",
       "  function now() {\n",
       "    return new Date();\n",
       "  }\n",
       "\n",
       "  if (typeof (window._bokeh_onload_callbacks) === \"undefined\") {\n",
       "    window._bokeh_onload_callbacks = [];\n",
       "  }\n",
       "\n",
       "  function run_callbacks() {\n",
       "    window._bokeh_onload_callbacks.forEach(function(callback) { callback() });\n",
       "    delete window._bokeh_onload_callbacks\n",
       "    console.info(\"Bokeh: all callbacks have finished\");\n",
       "  }\n",
       "\n",
       "  function load_libs(js_urls, callback) {\n",
       "    window._bokeh_onload_callbacks.push(callback);\n",
       "    if (window._bokeh_is_loading > 0) {\n",
       "      console.log(\"Bokeh: BokehJS is being loaded, scheduling callback at\", now());\n",
       "      return null;\n",
       "    }\n",
       "    if (js_urls == null || js_urls.length === 0) {\n",
       "      run_callbacks();\n",
       "      return null;\n",
       "    }\n",
       "    console.log(\"Bokeh: BokehJS not loaded, scheduling load and callback at\", now());\n",
       "    window._bokeh_is_loading = js_urls.length;\n",
       "    for (var i = 0; i < js_urls.length; i++) {\n",
       "      var url = js_urls[i];\n",
       "      var s = document.createElement('script');\n",
       "      s.src = url;\n",
       "      s.async = false;\n",
       "      s.onreadystatechange = s.onload = function() {\n",
       "        window._bokeh_is_loading--;\n",
       "        if (window._bokeh_is_loading === 0) {\n",
       "          console.log(\"Bokeh: all BokehJS libraries loaded\");\n",
       "          run_callbacks()\n",
       "        }\n",
       "      };\n",
       "      s.onerror = function() {\n",
       "        console.warn(\"failed to load library \" + url);\n",
       "      };\n",
       "      console.log(\"Bokeh: injecting script tag for BokehJS library: \", url);\n",
       "      document.getElementsByTagName(\"head\")[0].appendChild(s);\n",
       "    }\n",
       "  };\n",
       "\n",
       "  var js_urls = ['https://cdn.pydata.org/bokeh/release/bokeh-0.12.0.min.js', 'https://cdn.pydata.org/bokeh/release/bokeh-widgets-0.12.0.min.js', 'https://cdn.pydata.org/bokeh/release/bokeh-compiler-0.12.0.min.js'];\n",
       "\n",
       "  var inline_js = [\n",
       "    function(Bokeh) {\n",
       "      Bokeh.set_log_level(\"info\");\n",
       "    },\n",
       "    \n",
       "    function(Bokeh) {\n",
       "      Bokeh.$(\"#b7902ab4-50c3-496e-bd83-272084df6e54\").text(\"BokehJS successfully loaded\");\n",
       "    },\n",
       "    function(Bokeh) {\n",
       "      console.log(\"Bokeh: injecting CSS: https://cdn.pydata.org/bokeh/release/bokeh-0.12.0.min.css\");\n",
       "      Bokeh.embed.inject_css(\"https://cdn.pydata.org/bokeh/release/bokeh-0.12.0.min.css\");\n",
       "      console.log(\"Bokeh: injecting CSS: https://cdn.pydata.org/bokeh/release/bokeh-widgets-0.12.0.min.css\");\n",
       "      Bokeh.embed.inject_css(\"https://cdn.pydata.org/bokeh/release/bokeh-widgets-0.12.0.min.css\");\n",
       "    }\n",
       "  ];\n",
       "\n",
       "  function run_inline_js() {\n",
       "    for (var i = 0; i < inline_js.length; i++) {\n",
       "      inline_js[i](window.Bokeh);\n",
       "    }\n",
       "  }\n",
       "\n",
       "  if (window._bokeh_is_loading === 0) {\n",
       "    console.log(\"Bokeh: BokehJS loaded, going straight to plotting\");\n",
       "    run_inline_js();\n",
       "  } else {\n",
       "    load_libs(js_urls, function() {\n",
       "      console.log(\"Bokeh: BokehJS plotting callback run at\", now());\n",
       "      run_inline_js();\n",
       "    });\n",
       "  }\n",
       "}(this));"
      ]
     },
     "metadata": {},
     "output_type": "display_data"
    }
   ],
   "source": [
    "from __future__ import print_function, division\n",
    "%run basics.ipynb"
   ]
  },
  {
   "cell_type": "code",
   "execution_count": 2,
   "metadata": {
    "collapsed": false
   },
   "outputs": [
    {
     "name": "stdout",
     "output_type": "stream",
     "text": [
      "129\n",
      "Index([u'id', u'title', u'homepage', u'subtitle', u'level', u'starter',\n",
      "       u'image', u'banner_image', u'teaser_video', u'summary',\n",
      "       u'short_summary', u'required_knowledge', u'expected_learning',\n",
      "       u'featured', u'syllabus', u'faq', u'full_course_available',\n",
      "       u'expected_duration', u'expected_duration_unit', u'new_release',\n",
      "       u'transcripts_url', u'transcripts_zip_fn', u'transcript'],\n",
      "      dtype='object')\n"
     ]
    },
    {
     "data": {
      "text/html": [
       "<div>\n",
       "<table border=\"1\" class=\"dataframe\">\n",
       "  <thead>\n",
       "    <tr style=\"text-align: right;\">\n",
       "      <th></th>\n",
       "      <th>id</th>\n",
       "      <th>title</th>\n",
       "      <th>homepage</th>\n",
       "      <th>subtitle</th>\n",
       "      <th>level</th>\n",
       "      <th>starter</th>\n",
       "      <th>image</th>\n",
       "      <th>banner_image</th>\n",
       "      <th>teaser_video</th>\n",
       "      <th>summary</th>\n",
       "      <th>...</th>\n",
       "      <th>featured</th>\n",
       "      <th>syllabus</th>\n",
       "      <th>faq</th>\n",
       "      <th>full_course_available</th>\n",
       "      <th>expected_duration</th>\n",
       "      <th>expected_duration_unit</th>\n",
       "      <th>new_release</th>\n",
       "      <th>transcripts_url</th>\n",
       "      <th>transcripts_zip_fn</th>\n",
       "      <th>transcript</th>\n",
       "    </tr>\n",
       "  </thead>\n",
       "  <tbody>\n",
       "    <tr>\n",
       "      <th>0</th>\n",
       "      <td>bio110</td>\n",
       "      <td>Tales from the Genome</td>\n",
       "      <td>https://www.udacity.com/course/tales-from-the-...</td>\n",
       "      <td>Introduction to Genetics for Beginners</td>\n",
       "      <td>beginner</td>\n",
       "      <td>False</td>\n",
       "      <td>https://lh5.ggpht.com/Fh07_XbT61CGDWsQoOMQaIeH...</td>\n",
       "      <td>https://lh4.ggpht.com/_AHqr0EXcLBzF0rrwtBagE0t...</td>\n",
       "      <td>https://www.youtube.com/watch?v=sEXrjh-tme8</td>\n",
       "      <td>This course is a journey into the biology of t...</td>\n",
       "      <td>...</td>\n",
       "      <td>False</td>\n",
       "      <td>## Lesson 1: Introduction to traits and heredi...</td>\n",
       "      <td>NaN</td>\n",
       "      <td>False</td>\n",
       "      <td>3</td>\n",
       "      <td>months</td>\n",
       "      <td>False</td>\n",
       "      <td>https://www.udacity.com/course/progress#!/c-bi...</td>\n",
       "      <td>transcripts_zips/bio110.zip</td>\n",
       "      <td>In the same way that our genomes influence tr...</td>\n",
       "    </tr>\n",
       "    <tr>\n",
       "      <th>1</th>\n",
       "      <td>cs046</td>\n",
       "      <td>Intro to Java Programming</td>\n",
       "      <td>https://www.udacity.com/course/intro-to-java-p...</td>\n",
       "      <td>Building Programs with Classes &amp; Objects</td>\n",
       "      <td>beginner</td>\n",
       "      <td>False</td>\n",
       "      <td>https://lh4.ggpht.com/9ytiUdz0QYHwuMJFTXcNXZn4...</td>\n",
       "      <td>https://lh3.ggpht.com/AdAALPYhCsWuIvDl0ZY6zIW2...</td>\n",
       "      <td>https://www.youtube.com/watch?v=Wsp5Rrenoq4</td>\n",
       "      <td>In this introductory course, you'll learn and ...</td>\n",
       "      <td>...</td>\n",
       "      <td>False</td>\n",
       "      <td>### Lesson 1: Introduction to Computers, Progr...</td>\n",
       "      <td>NaN</td>\n",
       "      <td>True</td>\n",
       "      <td>4</td>\n",
       "      <td>months</td>\n",
       "      <td>False</td>\n",
       "      <td>https://www.udacity.com/course/progress#!/c-cs046</td>\n",
       "      <td>transcripts_zips/cs046.zip</td>\n",
       "      <td>Hi, I'm Cay. I'm Sara. We'll be the instructo...</td>\n",
       "    </tr>\n",
       "  </tbody>\n",
       "</table>\n",
       "<p>2 rows × 23 columns</p>\n",
       "</div>"
      ],
      "text/plain": [
       "       id                      title  \\\n",
       "0  bio110      Tales from the Genome   \n",
       "1   cs046  Intro to Java Programming   \n",
       "\n",
       "                                            homepage  \\\n",
       "0  https://www.udacity.com/course/tales-from-the-...   \n",
       "1  https://www.udacity.com/course/intro-to-java-p...   \n",
       "\n",
       "                                   subtitle     level starter  \\\n",
       "0    Introduction to Genetics for Beginners  beginner   False   \n",
       "1  Building Programs with Classes & Objects  beginner   False   \n",
       "\n",
       "                                               image  \\\n",
       "0  https://lh5.ggpht.com/Fh07_XbT61CGDWsQoOMQaIeH...   \n",
       "1  https://lh4.ggpht.com/9ytiUdz0QYHwuMJFTXcNXZn4...   \n",
       "\n",
       "                                        banner_image  \\\n",
       "0  https://lh4.ggpht.com/_AHqr0EXcLBzF0rrwtBagE0t...   \n",
       "1  https://lh3.ggpht.com/AdAALPYhCsWuIvDl0ZY6zIW2...   \n",
       "\n",
       "                                  teaser_video  \\\n",
       "0  https://www.youtube.com/watch?v=sEXrjh-tme8   \n",
       "1  https://www.youtube.com/watch?v=Wsp5Rrenoq4   \n",
       "\n",
       "                                             summary  \\\n",
       "0  This course is a journey into the biology of t...   \n",
       "1  In this introductory course, you'll learn and ...   \n",
       "\n",
       "                         ...                         featured  \\\n",
       "0                        ...                            False   \n",
       "1                        ...                            False   \n",
       "\n",
       "                                            syllabus  faq  \\\n",
       "0  ## Lesson 1: Introduction to traits and heredi...  NaN   \n",
       "1  ### Lesson 1: Introduction to Computers, Progr...  NaN   \n",
       "\n",
       "  full_course_available expected_duration expected_duration_unit new_release  \\\n",
       "0                 False                 3                 months       False   \n",
       "1                  True                 4                 months       False   \n",
       "\n",
       "                                     transcripts_url  \\\n",
       "0  https://www.udacity.com/course/progress#!/c-bi...   \n",
       "1  https://www.udacity.com/course/progress#!/c-cs046   \n",
       "\n",
       "            transcripts_zip_fn  \\\n",
       "0  transcripts_zips/bio110.zip   \n",
       "1   transcripts_zips/cs046.zip   \n",
       "\n",
       "                                          transcript  \n",
       "0   In the same way that our genomes influence tr...  \n",
       "1   Hi, I'm Cay. I'm Sara. We'll be the instructo...  \n",
       "\n",
       "[2 rows x 23 columns]"
      ]
     },
     "execution_count": 2,
     "metadata": {},
     "output_type": "execute_result"
    }
   ],
   "source": [
    "df = pd.read_pickle('udacity_courses.df')\n",
    "print(len(df))\n",
    "print(df.columns)\n",
    "df.head(2)"
   ]
  },
  {
   "cell_type": "code",
   "execution_count": 3,
   "metadata": {
    "collapsed": false
   },
   "outputs": [
    {
     "data": {
      "text/html": [
       "<div>\n",
       "<table border=\"1\" class=\"dataframe\">\n",
       "  <thead>\n",
       "    <tr style=\"text-align: right;\">\n",
       "      <th></th>\n",
       "      <th>u_id</th>\n",
       "      <th>u_pre_req_id</th>\n",
       "    </tr>\n",
       "  </thead>\n",
       "  <tbody>\n",
       "    <tr>\n",
       "      <th>0</th>\n",
       "      <td>cs222</td>\n",
       "      <td>cs101</td>\n",
       "    </tr>\n",
       "    <tr>\n",
       "      <th>1</th>\n",
       "      <td>cs222</td>\n",
       "      <td>ph100</td>\n",
       "    </tr>\n",
       "  </tbody>\n",
       "</table>\n",
       "</div>"
      ],
      "text/plain": [
       "    u_id u_pre_req_id\n",
       "0  cs222        cs101\n",
       "1  cs222        ph100"
      ]
     },
     "execution_count": 3,
     "metadata": {},
     "output_type": "execute_result"
    }
   ],
   "source": [
    "df_prereq = pd.read_csv('udacity_prereq_graph.csv')\n",
    "df_prereq.head(2)"
   ]
  },
  {
   "cell_type": "code",
   "execution_count": 4,
   "metadata": {
    "collapsed": false
   },
   "outputs": [
    {
     "name": "stdout",
     "output_type": "stream",
     "text": [
      "('self prereq:', 2)\n"
     ]
    }
   ],
   "source": [
    "print('self prereq:', (df_prereq['u_id'] == df_prereq['u_pre_req_id']).sum())"
   ]
  },
  {
   "cell_type": "code",
   "execution_count": 5,
   "metadata": {
    "collapsed": false
   },
   "outputs": [
    {
     "name": "stdout",
     "output_type": "stream",
     "text": [
      "     u_id u_pre_req_id\n",
      "23  ud257        ud201\n",
      "24  ud257        ud827\n"
     ]
    }
   ],
   "source": [
    "print(df_prereq[df_prereq['u_id'] == 'ud257'])"
   ]
  },
  {
   "cell_type": "code",
   "execution_count": 6,
   "metadata": {
    "collapsed": false
   },
   "outputs": [
    {
     "data": {
      "text/plain": [
       "True    118\n",
       "Name: in_u_id, dtype: int64"
      ]
     },
     "execution_count": 6,
     "metadata": {},
     "output_type": "execute_result"
    }
   ],
   "source": [
    "set_cids = set(df_prereq['u_pre_req_id'])\n",
    "df_prereq['in_u_id'] = df_prereq['u_pre_req_id'].apply(lambda x: x in set_cids)\n",
    "df_prereq['in_u_id'].value_counts()"
   ]
  },
  {
   "cell_type": "code",
   "execution_count": 7,
   "metadata": {
    "collapsed": false
   },
   "outputs": [
    {
     "name": "stdout",
     "output_type": "stream",
     "text": [
      "[('ud775', 16), ('cs101', 13), ('ud853', 13), ('ud804', 8), ('ud036', 8), ('ud855', 8), ('ud304', 6), ('ud827', 5), ('ud201', 4), ('cs046', 4)]\n"
     ]
    }
   ],
   "source": [
    "prereq_counts = sorted(Counter(df_prereq['u_pre_req_id'].values).items(), key=itemgetter(1), reverse=True)\n",
    "print(prereq_counts[:10])"
   ]
  },
  {
   "cell_type": "code",
   "execution_count": 8,
   "metadata": {
    "collapsed": true
   },
   "outputs": [],
   "source": [
    "df_prereq = pd.DataFrame(columns=[0], data=df_prereq.groupby(by='u_id').apply(lambda x: ' '.join(x['u_pre_req_id'].values)))\n",
    "\n",
    "def resolve_course_titles(element, c_df):\n",
    "    if isinstance(element, float):\n",
    "        return np.nan\n",
    "    t = np.nan\n",
    "    try:\n",
    "        t = c_df[c_df['id']==element].iloc[0]['title']\n",
    "    except IndexError:\n",
    "        pass\n",
    "    return t\n",
    "\n",
    "df_prereq['c_title'] = map(lambda x: resolve_course_titles(x, df), df_prereq.index)\n",
    "\n",
    "\n",
    "def resolve_prereq_titles(element, c_df):\n",
    "    if isinstance(element, float):\n",
    "        return np.nan\n",
    "    t = list()\n",
    "    for i in element.split():\n",
    "        try:\n",
    "            t.append(c_df[c_df['id']==i].iloc[0]['title'])\n",
    "        except IndexError:\n",
    "            pass\n",
    "    return ' ,'.join(t)\n",
    "\n",
    "df_prereq['p_titles'] = df_prereq[0].apply(resolve_prereq_titles, args=(df ,))"
   ]
  },
  {
   "cell_type": "code",
   "execution_count": 9,
   "metadata": {
    "collapsed": false
   },
   "outputs": [
    {
     "name": "stdout",
     "output_type": "stream",
     "text": [
      "Differential Equations in Action\n",
      "('\\t', 'Intro to Computer Science ')\n",
      "('\\t', 'Intro to Physics ')\n",
      "('\\t', 'Programming Foundations with Python')\n",
      "Web Development\n",
      "('\\t', 'Intro to Computer Science ')\n",
      "('\\t', 'Programming Foundations with Python')\n",
      "Intro to Artificial Intelligence\n",
      "('\\t', 'Intro to Statistics')\n",
      "Intro to Theoretical Computer Science\n",
      "('\\t', 'Intro to Computer Science ')\n",
      "('\\t', 'Intro to Algorithms')\n",
      "Artificial Intelligence for Robotics\n",
      "('\\t', 'Intro to Computer Science')\n",
      "Firebase Essentials For Android\n",
      "('\\t', 'Firebase Essentials For Android')\n",
      "Object-Oriented JavaScript\n",
      "('\\t', 'JavaScript Basics')\n",
      "Intro to Machine Learning\n",
      "('\\t', 'Intro to Computer Science ')\n",
      "('\\t', 'Intro to Inferential Statistics ')\n",
      "('\\t', 'Intro to Data Science ')\n",
      "('\\t', 'How to Use Git and GitHub ')\n",
      "('\\t', 'Intro to Descriptive Statistics')\n",
      "Intro to Data Analysis\n",
      "('\\t', 'Intro to Computer Science ')\n",
      "('\\t', 'Programming Foundations with Python')\n",
      "Intro to Relational Databases\n",
      "('\\t', 'Programming Foundations with Python ')\n",
      "('\\t', 'How to Use Git and GitHub')\n",
      "Intro to Inferential Statistics\n",
      "('\\t', 'Intro to Descriptive Statistics')\n",
      "Intro to jQuery\n",
      "('\\t', 'Intro to HTML and CSS ')\n",
      "('\\t', 'JavaScript Basics')\n",
      "A/B Testing\n",
      "('\\t', 'Intro to Inferential Statistics ')\n",
      "('\\t', 'Intro to Descriptive Statistics')\n",
      "Machine Learning\n",
      "('\\t', 'Intro to Computer Science ')\n",
      "('\\t', 'Intro to Artificial Intelligence ')\n",
      "('\\t', 'Intro to Statistics')\n",
      "HTML5 Canvas\n",
      "('\\t', 'Intro to HTML and CSS ')\n",
      "('\\t', 'JavaScript Basics')\n",
      "Configuring Linux Web Servers\n",
      "('\\t', 'Programming Foundations with Python ')\n",
      "('\\t', 'Intro to Relational Databases')\n",
      "iOS Persistence and Core Data\n",
      "('\\t', 'iOS Networking with Swift ')\n",
      "('\\t', 'Intro to iOS App Development with Swift ')\n",
      "('\\t', 'How to Use Git and GitHub ')\n",
      "('\\t', 'UIKit Fundamentals')\n",
      "Authentication & Authorization: OAuth\n",
      "('\\t', 'Full Stack Foundations ')\n",
      "('\\t', 'Intro to AJAX ')\n",
      "('\\t', 'Intro to HTML and CSS ')\n",
      "('\\t', 'JavaScript Basics')\n",
      "Intro to Data Science\n",
      "('\\t', 'Intro to Computer Science ')\n",
      "('\\t', 'Intro to Inferential Statistics ')\n",
      "('\\t', 'Intro to Descriptive Statistics')\n",
      "Real-Time Analytics with Apache Storm\n",
      "('\\t', 'Intro to Java Programming')\n"
     ]
    }
   ],
   "source": [
    "for idx, row in df_prereq.iloc[:20].iterrows():\n",
    "    print(row['c_title'])\n",
    "    for p in row['p_titles'].split(','):\n",
    "        print('\\t', p)"
   ]
  },
  {
   "cell_type": "code",
   "execution_count": 10,
   "metadata": {
    "collapsed": true
   },
   "outputs": [],
   "source": [
    "df_prereq.drop(['p_titles', 'c_title'], inplace=True, axis=1)"
   ]
  },
  {
   "cell_type": "code",
   "execution_count": 11,
   "metadata": {
    "collapsed": false
   },
   "outputs": [
    {
     "name": "stdout",
     "output_type": "stream",
     "text": [
      "0\n",
      "0\n"
     ]
    },
    {
     "data": {
      "text/html": [
       "<div>\n",
       "<table border=\"1\" class=\"dataframe\">\n",
       "  <thead>\n",
       "    <tr style=\"text-align: right;\">\n",
       "      <th></th>\n",
       "      <th>0</th>\n",
       "      <th>1</th>\n",
       "      <th>2</th>\n",
       "    </tr>\n",
       "    <tr>\n",
       "      <th>u_id</th>\n",
       "      <th></th>\n",
       "      <th></th>\n",
       "      <th></th>\n",
       "    </tr>\n",
       "  </thead>\n",
       "  <tbody>\n",
       "    <tr>\n",
       "      <th>cs222</th>\n",
       "      <td>cs101 ph100 ud036</td>\n",
       "      <td>NaN</td>\n",
       "      <td>NaN</td>\n",
       "    </tr>\n",
       "    <tr>\n",
       "      <th>cs253</th>\n",
       "      <td>cs101 ud036</td>\n",
       "      <td>NaN</td>\n",
       "      <td>NaN</td>\n",
       "    </tr>\n",
       "    <tr>\n",
       "      <th>cs271</th>\n",
       "      <td>st101</td>\n",
       "      <td>NaN</td>\n",
       "      <td>NaN</td>\n",
       "    </tr>\n",
       "    <tr>\n",
       "      <th>cs313</th>\n",
       "      <td>cs101 cs215</td>\n",
       "      <td>NaN</td>\n",
       "      <td>NaN</td>\n",
       "    </tr>\n",
       "    <tr>\n",
       "      <th>cs373</th>\n",
       "      <td>cs101</td>\n",
       "      <td>NaN</td>\n",
       "      <td>NaN</td>\n",
       "    </tr>\n",
       "    <tr>\n",
       "      <th>ud009</th>\n",
       "      <td>ud009</td>\n",
       "      <td>NaN</td>\n",
       "      <td>NaN</td>\n",
       "    </tr>\n",
       "    <tr>\n",
       "      <th>ud015</th>\n",
       "      <td>ud804</td>\n",
       "      <td>cs101 ud036</td>\n",
       "      <td>NaN</td>\n",
       "    </tr>\n",
       "    <tr>\n",
       "      <th>ud120</th>\n",
       "      <td>cs101 ud201 ud359 ud775 ud827</td>\n",
       "      <td>ud595</td>\n",
       "      <td>ud036 ud197</td>\n",
       "    </tr>\n",
       "    <tr>\n",
       "      <th>ud170</th>\n",
       "      <td>cs101 ud036</td>\n",
       "      <td>NaN</td>\n",
       "      <td>NaN</td>\n",
       "    </tr>\n",
       "    <tr>\n",
       "      <th>ud197</th>\n",
       "      <td>ud036 ud775</td>\n",
       "      <td>ud595</td>\n",
       "      <td>ud197</td>\n",
       "    </tr>\n",
       "  </tbody>\n",
       "</table>\n",
       "</div>"
      ],
      "text/plain": [
       "                                   0            1            2\n",
       "u_id                                                          \n",
       "cs222              cs101 ph100 ud036          NaN          NaN\n",
       "cs253                    cs101 ud036          NaN          NaN\n",
       "cs271                          st101          NaN          NaN\n",
       "cs313                    cs101 cs215          NaN          NaN\n",
       "cs373                          cs101          NaN          NaN\n",
       "ud009                          ud009          NaN          NaN\n",
       "ud015                          ud804  cs101 ud036          NaN\n",
       "ud120  cs101 ud201 ud359 ud775 ud827        ud595  ud036 ud197\n",
       "ud170                    cs101 ud036          NaN          NaN\n",
       "ud197                    ud036 ud775        ud595        ud197"
      ]
     },
     "execution_count": 11,
     "metadata": {},
     "output_type": "execute_result"
    }
   ],
   "source": [
    "def find_next_level_prereq(row, col, df):\n",
    "    prereq = ''\n",
    "    already_in = set()\n",
    "    for i in row:\n",
    "        if isinstance(i, float):\n",
    "            break\n",
    "        already_in.update(set(i.split()))\n",
    "    last_element = row.iloc[-1]\n",
    "    if isinstance(last_element, float):\n",
    "        return np.nan\n",
    "    # print(last_element)\n",
    "    for i in last_element.split():\n",
    "        try:\n",
    "            new_prereq = df.at[i, col]\n",
    "            if not isinstance(new_prereq, float):\n",
    "                new_prereq = ' '.join(filter(lambda x: x not in already_in, new_prereq.split()))\n",
    "                prereq += new_prereq\n",
    "        except KeyError:\n",
    "            pass\n",
    "    if prereq == '':\n",
    "        return np.nan\n",
    "    return prereq\n",
    "\n",
    "def add_prereq_level(df):\n",
    "    max_level = max(df.columns)\n",
    "    df[max_level + 1] = df.apply(find_next_level_prereq, args=(max_level, df), axis=1)\n",
    "\n",
    "for i in range(2):\n",
    "    add_prereq_level(df_prereq)\n",
    "    print(df_prereq[df_prereq.columns[-1]].isnull().sum()/len(df_prereq))\n",
    "df_prereq.head(10)"
   ]
  },
  {
   "cell_type": "code",
   "execution_count": 12,
   "metadata": {
    "collapsed": false
   },
   "outputs": [
    {
     "data": {
      "text/html": [
       "<div>\n",
       "<table border=\"1\" class=\"dataframe\">\n",
       "  <thead>\n",
       "    <tr style=\"text-align: right;\">\n",
       "      <th></th>\n",
       "      <th>id</th>\n",
       "      <th>title</th>\n",
       "      <th>homepage</th>\n",
       "      <th>subtitle</th>\n",
       "      <th>level</th>\n",
       "      <th>starter</th>\n",
       "      <th>image</th>\n",
       "      <th>banner_image</th>\n",
       "      <th>teaser_video</th>\n",
       "      <th>summary</th>\n",
       "      <th>...</th>\n",
       "      <th>featured</th>\n",
       "      <th>syllabus</th>\n",
       "      <th>faq</th>\n",
       "      <th>full_course_available</th>\n",
       "      <th>expected_duration</th>\n",
       "      <th>expected_duration_unit</th>\n",
       "      <th>new_release</th>\n",
       "      <th>transcripts_url</th>\n",
       "      <th>transcripts_zip_fn</th>\n",
       "      <th>transcript</th>\n",
       "    </tr>\n",
       "  </thead>\n",
       "  <tbody>\n",
       "    <tr>\n",
       "      <th>0</th>\n",
       "      <td>bio110</td>\n",
       "      <td>Tales from the Genome</td>\n",
       "      <td>https://www.udacity.com/course/tales-from-the-...</td>\n",
       "      <td>Introduction to Genetics for Beginners</td>\n",
       "      <td>beginner</td>\n",
       "      <td>False</td>\n",
       "      <td>https://lh5.ggpht.com/Fh07_XbT61CGDWsQoOMQaIeH...</td>\n",
       "      <td>https://lh4.ggpht.com/_AHqr0EXcLBzF0rrwtBagE0t...</td>\n",
       "      <td>https://www.youtube.com/watch?v=sEXrjh-tme8</td>\n",
       "      <td>This course is a journey into the biology of t...</td>\n",
       "      <td>...</td>\n",
       "      <td>False</td>\n",
       "      <td>## Lesson 1: Introduction to traits and heredi...</td>\n",
       "      <td>NaN</td>\n",
       "      <td>False</td>\n",
       "      <td>3</td>\n",
       "      <td>months</td>\n",
       "      <td>False</td>\n",
       "      <td>https://www.udacity.com/course/progress#!/c-bi...</td>\n",
       "      <td>transcripts_zips/bio110.zip</td>\n",
       "      <td>In the same way that our genomes influence tr...</td>\n",
       "    </tr>\n",
       "    <tr>\n",
       "      <th>1</th>\n",
       "      <td>cs046</td>\n",
       "      <td>Intro to Java Programming</td>\n",
       "      <td>https://www.udacity.com/course/intro-to-java-p...</td>\n",
       "      <td>Building Programs with Classes &amp; Objects</td>\n",
       "      <td>beginner</td>\n",
       "      <td>False</td>\n",
       "      <td>https://lh4.ggpht.com/9ytiUdz0QYHwuMJFTXcNXZn4...</td>\n",
       "      <td>https://lh3.ggpht.com/AdAALPYhCsWuIvDl0ZY6zIW2...</td>\n",
       "      <td>https://www.youtube.com/watch?v=Wsp5Rrenoq4</td>\n",
       "      <td>In this introductory course, you'll learn and ...</td>\n",
       "      <td>...</td>\n",
       "      <td>False</td>\n",
       "      <td>### Lesson 1: Introduction to Computers, Progr...</td>\n",
       "      <td>NaN</td>\n",
       "      <td>True</td>\n",
       "      <td>4</td>\n",
       "      <td>months</td>\n",
       "      <td>False</td>\n",
       "      <td>https://www.udacity.com/course/progress#!/c-cs046</td>\n",
       "      <td>transcripts_zips/cs046.zip</td>\n",
       "      <td>Hi, I'm Cay. I'm Sara. We'll be the instructo...</td>\n",
       "    </tr>\n",
       "  </tbody>\n",
       "</table>\n",
       "<p>2 rows × 23 columns</p>\n",
       "</div>"
      ],
      "text/plain": [
       "       id                      title  \\\n",
       "0  bio110      Tales from the Genome   \n",
       "1   cs046  Intro to Java Programming   \n",
       "\n",
       "                                            homepage  \\\n",
       "0  https://www.udacity.com/course/tales-from-the-...   \n",
       "1  https://www.udacity.com/course/intro-to-java-p...   \n",
       "\n",
       "                                   subtitle     level starter  \\\n",
       "0    Introduction to Genetics for Beginners  beginner   False   \n",
       "1  Building Programs with Classes & Objects  beginner   False   \n",
       "\n",
       "                                               image  \\\n",
       "0  https://lh5.ggpht.com/Fh07_XbT61CGDWsQoOMQaIeH...   \n",
       "1  https://lh4.ggpht.com/9ytiUdz0QYHwuMJFTXcNXZn4...   \n",
       "\n",
       "                                        banner_image  \\\n",
       "0  https://lh4.ggpht.com/_AHqr0EXcLBzF0rrwtBagE0t...   \n",
       "1  https://lh3.ggpht.com/AdAALPYhCsWuIvDl0ZY6zIW2...   \n",
       "\n",
       "                                  teaser_video  \\\n",
       "0  https://www.youtube.com/watch?v=sEXrjh-tme8   \n",
       "1  https://www.youtube.com/watch?v=Wsp5Rrenoq4   \n",
       "\n",
       "                                             summary  \\\n",
       "0  This course is a journey into the biology of t...   \n",
       "1  In this introductory course, you'll learn and ...   \n",
       "\n",
       "                         ...                         featured  \\\n",
       "0                        ...                            False   \n",
       "1                        ...                            False   \n",
       "\n",
       "                                            syllabus  faq  \\\n",
       "0  ## Lesson 1: Introduction to traits and heredi...  NaN   \n",
       "1  ### Lesson 1: Introduction to Computers, Progr...  NaN   \n",
       "\n",
       "  full_course_available expected_duration expected_duration_unit new_release  \\\n",
       "0                 False                 3                 months       False   \n",
       "1                  True                 4                 months       False   \n",
       "\n",
       "                                     transcripts_url  \\\n",
       "0  https://www.udacity.com/course/progress#!/c-bi...   \n",
       "1  https://www.udacity.com/course/progress#!/c-cs046   \n",
       "\n",
       "            transcripts_zip_fn  \\\n",
       "0  transcripts_zips/bio110.zip   \n",
       "1   transcripts_zips/cs046.zip   \n",
       "\n",
       "                                          transcript  \n",
       "0   In the same way that our genomes influence tr...  \n",
       "1   Hi, I'm Cay. I'm Sara. We'll be the instructo...  \n",
       "\n",
       "[2 rows x 23 columns]"
      ]
     },
     "execution_count": 12,
     "metadata": {},
     "output_type": "execute_result"
    }
   ],
   "source": [
    "df.head(2)"
   ]
  },
  {
   "cell_type": "code",
   "execution_count": 13,
   "metadata": {
    "collapsed": false
   },
   "outputs": [
    {
     "data": {
      "text/plain": [
       "array(['beginner', 'advanced', 'intermediate', nan], dtype=object)"
      ]
     },
     "execution_count": 13,
     "metadata": {},
     "output_type": "execute_result"
    }
   ],
   "source": [
    "pd.unique(df['level'])"
   ]
  },
  {
   "cell_type": "code",
   "execution_count": 14,
   "metadata": {
    "collapsed": false
   },
   "outputs": [
    {
     "data": {
      "text/plain": [
       "defaultdict(<function __main__.<lambda>>,\n",
       "            {nan: 3,\n",
       "             'advanced': 1,\n",
       "             'beginner': 0,\n",
       "             'intermediate': 2,\n",
       "             'nan': 3})"
      ]
     },
     "execution_count": 14,
     "metadata": {},
     "output_type": "execute_result"
    }
   ],
   "source": [
    "from collections import defaultdict\n",
    "c_level = defaultdict(lambda: 3, ((j, i) for i,j in enumerate(pd.unique(df['level']))))\n",
    "c_level[np.nan] = 3\n",
    "c_level['nan'] = 3\n",
    "c_level"
   ]
  },
  {
   "cell_type": "code",
   "execution_count": 15,
   "metadata": {
    "collapsed": false
   },
   "outputs": [
    {
     "data": {
      "text/plain": [
       "119    JavaScript Promises Async Work Made Easy Learn...\n",
       "120    Offline Web Applications Using IndexedDB & Ser...\n",
       "121    Learn Swift Programming Syntax From Optionals ...\n",
       "122    Educational Technology Offered at Georgia Tech...\n",
       "123    Model Building and Validation Advanced Techniq...\n",
       "124    Introduction to Operating Systems Offered at G...\n",
       "125    Linear Algebra Refresher Course A Brief Refres...\n",
       "126    Computational Photography Offered at Georgia T...\n",
       "127    JavaScript Design Patterns Organizing Code in ...\n",
       "128    Learn Backbone.js Write Organized JavaScript A...\n",
       "Name: all-text, dtype: object"
      ]
     },
     "execution_count": 15,
     "metadata": {},
     "output_type": "execute_result"
    }
   ],
   "source": [
    "#df['all-text'] = df['title'] + ' ' + df['subtitle'] + ' ' + df['description'] + ' ' + df['short_description'] + ' ' + df['syllabus']\n",
    "cols = ['title', 'subtitle', 'summary', 'expected_learning', 'syllabus', 'transcript']\n",
    "df['all-text'] = ''\n",
    "for i in cols:\n",
    "    df['all-text'] += df[i].astype('str')\n",
    "    df['all-text'] += ' '\n",
    "df['all-text'].tail(10)"
   ]
  },
  {
   "cell_type": "code",
   "execution_count": 16,
   "metadata": {
    "collapsed": false
   },
   "outputs": [
    {
     "data": {
      "image/png": "[encoded data removed]",
      "text/plain": [
       "<matplotlib.figure.Figure at 0x7fedca2a8350>"
      ]
     },
     "metadata": {},
     "output_type": "display_data"
    },
    {
     "data": {
      "image/png": "[encoded data removed]",
      "text/plain": [
       "<matplotlib.figure.Figure at 0x7fedc95a7850>"
      ]
     },
     "metadata": {},
     "output_type": "display_data"
    }
   ],
   "source": [
    "df['all-text'].apply(len).plot(kind='hist')\n",
    "plt.xlabel('#char')\n",
    "plt.show()\n",
    "df['all-text'].apply(lambda x: len(x.split())).plot(kind='hist')\n",
    "plt.xlabel('#words')\n",
    "plt.show()"
   ]
  },
  {
   "cell_type": "code",
   "execution_count": 17,
   "metadata": {
    "collapsed": false
   },
   "outputs": [],
   "source": [
    "df['all-text-clean'] = df['all-text'].apply(text_cleanup, args=(None, 2))\n",
    "df.to_pickle('udacity_all_text.df')\n",
    "df['title'] = df['title'].apply(text_cleanup, args=(None, 2))\n",
    "df['transcript'] = df['transcript'].apply(text_cleanup, args=(None, 2))"
   ]
  },
  {
   "cell_type": "code",
   "execution_count": 21,
   "metadata": {
    "collapsed": false
   },
   "outputs": [
    {
     "data": {
      "text/plain": [
       "129"
      ]
     },
     "execution_count": 21,
     "metadata": {},
     "output_type": "execute_result"
    }
   ],
   "source": [
    "len(df)"
   ]
  },
  {
   "cell_type": "code",
   "execution_count": 33,
   "metadata": {
    "collapsed": false
   },
   "outputs": [
    {
     "name": "stdout",
     "output_type": "stream",
     "text": [
      "('tfidf shape:', (129, 4735))\n",
      "<type 'numpy.ndarray'>\n",
      "(129, 4735)\n",
      "2\n"
     ]
    }
   ],
   "source": [
    "vectorizer = TfidfVectorizer(stop_words='english', max_df=0.5, min_df=0.1, ngram_range=(1, 1))\n",
    "#vectorizer = CountVectorizer(stop_words='english', max_df=0.1, min_df=5)\n",
    "vectorized_text = vectorizer.fit_transform(df['all-text-clean'].values)\n",
    "print('tfidf shape:', vectorized_text.shape)\n",
    "\n",
    "if False:\n",
    "    from sklearn.decomposition import TruncatedSVD\n",
    "    explained_var = list()\n",
    "    comp_range = range(2, 1100, 100)\n",
    "    shapes = list()\n",
    "    for i in tqdm(reversed(comp_range)):\n",
    "        svd = TruncatedSVD(n_components=i, n_iter=100)\n",
    "        tmp = svd.fit_transform(vectorized_text)\n",
    "        explained_var.append(svd.explained_variance_.sum())\n",
    "        shapes.append(tmp.shape[1])\n",
    "    pd.DataFrame(columns=['number of components', 'explained variance', 'true dim'], \n",
    "                 data=zip(comp_range, explained_var, shapes)).plot(x='number of components', secondary_y=['true dim'])\n",
    "    plt.show()\n",
    "    svd = TruncatedSVD(n_components=100, n_iter=100)\n",
    "    vectorized_text = svd.fit_transform(vectorized_text)\n",
    "else:\n",
    "    vectorized_text = np.array(vectorized_text.todense())\n",
    "print(type(vectorized_text))\n",
    "print(vectorized_text.shape)\n",
    "print(len(vectorized_text.shape))"
   ]
  },
  {
   "cell_type": "code",
   "execution_count": 36,
   "metadata": {
    "collapsed": false
   },
   "outputs": [
    {
     "data": {
      "image/png": "[encoded data removed]",
      "text/plain": [
       "<matplotlib.figure.Figure at 0x7fedc27a01d0>"
      ]
     },
     "metadata": {},
     "output_type": "display_data"
    },
    {
     "data": {
      "image/png": "[encoded data removed]",
      "text/plain": [
       "<matplotlib.figure.Figure at 0x7fedc26bd410>"
      ]
     },
     "metadata": {},
     "output_type": "display_data"
    },
    {
     "data": {
      "image/png": "[encoded data removed]",
      "text/plain": [
       "<matplotlib.figure.Figure at 0x7fedc26bddd0>"
      ]
     },
     "metadata": {},
     "output_type": "display_data"
    }
   ],
   "source": [
    "plot_tfidf_vals(vectorized_text)"
   ]
  },
  {
   "cell_type": "code",
   "execution_count": 40,
   "metadata": {
    "collapsed": false
   },
   "outputs": [
    {
     "data": {
      "image/png": "[encoded data removed]",
      "text/plain": [
       "<matplotlib.figure.Figure at 0x7fed9adc3b50>"
      ]
     },
     "metadata": {},
     "output_type": "display_data"
    },
    {
     "data": {
      "image/png": "[encoded data removed]",
      "text/plain": [
       "<matplotlib.figure.Figure at 0x7fedc25d48d0>"
      ]
     },
     "metadata": {},
     "output_type": "display_data"
    },
    {
     "data": {
      "image/png": "[encoded data removed]",
      "text/plain": [
       "<matplotlib.figure.Figure at 0x7fed9b678dd0>"
      ]
     },
     "metadata": {},
     "output_type": "display_data"
    },
    {
     "name": "stdout",
     "output_type": "stream",
     "text": [
      "(129, 185)\n",
      "[u'aligned' u'additive' u'allocating' u'addressing' u'afraid' u'accounted'\n",
      " u'animate' u'aggressive' u'altogether' u'advise' u'ab' u'analogous'\n",
      " u'adaptive' u'angle' u'alternating' u'alice' u'accurately' u'analyzing'\n",
      " u'allowing' u'aha']\n"
     ]
    }
   ],
   "source": [
    "vectorized_text, words = filter_tfidf_max(vectorized_text, vectorizer.get_feature_names(), min_th=.3, max_th=None)\n",
    "plot_tfidf_vals(vectorized_text)\n",
    "print(vectorized_text.shape)\n",
    "print(np.random.choice(words, size=20))"
   ]
  },
  {
   "cell_type": "code",
   "execution_count": 41,
   "metadata": {
    "collapsed": false
   },
   "outputs": [
    {
     "data": {
      "image/png": "[encoded data removed]",
      "text/plain": [
       "<matplotlib.figure.Figure at 0x7fed9b5274d0>"
      ]
     },
     "metadata": {},
     "output_type": "display_data"
    },
    {
     "name": "stderr",
     "output_type": "stream",
     "text": [
      "100%|██████████| 129/129 [22:21<00:00, 10.19s/it]\n"
     ]
    }
   ],
   "source": [
    "diffs = list()\n",
    "title = 'title'\n",
    "transcript = 'transcript'\n",
    "description = 'summary'\n",
    "\n",
    "textual_overlaps = [title, transcript, description]\n",
    "overlap_names = [i + '->' + j for i in textual_overlaps for j in textual_overlaps]\n",
    "overlap_combinations = [(i, j) for i in range(len(textual_overlaps)) for j in range(len(textual_overlaps))]\n",
    "\n",
    "def overlap_agg_func(t1, t2):\n",
    "    t1_bag = set(t1.split())\n",
    "    return sum((i in t1_bag for i in t2.split()))\n",
    "\n",
    "f_names = list()\n",
    "tex_overlap_df = df[textual_overlaps]\n",
    "\n",
    "df['flesch_reading_ease'] = df['all-text'].apply(textstat.flesch_reading_ease)\n",
    "df['all_text_num_char'] = df['all-text'].apply(len)\n",
    "df['all_text_num_word'] = df['all-text-clean'].apply(lambda x: len(x.split()))\n",
    "sns.distplot(df['flesch_reading_ease'])\n",
    "plt.show()\n",
    "df['course_depth'] = df['level'].apply(lambda x: c_level[x])\n",
    "\n",
    "for idx in tqdm(range(vectorized_text.shape[0])):\n",
    "    v1 = vectorized_text[idx, :]\n",
    "    v1_texts = tex_overlap_df.iloc[idx].values\n",
    "    v1_min = v1.min()\n",
    "    v1_max = v1.max()\n",
    "    v1_mean = v1.mean()\n",
    "    v1_median = np.median(v1)\n",
    "    v1_count = (v1 > 0).sum()\n",
    "    v1_n_chars = df['all_text_num_char'].iloc[idx]\n",
    "    v1_n_words = df['all_text_num_word'].iloc[idx]\n",
    "    v1_flesch = df['flesch_reading_ease'].iloc[idx]\n",
    "    v1_depth = df['course_depth'].iloc[idx]\n",
    "    for jdx in range(vectorized_text.shape[0]):\n",
    "        v2 = vectorized_text[jdx, :]   \n",
    "        v2_texts = tex_overlap_df.iloc[jdx].values\n",
    "        overlaps_res = [overlap_agg_func(v1_texts[i], v2_texts[j]) for i,j in overlap_combinations]\n",
    "        \n",
    "        sim = (v1 * v2).sum() / ( np.sqrt((v1**2).sum()) * np.sqrt((v2**2).sum()) )\n",
    "        euc_dist = np.sqrt(((v1-v2)**2).sum())\n",
    "        man_dist = np.abs(v1-v2).sum()\n",
    "        bin_diff = (v2 > v1).sum()\n",
    "        max_diff = (v2 - v1).max()\n",
    "        mean_diff = (v2 - v1).mean()\n",
    "        median_diff = np.median(v2 - v1)\n",
    "        \n",
    "        v2_max = v2.max()\n",
    "        v2_min = v2.min()\n",
    "        v2_mean = v2.mean()\n",
    "        v2_median = np.median(v2)\n",
    "        v2_count = (v2 > 0).sum()\n",
    "        v2_n_chars = df['all_text_num_char'].iloc[jdx]\n",
    "        v2_n_words = df['all_text_num_word'].iloc[jdx]\n",
    "        v2_flesch = df['flesch_reading_ease'].iloc[jdx]\n",
    "        v2_depth = df['course_depth'].iloc[jdx]\n",
    "        \n",
    "        cons_idx = (v2 > 0.) & (v1 > 0.) & (v2 - 0.2 > v1)\n",
    "        v1_filt = v1[cons_idx]\n",
    "        v2_filt = v2[cons_idx]\n",
    "        diff = (v2_filt - v1_filt).sum()\n",
    "        depth_diff = v1_depth - v2_depth\n",
    "        feature_values = [idx, jdx, diff, sim, euc_dist, man_dist, bin_diff, max_diff, mean_diff, median_diff, \n",
    "                          v1_max, v2_max, v1_min, v2_min, v1_mean, v2_mean, v1_median, v2_median, v1_count, \n",
    "                          v2_count, v1_n_chars, v1_n_words, v2_n_chars, v2_n_words, v1_flesch, v2_flesch, \n",
    "                          v1_depth, v2_depth, depth_diff, v1, v2]\n",
    "        feature_values += overlaps_res\n",
    "        diffs.append(tuple(feature_values))\n",
    "    if idx == 0:\n",
    "        f_names = ['idx', 'jdx', 'vec-diff', 'cos-sim', 'euc-dist', 'man-dist', 'bin_diff', \n",
    "                   'max_diff', 'mean_diff', 'median_diff',\n",
    "                   'v1_max', 'v2_max', 'v1_min', 'v2_min', \n",
    "                   'v1_mean', 'v2_mean', 'v1_median', 'v2_median', \n",
    "                   'v1_count', 'v2_count', 'v1_n_chars', 'v1_n_words', 'v2_n_chars', 'v2_n_words',\n",
    "                   'v1_flesch', 'v2_flesch', 'v1_depth', 'v2_depth', 'depth_diff', 'v1', 'v2']\n",
    "        f_names += overlap_names"
   ]
  },
  {
   "cell_type": "code",
   "execution_count": 42,
   "metadata": {
    "collapsed": false
   },
   "outputs": [],
   "source": [
    "diff_df = pd.DataFrame(columns=f_names, data=diffs)\n",
    "titles = df['title'].values\n",
    "ids = df['id'].values\n",
    "diff_df['c1'] = map(lambda x: titles[x], diff_df['idx'])\n",
    "diff_df['c2'] = map(lambda x: titles[x], diff_df['jdx'])\n",
    "diff_df['c_id'] = map(lambda x: ids[x], diff_df['idx'])\n",
    "diff_df['prereq_id'] = map(lambda x: df.iloc[x][0], diff_df['jdx'])"
   ]
  },
  {
   "cell_type": "code",
   "execution_count": 43,
   "metadata": {
    "collapsed": false
   },
   "outputs": [
    {
     "data": {
      "text/html": [
       "<div>\n",
       "<table border=\"1\" class=\"dataframe\">\n",
       "  <thead>\n",
       "    <tr style=\"text-align: right;\">\n",
       "      <th></th>\n",
       "      <th>0</th>\n",
       "      <th>1</th>\n",
       "      <th>2</th>\n",
       "    </tr>\n",
       "    <tr>\n",
       "      <th>u_id</th>\n",
       "      <th></th>\n",
       "      <th></th>\n",
       "      <th></th>\n",
       "    </tr>\n",
       "  </thead>\n",
       "  <tbody>\n",
       "    <tr>\n",
       "      <th>cs222</th>\n",
       "      <td>cs101 ph100 ud036</td>\n",
       "      <td>NaN</td>\n",
       "      <td>NaN</td>\n",
       "    </tr>\n",
       "  </tbody>\n",
       "</table>\n",
       "</div>"
      ],
      "text/plain": [
       "                       0    1    2\n",
       "u_id                              \n",
       "cs222  cs101 ph100 ud036  NaN  NaN"
      ]
     },
     "execution_count": 43,
     "metadata": {},
     "output_type": "execute_result"
    }
   ],
   "source": [
    "df_prereq.head(1)"
   ]
  },
  {
   "cell_type": "code",
   "execution_count": 44,
   "metadata": {
    "collapsed": false
   },
   "outputs": [
    {
     "name": "stdout",
     "output_type": "stream",
     "text": [
      "('pos groundtruth:', 189)\n",
      "('neg groundtruth:', 16452)\n"
     ]
    }
   ],
   "source": [
    "diff_df['ground-truth'] = map(lambda (x, y): x in df_prereq.index and y in ' '.join(filter(lambda p: isinstance(p, str), df_prereq[[0, 1, 2]].loc[x].values)), diff_df[['c_id', 'prereq_id']].values)\n",
    "num_pos = diff_df['ground-truth'].sum()\n",
    "num_neg = len(diff_df) - num_pos\n",
    "print('pos groundtruth:', num_pos)\n",
    "print('neg groundtruth:', num_neg)\n",
    "diff_df.sort_values(by='vec-diff', inplace=True, ascending=False)"
   ]
  },
  {
   "cell_type": "code",
   "execution_count": 45,
   "metadata": {
    "collapsed": false
   },
   "outputs": [
    {
     "name": "stdout",
     "output_type": "stream",
     "text": [
      "0.0\n",
      "1.81567426744\n",
      "Index([u'idx', u'jdx', u'vec-diff', u'cos-sim', u'euc-dist', u'man-dist',\n",
      "       u'bin_diff', u'max_diff', u'mean_diff', u'median_diff', u'v1_max',\n",
      "       u'v2_max', u'v1_min', u'v2_min', u'v1_mean', u'v2_mean', u'v1_median',\n",
      "       u'v2_median', u'v1_count', u'v2_count', u'v1_n_chars', u'v1_n_words',\n",
      "       u'v2_n_chars', u'v2_n_words', u'v1_flesch', u'v2_flesch', u'v1_depth',\n",
      "       u'v2_depth', u'depth_diff', u'v1', u'v2', u'title->title',\n",
      "       u'title->transcript', u'title->summary', u'transcript->title',\n",
      "       u'transcript->transcript', u'transcript->summary', u'summary->title',\n",
      "       u'summary->transcript', u'summary->summary', u'c1', u'c2', u'c_id',\n",
      "       u'prereq_id', u'ground-truth'],\n",
      "      dtype='object')\n"
     ]
    },
    {
     "data": {
      "text/html": [
       "<div>\n",
       "<table border=\"1\" class=\"dataframe\">\n",
       "  <thead>\n",
       "    <tr style=\"text-align: right;\">\n",
       "      <th></th>\n",
       "      <th>idx</th>\n",
       "      <th>jdx</th>\n",
       "      <th>vec-diff</th>\n",
       "      <th>cos-sim</th>\n",
       "      <th>euc-dist</th>\n",
       "      <th>man-dist</th>\n",
       "      <th>bin_diff</th>\n",
       "      <th>max_diff</th>\n",
       "      <th>mean_diff</th>\n",
       "      <th>median_diff</th>\n",
       "      <th>...</th>\n",
       "      <th>transcript-&gt;transcript</th>\n",
       "      <th>transcript-&gt;summary</th>\n",
       "      <th>summary-&gt;title</th>\n",
       "      <th>summary-&gt;transcript</th>\n",
       "      <th>summary-&gt;summary</th>\n",
       "      <th>c1</th>\n",
       "      <th>c2</th>\n",
       "      <th>c_id</th>\n",
       "      <th>prereq_id</th>\n",
       "      <th>ground-truth</th>\n",
       "    </tr>\n",
       "  </thead>\n",
       "  <tbody>\n",
       "    <tr>\n",
       "      <th>9689</th>\n",
       "      <td>75</td>\n",
       "      <td>14</td>\n",
       "      <td>1.815674</td>\n",
       "      <td>0.100545</td>\n",
       "      <td>1.077885</td>\n",
       "      <td>3.973008</td>\n",
       "      <td>28</td>\n",
       "      <td>0.472877</td>\n",
       "      <td>0.001216</td>\n",
       "      <td>0.0</td>\n",
       "      <td>...</td>\n",
       "      <td>133370</td>\n",
       "      <td>19</td>\n",
       "      <td>2</td>\n",
       "      <td>37379</td>\n",
       "      <td>7</td>\n",
       "      <td>reinforcement learning</td>\n",
       "      <td>intro to theoretical computer science</td>\n",
       "      <td>ud600</td>\n",
       "      <td>cs313</td>\n",
       "      <td>False</td>\n",
       "    </tr>\n",
       "    <tr>\n",
       "      <th>13191</th>\n",
       "      <td>102</td>\n",
       "      <td>33</td>\n",
       "      <td>1.776448</td>\n",
       "      <td>0.071265</td>\n",
       "      <td>1.196877</td>\n",
       "      <td>4.573121</td>\n",
       "      <td>31</td>\n",
       "      <td>0.505149</td>\n",
       "      <td>0.002868</td>\n",
       "      <td>0.0</td>\n",
       "      <td>...</td>\n",
       "      <td>15090</td>\n",
       "      <td>81</td>\n",
       "      <td>0</td>\n",
       "      <td>5333</td>\n",
       "      <td>43</td>\n",
       "      <td>developing scalable apps in java</td>\n",
       "      <td>full stack foundations</td>\n",
       "      <td>ud859</td>\n",
       "      <td>ud088</td>\n",
       "      <td>False</td>\n",
       "    </tr>\n",
       "  </tbody>\n",
       "</table>\n",
       "<p>2 rows × 45 columns</p>\n",
       "</div>"
      ],
      "text/plain": [
       "       idx  jdx  vec-diff   cos-sim  euc-dist  man-dist  bin_diff  max_diff  \\\n",
       "9689    75   14  1.815674  0.100545  1.077885  3.973008        28  0.472877   \n",
       "13191  102   33  1.776448  0.071265  1.196877  4.573121        31  0.505149   \n",
       "\n",
       "       mean_diff  median_diff      ...       transcript->transcript  \\\n",
       "9689    0.001216          0.0      ...                       133370   \n",
       "13191   0.002868          0.0      ...                        15090   \n",
       "\n",
       "       transcript->summary  summary->title  summary->transcript  \\\n",
       "9689                    19               2                37379   \n",
       "13191                   81               0                 5333   \n",
       "\n",
       "       summary->summary                                c1  \\\n",
       "9689                  7            reinforcement learning   \n",
       "13191                43  developing scalable apps in java   \n",
       "\n",
       "                                          c2   c_id  prereq_id  ground-truth  \n",
       "9689   intro to theoretical computer science  ud600      cs313         False  \n",
       "13191                 full stack foundations  ud859      ud088         False  \n",
       "\n",
       "[2 rows x 45 columns]"
      ]
     },
     "execution_count": 45,
     "metadata": {},
     "output_type": "execute_result"
    }
   ],
   "source": [
    "print(diff_df['vec-diff'].min())\n",
    "print(diff_df['vec-diff'].max())\n",
    "print(diff_df.columns)\n",
    "diff_df.to_pickle('clf.df')\n",
    "diff_df.head(2)"
   ]
  },
  {
   "cell_type": "code",
   "execution_count": 30,
   "metadata": {
    "collapsed": false
   },
   "outputs": [
    {
     "data": {
      "text/html": [
       "<div>\n",
       "<table border=\"1\" class=\"dataframe\">\n",
       "  <thead>\n",
       "    <tr style=\"text-align: right;\">\n",
       "      <th></th>\n",
       "      <th>idx</th>\n",
       "      <th>jdx</th>\n",
       "      <th>vec-diff</th>\n",
       "      <th>cos-sim</th>\n",
       "      <th>euc-dist</th>\n",
       "      <th>man-dist</th>\n",
       "      <th>bin_diff</th>\n",
       "      <th>max_diff</th>\n",
       "      <th>mean_diff</th>\n",
       "      <th>median_diff</th>\n",
       "      <th>...</th>\n",
       "      <th>transcript-&gt;transcript</th>\n",
       "      <th>transcript-&gt;summary</th>\n",
       "      <th>summary-&gt;title</th>\n",
       "      <th>summary-&gt;transcript</th>\n",
       "      <th>summary-&gt;summary</th>\n",
       "      <th>c1</th>\n",
       "      <th>c2</th>\n",
       "      <th>c_id</th>\n",
       "      <th>prereq_id</th>\n",
       "      <th>ground-truth</th>\n",
       "    </tr>\n",
       "  </thead>\n",
       "  <tbody>\n",
       "    <tr>\n",
       "      <th>8696</th>\n",
       "      <td>67</td>\n",
       "      <td>53</td>\n",
       "      <td>1.657688</td>\n",
       "      <td>0.103480</td>\n",
       "      <td>1.339044</td>\n",
       "      <td>33.780440</td>\n",
       "      <td>29</td>\n",
       "      <td>0.602820</td>\n",
       "      <td>-0.002963</td>\n",
       "      <td>0.0</td>\n",
       "      <td>...</td>\n",
       "      <td>0</td>\n",
       "      <td>129</td>\n",
       "      <td>2</td>\n",
       "      <td>0</td>\n",
       "      <td>58</td>\n",
       "      <td>data visualization and js</td>\n",
       "      <td>intro to html and css</td>\n",
       "      <td>ud507</td>\n",
       "      <td>ud304</td>\n",
       "      <td>True</td>\n",
       "    </tr>\n",
       "    <tr>\n",
       "      <th>12354</th>\n",
       "      <td>95</td>\n",
       "      <td>99</td>\n",
       "      <td>1.188527</td>\n",
       "      <td>0.193634</td>\n",
       "      <td>1.269934</td>\n",
       "      <td>34.947730</td>\n",
       "      <td>1522</td>\n",
       "      <td>0.590558</td>\n",
       "      <td>-0.000167</td>\n",
       "      <td>0.0</td>\n",
       "      <td>...</td>\n",
       "      <td>55470</td>\n",
       "      <td>39</td>\n",
       "      <td>0</td>\n",
       "      <td>16740</td>\n",
       "      <td>27</td>\n",
       "      <td>android performance</td>\n",
       "      <td>developing android apps</td>\n",
       "      <td>ud825</td>\n",
       "      <td>ud853</td>\n",
       "      <td>True</td>\n",
       "    </tr>\n",
       "    <tr>\n",
       "      <th>6632</th>\n",
       "      <td>51</td>\n",
       "      <td>53</td>\n",
       "      <td>1.014109</td>\n",
       "      <td>0.052701</td>\n",
       "      <td>1.376444</td>\n",
       "      <td>20.092650</td>\n",
       "      <td>29</td>\n",
       "      <td>0.674391</td>\n",
       "      <td>-0.001396</td>\n",
       "      <td>0.0</td>\n",
       "      <td>...</td>\n",
       "      <td>0</td>\n",
       "      <td>111</td>\n",
       "      <td>2</td>\n",
       "      <td>0</td>\n",
       "      <td>52</td>\n",
       "      <td>html canvas</td>\n",
       "      <td>intro to html and css</td>\n",
       "      <td>ud292</td>\n",
       "      <td>ud304</td>\n",
       "      <td>True</td>\n",
       "    </tr>\n",
       "    <tr>\n",
       "      <th>7267</th>\n",
       "      <td>56</td>\n",
       "      <td>43</td>\n",
       "      <td>0.973504</td>\n",
       "      <td>0.156847</td>\n",
       "      <td>1.298579</td>\n",
       "      <td>28.563131</td>\n",
       "      <td>1308</td>\n",
       "      <td>0.746762</td>\n",
       "      <td>-0.000660</td>\n",
       "      <td>0.0</td>\n",
       "      <td>...</td>\n",
       "      <td>55211</td>\n",
       "      <td>28</td>\n",
       "      <td>1</td>\n",
       "      <td>14490</td>\n",
       "      <td>9</td>\n",
       "      <td>intro to data science</td>\n",
       "      <td>intro to inferential statistics</td>\n",
       "      <td>ud359</td>\n",
       "      <td>ud201</td>\n",
       "      <td>True</td>\n",
       "    </tr>\n",
       "    <tr>\n",
       "      <th>15146</th>\n",
       "      <td>117</td>\n",
       "      <td>53</td>\n",
       "      <td>0.913786</td>\n",
       "      <td>0.038690</td>\n",
       "      <td>1.386586</td>\n",
       "      <td>23.803525</td>\n",
       "      <td>29</td>\n",
       "      <td>0.633736</td>\n",
       "      <td>-0.001771</td>\n",
       "      <td>0.0</td>\n",
       "      <td>...</td>\n",
       "      <td>0</td>\n",
       "      <td>120</td>\n",
       "      <td>2</td>\n",
       "      <td>0</td>\n",
       "      <td>74</td>\n",
       "      <td>responsive web design fundamentals</td>\n",
       "      <td>intro to html and css</td>\n",
       "      <td>ud893</td>\n",
       "      <td>ud304</td>\n",
       "      <td>True</td>\n",
       "    </tr>\n",
       "    <tr>\n",
       "      <th>4998</th>\n",
       "      <td>38</td>\n",
       "      <td>96</td>\n",
       "      <td>0.897283</td>\n",
       "      <td>0.113321</td>\n",
       "      <td>1.331675</td>\n",
       "      <td>28.140791</td>\n",
       "      <td>905</td>\n",
       "      <td>0.897283</td>\n",
       "      <td>-0.001521</td>\n",
       "      <td>0.0</td>\n",
       "      <td>...</td>\n",
       "      <td>39182</td>\n",
       "      <td>35</td>\n",
       "      <td>2</td>\n",
       "      <td>12222</td>\n",
       "      <td>21</td>\n",
       "      <td>intro to machine learning</td>\n",
       "      <td>intro to descriptive statistics</td>\n",
       "      <td>ud120</td>\n",
       "      <td>ud827</td>\n",
       "      <td>True</td>\n",
       "    </tr>\n",
       "    <tr>\n",
       "      <th>12352</th>\n",
       "      <td>95</td>\n",
       "      <td>97</td>\n",
       "      <td>0.846989</td>\n",
       "      <td>0.344820</td>\n",
       "      <td>1.144710</td>\n",
       "      <td>37.907424</td>\n",
       "      <td>3225</td>\n",
       "      <td>0.408384</td>\n",
       "      <td>0.000500</td>\n",
       "      <td>0.0</td>\n",
       "      <td>...</td>\n",
       "      <td>128954</td>\n",
       "      <td>130</td>\n",
       "      <td>1</td>\n",
       "      <td>39414</td>\n",
       "      <td>71</td>\n",
       "      <td>android performance</td>\n",
       "      <td>android development for beginners</td>\n",
       "      <td>ud825</td>\n",
       "      <td>ud837</td>\n",
       "      <td>True</td>\n",
       "    </tr>\n",
       "    <tr>\n",
       "      <th>8214</th>\n",
       "      <td>63</td>\n",
       "      <td>87</td>\n",
       "      <td>0.833504</td>\n",
       "      <td>0.136574</td>\n",
       "      <td>1.314097</td>\n",
       "      <td>34.733473</td>\n",
       "      <td>657</td>\n",
       "      <td>0.833504</td>\n",
       "      <td>-0.001814</td>\n",
       "      <td>0.0</td>\n",
       "      <td>...</td>\n",
       "      <td>18093</td>\n",
       "      <td>34</td>\n",
       "      <td>0</td>\n",
       "      <td>4855</td>\n",
       "      <td>16</td>\n",
       "      <td>ios networking with swift</td>\n",
       "      <td>uikit fundamentals</td>\n",
       "      <td>ud421</td>\n",
       "      <td>ud788</td>\n",
       "      <td>True</td>\n",
       "    </tr>\n",
       "    <tr>\n",
       "      <th>7320</th>\n",
       "      <td>56</td>\n",
       "      <td>96</td>\n",
       "      <td>0.822095</td>\n",
       "      <td>0.178272</td>\n",
       "      <td>1.281973</td>\n",
       "      <td>25.397815</td>\n",
       "      <td>1092</td>\n",
       "      <td>0.822095</td>\n",
       "      <td>-0.001105</td>\n",
       "      <td>0.0</td>\n",
       "      <td>...</td>\n",
       "      <td>38542</td>\n",
       "      <td>35</td>\n",
       "      <td>1</td>\n",
       "      <td>10096</td>\n",
       "      <td>19</td>\n",
       "      <td>intro to data science</td>\n",
       "      <td>intro to descriptive statistics</td>\n",
       "      <td>ud359</td>\n",
       "      <td>ud827</td>\n",
       "      <td>True</td>\n",
       "    </tr>\n",
       "    <tr>\n",
       "      <th>4945</th>\n",
       "      <td>38</td>\n",
       "      <td>43</td>\n",
       "      <td>0.821950</td>\n",
       "      <td>0.081726</td>\n",
       "      <td>1.355193</td>\n",
       "      <td>31.034048</td>\n",
       "      <td>1112</td>\n",
       "      <td>0.821950</td>\n",
       "      <td>-0.001076</td>\n",
       "      <td>0.0</td>\n",
       "      <td>...</td>\n",
       "      <td>55056</td>\n",
       "      <td>30</td>\n",
       "      <td>2</td>\n",
       "      <td>17257</td>\n",
       "      <td>12</td>\n",
       "      <td>intro to machine learning</td>\n",
       "      <td>intro to inferential statistics</td>\n",
       "      <td>ud120</td>\n",
       "      <td>ud201</td>\n",
       "      <td>True</td>\n",
       "    </tr>\n",
       "  </tbody>\n",
       "</table>\n",
       "<p>10 rows × 45 columns</p>\n",
       "</div>"
      ],
      "text/plain": [
       "       idx  jdx  vec-diff   cos-sim  euc-dist   man-dist  bin_diff  max_diff  \\\n",
       "8696    67   53  1.657688  0.103480  1.339044  33.780440        29  0.602820   \n",
       "12354   95   99  1.188527  0.193634  1.269934  34.947730      1522  0.590558   \n",
       "6632    51   53  1.014109  0.052701  1.376444  20.092650        29  0.674391   \n",
       "7267    56   43  0.973504  0.156847  1.298579  28.563131      1308  0.746762   \n",
       "15146  117   53  0.913786  0.038690  1.386586  23.803525        29  0.633736   \n",
       "4998    38   96  0.897283  0.113321  1.331675  28.140791       905  0.897283   \n",
       "12352   95   97  0.846989  0.344820  1.144710  37.907424      3225  0.408384   \n",
       "8214    63   87  0.833504  0.136574  1.314097  34.733473       657  0.833504   \n",
       "7320    56   96  0.822095  0.178272  1.281973  25.397815      1092  0.822095   \n",
       "4945    38   43  0.821950  0.081726  1.355193  31.034048      1112  0.821950   \n",
       "\n",
       "       mean_diff  median_diff      ...       transcript->transcript  \\\n",
       "8696   -0.002963          0.0      ...                            0   \n",
       "12354  -0.000167          0.0      ...                        55470   \n",
       "6632   -0.001396          0.0      ...                            0   \n",
       "7267   -0.000660          0.0      ...                        55211   \n",
       "15146  -0.001771          0.0      ...                            0   \n",
       "4998   -0.001521          0.0      ...                        39182   \n",
       "12352   0.000500          0.0      ...                       128954   \n",
       "8214   -0.001814          0.0      ...                        18093   \n",
       "7320   -0.001105          0.0      ...                        38542   \n",
       "4945   -0.001076          0.0      ...                        55056   \n",
       "\n",
       "       transcript->summary  summary->title  summary->transcript  \\\n",
       "8696                   129               2                    0   \n",
       "12354                   39               0                16740   \n",
       "6632                   111               2                    0   \n",
       "7267                    28               1                14490   \n",
       "15146                  120               2                    0   \n",
       "4998                    35               2                12222   \n",
       "12352                  130               1                39414   \n",
       "8214                    34               0                 4855   \n",
       "7320                    35               1                10096   \n",
       "4945                    30               2                17257   \n",
       "\n",
       "       summary->summary                                  c1  \\\n",
       "8696                 58           data visualization and js   \n",
       "12354                27                 android performance   \n",
       "6632                 52                         html canvas   \n",
       "7267                  9               intro to data science   \n",
       "15146                74  responsive web design fundamentals   \n",
       "4998                 21           intro to machine learning   \n",
       "12352                71                 android performance   \n",
       "8214                 16           ios networking with swift   \n",
       "7320                 19               intro to data science   \n",
       "4945                 12           intro to machine learning   \n",
       "\n",
       "                                      c2   c_id  prereq_id  ground-truth  \n",
       "8696               intro to html and css  ud507      ud304          True  \n",
       "12354            developing android apps  ud825      ud853          True  \n",
       "6632               intro to html and css  ud292      ud304          True  \n",
       "7267     intro to inferential statistics  ud359      ud201          True  \n",
       "15146              intro to html and css  ud893      ud304          True  \n",
       "4998     intro to descriptive statistics  ud120      ud827          True  \n",
       "12352  android development for beginners  ud825      ud837          True  \n",
       "8214                  uikit fundamentals  ud421      ud788          True  \n",
       "7320     intro to descriptive statistics  ud359      ud827          True  \n",
       "4945     intro to inferential statistics  ud120      ud201          True  \n",
       "\n",
       "[10 rows x 45 columns]"
      ]
     },
     "execution_count": 30,
     "metadata": {},
     "output_type": "execute_result"
    }
   ],
   "source": [
    "diff_df[diff_df['ground-truth']>0].head(10)"
   ]
  },
  {
   "cell_type": "code",
   "execution_count": 31,
   "metadata": {
    "collapsed": false
   },
   "outputs": [
    {
     "data": {
      "text/html": [
       "<div>\n",
       "<table border=\"1\" class=\"dataframe\">\n",
       "  <thead>\n",
       "    <tr style=\"text-align: right;\">\n",
       "      <th></th>\n",
       "      <th></th>\n",
       "      <th>bin_diff</th>\n",
       "      <th>cos-sim</th>\n",
       "      <th>depth_diff</th>\n",
       "      <th>euc-dist</th>\n",
       "      <th>idx</th>\n",
       "      <th>jdx</th>\n",
       "      <th>man-dist</th>\n",
       "      <th>max_diff</th>\n",
       "      <th>mean_diff</th>\n",
       "      <th>median_diff</th>\n",
       "      <th>...</th>\n",
       "      <th>v2_count</th>\n",
       "      <th>v2_depth</th>\n",
       "      <th>v2_flesch</th>\n",
       "      <th>v2_max</th>\n",
       "      <th>v2_mean</th>\n",
       "      <th>v2_median</th>\n",
       "      <th>v2_min</th>\n",
       "      <th>v2_n_chars</th>\n",
       "      <th>v2_n_words</th>\n",
       "      <th>vec-diff</th>\n",
       "    </tr>\n",
       "    <tr>\n",
       "      <th>ground-truth</th>\n",
       "      <th></th>\n",
       "      <th></th>\n",
       "      <th></th>\n",
       "      <th></th>\n",
       "      <th></th>\n",
       "      <th></th>\n",
       "      <th></th>\n",
       "      <th></th>\n",
       "      <th></th>\n",
       "      <th></th>\n",
       "      <th></th>\n",
       "      <th></th>\n",
       "      <th></th>\n",
       "      <th></th>\n",
       "      <th></th>\n",
       "      <th></th>\n",
       "      <th></th>\n",
       "      <th></th>\n",
       "      <th></th>\n",
       "      <th></th>\n",
       "      <th></th>\n",
       "      <th></th>\n",
       "    </tr>\n",
       "  </thead>\n",
       "  <tbody>\n",
       "    <tr>\n",
       "      <th rowspan=\"8\" valign=\"top\">False</th>\n",
       "      <th>count</th>\n",
       "      <td>16452.000000</td>\n",
       "      <td>16452.000000</td>\n",
       "      <td>16452.000000</td>\n",
       "      <td>16452.000000</td>\n",
       "      <td>16452.000000</td>\n",
       "      <td>16452.000000</td>\n",
       "      <td>16452.000000</td>\n",
       "      <td>16452.000000</td>\n",
       "      <td>16452.000000</td>\n",
       "      <td>1.645200e+04</td>\n",
       "      <td>...</td>\n",
       "      <td>16452.000000</td>\n",
       "      <td>16452.000000</td>\n",
       "      <td>16452.000000</td>\n",
       "      <td>16452.000000</td>\n",
       "      <td>16452.000000</td>\n",
       "      <td>16452.000000</td>\n",
       "      <td>16452.0</td>\n",
       "      <td>1.645200e+04</td>\n",
       "      <td>16452.000000</td>\n",
       "      <td>16452.000000</td>\n",
       "    </tr>\n",
       "    <tr>\n",
       "      <th>mean</th>\n",
       "      <td>1329.474167</td>\n",
       "      <td>0.085356</td>\n",
       "      <td>-0.011245</td>\n",
       "      <td>1.346382</td>\n",
       "      <td>63.861719</td>\n",
       "      <td>64.075310</td>\n",
       "      <td>38.948895</td>\n",
       "      <td>0.413466</td>\n",
       "      <td>-0.000002</td>\n",
       "      <td>1.088866e-07</td>\n",
       "      <td>...</td>\n",
       "      <td>1481.709944</td>\n",
       "      <td>1.303550</td>\n",
       "      <td>73.689992</td>\n",
       "      <td>0.423916</td>\n",
       "      <td>0.002420</td>\n",
       "      <td>0.000046</td>\n",
       "      <td>0.0</td>\n",
       "      <td>3.370855e+05</td>\n",
       "      <td>59099.106796</td>\n",
       "      <td>0.103479</td>\n",
       "    </tr>\n",
       "    <tr>\n",
       "      <th>std</th>\n",
       "      <td>1003.578964</td>\n",
       "      <td>0.102505</td>\n",
       "      <td>1.169926</td>\n",
       "      <td>0.128632</td>\n",
       "      <td>37.290744</td>\n",
       "      <td>37.230217</td>\n",
       "      <td>8.533118</td>\n",
       "      <td>0.164412</td>\n",
       "      <td>0.001149</td>\n",
       "      <td>2.530486e-04</td>\n",
       "      <td>...</td>\n",
       "      <td>1143.694775</td>\n",
       "      <td>0.825483</td>\n",
       "      <td>7.705975</td>\n",
       "      <td>0.161086</td>\n",
       "      <td>0.000811</td>\n",
       "      <td>0.000298</td>\n",
       "      <td>0.0</td>\n",
       "      <td>3.853238e+05</td>\n",
       "      <td>67898.597451</td>\n",
       "      <td>0.211896</td>\n",
       "    </tr>\n",
       "    <tr>\n",
       "      <th>min</th>\n",
       "      <td>0.000000</td>\n",
       "      <td>0.000000</td>\n",
       "      <td>-3.000000</td>\n",
       "      <td>0.000000</td>\n",
       "      <td>0.000000</td>\n",
       "      <td>0.000000</td>\n",
       "      <td>0.000000</td>\n",
       "      <td>0.000000</td>\n",
       "      <td>-0.004127</td>\n",
       "      <td>-2.275712e-03</td>\n",
       "      <td>...</td>\n",
       "      <td>27.000000</td>\n",
       "      <td>0.000000</td>\n",
       "      <td>26.140000</td>\n",
       "      <td>0.161900</td>\n",
       "      <td>0.000444</td>\n",
       "      <td>0.000000</td>\n",
       "      <td>0.0</td>\n",
       "      <td>2.644000e+03</td>\n",
       "      <td>391.000000</td>\n",
       "      <td>0.000000</td>\n",
       "    </tr>\n",
       "    <tr>\n",
       "      <th>25%</th>\n",
       "      <td>612.000000</td>\n",
       "      <td>0.040611</td>\n",
       "      <td>-1.000000</td>\n",
       "      <td>1.342956</td>\n",
       "      <td>31.000000</td>\n",
       "      <td>32.000000</td>\n",
       "      <td>33.839092</td>\n",
       "      <td>0.292505</td>\n",
       "      <td>-0.000762</td>\n",
       "      <td>0.000000e+00</td>\n",
       "      <td>...</td>\n",
       "      <td>664.000000</td>\n",
       "      <td>1.000000</td>\n",
       "      <td>72.160000</td>\n",
       "      <td>0.305049</td>\n",
       "      <td>0.001821</td>\n",
       "      <td>0.000000</td>\n",
       "      <td>0.0</td>\n",
       "      <td>8.603600e+04</td>\n",
       "      <td>15047.000000</td>\n",
       "      <td>0.000000</td>\n",
       "    </tr>\n",
       "    <tr>\n",
       "      <th>50%</th>\n",
       "      <td>1038.000000</td>\n",
       "      <td>0.063036</td>\n",
       "      <td>0.000000</td>\n",
       "      <td>1.368915</td>\n",
       "      <td>64.000000</td>\n",
       "      <td>64.000000</td>\n",
       "      <td>39.240729</td>\n",
       "      <td>0.388275</td>\n",
       "      <td>0.000000</td>\n",
       "      <td>0.000000e+00</td>\n",
       "      <td>...</td>\n",
       "      <td>1124.000000</td>\n",
       "      <td>2.000000</td>\n",
       "      <td>74.190000</td>\n",
       "      <td>0.402800</td>\n",
       "      <td>0.002361</td>\n",
       "      <td>0.000000</td>\n",
       "      <td>0.0</td>\n",
       "      <td>1.696880e+05</td>\n",
       "      <td>29962.000000</td>\n",
       "      <td>0.000000</td>\n",
       "    </tr>\n",
       "    <tr>\n",
       "      <th>75%</th>\n",
       "      <td>1925.000000</td>\n",
       "      <td>0.098235</td>\n",
       "      <td>1.000000</td>\n",
       "      <td>1.385199</td>\n",
       "      <td>96.000000</td>\n",
       "      <td>96.000000</td>\n",
       "      <td>44.678025</td>\n",
       "      <td>0.517783</td>\n",
       "      <td>0.000758</td>\n",
       "      <td>0.000000e+00</td>\n",
       "      <td>...</td>\n",
       "      <td>2184.000000</td>\n",
       "      <td>2.000000</td>\n",
       "      <td>76.220000</td>\n",
       "      <td>0.531943</td>\n",
       "      <td>0.002958</td>\n",
       "      <td>0.000000</td>\n",
       "      <td>0.0</td>\n",
       "      <td>4.232630e+05</td>\n",
       "      <td>73793.000000</td>\n",
       "      <td>0.000000</td>\n",
       "    </tr>\n",
       "    <tr>\n",
       "      <th>max</th>\n",
       "      <td>5290.000000</td>\n",
       "      <td>1.000000</td>\n",
       "      <td>3.000000</td>\n",
       "      <td>1.414214</td>\n",
       "      <td>128.000000</td>\n",
       "      <td>128.000000</td>\n",
       "      <td>61.221108</td>\n",
       "      <td>0.902728</td>\n",
       "      <td>0.004127</td>\n",
       "      <td>2.275712e-03</td>\n",
       "      <td>...</td>\n",
       "      <td>5297.000000</td>\n",
       "      <td>3.000000</td>\n",
       "      <td>93.140000</td>\n",
       "      <td>0.902728</td>\n",
       "      <td>0.004571</td>\n",
       "      <td>0.002276</td>\n",
       "      <td>0.0</td>\n",
       "      <td>1.834675e+06</td>\n",
       "      <td>325755.000000</td>\n",
       "      <td>1.655318</td>\n",
       "    </tr>\n",
       "    <tr>\n",
       "      <th rowspan=\"8\" valign=\"top\">True</th>\n",
       "      <th>count</th>\n",
       "      <td>189.000000</td>\n",
       "      <td>189.000000</td>\n",
       "      <td>189.000000</td>\n",
       "      <td>189.000000</td>\n",
       "      <td>189.000000</td>\n",
       "      <td>189.000000</td>\n",
       "      <td>189.000000</td>\n",
       "      <td>189.000000</td>\n",
       "      <td>189.000000</td>\n",
       "      <td>1.890000e+02</td>\n",
       "      <td>...</td>\n",
       "      <td>189.000000</td>\n",
       "      <td>189.000000</td>\n",
       "      <td>189.000000</td>\n",
       "      <td>189.000000</td>\n",
       "      <td>189.000000</td>\n",
       "      <td>189.000000</td>\n",
       "      <td>189.0</td>\n",
       "      <td>1.890000e+02</td>\n",
       "      <td>189.000000</td>\n",
       "      <td>189.000000</td>\n",
       "    </tr>\n",
       "    <tr>\n",
       "      <th>mean</th>\n",
       "      <td>1558.677249</td>\n",
       "      <td>0.168698</td>\n",
       "      <td>0.978836</td>\n",
       "      <td>1.268424</td>\n",
       "      <td>76.037037</td>\n",
       "      <td>57.444444</td>\n",
       "      <td>36.323930</td>\n",
       "      <td>0.429188</td>\n",
       "      <td>0.000214</td>\n",
       "      <td>-9.478319e-06</td>\n",
       "      <td>...</td>\n",
       "      <td>1793.915344</td>\n",
       "      <td>0.513228</td>\n",
       "      <td>75.738307</td>\n",
       "      <td>0.466050</td>\n",
       "      <td>0.002500</td>\n",
       "      <td>0.000000</td>\n",
       "      <td>0.0</td>\n",
       "      <td>3.354424e+05</td>\n",
       "      <td>60253.433862</td>\n",
       "      <td>0.201305</td>\n",
       "    </tr>\n",
       "    <tr>\n",
       "      <th>std</th>\n",
       "      <td>1199.599555</td>\n",
       "      <td>0.178734</td>\n",
       "      <td>1.061701</td>\n",
       "      <td>0.232356</td>\n",
       "      <td>30.165037</td>\n",
       "      <td>37.526775</td>\n",
       "      <td>9.970457</td>\n",
       "      <td>0.171249</td>\n",
       "      <td>0.001130</td>\n",
       "      <td>1.303053e-04</td>\n",
       "      <td>...</td>\n",
       "      <td>1339.164575</td>\n",
       "      <td>0.829050</td>\n",
       "      <td>6.246578</td>\n",
       "      <td>0.159635</td>\n",
       "      <td>0.000950</td>\n",
       "      <td>0.000000</td>\n",
       "      <td>0.0</td>\n",
       "      <td>2.995367e+05</td>\n",
       "      <td>54723.648993</td>\n",
       "      <td>0.291330</td>\n",
       "    </tr>\n",
       "    <tr>\n",
       "      <th>min</th>\n",
       "      <td>0.000000</td>\n",
       "      <td>0.008653</td>\n",
       "      <td>-2.000000</td>\n",
       "      <td>0.000000</td>\n",
       "      <td>5.000000</td>\n",
       "      <td>1.000000</td>\n",
       "      <td>0.000000</td>\n",
       "      <td>0.000000</td>\n",
       "      <td>-0.002963</td>\n",
       "      <td>-1.791402e-03</td>\n",
       "      <td>...</td>\n",
       "      <td>29.000000</td>\n",
       "      <td>0.000000</td>\n",
       "      <td>54.220000</td>\n",
       "      <td>0.243890</td>\n",
       "      <td>0.000444</td>\n",
       "      <td>0.000000</td>\n",
       "      <td>0.0</td>\n",
       "      <td>2.644000e+03</td>\n",
       "      <td>412.000000</td>\n",
       "      <td>0.000000</td>\n",
       "    </tr>\n",
       "    <tr>\n",
       "      <th>25%</th>\n",
       "      <td>669.000000</td>\n",
       "      <td>0.065844</td>\n",
       "      <td>0.000000</td>\n",
       "      <td>1.271642</td>\n",
       "      <td>54.000000</td>\n",
       "      <td>31.000000</td>\n",
       "      <td>31.686505</td>\n",
       "      <td>0.342200</td>\n",
       "      <td>-0.000445</td>\n",
       "      <td>0.000000e+00</td>\n",
       "      <td>...</td>\n",
       "      <td>750.000000</td>\n",
       "      <td>0.000000</td>\n",
       "      <td>73.170000</td>\n",
       "      <td>0.352830</td>\n",
       "      <td>0.002090</td>\n",
       "      <td>0.000000</td>\n",
       "      <td>0.0</td>\n",
       "      <td>1.059240e+05</td>\n",
       "      <td>18695.000000</td>\n",
       "      <td>0.000000</td>\n",
       "    </tr>\n",
       "    <tr>\n",
       "      <th>50%</th>\n",
       "      <td>1036.000000</td>\n",
       "      <td>0.111953</td>\n",
       "      <td>1.000000</td>\n",
       "      <td>1.332702</td>\n",
       "      <td>76.000000</td>\n",
       "      <td>68.000000</td>\n",
       "      <td>35.711943</td>\n",
       "      <td>0.361688</td>\n",
       "      <td>0.000177</td>\n",
       "      <td>0.000000e+00</td>\n",
       "      <td>...</td>\n",
       "      <td>1124.000000</td>\n",
       "      <td>0.000000</td>\n",
       "      <td>75.200000</td>\n",
       "      <td>0.403961</td>\n",
       "      <td>0.002222</td>\n",
       "      <td>0.000000</td>\n",
       "      <td>0.0</td>\n",
       "      <td>1.840060e+05</td>\n",
       "      <td>32790.000000</td>\n",
       "      <td>0.000000</td>\n",
       "    </tr>\n",
       "    <tr>\n",
       "      <th>75%</th>\n",
       "      <td>2949.000000</td>\n",
       "      <td>0.191464</td>\n",
       "      <td>2.000000</td>\n",
       "      <td>1.366862</td>\n",
       "      <td>106.000000</td>\n",
       "      <td>89.000000</td>\n",
       "      <td>42.400288</td>\n",
       "      <td>0.554867</td>\n",
       "      <td>0.000927</td>\n",
       "      <td>0.000000e+00</td>\n",
       "      <td>...</td>\n",
       "      <td>3435.000000</td>\n",
       "      <td>1.000000</td>\n",
       "      <td>80.620000</td>\n",
       "      <td>0.607358</td>\n",
       "      <td>0.003167</td>\n",
       "      <td>0.000000</td>\n",
       "      <td>0.0</td>\n",
       "      <td>6.046510e+05</td>\n",
       "      <td>109000.000000</td>\n",
       "      <td>0.318907</td>\n",
       "    </tr>\n",
       "    <tr>\n",
       "      <th>max</th>\n",
       "      <td>3999.000000</td>\n",
       "      <td>1.000000</td>\n",
       "      <td>2.000000</td>\n",
       "      <td>1.408082</td>\n",
       "      <td>128.000000</td>\n",
       "      <td>127.000000</td>\n",
       "      <td>57.290965</td>\n",
       "      <td>0.902728</td>\n",
       "      <td>0.003004</td>\n",
       "      <td>0.000000e+00</td>\n",
       "      <td>...</td>\n",
       "      <td>4136.000000</td>\n",
       "      <td>2.000000</td>\n",
       "      <td>84.680000</td>\n",
       "      <td>0.902728</td>\n",
       "      <td>0.004392</td>\n",
       "      <td>0.000000</td>\n",
       "      <td>0.0</td>\n",
       "      <td>9.005280e+05</td>\n",
       "      <td>165263.000000</td>\n",
       "      <td>1.657688</td>\n",
       "    </tr>\n",
       "  </tbody>\n",
       "</table>\n",
       "<p>16 rows × 38 columns</p>\n",
       "</div>"
      ],
      "text/plain": [
       "                        bin_diff       cos-sim    depth_diff      euc-dist  \\\n",
       "ground-truth                                                                 \n",
       "False        count  16452.000000  16452.000000  16452.000000  16452.000000   \n",
       "             mean    1329.474167      0.085356     -0.011245      1.346382   \n",
       "             std     1003.578964      0.102505      1.169926      0.128632   \n",
       "             min        0.000000      0.000000     -3.000000      0.000000   \n",
       "             25%      612.000000      0.040611     -1.000000      1.342956   \n",
       "             50%     1038.000000      0.063036      0.000000      1.368915   \n",
       "             75%     1925.000000      0.098235      1.000000      1.385199   \n",
       "             max     5290.000000      1.000000      3.000000      1.414214   \n",
       "True         count    189.000000    189.000000    189.000000    189.000000   \n",
       "             mean    1558.677249      0.168698      0.978836      1.268424   \n",
       "             std     1199.599555      0.178734      1.061701      0.232356   \n",
       "             min        0.000000      0.008653     -2.000000      0.000000   \n",
       "             25%      669.000000      0.065844      0.000000      1.271642   \n",
       "             50%     1036.000000      0.111953      1.000000      1.332702   \n",
       "             75%     2949.000000      0.191464      2.000000      1.366862   \n",
       "             max     3999.000000      1.000000      2.000000      1.408082   \n",
       "\n",
       "                             idx           jdx      man-dist      max_diff  \\\n",
       "ground-truth                                                                 \n",
       "False        count  16452.000000  16452.000000  16452.000000  16452.000000   \n",
       "             mean      63.861719     64.075310     38.948895      0.413466   \n",
       "             std       37.290744     37.230217      8.533118      0.164412   \n",
       "             min        0.000000      0.000000      0.000000      0.000000   \n",
       "             25%       31.000000     32.000000     33.839092      0.292505   \n",
       "             50%       64.000000     64.000000     39.240729      0.388275   \n",
       "             75%       96.000000     96.000000     44.678025      0.517783   \n",
       "             max      128.000000    128.000000     61.221108      0.902728   \n",
       "True         count    189.000000    189.000000    189.000000    189.000000   \n",
       "             mean      76.037037     57.444444     36.323930      0.429188   \n",
       "             std       30.165037     37.526775      9.970457      0.171249   \n",
       "             min        5.000000      1.000000      0.000000      0.000000   \n",
       "             25%       54.000000     31.000000     31.686505      0.342200   \n",
       "             50%       76.000000     68.000000     35.711943      0.361688   \n",
       "             75%      106.000000     89.000000     42.400288      0.554867   \n",
       "             max      128.000000    127.000000     57.290965      0.902728   \n",
       "\n",
       "                       mean_diff   median_diff      ...           v2_count  \\\n",
       "ground-truth                                        ...                      \n",
       "False        count  16452.000000  1.645200e+04      ...       16452.000000   \n",
       "             mean      -0.000002  1.088866e-07      ...        1481.709944   \n",
       "             std        0.001149  2.530486e-04      ...        1143.694775   \n",
       "             min       -0.004127 -2.275712e-03      ...          27.000000   \n",
       "             25%       -0.000762  0.000000e+00      ...         664.000000   \n",
       "             50%        0.000000  0.000000e+00      ...        1124.000000   \n",
       "             75%        0.000758  0.000000e+00      ...        2184.000000   \n",
       "             max        0.004127  2.275712e-03      ...        5297.000000   \n",
       "True         count    189.000000  1.890000e+02      ...         189.000000   \n",
       "             mean       0.000214 -9.478319e-06      ...        1793.915344   \n",
       "             std        0.001130  1.303053e-04      ...        1339.164575   \n",
       "             min       -0.002963 -1.791402e-03      ...          29.000000   \n",
       "             25%       -0.000445  0.000000e+00      ...         750.000000   \n",
       "             50%        0.000177  0.000000e+00      ...        1124.000000   \n",
       "             75%        0.000927  0.000000e+00      ...        3435.000000   \n",
       "             max        0.003004  0.000000e+00      ...        4136.000000   \n",
       "\n",
       "                        v2_depth     v2_flesch        v2_max       v2_mean  \\\n",
       "ground-truth                                                                 \n",
       "False        count  16452.000000  16452.000000  16452.000000  16452.000000   \n",
       "             mean       1.303550     73.689992      0.423916      0.002420   \n",
       "             std        0.825483      7.705975      0.161086      0.000811   \n",
       "             min        0.000000     26.140000      0.161900      0.000444   \n",
       "             25%        1.000000     72.160000      0.305049      0.001821   \n",
       "             50%        2.000000     74.190000      0.402800      0.002361   \n",
       "             75%        2.000000     76.220000      0.531943      0.002958   \n",
       "             max        3.000000     93.140000      0.902728      0.004571   \n",
       "True         count    189.000000    189.000000    189.000000    189.000000   \n",
       "             mean       0.513228     75.738307      0.466050      0.002500   \n",
       "             std        0.829050      6.246578      0.159635      0.000950   \n",
       "             min        0.000000     54.220000      0.243890      0.000444   \n",
       "             25%        0.000000     73.170000      0.352830      0.002090   \n",
       "             50%        0.000000     75.200000      0.403961      0.002222   \n",
       "             75%        1.000000     80.620000      0.607358      0.003167   \n",
       "             max        2.000000     84.680000      0.902728      0.004392   \n",
       "\n",
       "                       v2_median   v2_min    v2_n_chars     v2_n_words  \\\n",
       "ground-truth                                                             \n",
       "False        count  16452.000000  16452.0  1.645200e+04   16452.000000   \n",
       "             mean       0.000046      0.0  3.370855e+05   59099.106796   \n",
       "             std        0.000298      0.0  3.853238e+05   67898.597451   \n",
       "             min        0.000000      0.0  2.644000e+03     391.000000   \n",
       "             25%        0.000000      0.0  8.603600e+04   15047.000000   \n",
       "             50%        0.000000      0.0  1.696880e+05   29962.000000   \n",
       "             75%        0.000000      0.0  4.232630e+05   73793.000000   \n",
       "             max        0.002276      0.0  1.834675e+06  325755.000000   \n",
       "True         count    189.000000    189.0  1.890000e+02     189.000000   \n",
       "             mean       0.000000      0.0  3.354424e+05   60253.433862   \n",
       "             std        0.000000      0.0  2.995367e+05   54723.648993   \n",
       "             min        0.000000      0.0  2.644000e+03     412.000000   \n",
       "             25%        0.000000      0.0  1.059240e+05   18695.000000   \n",
       "             50%        0.000000      0.0  1.840060e+05   32790.000000   \n",
       "             75%        0.000000      0.0  6.046510e+05  109000.000000   \n",
       "             max        0.000000      0.0  9.005280e+05  165263.000000   \n",
       "\n",
       "                        vec-diff  \n",
       "ground-truth                      \n",
       "False        count  16452.000000  \n",
       "             mean       0.103479  \n",
       "             std        0.211896  \n",
       "             min        0.000000  \n",
       "             25%        0.000000  \n",
       "             50%        0.000000  \n",
       "             75%        0.000000  \n",
       "             max        1.655318  \n",
       "True         count    189.000000  \n",
       "             mean       0.201305  \n",
       "             std        0.291330  \n",
       "             min        0.000000  \n",
       "             25%        0.000000  \n",
       "             50%        0.000000  \n",
       "             75%        0.318907  \n",
       "             max        1.657688  \n",
       "\n",
       "[16 rows x 38 columns]"
      ]
     },
     "execution_count": 31,
     "metadata": {},
     "output_type": "execute_result"
    }
   ],
   "source": [
    "diff_df.groupby(by='ground-truth').describe()"
   ]
  },
  {
   "cell_type": "code",
   "execution_count": 32,
   "metadata": {
    "collapsed": false
   },
   "outputs": [
    {
     "ename": "KeyError",
     "evalue": "'diff'",
     "output_type": "error",
     "traceback": [
      "\u001b[1;31m---------------------------------------------------------------------------\u001b[0m",
      "\u001b[1;31mKeyError\u001b[0m                                  Traceback (most recent call last)",
      "\u001b[1;32m<ipython-input-32-bf407551b94e>\u001b[0m in \u001b[0;36m<module>\u001b[1;34m()\u001b[0m\n\u001b[1;32m----> 1\u001b[1;33m \u001b[0mdiff_df\u001b[0m\u001b[1;33m[\u001b[0m\u001b[0mdiff_df\u001b[0m\u001b[1;33m[\u001b[0m\u001b[1;34m'diff'\u001b[0m\u001b[1;33m]\u001b[0m\u001b[1;33m!=\u001b[0m\u001b[1;36m0\u001b[0m\u001b[1;33m]\u001b[0m\u001b[1;33m[\u001b[0m\u001b[1;34m'diff'\u001b[0m\u001b[1;33m]\u001b[0m\u001b[1;33m.\u001b[0m\u001b[0mplot\u001b[0m\u001b[1;33m(\u001b[0m\u001b[0mkind\u001b[0m\u001b[1;33m=\u001b[0m\u001b[1;34m'hist'\u001b[0m\u001b[1;33m,\u001b[0m \u001b[0mbins\u001b[0m\u001b[1;33m=\u001b[0m\u001b[1;36m200\u001b[0m\u001b[1;33m)\u001b[0m\u001b[1;33m\u001b[0m\u001b[0m\n\u001b[0m\u001b[0;32m      2\u001b[0m \u001b[0mplt\u001b[0m\u001b[1;33m.\u001b[0m\u001b[0mshow\u001b[0m\u001b[1;33m(\u001b[0m\u001b[1;33m)\u001b[0m\u001b[1;33m\u001b[0m\u001b[0m\n\u001b[0;32m      3\u001b[0m \u001b[0mdiff_df\u001b[0m\u001b[1;33m[\u001b[0m\u001b[0mdiff_df\u001b[0m\u001b[1;33m[\u001b[0m\u001b[1;34m'diff'\u001b[0m\u001b[1;33m]\u001b[0m\u001b[1;33m>\u001b[0m\u001b[1;36m0\u001b[0m\u001b[1;33m]\u001b[0m\u001b[1;33m[\u001b[0m\u001b[1;34m'diff'\u001b[0m\u001b[1;33m]\u001b[0m\u001b[1;33m.\u001b[0m\u001b[0mplot\u001b[0m\u001b[1;33m(\u001b[0m\u001b[0mkind\u001b[0m\u001b[1;33m=\u001b[0m\u001b[1;34m'hist'\u001b[0m\u001b[1;33m,\u001b[0m \u001b[0mbins\u001b[0m\u001b[1;33m=\u001b[0m\u001b[1;36m200\u001b[0m\u001b[1;33m)\u001b[0m\u001b[1;33m\u001b[0m\u001b[0m\n\u001b[0;32m      4\u001b[0m \u001b[0mplt\u001b[0m\u001b[1;33m.\u001b[0m\u001b[0mshow\u001b[0m\u001b[1;33m(\u001b[0m\u001b[1;33m)\u001b[0m\u001b[1;33m\u001b[0m\u001b[0m\n",
      "\u001b[1;32m/opt/anaconda2/lib/python2.7/site-packages/pandas/core/frame.pyc\u001b[0m in \u001b[0;36m__getitem__\u001b[1;34m(self, key)\u001b[0m\n\u001b[0;32m   1995\u001b[0m             \u001b[1;32mreturn\u001b[0m \u001b[0mself\u001b[0m\u001b[1;33m.\u001b[0m\u001b[0m_getitem_multilevel\u001b[0m\u001b[1;33m(\u001b[0m\u001b[0mkey\u001b[0m\u001b[1;33m)\u001b[0m\u001b[1;33m\u001b[0m\u001b[0m\n\u001b[0;32m   1996\u001b[0m         \u001b[1;32melse\u001b[0m\u001b[1;33m:\u001b[0m\u001b[1;33m\u001b[0m\u001b[0m\n\u001b[1;32m-> 1997\u001b[1;33m             \u001b[1;32mreturn\u001b[0m \u001b[0mself\u001b[0m\u001b[1;33m.\u001b[0m\u001b[0m_getitem_column\u001b[0m\u001b[1;33m(\u001b[0m\u001b[0mkey\u001b[0m\u001b[1;33m)\u001b[0m\u001b[1;33m\u001b[0m\u001b[0m\n\u001b[0m\u001b[0;32m   1998\u001b[0m \u001b[1;33m\u001b[0m\u001b[0m\n\u001b[0;32m   1999\u001b[0m     \u001b[1;32mdef\u001b[0m \u001b[0m_getitem_column\u001b[0m\u001b[1;33m(\u001b[0m\u001b[0mself\u001b[0m\u001b[1;33m,\u001b[0m \u001b[0mkey\u001b[0m\u001b[1;33m)\u001b[0m\u001b[1;33m:\u001b[0m\u001b[1;33m\u001b[0m\u001b[0m\n",
      "\u001b[1;32m/opt/anaconda2/lib/python2.7/site-packages/pandas/core/frame.pyc\u001b[0m in \u001b[0;36m_getitem_column\u001b[1;34m(self, key)\u001b[0m\n\u001b[0;32m   2002\u001b[0m         \u001b[1;31m# get column\u001b[0m\u001b[1;33m\u001b[0m\u001b[1;33m\u001b[0m\u001b[0m\n\u001b[0;32m   2003\u001b[0m         \u001b[1;32mif\u001b[0m \u001b[0mself\u001b[0m\u001b[1;33m.\u001b[0m\u001b[0mcolumns\u001b[0m\u001b[1;33m.\u001b[0m\u001b[0mis_unique\u001b[0m\u001b[1;33m:\u001b[0m\u001b[1;33m\u001b[0m\u001b[0m\n\u001b[1;32m-> 2004\u001b[1;33m             \u001b[1;32mreturn\u001b[0m \u001b[0mself\u001b[0m\u001b[1;33m.\u001b[0m\u001b[0m_get_item_cache\u001b[0m\u001b[1;33m(\u001b[0m\u001b[0mkey\u001b[0m\u001b[1;33m)\u001b[0m\u001b[1;33m\u001b[0m\u001b[0m\n\u001b[0m\u001b[0;32m   2005\u001b[0m \u001b[1;33m\u001b[0m\u001b[0m\n\u001b[0;32m   2006\u001b[0m         \u001b[1;31m# duplicate columns & possible reduce dimensionality\u001b[0m\u001b[1;33m\u001b[0m\u001b[1;33m\u001b[0m\u001b[0m\n",
      "\u001b[1;32m/opt/anaconda2/lib/python2.7/site-packages/pandas/core/generic.pyc\u001b[0m in \u001b[0;36m_get_item_cache\u001b[1;34m(self, item)\u001b[0m\n\u001b[0;32m   1348\u001b[0m         \u001b[0mres\u001b[0m \u001b[1;33m=\u001b[0m \u001b[0mcache\u001b[0m\u001b[1;33m.\u001b[0m\u001b[0mget\u001b[0m\u001b[1;33m(\u001b[0m\u001b[0mitem\u001b[0m\u001b[1;33m)\u001b[0m\u001b[1;33m\u001b[0m\u001b[0m\n\u001b[0;32m   1349\u001b[0m         \u001b[1;32mif\u001b[0m \u001b[0mres\u001b[0m \u001b[1;32mis\u001b[0m \u001b[0mNone\u001b[0m\u001b[1;33m:\u001b[0m\u001b[1;33m\u001b[0m\u001b[0m\n\u001b[1;32m-> 1350\u001b[1;33m             \u001b[0mvalues\u001b[0m \u001b[1;33m=\u001b[0m \u001b[0mself\u001b[0m\u001b[1;33m.\u001b[0m\u001b[0m_data\u001b[0m\u001b[1;33m.\u001b[0m\u001b[0mget\u001b[0m\u001b[1;33m(\u001b[0m\u001b[0mitem\u001b[0m\u001b[1;33m)\u001b[0m\u001b[1;33m\u001b[0m\u001b[0m\n\u001b[0m\u001b[0;32m   1351\u001b[0m             \u001b[0mres\u001b[0m \u001b[1;33m=\u001b[0m \u001b[0mself\u001b[0m\u001b[1;33m.\u001b[0m\u001b[0m_box_item_values\u001b[0m\u001b[1;33m(\u001b[0m\u001b[0mitem\u001b[0m\u001b[1;33m,\u001b[0m \u001b[0mvalues\u001b[0m\u001b[1;33m)\u001b[0m\u001b[1;33m\u001b[0m\u001b[0m\n\u001b[0;32m   1352\u001b[0m             \u001b[0mcache\u001b[0m\u001b[1;33m[\u001b[0m\u001b[0mitem\u001b[0m\u001b[1;33m]\u001b[0m \u001b[1;33m=\u001b[0m \u001b[0mres\u001b[0m\u001b[1;33m\u001b[0m\u001b[0m\n",
      "\u001b[1;32m/opt/anaconda2/lib/python2.7/site-packages/pandas/core/internals.pyc\u001b[0m in \u001b[0;36mget\u001b[1;34m(self, item, fastpath)\u001b[0m\n\u001b[0;32m   3288\u001b[0m \u001b[1;33m\u001b[0m\u001b[0m\n\u001b[0;32m   3289\u001b[0m             \u001b[1;32mif\u001b[0m \u001b[1;32mnot\u001b[0m \u001b[0misnull\u001b[0m\u001b[1;33m(\u001b[0m\u001b[0mitem\u001b[0m\u001b[1;33m)\u001b[0m\u001b[1;33m:\u001b[0m\u001b[1;33m\u001b[0m\u001b[0m\n\u001b[1;32m-> 3290\u001b[1;33m                 \u001b[0mloc\u001b[0m \u001b[1;33m=\u001b[0m \u001b[0mself\u001b[0m\u001b[1;33m.\u001b[0m\u001b[0mitems\u001b[0m\u001b[1;33m.\u001b[0m\u001b[0mget_loc\u001b[0m\u001b[1;33m(\u001b[0m\u001b[0mitem\u001b[0m\u001b[1;33m)\u001b[0m\u001b[1;33m\u001b[0m\u001b[0m\n\u001b[0m\u001b[0;32m   3291\u001b[0m             \u001b[1;32melse\u001b[0m\u001b[1;33m:\u001b[0m\u001b[1;33m\u001b[0m\u001b[0m\n\u001b[0;32m   3292\u001b[0m                 \u001b[0mindexer\u001b[0m \u001b[1;33m=\u001b[0m \u001b[0mnp\u001b[0m\u001b[1;33m.\u001b[0m\u001b[0marange\u001b[0m\u001b[1;33m(\u001b[0m\u001b[0mlen\u001b[0m\u001b[1;33m(\u001b[0m\u001b[0mself\u001b[0m\u001b[1;33m.\u001b[0m\u001b[0mitems\u001b[0m\u001b[1;33m)\u001b[0m\u001b[1;33m)\u001b[0m\u001b[1;33m[\u001b[0m\u001b[0misnull\u001b[0m\u001b[1;33m(\u001b[0m\u001b[0mself\u001b[0m\u001b[1;33m.\u001b[0m\u001b[0mitems\u001b[0m\u001b[1;33m)\u001b[0m\u001b[1;33m]\u001b[0m\u001b[1;33m\u001b[0m\u001b[0m\n",
      "\u001b[1;32m/opt/anaconda2/lib/python2.7/site-packages/pandas/indexes/base.pyc\u001b[0m in \u001b[0;36mget_loc\u001b[1;34m(self, key, method, tolerance)\u001b[0m\n\u001b[0;32m   1945\u001b[0m                 \u001b[1;32mreturn\u001b[0m \u001b[0mself\u001b[0m\u001b[1;33m.\u001b[0m\u001b[0m_engine\u001b[0m\u001b[1;33m.\u001b[0m\u001b[0mget_loc\u001b[0m\u001b[1;33m(\u001b[0m\u001b[0mkey\u001b[0m\u001b[1;33m)\u001b[0m\u001b[1;33m\u001b[0m\u001b[0m\n\u001b[0;32m   1946\u001b[0m             \u001b[1;32mexcept\u001b[0m \u001b[0mKeyError\u001b[0m\u001b[1;33m:\u001b[0m\u001b[1;33m\u001b[0m\u001b[0m\n\u001b[1;32m-> 1947\u001b[1;33m                 \u001b[1;32mreturn\u001b[0m \u001b[0mself\u001b[0m\u001b[1;33m.\u001b[0m\u001b[0m_engine\u001b[0m\u001b[1;33m.\u001b[0m\u001b[0mget_loc\u001b[0m\u001b[1;33m(\u001b[0m\u001b[0mself\u001b[0m\u001b[1;33m.\u001b[0m\u001b[0m_maybe_cast_indexer\u001b[0m\u001b[1;33m(\u001b[0m\u001b[0mkey\u001b[0m\u001b[1;33m)\u001b[0m\u001b[1;33m)\u001b[0m\u001b[1;33m\u001b[0m\u001b[0m\n\u001b[0m\u001b[0;32m   1948\u001b[0m \u001b[1;33m\u001b[0m\u001b[0m\n\u001b[0;32m   1949\u001b[0m         \u001b[0mindexer\u001b[0m \u001b[1;33m=\u001b[0m \u001b[0mself\u001b[0m\u001b[1;33m.\u001b[0m\u001b[0mget_indexer\u001b[0m\u001b[1;33m(\u001b[0m\u001b[1;33m[\u001b[0m\u001b[0mkey\u001b[0m\u001b[1;33m]\u001b[0m\u001b[1;33m,\u001b[0m \u001b[0mmethod\u001b[0m\u001b[1;33m=\u001b[0m\u001b[0mmethod\u001b[0m\u001b[1;33m,\u001b[0m \u001b[0mtolerance\u001b[0m\u001b[1;33m=\u001b[0m\u001b[0mtolerance\u001b[0m\u001b[1;33m)\u001b[0m\u001b[1;33m\u001b[0m\u001b[0m\n",
      "\u001b[1;32mpandas/index.pyx\u001b[0m in \u001b[0;36mpandas.index.IndexEngine.get_loc (pandas/index.c:4154)\u001b[1;34m()\u001b[0m\n",
      "\u001b[1;32mpandas/index.pyx\u001b[0m in \u001b[0;36mpandas.index.IndexEngine.get_loc (pandas/index.c:4018)\u001b[1;34m()\u001b[0m\n",
      "\u001b[1;32mpandas/hashtable.pyx\u001b[0m in \u001b[0;36mpandas.hashtable.PyObjectHashTable.get_item (pandas/hashtable.c:12368)\u001b[1;34m()\u001b[0m\n",
      "\u001b[1;32mpandas/hashtable.pyx\u001b[0m in \u001b[0;36mpandas.hashtable.PyObjectHashTable.get_item (pandas/hashtable.c:12322)\u001b[1;34m()\u001b[0m\n",
      "\u001b[1;31mKeyError\u001b[0m: 'diff'"
     ]
    }
   ],
   "source": [
    "diff_df[diff_df['diff']!=0]['diff'].plot(kind='hist', bins=200)\n",
    "plt.show()\n",
    "diff_df[diff_df['diff']>0]['diff'].plot(kind='hist', bins=200)\n",
    "plt.show()"
   ]
  },
  {
   "cell_type": "code",
   "execution_count": null,
   "metadata": {
    "collapsed": false,
    "scrolled": false
   },
   "outputs": [],
   "source": [
    "def filter_top_prereq(df):\n",
    "    s_df = df.sort_values(by='diff', ascending=True)\n",
    "    return s_df[s_df['diff']>0.5].copy()\n",
    "    #return s_df.iloc[-3:]\n",
    "\n",
    "prereq = pd.DataFrame(diff_df.groupby(by='c1').apply(filter_top_prereq))\n",
    "prereq"
   ]
  },
  {
   "cell_type": "code",
   "execution_count": null,
   "metadata": {
    "collapsed": false
   },
   "outputs": [],
   "source": [
    "prereq.head(2)"
   ]
  },
  {
   "cell_type": "code",
   "execution_count": null,
   "metadata": {
    "collapsed": false
   },
   "outputs": [],
   "source": [
    "df_prereq.head(2)"
   ]
  },
  {
   "cell_type": "code",
   "execution_count": null,
   "metadata": {
    "collapsed": false
   },
   "outputs": [],
   "source": [
    "def get_true_prereq_level((c_id, prereq_id), prereq_df):\n",
    "    try:\n",
    "        true_prereq = prereq_df.loc[c_id]\n",
    "    except KeyError:\n",
    "        return 0\n",
    "    prereq_level = 0\n",
    "    #print('---------')\n",
    "    #print(df[df['id'] == c_id]['title'].iloc[0])\n",
    "    #print(df[df['id'] == prereq_id]['title'].iloc[0])\n",
    "    for idx, ids in enumerate(true_prereq.values):\n",
    "        if isinstance(ids, float):\n",
    "            continue\n",
    "        #try:    \n",
    "            #print(map(lambda x: df[df['id'] == x]['title'].iloc[0], ids.split()))\n",
    "        #except:\n",
    "        #    pass\n",
    "        if prereq_id in ids.split():\n",
    "            prereq_level = idx + 1\n",
    "    #print(prereq_level)\n",
    "    return prereq_level"
   ]
  },
  {
   "cell_type": "code",
   "execution_count": null,
   "metadata": {
    "collapsed": false,
    "scrolled": false
   },
   "outputs": [],
   "source": [
    "#prereq[['c_id', 'prereq_id']].iloc[:100].apply(get_true_prereq_level, args=(df_prereq,), axis=1)"
   ]
  },
  {
   "cell_type": "code",
   "execution_count": null,
   "metadata": {
    "collapsed": false
   },
   "outputs": [],
   "source": [
    "prereq['prereq_level'] = prereq[['c_id', 'prereq_id']].apply(get_true_prereq_level, args=(df_prereq,), axis=1)\n",
    "prereq['prereq_level'].plot(kind='hist')\n",
    "plt.show()\n",
    "prereq[['prereq_level', 'diff']].groupby(by='prereq_level').describe()"
   ]
  },
  {
   "cell_type": "code",
   "execution_count": null,
   "metadata": {
    "collapsed": false
   },
   "outputs": [],
   "source": [
    "prereq[prereq['prereq_level'] == 0].sort_values(by='diff', ascending=False).head(100)"
   ]
  },
  {
   "cell_type": "code",
   "execution_count": null,
   "metadata": {
    "collapsed": false
   },
   "outputs": [],
   "source": [
    "prereq['rnd_prereq_id'] = np.random.choice(df['id'].values, size=len(prereq), replace=True)\n",
    "prereq['rnd_prereq_id'].head(2)"
   ]
  },
  {
   "cell_type": "code",
   "execution_count": null,
   "metadata": {
    "collapsed": false
   },
   "outputs": [],
   "source": [
    "prereq['rnd_prereq_level'] = prereq[['c_id', 'rnd_prereq_id']].apply(get_true_prereq_level, args=(df_prereq,), axis=1)\n",
    "prereq['rnd_prereq_level'].plot(kind='hist')\n",
    "plt.show()"
   ]
  },
  {
   "cell_type": "code",
   "execution_count": null,
   "metadata": {
    "collapsed": false
   },
   "outputs": [],
   "source": [
    "prereq[prereq['prereq_level']==1]"
   ]
  },
  {
   "cell_type": "code",
   "execution_count": null,
   "metadata": {
    "collapsed": false
   },
   "outputs": [],
   "source": [
    "prereq[prereq['rnd_prereq_level']>0]"
   ]
  },
  {
   "cell_type": "code",
   "execution_count": null,
   "metadata": {
    "collapsed": false
   },
   "outputs": [],
   "source": [
    "a = '2D Game Development with libGDX'\n",
    "b = 'Intro to Physics'\n",
    "a_idx = df[df['title'] == a].index[0]\n",
    "b_idx = df[df['title'] == b].index[0]"
   ]
  },
  {
   "cell_type": "code",
   "execution_count": null,
   "metadata": {
    "collapsed": true
   },
   "outputs": [],
   "source": [
    "def get_tfidf_df(vec, vectorizer):\n",
    "    df = pd.DataFrame(columns=['tfidf-val'], data=vec)\n",
    "    df['word'] = vectorizer.get_feature_names()\n",
    "    return df"
   ]
  },
  {
   "cell_type": "code",
   "execution_count": null,
   "metadata": {
    "collapsed": false
   },
   "outputs": [],
   "source": [
    "a_df = get_tfidf_df(vectorized_text[a_idx, :], vectorizer)\n",
    "a_df.sort_values(by='tfidf-val', ascending=False).head(10)"
   ]
  },
  {
   "cell_type": "code",
   "execution_count": null,
   "metadata": {
    "collapsed": false
   },
   "outputs": [],
   "source": [
    "a_df[a_df['tfidf-val']>0].sort_values(by='tfidf-val').head(10)"
   ]
  },
  {
   "cell_type": "code",
   "execution_count": null,
   "metadata": {
    "collapsed": false
   },
   "outputs": [],
   "source": [
    "b_df = get_tfidf_df(vectorized_text[b_idx, :], vectorizer)\n",
    "b_df.sort_values(by='tfidf-val').tail(10)"
   ]
  },
  {
   "cell_type": "code",
   "execution_count": null,
   "metadata": {
    "collapsed": false
   },
   "outputs": [],
   "source": [
    "filt = (a_df['tfidf-val'] > 0) & (b_df['tfidf-val'] > 0)\n",
    "a_df = a_df[filt]\n",
    "b_df = b_df[filt]\n",
    "a_df['diff'] = a_df['tfidf-val'] - b_df['tfidf-val']\n",
    "a_df.sort_values(by='diff')"
   ]
  },
  {
   "cell_type": "code",
   "execution_count": null,
   "metadata": {
    "collapsed": true
   },
   "outputs": [],
   "source": []
  }
 ],
 "metadata": {
  "kernelspec": {
   "display_name": "Python 2",
   "language": "python",
   "name": "python2"
  },
  "language_info": {
   "codemirror_mode": {
    "name": "ipython",
    "version": 2
   },
   "file_extension": ".py",
   "mimetype": "text/x-python",
   "name": "python",
   "nbconvert_exporter": "python",
   "pygments_lexer": "ipython2",
   "version": "2.7.12"
  }
 },
 "nbformat": 4,
 "nbformat_minor": 0
}
