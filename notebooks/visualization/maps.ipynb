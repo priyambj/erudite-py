{
 "cells": [
  {
   "cell_type": "code",
   "execution_count": 1,
   "metadata": {
    "collapsed": false,
    "scrolled": true
   },
   "outputs": [
    {
     "name": "stdout",
     "output_type": "stream",
     "text": [
      "Populating the interactive namespace from numpy and matplotlib\n"
     ]
    },
    {
     "data": {
      "text/html": [
       "\n",
       "    <div class=\"bk-banner\">\n",
       "        <a href=\"http://bokeh.pydata.org\" target=\"_blank\" class=\"bk-logo bk-logo-small bk-logo-notebook\"></a>\n",
       "        <span id=\"bf394a95-ed2c-4b96-8a26-7df773a42455\">Loading BokehJS ...</span>\n",
       "    </div>"
      ]
     },
     "metadata": {},
     "output_type": "display_data"
    },
    {
     "data": {
      "application/javascript": [
       "\n",
       "(function(global) {\n",
       "  function now() {\n",
       "    return new Date();\n",
       "  }\n",
       "\n",
       "  if (typeof (window._bokeh_onload_callbacks) === \"undefined\") {\n",
       "    window._bokeh_onload_callbacks = [];\n",
       "  }\n",
       "\n",
       "  function run_callbacks() {\n",
       "    window._bokeh_onload_callbacks.forEach(function(callback) { callback() });\n",
       "    delete window._bokeh_onload_callbacks\n",
       "    console.info(\"Bokeh: all callbacks have finished\");\n",
       "  }\n",
       "\n",
       "  function load_libs(js_urls, callback) {\n",
       "    window._bokeh_onload_callbacks.push(callback);\n",
       "    if (window._bokeh_is_loading > 0) {\n",
       "      console.log(\"Bokeh: BokehJS is being loaded, scheduling callback at\", now());\n",
       "      return null;\n",
       "    }\n",
       "    if (js_urls == null || js_urls.length === 0) {\n",
       "      run_callbacks();\n",
       "      return null;\n",
       "    }\n",
       "    console.log(\"Bokeh: BokehJS not loaded, scheduling load and callback at\", now());\n",
       "    window._bokeh_is_loading = js_urls.length;\n",
       "    for (var i = 0; i < js_urls.length; i++) {\n",
       "      var url = js_urls[i];\n",
       "      var s = document.createElement('script');\n",
       "      s.src = url;\n",
       "      s.async = false;\n",
       "      s.onreadystatechange = s.onload = function() {\n",
       "        window._bokeh_is_loading--;\n",
       "        if (window._bokeh_is_loading === 0) {\n",
       "          console.log(\"Bokeh: all BokehJS libraries loaded\");\n",
       "          run_callbacks()\n",
       "        }\n",
       "      };\n",
       "      s.onerror = function() {\n",
       "        console.warn(\"failed to load library \" + url);\n",
       "      };\n",
       "      console.log(\"Bokeh: injecting script tag for BokehJS library: \", url);\n",
       "      document.getElementsByTagName(\"head\")[0].appendChild(s);\n",
       "    }\n",
       "  };\n",
       "\n",
       "  var js_urls = ['https://cdn.pydata.org/bokeh/release/bokeh-0.11.1.min.js', 'https://cdn.pydata.org/bokeh/release/bokeh-widgets-0.11.1.min.js', 'https://cdn.pydata.org/bokeh/release/bokeh-compiler-0.11.1.min.js'];\n",
       "\n",
       "  var inline_js = [\n",
       "    function(Bokeh) {\n",
       "      Bokeh.set_log_level(\"info\");\n",
       "    },\n",
       "    \n",
       "    function(Bokeh) {\n",
       "      Bokeh.$(\"#bf394a95-ed2c-4b96-8a26-7df773a42455\").text(\"BokehJS successfully loaded\");\n",
       "    },\n",
       "    function(Bokeh) {\n",
       "      console.log(\"Bokeh: injecting CSS: https://cdn.pydata.org/bokeh/release/bokeh-0.11.1.min.css\");\n",
       "      Bokeh.embed.inject_css(\"https://cdn.pydata.org/bokeh/release/bokeh-0.11.1.min.css\");\n",
       "      console.log(\"Bokeh: injecting CSS: https://cdn.pydata.org/bokeh/release/bokeh-widgets-0.11.1.min.css\");\n",
       "      Bokeh.embed.inject_css(\"https://cdn.pydata.org/bokeh/release/bokeh-widgets-0.11.1.min.css\");\n",
       "    }\n",
       "  ];\n",
       "\n",
       "  function run_inline_js() {\n",
       "    for (var i = 0; i < inline_js.length; i++) {\n",
       "      inline_js[i](window.Bokeh);\n",
       "    }\n",
       "  }\n",
       "\n",
       "  if (window._bokeh_is_loading === 0) {\n",
       "    console.log(\"Bokeh: BokehJS loaded, going straight to plotting\");\n",
       "    run_inline_js();\n",
       "  } else {\n",
       "    load_libs(js_urls, function() {\n",
       "      console.log(\"Bokeh: BokehJS plotting callback run at\", now());\n",
       "      run_inline_js();\n",
       "    });\n",
       "  }\n",
       "}(this));"
      ]
     },
     "metadata": {},
     "output_type": "display_data"
    }
   ],
   "source": [
    "from __future__ import print_function, division\n",
    "%pylab notebook\n",
    "import numpy as np\n",
    "import pandas as pd\n",
    "import warnings\n",
    "warnings.filterwarnings('ignore')\n",
    "import seaborn as sns\n",
    "from bokeh.plotting import *\n",
    "output_notebook()"
   ]
  },
  {
   "cell_type": "code",
   "execution_count": 2,
   "metadata": {
    "collapsed": false
   },
   "outputs": [
    {
     "data": {
      "text/html": [
       "<div>\n",
       "<table border=\"1\" class=\"dataframe\">\n",
       "  <thead>\n",
       "    <tr style=\"text-align: right;\">\n",
       "      <th></th>\n",
       "      <th>id</th>\n",
       "      <th>title</th>\n",
       "      <th>subtitle</th>\n",
       "      <th>description</th>\n",
       "      <th>short_description</th>\n",
       "      <th>syllabus</th>\n",
       "      <th>url</th>\n",
       "      <th>slug</th>\n",
       "      <th>difficulty</th>\n",
       "      <th>created</th>\n",
       "      <th>...</th>\n",
       "      <th>available</th>\n",
       "      <th>end_date</th>\n",
       "      <th>typical_learning_time</th>\n",
       "      <th>rating</th>\n",
       "      <th>price</th>\n",
       "      <th>new</th>\n",
       "      <th>language</th>\n",
       "      <th>format</th>\n",
       "      <th>license</th>\n",
       "      <th>venue</th>\n",
       "    </tr>\n",
       "  </thead>\n",
       "  <tbody>\n",
       "    <tr>\n",
       "      <th>0</th>\n",
       "      <td>cs101</td>\n",
       "      <td>Intro to Computer Science</td>\n",
       "      <td>Build a Search Engine &amp; a Social Network</td>\n",
       "      <td>In this introduction to computer programming c...</td>\n",
       "      <td>Learn key computer science concepts in this in...</td>\n",
       "      <td>###Lesson 1: How to Get Started\\n\\n- Interview...</td>\n",
       "      <td>https://www.udacity.com/course/intro-to-comput...</td>\n",
       "      <td>intro-to-computer-science--cs101</td>\n",
       "      <td>beginner</td>\n",
       "      <td>NaN</td>\n",
       "      <td>...</td>\n",
       "      <td>NaN</td>\n",
       "      <td>NaN</td>\n",
       "      <td>3months</td>\n",
       "      <td>NaN</td>\n",
       "      <td>Free</td>\n",
       "      <td>NaN</td>\n",
       "      <td>en</td>\n",
       "      <td>MOOC</td>\n",
       "      <td>Creative Commons Attribution-NonCommercial- No...</td>\n",
       "      <td>Udacity</td>\n",
       "    </tr>\n",
       "    <tr>\n",
       "      <th>1</th>\n",
       "      <td>ud257</td>\n",
       "      <td>A/B Testing</td>\n",
       "      <td>Online Experiment Design and Analysis</td>\n",
       "      <td>This course will cover the design and analysis...</td>\n",
       "      <td>This course will cover the design and analysis...</td>\n",
       "      <td>### Lesson 1: Overview of A/B Testing\\nThis le...</td>\n",
       "      <td>https://www.udacity.com/course/ab-testing--ud2...</td>\n",
       "      <td>ab-testing--ud257</td>\n",
       "      <td>intermediate</td>\n",
       "      <td>NaN</td>\n",
       "      <td>...</td>\n",
       "      <td>NaN</td>\n",
       "      <td>NaN</td>\n",
       "      <td>1months</td>\n",
       "      <td>NaN</td>\n",
       "      <td>Free</td>\n",
       "      <td>NaN</td>\n",
       "      <td>en</td>\n",
       "      <td>MOOC</td>\n",
       "      <td>Creative Commons Attribution-NonCommercial- No...</td>\n",
       "      <td>Udacity</td>\n",
       "    </tr>\n",
       "  </tbody>\n",
       "</table>\n",
       "<p>2 rows × 22 columns</p>\n",
       "</div>"
      ],
      "text/plain": [
       "      id                      title                                  subtitle  \\\n",
       "0  cs101  Intro to Computer Science  Build a Search Engine & a Social Network   \n",
       "1  ud257                A/B Testing     Online Experiment Design and Analysis   \n",
       "\n",
       "                                         description  \\\n",
       "0  In this introduction to computer programming c...   \n",
       "1  This course will cover the design and analysis...   \n",
       "\n",
       "                                   short_description  \\\n",
       "0  Learn key computer science concepts in this in...   \n",
       "1  This course will cover the design and analysis...   \n",
       "\n",
       "                                            syllabus  \\\n",
       "0  ###Lesson 1: How to Get Started\\n\\n- Interview...   \n",
       "1  ### Lesson 1: Overview of A/B Testing\\nThis le...   \n",
       "\n",
       "                                                 url  \\\n",
       "0  https://www.udacity.com/course/intro-to-comput...   \n",
       "1  https://www.udacity.com/course/ab-testing--ud2...   \n",
       "\n",
       "                               slug    difficulty created   ...     available  \\\n",
       "0  intro-to-computer-science--cs101      beginner     NaN   ...           NaN   \n",
       "1                 ab-testing--ud257  intermediate     NaN   ...           NaN   \n",
       "\n",
       "  end_date typical_learning_time  rating price  new language  format  \\\n",
       "0      NaN               3months     NaN  Free  NaN       en    MOOC   \n",
       "1      NaN               1months     NaN  Free  NaN       en    MOOC   \n",
       "\n",
       "                                             license    venue  \n",
       "0  Creative Commons Attribution-NonCommercial- No...  Udacity  \n",
       "1  Creative Commons Attribution-NonCommercial- No...  Udacity  \n",
       "\n",
       "[2 rows x 22 columns]"
      ]
     },
     "execution_count": 2,
     "metadata": {},
     "output_type": "execute_result"
    }
   ],
   "source": [
    "df = pd.read_csv('data/learning_resource_table_2016_07_05.csv')\n",
    "df.head(2)"
   ]
  },
  {
   "cell_type": "code",
   "execution_count": 3,
   "metadata": {
    "collapsed": false
   },
   "outputs": [
    {
     "name": "stdout",
     "output_type": "stream",
     "text": [
      "Index([u'id', u'title', u'subtitle', u'description', u'short_description',\n",
      "       u'syllabus', u'url', u'slug', u'difficulty', u'created',\n",
      "       u'date_modified', u'date_published', u'available', u'end_date',\n",
      "       u'typical_learning_time', u'rating', u'price', u'new', u'language',\n",
      "       u'format', u'license', u'venue'],\n",
      "      dtype='object')\n",
      "357\n"
     ]
    }
   ],
   "source": [
    "print(df.columns)\n",
    "print(len(df))"
   ]
  },
  {
   "cell_type": "code",
   "execution_count": 15,
   "metadata": {
    "collapsed": false
   },
   "outputs": [
    {
     "data": {
      "text/plain": [
       "347    Data analytics involving text - VideoLectures....\n",
       "348    Model-based Bayesian RL - VideoLectures.NET Al...\n",
       "349    Optimization Algorithms in Machine Learning - ...\n",
       "350    Training Deep Neural Networks - VideoLectures....\n",
       "351    Tutorial on Learning Deep Architectures - Vide...\n",
       "352    Adversarial Examples - VideoLectures.NET nan nan \n",
       "353    Mining Complex Entities from Heterogeneous Inf...\n",
       "354    NLP and Deep Learning 2: Compositional Deep Le...\n",
       "355    Scaling Up Deep Learning - VideoLectures.NET D...\n",
       "356    Introduction to Graphical Models - VideoLectur...\n",
       "Name: all-text, dtype: object"
      ]
     },
     "execution_count": 15,
     "metadata": {},
     "output_type": "execute_result"
    }
   ],
   "source": [
    "#df['all-text'] = df['title'] + ' ' + df['subtitle'] + ' ' + df['description'] + ' ' + df['short_description'] + ' ' + df['syllabus']\n",
    "cols = ['title', 'description', 'syllabus']\n",
    "df['all-text'] = ''\n",
    "for i in cols:\n",
    "    df['all-text'] += df[i].astype('str')\n",
    "    df['all-text'] += ' '\n",
    "df['all-text'].tail(10)"
   ]
  },
  {
   "cell_type": "code",
   "execution_count": 16,
   "metadata": {
    "collapsed": false
   },
   "outputs": [],
   "source": [
    "from sklearn.feature_extraction.text import TfidfVectorizer, CountVectorizer\n",
    "from nltk.stem.lancaster import LancasterStemmer\n",
    "from nltk.stem.porter import PorterStemmer\n",
    "from tqdm import tqdm, tqdm_pandas\n",
    "import string\n",
    "allowed_chars = set(string.ascii_lowercase) | {' '}\n",
    "\n",
    "stemmer = PorterStemmer()\n",
    "def text_cleanup(text):\n",
    "    #text = str(text)\n",
    "    \n",
    "    #text = text.replace('\\n', ' ')\n",
    "    text = text.lower()\n",
    "    text = text.replace('videolectures.net', '')\n",
    "    text = ' '.join((stemmer.stem(i.decode('utf-8')) for i in text.split()))\n",
    "    text = text.replace('nan', '')\n",
    "    text = filter(lambda x: x in allowed_chars, text.lower())\n",
    "    return text\n",
    "    \n",
    "df['all-text'] = df['all-text'].apply(text_cleanup)"
   ]
  },
  {
   "cell_type": "code",
   "execution_count": 17,
   "metadata": {
    "collapsed": false
   },
   "outputs": [
    {
     "data": {
      "text/plain": [
       "347    data analyt involv text  data avail in electro...\n",
       "348    modelbas bayesian rl  although bayesian method...\n",
       "349    optim algorithm in machin learn  optim provid ...\n",
       "350                         train deep neural network   \n",
       "351    tutori on learn deep architectur  thi short tu...\n",
       "352                                  adversari exampl   \n",
       "353    mine complex entiti from heterogen inform netw...\n",
       "354           nlp and deep learn  composit deep learn   \n",
       "355    scale up deep learn  deep learn ha rapidli mov...\n",
       "356                        introduct to graphic model   \n",
       "Name: all-text, dtype: object"
      ]
     },
     "execution_count": 17,
     "metadata": {},
     "output_type": "execute_result"
    }
   ],
   "source": [
    "df['all-text'].tail(10)"
   ]
  },
  {
   "cell_type": "code",
   "execution_count": 29,
   "metadata": {
    "collapsed": false
   },
   "outputs": [
    {
     "name": "stdout",
     "output_type": "stream",
     "text": [
      "<type 'numpy.ndarray'>\n",
      "(357, 1903)\n",
      "2\n"
     ]
    }
   ],
   "source": [
    "vectorizer = TfidfVectorizer(stop_words='english', max_df=0.3, min_df=2)\n",
    "vectorized_text = vectorizer.fit_transform(df['all-text'].values)\n",
    "from sklearn.decomposition import TruncatedSVD\n",
    "if False:\n",
    "    svd = TruncatedSVD(n_components=500, n_iter=100)\n",
    "    vectorized_text = svd.fit_transform(vectorized_text)\n",
    "else:\n",
    "    vectorized_text = np.array(vectorized_text.todense())\n",
    "print(type(vectorized_text))\n",
    "print(vectorized_text.shape)\n",
    "print(len(vectorized_text.shape))"
   ]
  },
  {
   "cell_type": "code",
   "execution_count": 30,
   "metadata": {
    "collapsed": false
   },
   "outputs": [],
   "source": [
    "from mvpa2.suite import *"
   ]
  },
  {
   "cell_type": "code",
   "execution_count": 31,
   "metadata": {
    "collapsed": false
   },
   "outputs": [],
   "source": [
    "#dim_range = 25\n",
    "som = SimpleSOMMapper((20, 5), 400, learning_rate=0.5)\n",
    "# n_rows, n_columns = dim_range, dim_range\n",
    "# som = somoclu.Somoclu(n_columns, n_rows, data=vectorized_text.todense())\n",
    "# som.train()"
   ]
  },
  {
   "cell_type": "code",
   "execution_count": 32,
   "metadata": {
    "collapsed": false
   },
   "outputs": [],
   "source": [
    "#som.view_umatrix(bestmatches=True, labels=df['title'])\n",
    "som.train(vectorized_text)"
   ]
  },
  {
   "cell_type": "code",
   "execution_count": 33,
   "metadata": {
    "collapsed": false
   },
   "outputs": [],
   "source": [
    "binned_data = som(vectorized_text)"
   ]
  },
  {
   "cell_type": "code",
   "execution_count": 34,
   "metadata": {
    "collapsed": false
   },
   "outputs": [
    {
     "data": {
      "text/html": [
       "<div>\n",
       "<table border=\"1\" class=\"dataframe\">\n",
       "  <thead>\n",
       "    <tr style=\"text-align: right;\">\n",
       "      <th></th>\n",
       "      <th>x</th>\n",
       "      <th>y</th>\n",
       "      <th>count</th>\n",
       "      <th>titles</th>\n",
       "    </tr>\n",
       "  </thead>\n",
       "  <tbody>\n",
       "    <tr>\n",
       "      <th>0</th>\n",
       "      <td>0</td>\n",
       "      <td>1</td>\n",
       "      <td>6</td>\n",
       "      <td>Bioconductor for Genomic Data Science || Comma...</td>\n",
       "    </tr>\n",
       "    <tr>\n",
       "      <th>1</th>\n",
       "      <td>0</td>\n",
       "      <td>2</td>\n",
       "      <td>3</td>\n",
       "      <td>Introduction to Data Science || A Crash Course...</td>\n",
       "    </tr>\n",
       "  </tbody>\n",
       "</table>\n",
       "</div>"
      ],
      "text/plain": [
       "   x  y  count                                             titles\n",
       "0  0  1      6  Bioconductor for Genomic Data Science || Comma...\n",
       "1  0  2      3  Introduction to Data Science || A Crash Course..."
      ]
     },
     "execution_count": 34,
     "metadata": {},
     "output_type": "execute_result"
    }
   ],
   "source": [
    "table = pd.DataFrame(columns=['x', 'y'], data=binned_data)\n",
    "table['dummy'] = 1\n",
    "table['title'] = df['title']\n",
    "grp_table = table.groupby(by=('x', 'y'))\n",
    "plot_table = pd.DataFrame(columns=['count'], data=grp_table.apply(lambda x: x['dummy'].sum()))\n",
    "plot_table['titles'] = grp_table.apply(lambda x: ' || '.join([i[:60] for i in x['title'].values]))\n",
    "plot_table = plot_table.reset_index()\n",
    "plot_table.head(2)"
   ]
  },
  {
   "cell_type": "code",
   "execution_count": 35,
   "metadata": {
    "collapsed": false,
    "scrolled": false
   },
   "outputs": [
    {
     "data": {
      "text/html": [
       "\n",
       "\n",
       "    <div class=\"plotdiv\" id=\"18d32e35-d431-442a-a043-4848608feaa5\"></div>\n",
       "<script type=\"text/javascript\">\n",
       "  \n",
       "  (function(global) {\n",
       "    function now() {\n",
       "      return new Date();\n",
       "    }\n",
       "  \n",
       "    if (typeof (window._bokeh_onload_callbacks) === \"undefined\") {\n",
       "      window._bokeh_onload_callbacks = [];\n",
       "    }\n",
       "  \n",
       "    function run_callbacks() {\n",
       "      window._bokeh_onload_callbacks.forEach(function(callback) { callback() });\n",
       "      delete window._bokeh_onload_callbacks\n",
       "      console.info(\"Bokeh: all callbacks have finished\");\n",
       "    }\n",
       "  \n",
       "    function load_libs(js_urls, callback) {\n",
       "      window._bokeh_onload_callbacks.push(callback);\n",
       "      if (window._bokeh_is_loading > 0) {\n",
       "        console.log(\"Bokeh: BokehJS is being loaded, scheduling callback at\", now());\n",
       "        return null;\n",
       "      }\n",
       "      if (js_urls == null || js_urls.length === 0) {\n",
       "        run_callbacks();\n",
       "        return null;\n",
       "      }\n",
       "      console.log(\"Bokeh: BokehJS not loaded, scheduling load and callback at\", now());\n",
       "      window._bokeh_is_loading = js_urls.length;\n",
       "      for (var i = 0; i < js_urls.length; i++) {\n",
       "        var url = js_urls[i];\n",
       "        var s = document.createElement('script');\n",
       "        s.src = url;\n",
       "        s.async = false;\n",
       "        s.onreadystatechange = s.onload = function() {\n",
       "          window._bokeh_is_loading--;\n",
       "          if (window._bokeh_is_loading === 0) {\n",
       "            console.log(\"Bokeh: all BokehJS libraries loaded\");\n",
       "            run_callbacks()\n",
       "          }\n",
       "        };\n",
       "        s.onerror = function() {\n",
       "          console.warn(\"failed to load library \" + url);\n",
       "        };\n",
       "        console.log(\"Bokeh: injecting script tag for BokehJS library: \", url);\n",
       "        document.getElementsByTagName(\"head\")[0].appendChild(s);\n",
       "      }\n",
       "    };var element = document.getElementById(\"18d32e35-d431-442a-a043-4848608feaa5\");\n",
       "    if (element == null) {\n",
       "      console.log(\"Bokeh: ERROR: autoload.js configured with elementid '18d32e35-d431-442a-a043-4848608feaa5' but no matching script tag was found. \")\n",
       "      return false;\n",
       "    }\n",
       "  \n",
       "    var js_urls = [];\n",
       "  \n",
       "    var inline_js = [\n",
       "      function(Bokeh) {\n",
       "        Bokeh.$(function() {\n",
       "            var docs_json = {\"628f4541-239a-4d00-9dce-cfe76dc7923a\":{\"roots\":{\"references\":[{\"attributes\":{\"below\":[{\"id\":\"703fa848-7c38-4222-afbb-55d374f5a9bb\",\"type\":\"LinearAxis\"}],\"left\":[{\"id\":\"59f7710c-1acd-45ba-b7f3-f8a41b883fa4\",\"type\":\"LinearAxis\"}],\"renderers\":[{\"id\":\"703fa848-7c38-4222-afbb-55d374f5a9bb\",\"type\":\"LinearAxis\"},{\"id\":\"a17b4e8e-0af0-4a25-88ad-b4e760f0cce8\",\"type\":\"Grid\"},{\"id\":\"59f7710c-1acd-45ba-b7f3-f8a41b883fa4\",\"type\":\"LinearAxis\"},{\"id\":\"25d2ff11-77a9-4cda-b558-c3820639f704\",\"type\":\"Grid\"},{\"id\":\"9eb89912-b9f6-481d-b3b9-e73ee977275b\",\"type\":\"BoxAnnotation\"},{\"id\":\"3971b8ed-ffb2-423c-87e6-c32ba07c06c4\",\"type\":\"GlyphRenderer\"}],\"title\":\"test data\",\"tool_events\":{\"id\":\"659990cb-9529-4008-8fe6-8b9f07733a06\",\"type\":\"ToolEvents\"},\"tools\":[{\"id\":\"ae93b207-6c89-4ef8-8958-1eab1e6b137e\",\"type\":\"HoverTool\"},{\"id\":\"2fdb016a-8f6b-4282-b62c-980a2de79bef\",\"type\":\"PanTool\"},{\"id\":\"95bd1cdb-944b-4fa4-baba-b92e7bb02b51\",\"type\":\"BoxZoomTool\"},{\"id\":\"5d08d9f8-d470-4e18-8c42-8c52186b25b9\",\"type\":\"WheelZoomTool\"},{\"id\":\"e4358837-ebb0-4cfd-8ad7-c6c039255f81\",\"type\":\"ResetTool\"},{\"id\":\"82d6fbaa-c8e8-412b-ad73-fa24cbf9a30d\",\"type\":\"ResizeTool\"},{\"id\":\"fc68d9fb-ee4c-4106-a3a1-90085f103572\",\"type\":\"PreviewSaveTool\"}],\"x_range\":{\"id\":\"20ab0eac-5aad-4c1c-9836-cdad7307aed3\",\"type\":\"DataRange1d\"},\"y_range\":{\"id\":\"5a0472d9-2cf4-4162-88bb-29a15ec83f98\",\"type\":\"DataRange1d\"}},\"id\":\"5e9618d9-90a3-426f-904c-86660780caa3\",\"subtype\":\"Figure\",\"type\":\"Plot\"},{\"attributes\":{\"callback\":null},\"id\":\"20ab0eac-5aad-4c1c-9836-cdad7307aed3\",\"type\":\"DataRange1d\"},{\"attributes\":{\"data_source\":{\"id\":\"9c564c61-cbff-46a6-b1f7-62ca0dd6205f\",\"type\":\"ColumnDataSource\"},\"glyph\":{\"id\":\"756deee4-a6ec-4c9d-a40c-04bb9c511897\",\"type\":\"Rect\"},\"hover_glyph\":null,\"nonselection_glyph\":{\"id\":\"e22dc5e8-36b9-4365-bb3e-b2e3e1b11dd1\",\"type\":\"Rect\"},\"selection_glyph\":null},\"id\":\"3971b8ed-ffb2-423c-87e6-c32ba07c06c4\",\"type\":\"GlyphRenderer\"},{\"attributes\":{},\"id\":\"4b9ce6bd-6982-4452-b08e-194bac2754ae\",\"type\":\"BasicTickFormatter\"},{\"attributes\":{\"plot\":{\"id\":\"5e9618d9-90a3-426f-904c-86660780caa3\",\"subtype\":\"Figure\",\"type\":\"Plot\"}},\"id\":\"e4358837-ebb0-4cfd-8ad7-c6c039255f81\",\"type\":\"ResetTool\"},{\"attributes\":{\"plot\":{\"id\":\"5e9618d9-90a3-426f-904c-86660780caa3\",\"subtype\":\"Figure\",\"type\":\"Plot\"}},\"id\":\"fc68d9fb-ee4c-4106-a3a1-90085f103572\",\"type\":\"PreviewSaveTool\"},{\"attributes\":{\"plot\":{\"id\":\"5e9618d9-90a3-426f-904c-86660780caa3\",\"subtype\":\"Figure\",\"type\":\"Plot\"}},\"id\":\"2fdb016a-8f6b-4282-b62c-980a2de79bef\",\"type\":\"PanTool\"},{\"attributes\":{\"formatter\":{\"id\":\"8feee713-de48-4268-99e7-08c8224dd7c6\",\"type\":\"BasicTickFormatter\"},\"plot\":{\"id\":\"5e9618d9-90a3-426f-904c-86660780caa3\",\"subtype\":\"Figure\",\"type\":\"Plot\"},\"ticker\":{\"id\":\"53b64598-f61d-434f-9304-369c14918fe0\",\"type\":\"BasicTicker\"}},\"id\":\"59f7710c-1acd-45ba-b7f3-f8a41b883fa4\",\"type\":\"LinearAxis\"},{\"attributes\":{},\"id\":\"53b64598-f61d-434f-9304-369c14918fe0\",\"type\":\"BasicTicker\"},{\"attributes\":{},\"id\":\"6f9bd599-0071-44e0-a021-5b20f902fd94\",\"type\":\"BasicTicker\"},{\"attributes\":{\"callback\":null,\"column_names\":[\"y\",\"x\",\"titles\",\"count\",\"color\"],\"data\":{\"color\":[\"#abd9e9\",\"#4575b4\",\"#fee090\",\"#fee090\",\"#4575b4\",\"#abd9e9\",\"#f46d43\",\"#74add1\",\"#ffffbf\",\"#abd9e9\",\"#313695\",\"#f46d43\",\"#e0f3f8\",\"#e0f3f8\",\"#abd9e9\",\"#abd9e9\",\"#313695\",\"#313695\",\"#74add1\",\"#fee090\",\"#313695\",\"#313695\",\"#d73027\",\"#abd9e9\",\"#fee090\",\"#313695\",\"#ffffbf\",\"#abd9e9\",\"#ffffbf\",\"#ffffbf\",\"#ffffbf\",\"#313695\",\"#313695\",\"#ffffbf\",\"#fee090\",\"#313695\",\"#ffffbf\",\"#fee090\",\"#313695\",\"#e0f3f8\",\"#fee090\",\"#abd9e9\",\"#e0f3f8\",\"#313695\",\"#74add1\",\"#fee090\",\"#313695\",\"#ffffbf\",\"#313695\",\"#74add1\",\"#abd9e9\",\"#313695\",\"#fee090\",\"#313695\",\"#a50026\",\"#4575b4\",\"#fdae61\",\"#ffffbf\",\"#313695\",\"#f46d43\"],\"count\":[6,3,9,9,3,6,12,4,8,5,2,12,7,7,5,6,1,1,4,9,1,2,13,6,9,1,8,6,8,8,8,1,1,8,10,2,8,10,2,7,10,6,7,2,4,10,1,8,1,4,5,1,10,1,14,3,11,8,1,12],\"titles\":[\"Bioconductor for Genomic Data Science || Command Line Tools for Genomic Data Science || Genomic Data Science with Galaxy || Statistics for Genomic Data Science || Introduction to Genomic Technologies || Python for Genomic Data Science\",\"Introduction to Data Science || A Crash Course in Data Science || Data Science Through the Lens of Social Science - VideoLectu\",\"Accounting Analytics || Introduction to People Analytics || Decision-Making and Scenarios || Introduction to Spreadsheets and Models || People Analytics || Mastering Data Analysis in Excel || Customer Analytics || Forensic Accounting and Fraud Examination || Business Metrics for Data-Driven Companies\",\"Operations Analytics || Managing Data Analysis || Increasing Real Estate Management Profits: Harnessing Data A || Data Science in Real Life || Data Visualization and Communication with Tableau || Case studies in business analytics with ACCENTURE || Business Analytics Capstone || Wharton Business and Financial Modeling Capstone || Foundations of strategic business analytics\",\"Communicating Data Science Results || Building a Data Science Team || Process Mining: Data science in Action\",\"Data Analysis and Interpretation Capstone || Data Science at Scale - Capstone Project || Executive Data Science Capstone || Big Data - Capstone Project || Capstone: Geospatial Analysis || Data Science Capstone\",\"Python Data Structures || Data Management and Visualization || Exploratory Data Analysis || Developing Data Products || Machine Learning: Recommender Systems & Dimensionality Reduc || Using Databases with Python || Capstone: Retrieving, Processing, and Visualizing Data with  || Introduction to Recommender Systems || Healthcare Data Visualization || Computing in Parallel With Python and Visualizing the Result || Visual features II - VideoLectures.NET || Visual features: From Fourier to Gabor - VideoLectures.NET\",\"Real-Time Analytics with Apache Storm || Data Visualization || Principles of fMRI 1 || Getting and Cleaning Data\",\"Managing Big Data with MySQL || Relational Database Support for Data Warehouses || Data Warehouse Concepts, Design, and Data Integration || Business Intelligence Concepts, Tools, and Applications || Modeling Risk and Realities || Design and Build a Data Warehouse for Business Intelligence  || Database Management Essentials || Fundamentals of Quantitative Modeling\",\"Machine Learning Capstone: An Intelligent Application with D || Deep Learning for Machine Vision - VideoLectures.NET || Deep Learning - VideoLectures.NET || Tutorial on Learning Deep Architectures - VideoLectures.NET || Scaling Up Deep Learning - VideoLectures.NET\",\"A/B Testing || Data Wrangling with MongoDB\",\"Intro to Computer Science || Data Visualization and D3.js || Intro to Machine Learning || Intro to Hadoop and MapReduce || Intro to Data Analysis || Intro to Data Science || Data Analysis with R || Intro to Descriptive Statistics || Intro to Inferential Statistics || Model Building and Validation || Intro to Statistics || Machine Learning\",\"Deep Learning || NLP and Deep Learning 1: Human Language & Word Vectors\\t - Vi || Deep NLP Recurrent Neural Networks - VideoLectures.NET || Deep Belief Networks  - VideoLectures.NET || Deep\\tNLP Applications and Dynamic Memory Networks - VideoLec || Training Deep Neural Networks - VideoLectures.NET || NLP and Deep Learning 2: Compositional Deep Learning\\t - Vide\",\"Speech Recognition and Deep Learning - VideoLectures.NET || Deep Learning (hopefully faster)\\t - VideoLectures.NET || Deep Learning for Distribution Estimation - VideoLectures.NE || Deep\\tLearning:Theoretical Motivations - VideoLectures.NET || Deep Generative Models - VideoLectures.NET || Deep Learning 2 - VideoLectures.NET || Seeing People with Deep Learning - VideoLectures.NET\",\"Bayesian or Frequentist, Which Are You? - VideoLectures.NET || Learning Bayesian Networks - VideoLectures.NET || Bayesian Nonparametrics - VideoLectures.NET || Introduction to Reinforcement Learning and Bayesian learning || Model-based Bayesian RL - VideoLectures.NET\",\"Tutorial on Neural Network Optimization Problems - VideoLect || Convex Optimization in Python with CVXPY - VideoLectures.NET || Smooth, Finite, and Convex Optimization Deep Learning Summer || Non Smooth, Non Finite, and Non Convex Optimization - VideoL || Multilayer Neural Networks - VideoLectures.NET || Multilayer Neural Networks - VideoLectures.NET\",\"The Battle for the Future of Data Mining - VideoLectures.NET\",\"Nonparametric Bayesian Models - VideoLectures.NET\",\"Modern Nonparametric Statistics on Modern Big Data - VideoLe || Dirichlet Processes: Tutorial and Practical Course - VideoLe || Recent Advances in Bayesian Methods - VideoLectures.NET || Foundations of Nonparametric Bayesian Methods  - VideoLectur\",\"Statistical Inference || Data Analysis and Statistical Inference  || Discrete Inference and Learning in Artificial Vision || Approximate Inference - VideoLectures.NET || High-dimensional Statistics: Prediction, Association and Cau || Sequential Monte-Carlo Methods - VideoLectures.NET || Causal Inference as Computational Learning - VideoLectures.N || Foundations of Statistical Learning Theory : Empirical Infe- || Causality - VideoLectures.NET\",\"Inference in Graphical Models - VideoLectures.NET\",\"Practical Predictive Analytics: Models and Methods || Latent Factor Models for Relational Arrays and Network Data \",\"Data Analysis Tools || Mathematical Biostatistics Boot Camp 2 || Passion Driven Statistics || Statistics One || Introduction to Statistics for the Social Sciences || R Programming || Basic Statistics || Preparing for the AP* Statistics Exam || Inferential Statistics || Designing, Running, and Analyzing Experiments || Teaching Statistical Thinking: Part 1 Descriptive Statistics || Statistical Reasoning for Public Health 1: Estimation, Infer || An Introduction to Statistical Relational Learning - VideoLe\",\"Dirichlet Processes and Nonparametric Bayesian Modelling - V || Bayesian Time Series Modeling: Structured Representations fo || Bayesian Inference - VideoLectures.NET || Introduction To Bayesian Inference - VideoLectures.NET || Probability, Information Theory and Bayesian Inference - Vid || Bayesian inference and Gaussian processes - VideoLectures.NE\",\"Probabilistic Graphical Models || Undirected Graphical Models - VideoLectures.NET || Introduction to Graphical Models for Data Mining - VideoLect || Graphical Models and message-passing algorithms - VideoLectu || Graphical Models - VideoLectures.NET || Graphical models - VideoLectures.NET || Machine Learning, Probability and Graphical Models - VideoLe || Probabilistic Graphical Models and Structured Prediction - V || Introduction to Graphical Models - VideoLectures.NET\",\"Advances in Structured Prediction - VideoLectures.NET\",\"Machine Learning || Machine learning for cognitive science 1: What is machine le || Introduction To Statistical Machine Learning - VideoLectures || Introduction to Machine Learning - VideoLectures.NET || Machine learning for cognitive science 2: Bayesian methods a || Tutorial on Statistical Machine Learning with Applications t || Introduction to Statistical Machine Learning - VideoLectures || Group Theory in Machine Learning - VideoLectures.NET\",\"Natural Language Processing || Natural Language Processing || Introduction to Natural Language Processing || Neural Networks for Machine Learning || Document Analysis - VideoLectures.NET || From Language Modelling to Machine Translation - VideoLectur\",\"Machine Learning || Machine Learning: Classification || Machine Learning With Big Data || Practical Machine Learning || Machine Learning Foundations: A Case Study Approach || Machine Learning for Data Analysis || Introduction to Machine Learning - VideoLectures.NET || Support Vector Machines - VideoLectures.NET\",\"Kernel Methods - VideoLectures.NET || ML in Bioinformatics  - VideoLectures.NET || Theory and Applications of Kernel Space - VideoLectures.NET ||  Kernel methods and Support Vector Machines - VideoLectures. || Kernels and Gaussian Processes - VideoLectures.NET || Kernel methods for integrating biological data - VideoLectur || Gaussian Processes - VideoLectures.NET || Kernel Methods and Support Vector Machines - VideoLectures.N\",\"Submodularity in Machine Learning and Vision - VideoLectures || Data, Predictions, and Decisions in Support of People and So || Adversarial bandit problems: the power of randomization - Vi || Stacks of Restricted Boltzmann Machines - VideoLectures.NET || Algorithms for Predicting Structured Data - VideoLectures.NE || Algorithms for Interpretable Machine Learning - VideoLecture || Foundations of Machine Learning - VideoLectures.NET || Structured Prediction for Natural Language Processing - Vide\",\"Machine learning for cognitive science 3: Kernel methods and\",\"Gaussian Processes and Gene Regulation  - VideoLectures.NET\",\"Regression Models || Applied Regression Analysis || Statistical Reasoning for Public Health 2: Regression Method || Core Concepts in Data Analysis || Computational Methods for Data Analysis || Regression Modeling in Practice || Independent Component Analysis - VideoLectures.NET || Exponential Families - VideoLectures.NET\",\"The Regularization Frontier in Machine Learning - VideoLectu || From Trees to Forests and Rule Sets - A Unified Overview of  || Cost-sensitive Classification: Algorithms and Advances - Vid || Sparse methods for machine learning: Theory and algorithms - || Tutorial on Machine Learning Reductions - VideoLectures.NET || Sparse Methods for Machine Learning: Theory and Algorithms - || Sparse Methods for Under-determined Inverse Problems - Video || Survey of Boosting from an Optimization Perspective - VideoL || Boosting - VideoLectures.NET || Optimization Algorithms in Machine Learning - VideoLectures.\",\"Introduction to Machine Learning - VideoLectures.NET || Machine Learning and Signal Processing Tools for BCI - Video\",\"Discrete Optimization || Machine Learning: Regression || Coding the Matrix: Linear Algebra through Computer Science A || Linear and Discrete Optimization || Monte-Carlo Planning: Basic Principles and Recent Progress - || Making Very Large-Scale Linear Algebraic Computations Possib || Learning through Exploration - VideoLectures.NET || Optimization in Learning and Data Analysis - VideoLectures.N\",\"PAC-Bayesian Analysis and Its Applications - VideoLectures.N || Bounding Excess Risk in Machine Learning - VideoLectures.NET || Modern Convex Optimization Methods for Large-scale Empirical || Pattern Classification and Large Margin Classifiers - VideoL || PAC-Bayesian Bounds and Aggregation - VideoLectures.NET || Active Learning - VideoLectures.NET || Unsupervised learning - VideoLectures.NET || Learning with Dependencies between Several Response Variable || Theory, Methods and Applications of Active Learning - VideoL || Semi-Supervised Learning - VideoLectures.NET\",\"Cluster Analysis in Data Mining || Data mining and Machine learning algorithms - VideoLectures.\",\"Machine Learning: Clustering & Retrieval || New Developments in the Theory of Clustering - VideoLectures || Big Data Clustering - VideoLectures.NET || Correlation Clustering: From Theory to Practice - VideoLectu || Game Theory & Clustering - VideoLectures.NET || Analysis of Clustering Procedures - VideoLectures.NET || Lectures on Clustering - VideoLectures.NET\",\"Reinforcement Learning || Reinforcement Learning - VideoLectures.NET || Deep Reinforcement Learning - VideoLectures.NET || Reinforcement Learning - VideoLectures.NET || Reinforcement Learning in Humans and Other Animals - VideoLe || Reinforcement Learning for Embodied Cognition  - VideoLectur || Introduction to Reinforcement Learning - VideoLectures.NET || Model-Based Reinforcement Learning - VideoLectures.NET || Basics of Computational Reinforcement Learning - VideoLectur || Reinforcement learning - VideoLectures.NET\",\"Artificial Intelligence Planning || PAC-Bayes Theory in Supervised Learning - VideoLectures.NET || Learning Theory - VideoLectures.NET || Learning Theory - VideoLectures.NET || Introduction to Learning Theory - VideoLectures.NET || Information Theory - VideoLectures.NET\",\"Mining Massive Datasets || Constructing and Mining Web-Scale Knowledge Graphs - VideoLe || Query Log Mining - VideoLectures.NET || Distributed, Real-Time Bayesian Learning in Online Service - || Statistical Modeling of Relational Data - VideoLectures.NET || A Data Scientist\\u2019s Guide to Making Money from Start-ups -  || Mining Massive RFID, Trajectory, and Traffic Data Sets - Vid\",\"Mining Heterogeneous Information Networks - VideoLectures.NE || Mining Heterogeneous Information Networks - VideoLectures.NE\",\"Social and Economic Networks:  Models and Analysis || Capstone: Analyzing (Social) Network Data || Social Network Analysis || Network Mining and Analysis for Social Applications - VideoL\",\"Pattern Discovery in Data Mining || Contrast Data Mining: Methods and Applications  - VideoLectu || Mining Sets of Patterns - VideoLectures.NET || Data Mining - VideoLectures.NET || Text Mining, Information and Fact Extraction (TMIFE) - Video || Statistical Aspects of Pattern Analysis - VideoLectures.NET || A framework for pattern analysis - VideoLectures.NET || Statistically Sound Pattern Discovery  - VideoLectures.NET || Semantic Data Mining - VideoLectures.NET || Natural Language Understanding: Foundations and State-of-the\",\"Computational Social Science - VideoLectures.NET\",\"Web Intelligence and Big Data || Measuring Causal Effects in the Social Sciences || The Importance of Listening || Understanding China, 1700-2000: A Data Analytic Approach, Pa || Bringing Structure to Text: Mining Phrases, Entity Concepts, || Recommendation in Social Media  - VideoLectures.NET || Citizen Sensor Data Mining, Social Media Analytics and Devel || Mining Complex Entities from Heterogeneous Information Netwo\",\"Machine Learning with Knowledge Graphs - VideoLectures.NET\",\"Principles of Very Large Scale Modeling - VideoLectures.NET || Practical Statistical Relational Learning - VideoLectures.NE || Sampling for Big Data - VideoLectures.NET || Mining Uncertain and Probabilistic Data: problems, Challenge\",\"Bugbears or Legitimate Threats? (Social) Scientists' Critici || Geometric Tools for Graph Mining of Large Social and Informa || Convolutional Networks - VideoLectures.NET || Can cascades be predicted? - VideoLectures.NET || Understanding and Managing Cascades on Large Graphs - VideoL\",\"Data analytics involving text - VideoLectures.NET\",\"Digital Analytics for Marketing Professionals: Marketing Ana || Applied Logistic Regression || Text Mining and Analytics || Big Data Analytics for Healthcare || Graph Analytics for Big Data || Data Manipulation at Scale: Systems and Algorithms || Marketing Analytics || Practical Learning Analytics ||  Large-scale Data Mining: MapReduce and Beyond - VideoLectur || Scale-out Beyond MapReduce - VideoLectures.NET\",\"Vowpal Wabbit - VideoLectures.NET\",\"Probability || Experimentation for Improvement || Reproducible Research || Understanding Clinical Research: Behind the Statistics || Learning to Compare - VideoLectures.NET || Learning with Probabilities - VideoLectures.NET || Event Detection - VideoLectures.NET || Temporal Pattern Mining in Symbolic Time Point and Time Inte || Data Mining for Anomaly Detection - VideoLectures.NET || Semantic technology empowering real world outcomes in biomed || Variational Autoencoder and Extensions - VideoLectures.NET || On manifolds and autoencoders - VideoLectures.NET || Indexing and Mining Time Sequences - VideoLectures.NET || Medicine in the Age of Electronic Health Records - VideoLect\",\"Qualitative Research Methods || Econometrics: Methods and Applications || Topic Models - VideoLectures.NET\",\"Interprofessional Healthcare Informatics  || Introduction to Recommender Systems || Evolving Systems - VideoLectures.NET || Recommender Problems for Web Applications - VideoLectures.NE || Mining complex dynamic data - VideoLectures.NET || Bridging the gap between machines and people - VideoLectures || The Recommender Problem Revisited - VideoLectures.NET || Policy Search: Methods and Applications - VideoLectures.NET || State of the Art in Data Stream Mining - VideoLectures.NET || Mining Big Data in Real Time - VideoLectures.NET || Adversarial Examples - VideoLectures.NET\",\"Algorithms for DNA Sequencing || Capstone:  Create Value from Open Data || ORANGE: Data Mining Fruitful and Fun - VideoLectures.NET || Markov Chain Monte Carlo - VideoLectures.NET || Memory, Reading, and Comprehension - VideoLectures.NET || Preference Learning - VideoLectures.NET || Monte Carlo Simulation for Statistical Inference, Model Sele || Monte Carlo Methods - VideoLectures.NET\",\"The Caltech-JPL Summer School on Big Data Analytics\",\"Introduction to Big Data || Statistics: Making Sense of Data || Introduction to Big Data Analytics || Hadoop Platform and Application Framework || Text Retrieval and Search Engines || Introduction to Search Engine Optimization || Big Data Science with the BD2K-LINCS Data Coordination and I || The Data Scientist\\u2019s Toolbox || Case-Based Introduction to Biostatistics || Why Big Data Matters - a lot - VideoLectures.NET || Security, Privacy and Big Data Standards - VideoLectures.NET || Big-Data Tutorial - VideoLectures.NET\"],\"x\":[0,0,0,1,1,1,2,2,2,3,3,3,4,4,5,5,5,6,6,6,7,7,7,7,8,8,8,9,9,10,10,10,11,11,11,12,12,12,13,13,13,14,14,15,15,15,16,16,16,16,17,17,17,18,18,18,18,19,19,19],\"y\":[1,2,4,0,2,3,1,2,4,0,2,3,1,4,0,2,4,0,1,3,0,1,2,4,0,1,3,1,4,0,2,4,0,1,3,0,2,4,0,1,3,2,4,0,1,3,1,2,3,4,0,2,3,0,1,2,4,0,2,3]}},\"id\":\"9c564c61-cbff-46a6-b1f7-62ca0dd6205f\",\"type\":\"ColumnDataSource\"},{\"attributes\":{\"fill_alpha\":{\"value\":0.1},\"fill_color\":{\"value\":\"#1f77b4\"},\"height\":{\"units\":\"data\",\"value\":1},\"line_alpha\":{\"value\":0.1},\"line_color\":{\"value\":\"#1f77b4\"},\"width\":{\"units\":\"data\",\"value\":1},\"x\":{\"field\":\"x\"},\"y\":{\"field\":\"y\"}},\"id\":\"e22dc5e8-36b9-4365-bb3e-b2e3e1b11dd1\",\"type\":\"Rect\"},{\"attributes\":{\"plot\":{\"id\":\"5e9618d9-90a3-426f-904c-86660780caa3\",\"subtype\":\"Figure\",\"type\":\"Plot\"}},\"id\":\"5d08d9f8-d470-4e18-8c42-8c52186b25b9\",\"type\":\"WheelZoomTool\"},{\"attributes\":{},\"id\":\"8feee713-de48-4268-99e7-08c8224dd7c6\",\"type\":\"BasicTickFormatter\"},{\"attributes\":{\"formatter\":{\"id\":\"4b9ce6bd-6982-4452-b08e-194bac2754ae\",\"type\":\"BasicTickFormatter\"},\"plot\":{\"id\":\"5e9618d9-90a3-426f-904c-86660780caa3\",\"subtype\":\"Figure\",\"type\":\"Plot\"},\"ticker\":{\"id\":\"6f9bd599-0071-44e0-a021-5b20f902fd94\",\"type\":\"BasicTicker\"}},\"id\":\"703fa848-7c38-4222-afbb-55d374f5a9bb\",\"type\":\"LinearAxis\"},{\"attributes\":{\"plot\":{\"id\":\"5e9618d9-90a3-426f-904c-86660780caa3\",\"subtype\":\"Figure\",\"type\":\"Plot\"},\"ticker\":{\"id\":\"6f9bd599-0071-44e0-a021-5b20f902fd94\",\"type\":\"BasicTicker\"}},\"id\":\"a17b4e8e-0af0-4a25-88ad-b4e760f0cce8\",\"type\":\"Grid\"},{\"attributes\":{\"bottom_units\":\"screen\",\"fill_alpha\":{\"value\":0.5},\"fill_color\":{\"value\":\"lightgrey\"},\"left_units\":\"screen\",\"level\":\"overlay\",\"line_alpha\":{\"value\":1.0},\"line_color\":{\"value\":\"black\"},\"line_dash\":[4,4],\"line_width\":{\"value\":2},\"plot\":null,\"render_mode\":\"css\",\"right_units\":\"screen\",\"top_units\":\"screen\"},\"id\":\"9eb89912-b9f6-481d-b3b9-e73ee977275b\",\"type\":\"BoxAnnotation\"},{\"attributes\":{\"callback\":null},\"id\":\"5a0472d9-2cf4-4162-88bb-29a15ec83f98\",\"type\":\"DataRange1d\"},{\"attributes\":{\"callback\":null,\"plot\":{\"id\":\"5e9618d9-90a3-426f-904c-86660780caa3\",\"subtype\":\"Figure\",\"type\":\"Plot\"},\"tooltips\":\"\\n            <div>\\n                <span style=\\\"font-size: 10px; width: 200px; display: block;\\\">@titles</span>\\n            </div>\\n            \"},\"id\":\"ae93b207-6c89-4ef8-8958-1eab1e6b137e\",\"type\":\"HoverTool\"},{\"attributes\":{\"plot\":{\"id\":\"5e9618d9-90a3-426f-904c-86660780caa3\",\"subtype\":\"Figure\",\"type\":\"Plot\"}},\"id\":\"82d6fbaa-c8e8-412b-ad73-fa24cbf9a30d\",\"type\":\"ResizeTool\"},{\"attributes\":{\"overlay\":{\"id\":\"9eb89912-b9f6-481d-b3b9-e73ee977275b\",\"type\":\"BoxAnnotation\"},\"plot\":{\"id\":\"5e9618d9-90a3-426f-904c-86660780caa3\",\"subtype\":\"Figure\",\"type\":\"Plot\"}},\"id\":\"95bd1cdb-944b-4fa4-baba-b92e7bb02b51\",\"type\":\"BoxZoomTool\"},{\"attributes\":{\"dimension\":1,\"plot\":{\"id\":\"5e9618d9-90a3-426f-904c-86660780caa3\",\"subtype\":\"Figure\",\"type\":\"Plot\"},\"ticker\":{\"id\":\"53b64598-f61d-434f-9304-369c14918fe0\",\"type\":\"BasicTicker\"}},\"id\":\"25d2ff11-77a9-4cda-b558-c3820639f704\",\"type\":\"Grid\"},{\"attributes\":{},\"id\":\"659990cb-9529-4008-8fe6-8b9f07733a06\",\"type\":\"ToolEvents\"},{\"attributes\":{\"fill_color\":{\"field\":\"color\"},\"height\":{\"units\":\"data\",\"value\":1},\"line_color\":{\"value\":\"white\"},\"width\":{\"units\":\"data\",\"value\":1},\"x\":{\"field\":\"x\"},\"y\":{\"field\":\"y\"}},\"id\":\"756deee4-a6ec-4c9d-a40c-04bb9c511897\",\"type\":\"Rect\"}],\"root_ids\":[\"5e9618d9-90a3-426f-904c-86660780caa3\"]},\"title\":\"Bokeh Application\",\"version\":\"0.11.1\"}};\n",
       "            var render_items = [{\"docid\":\"628f4541-239a-4d00-9dce-cfe76dc7923a\",\"elementid\":\"18d32e35-d431-442a-a043-4848608feaa5\",\"modelid\":\"5e9618d9-90a3-426f-904c-86660780caa3\",\"notebook_comms_target\":\"5b304558-2172-46b1-9f6c-c815af8b47fc\"}];\n",
       "            \n",
       "            Bokeh.embed.embed_items(docs_json, render_items);\n",
       "        });\n",
       "      },\n",
       "      function(Bokeh) {\n",
       "      }\n",
       "    ];\n",
       "  \n",
       "    function run_inline_js() {\n",
       "      for (var i = 0; i < inline_js.length; i++) {\n",
       "        inline_js[i](window.Bokeh);\n",
       "      }\n",
       "    }\n",
       "  \n",
       "    if (window._bokeh_is_loading === 0) {\n",
       "      console.log(\"Bokeh: BokehJS loaded, going straight to plotting\");\n",
       "      run_inline_js();\n",
       "    } else {\n",
       "      load_libs(js_urls, function() {\n",
       "        console.log(\"Bokeh: BokehJS plotting callback run at\", now());\n",
       "        run_inline_js();\n",
       "      });\n",
       "    }\n",
       "  }(this));\n",
       "</script>"
      ]
     },
     "metadata": {},
     "output_type": "display_data"
    },
    {
     "name": "stderr",
     "output_type": "stream",
     "text": [
      "/opt/anaconda2/lib/python2.7/site-packages/ipykernel/comm/comm.py:52: DeprecationWarning: Comm._comm_id_default is deprecated: use @default decorator instead.\n",
      "  def _comm_id_default(self):\n",
      "/opt/anaconda2/lib/python2.7/site-packages/ipykernel/comm/comm.py:29: DeprecationWarning: Comm._iopub_socket_default is deprecated: use @default decorator instead.\n",
      "  def _iopub_socket_default(self):\n",
      "/opt/anaconda2/lib/python2.7/site-packages/ipykernel/comm/comm.py:24: DeprecationWarning: Comm._kernel_default is deprecated: use @default decorator instead.\n",
      "  def _kernel_default(self):\n",
      "/opt/anaconda2/lib/python2.7/site-packages/ipykernel/comm/comm.py:32: DeprecationWarning: Comm._session_default is deprecated: use @default decorator instead.\n",
      "  def _session_default(self):\n",
      "/opt/anaconda2/lib/python2.7/site-packages/ipykernel/comm/comm.py:41: DeprecationWarning: Comm._topic_default is deprecated: use @default decorator instead.\n",
      "  def _topic_default(self):\n",
      "/opt/anaconda2/lib/python2.7/site-packages/ipykernel/comm/comm.py:24: DeprecationWarning: Comm._kernel_default is deprecated: use @default decorator instead.\n",
      "  def _kernel_default(self):\n",
      "/opt/anaconda2/lib/python2.7/site-packages/ipykernel/comm/comm.py:52: DeprecationWarning: Comm._comm_id_default is deprecated: use @default decorator instead.\n",
      "  def _comm_id_default(self):\n",
      "/opt/anaconda2/lib/python2.7/site-packages/ipykernel/comm/manager.py:37: DeprecationWarning: CommManager._iopub_socket_default is deprecated: use @default decorator instead.\n",
      "  def _iopub_socket_default(self):\n",
      "/opt/anaconda2/lib/python2.7/site-packages/ipykernel/comm/comm.py:32: DeprecationWarning: Comm._session_default is deprecated: use @default decorator instead.\n",
      "  def _session_default(self):\n",
      "/opt/anaconda2/lib/python2.7/site-packages/ipykernel/comm/comm.py:41: DeprecationWarning: Comm._topic_default is deprecated: use @default decorator instead.\n",
      "  def _topic_default(self):\n"
     ]
    },
    {
     "data": {
      "text/html": [
       "<p><code>&lt;Bokeh Notebook handle for <strong>In[35]</strong>&gt;</code></p>"
      ],
      "text/plain": [
       "<bokeh.io._CommsHandle at 0x7fd9d19e2f50>"
      ]
     },
     "execution_count": 35,
     "metadata": {},
     "output_type": "execute_result"
    }
   ],
   "source": [
    "from bokeh.models import *\n",
    "from bokeh.charts import HeatMap\n",
    "from math import floor \n",
    "\n",
    "from bokeh.plotting import figure, output_file, show \n",
    "from bokeh.models import HoverTool, ColumnDataSource \n",
    "from bokeh.palettes import RdYlBu11 as palette \n",
    "\n",
    "x = plot_table['x']\n",
    "y = plot_table['y']\n",
    "c = plot_table['count']\n",
    "t = plot_table['titles']\n",
    "data = {'x':x, 'y':y, 'count':c, 'titles':t} \n",
    "\n",
    "# colormap by hand for now, a one-liner some day \n",
    "N, min, max = len(palette), c.min(), c.max() \n",
    "data['color'] = [] \n",
    "for x in data['count']: \n",
    "    ind = int(floor((x-min)/(max-min)*(N-1)))\n",
    "    data['color'].append(palette[ind]) \n",
    "\n",
    "source = ColumnDataSource(data) \n",
    "\n",
    "hover = HoverTool( \n",
    "    #tooltips=[(\"description\", \"@titles\"), ('count', '@count')] \n",
    "    tooltips = \"\"\"\n",
    "            <div>\n",
    "                <span style=\"font-size: 10px; width: 200px; display: block;\">@titles</span>\n",
    "            </div>\n",
    "            \"\"\"\n",
    ") \n",
    "\n",
    "hm = figure(title='test data', tools=[hover,\"pan\",\"box_zoom\",\"wheel_zoom\",\"reset\",\"resize\",\"save\"]) \n",
    "hm.rect(x='x', y='y', width=1, height=1, fill_color='color', line_color=\"white\", source=source) \n",
    "show(hm)"
   ]
  },
  {
   "cell_type": "code",
   "execution_count": 36,
   "metadata": {
    "collapsed": false
   },
   "outputs": [
    {
     "name": "stdout",
     "output_type": "stream",
     "text": [
      "tags: [u'comput' u'ab' u'visual' u'lesson' u'hadoop' u'realtim' u'panda'\n",
      " u'mapreduc' u'set' u'lesson' u'lesson' u'reinforc' u'pars' u'build'\n",
      " u'deep' u'lesson' u'lesson' u'click' u'product' u'account' u'discret'\n",
      " u'statist' u'machin' u'python' u'summer' u'genom' u'massiv' u'qualit'\n",
      " u'regress' u'busi' u'collection' u'answer' u'institut' u'econom'\n",
      " u'databas' u'biostatist' u'social' u'busi' u'capston' u'statist'\n",
      " u'exploratori' u'employe' u'product' u'mooc' u'recommend' u'tool'\n",
      " u'describ' u'sentiment' u'genom' u'market' u'format' u'variable' u'text'\n",
      " u'warehous' u'decisionmak' u'chines' u'artifici' u'abl' u'analyt'\n",
      " u'project' u'spreadsheet' u'dna' u'natur' u'assign' u'project' u'graph'\n",
      " u'infer' u'scienc' u'beauti' u'manag' u'languag' u'regress' u'regress'\n",
      " u'databases' u'scienc' u'peopl' u'ones' u'hadoop' u'discoveri' u'chapter'\n",
      " u'social' u'mani' u'genom' u'particip' u'represent' u'busi' u'statist'\n",
      " u'regress' u'statist' u'youll' u'life' u'warehous' u'predict' u'infer'\n",
      " u'project' u'program' u'busi' u'best' u'market' u'mooc' u'informat'\n",
      " u'project' u'excel' u'reproduc' u'concept' u'search' u'statist' u'algebra'\n",
      " u'document' u'imag' u'busi' u'question' u'search' u'team' u'busi'\n",
      " u'capstone' u'big' u'capston' u'clinic' u'databas' u'method' u'toolbox'\n",
      " u'genom' u'languag' u'busi' u'biostatist' u'discret' u'scienc' u'verifi'\n",
      " u'engineering' u'prepar' u'genom' u'regress' u'machin' u'custom'\n",
      " u'quantit' u'busi' u'cover' u'fraud' u'machin' u'recommend' u'artifici'\n",
      " u'test' u'experi' u'visual' u'process' u'compani' u'neural' u'genom'\n",
      " u'teach' u'public' u'vision' u'lectur' u'nonparametr' u'contrast'\n",
      " u'announc' u'knowledg' u'prior' u'infer' u'joint' u'classifiers' u'cognit'\n",
      " u'pattern' u'nonparametr' u'contrast' u'cluster' u'time' u'neural'\n",
      " u'frontier' u'kernel' u'retriev' u'convex' u'reinforc' u'recognit'\n",
      " u'ensembl' u'faster' u'parallel' u'critic' u'montecarlo' u'approxim' u'ii'\n",
      " u'inform' u'random' u'undirect' u'compon' u'kernel' u'evolv' u'finite'\n",
      " u'cluster' u'supervis' u'kernel' u'pacbayesian' u'machin' u'bound'\n",
      " u'topic' u'rl' u'item' u'vision' u'causal' u'infer' u'modern' u'models'\n",
      " u'estim' u'word' u'stream' u'cognit' u'dirichlet' u'motiv' u'graphic'\n",
      " u'highlevel' u'log' u'introduct' u'costsensit' u'compar' u'diverg'\n",
      " u'frequentist' u'network' u'recurr' u'probabl' u'classif' u'logic'\n",
      " u'document' u'pattern' u'networks' u'whi' u'sampl' u'graph' u'method'\n",
      " u'deep' u'cognit' u'posterior' u'kernel' u'infer' u'belief' u'signal'\n",
      " u'finite' u'distribut' u'effort' u'bandit' u'robot' u'gaussian'\n",
      " u'translat' u'theori' u'causal' u'relat' u'event' u'cluster' u'famili'\n",
      " u'uncertain' u'spars' u'graphic' u'bayesian' u'time' u'kernel' u'proof'\n",
      " u'gabor' u'answer' u'nonparametr' u'scienc' u'gaussian' u'graphic'\n",
      " u'anomali' u'probability' u'tool' u'recommend' u'privaci' u'stack'\n",
      " u'latent' u'action' u'entiti' u'ab' u'pacbayesian' u'convolut' u'problem'\n",
      " u'spars' u'kernel' u'deep' u'theori' u'mapreduc' u'activ' u'framework'\n",
      " u'social' u'rl' u'biomed' u'cascad' u'train' u'kdd' u'autoencod'\n",
      " u'autoencod' u'brain' u'peopl' u'analyt' u'multimod' u'game' u'paradigm'\n",
      " u'semant' u'gaussian' u'theori' u'invers' u'bigdata' u'space' u'market'\n",
      " u'stochast' u'causal' u'sequences' u'polici' u'carlo' u'memory' u'kdd'\n",
      " u'drug' u'probabl' u'cluster' u'text' u'gaussian' u'art' u'prefer'\n",
      " u'evolv' u'structur' u'reward' u'boost' u'bayesian' u'carlo' u'cluster'\n",
      " u'optim' u'predict' u'respons' u'activ' u'bayesian' u'boost' u'bunch'\n",
      " u'nlp' u'semisupervis' u'semant' u'traffic' u'reinforc' u'multilay'\n",
      " u'mcmc' u'multilay' u'reinforc' u'log' u'memori' u'probabilist' u'svm'\n",
      " u'media' u'reinforc' u'social' u'touch' u'text' u'bayesian'\n",
      " u'optimization' u'train' u'deep' u'adversari' u'minut' u'deep' u'deep'\n",
      " u'graphic']\n",
      "357\n"
     ]
    }
   ],
   "source": [
    "f_names = np.array(vectorizer.get_feature_names())\n",
    "tags = f_names[vectorized_text.argmax(axis=1)]\n",
    "print('tags:', tags)\n",
    "print(len(tags))"
   ]
  },
  {
   "cell_type": "code",
   "execution_count": 37,
   "metadata": {
    "collapsed": true
   },
   "outputs": [],
   "source": [
    "from sklearn.manifold import TSNE\n",
    "tsne = TSNE(n_components=2, learning_rate=100, n_iter=5000)"
   ]
  },
  {
   "cell_type": "code",
   "execution_count": 38,
   "metadata": {
    "collapsed": true
   },
   "outputs": [],
   "source": [
    "tsne_text = tsne.fit_transform(vectorized_text)"
   ]
  },
  {
   "cell_type": "code",
   "execution_count": 39,
   "metadata": {
    "collapsed": true
   },
   "outputs": [],
   "source": [
    "from bokeh.charts import Scatter"
   ]
  },
  {
   "cell_type": "code",
   "execution_count": 40,
   "metadata": {
    "collapsed": false
   },
   "outputs": [
    {
     "data": {
      "text/html": [
       "<div>\n",
       "<table border=\"1\" class=\"dataframe\">\n",
       "  <thead>\n",
       "    <tr style=\"text-align: right;\">\n",
       "      <th></th>\n",
       "      <th>x</th>\n",
       "      <th>y</th>\n",
       "      <th>title</th>\n",
       "    </tr>\n",
       "  </thead>\n",
       "  <tbody>\n",
       "    <tr>\n",
       "      <th>0</th>\n",
       "      <td>3.550282</td>\n",
       "      <td>-1.922561</td>\n",
       "      <td>Intro to Computer Science</td>\n",
       "    </tr>\n",
       "    <tr>\n",
       "      <th>1</th>\n",
       "      <td>2.919194</td>\n",
       "      <td>-2.620359</td>\n",
       "      <td>A/B Testing</td>\n",
       "    </tr>\n",
       "  </tbody>\n",
       "</table>\n",
       "</div>"
      ],
      "text/plain": [
       "          x         y                      title\n",
       "0  3.550282 -1.922561  Intro to Computer Science\n",
       "1  2.919194 -2.620359                A/B Testing"
      ]
     },
     "execution_count": 40,
     "metadata": {},
     "output_type": "execute_result"
    }
   ],
   "source": [
    "plot_df = pd.DataFrame(columns=['x', 'y'], data=tsne_text)\n",
    "plot_df['title'] = df['title']\n",
    "plot_df.head(2)"
   ]
  },
  {
   "cell_type": "code",
   "execution_count": 41,
   "metadata": {
    "collapsed": false,
    "scrolled": false
   },
   "outputs": [
    {
     "data": {
      "text/html": [
       "\n",
       "\n",
       "    <div class=\"plotdiv\" id=\"f5ea0e69-994e-4787-9f9a-ad14a2128bbf\"></div>\n",
       "<script type=\"text/javascript\">\n",
       "  \n",
       "  (function(global) {\n",
       "    function now() {\n",
       "      return new Date();\n",
       "    }\n",
       "  \n",
       "    if (typeof (window._bokeh_onload_callbacks) === \"undefined\") {\n",
       "      window._bokeh_onload_callbacks = [];\n",
       "    }\n",
       "  \n",
       "    function run_callbacks() {\n",
       "      window._bokeh_onload_callbacks.forEach(function(callback) { callback() });\n",
       "      delete window._bokeh_onload_callbacks\n",
       "      console.info(\"Bokeh: all callbacks have finished\");\n",
       "    }\n",
       "  \n",
       "    function load_libs(js_urls, callback) {\n",
       "      window._bokeh_onload_callbacks.push(callback);\n",
       "      if (window._bokeh_is_loading > 0) {\n",
       "        console.log(\"Bokeh: BokehJS is being loaded, scheduling callback at\", now());\n",
       "        return null;\n",
       "      }\n",
       "      if (js_urls == null || js_urls.length === 0) {\n",
       "        run_callbacks();\n",
       "        return null;\n",
       "      }\n",
       "      console.log(\"Bokeh: BokehJS not loaded, scheduling load and callback at\", now());\n",
       "      window._bokeh_is_loading = js_urls.length;\n",
       "      for (var i = 0; i < js_urls.length; i++) {\n",
       "        var url = js_urls[i];\n",
       "        var s = document.createElement('script');\n",
       "        s.src = url;\n",
       "        s.async = false;\n",
       "        s.onreadystatechange = s.onload = function() {\n",
       "          window._bokeh_is_loading--;\n",
       "          if (window._bokeh_is_loading === 0) {\n",
       "            console.log(\"Bokeh: all BokehJS libraries loaded\");\n",
       "            run_callbacks()\n",
       "          }\n",
       "        };\n",
       "        s.onerror = function() {\n",
       "          console.warn(\"failed to load library \" + url);\n",
       "        };\n",
       "        console.log(\"Bokeh: injecting script tag for BokehJS library: \", url);\n",
       "        document.getElementsByTagName(\"head\")[0].appendChild(s);\n",
       "      }\n",
       "    };var element = document.getElementById(\"f5ea0e69-994e-4787-9f9a-ad14a2128bbf\");\n",
       "    if (element == null) {\n",
       "      console.log(\"Bokeh: ERROR: autoload.js configured with elementid 'f5ea0e69-994e-4787-9f9a-ad14a2128bbf' but no matching script tag was found. \")\n",
       "      return false;\n",
       "    }\n",
       "  \n",
       "    var js_urls = [];\n",
       "  \n",
       "    var inline_js = [\n",
       "      function(Bokeh) {\n",
       "        Bokeh.$(function() {\n",
       "            var docs_json = {\"152d052f-f76b-48fe-a270-1cdd1613b59a\":{\"roots\":{\"references\":[{\"attributes\":{\"plot\":{\"id\":\"e7ec2631-eb37-4f20-bbdc-3e482d7d169e\",\"subtype\":\"Figure\",\"type\":\"Plot\"}},\"id\":\"985eb9a1-d626-480d-ae96-f98e85c5efb5\",\"type\":\"PanTool\"},{\"attributes\":{\"below\":[{\"id\":\"703fa848-7c38-4222-afbb-55d374f5a9bb\",\"type\":\"LinearAxis\"}],\"left\":[{\"id\":\"59f7710c-1acd-45ba-b7f3-f8a41b883fa4\",\"type\":\"LinearAxis\"}],\"renderers\":[{\"id\":\"703fa848-7c38-4222-afbb-55d374f5a9bb\",\"type\":\"LinearAxis\"},{\"id\":\"a17b4e8e-0af0-4a25-88ad-b4e760f0cce8\",\"type\":\"Grid\"},{\"id\":\"59f7710c-1acd-45ba-b7f3-f8a41b883fa4\",\"type\":\"LinearAxis\"},{\"id\":\"25d2ff11-77a9-4cda-b558-c3820639f704\",\"type\":\"Grid\"},{\"id\":\"9eb89912-b9f6-481d-b3b9-e73ee977275b\",\"type\":\"BoxAnnotation\"},{\"id\":\"3971b8ed-ffb2-423c-87e6-c32ba07c06c4\",\"type\":\"GlyphRenderer\"}],\"title\":\"test data\",\"tool_events\":{\"id\":\"659990cb-9529-4008-8fe6-8b9f07733a06\",\"type\":\"ToolEvents\"},\"tools\":[{\"id\":\"ae93b207-6c89-4ef8-8958-1eab1e6b137e\",\"type\":\"HoverTool\"},{\"id\":\"2fdb016a-8f6b-4282-b62c-980a2de79bef\",\"type\":\"PanTool\"},{\"id\":\"95bd1cdb-944b-4fa4-baba-b92e7bb02b51\",\"type\":\"BoxZoomTool\"},{\"id\":\"5d08d9f8-d470-4e18-8c42-8c52186b25b9\",\"type\":\"WheelZoomTool\"},{\"id\":\"e4358837-ebb0-4cfd-8ad7-c6c039255f81\",\"type\":\"ResetTool\"},{\"id\":\"82d6fbaa-c8e8-412b-ad73-fa24cbf9a30d\",\"type\":\"ResizeTool\"},{\"id\":\"fc68d9fb-ee4c-4106-a3a1-90085f103572\",\"type\":\"PreviewSaveTool\"}],\"x_range\":{\"id\":\"20ab0eac-5aad-4c1c-9836-cdad7307aed3\",\"type\":\"DataRange1d\"},\"y_range\":{\"id\":\"5a0472d9-2cf4-4162-88bb-29a15ec83f98\",\"type\":\"DataRange1d\"}},\"id\":\"5e9618d9-90a3-426f-904c-86660780caa3\",\"subtype\":\"Figure\",\"type\":\"Plot\"},{\"attributes\":{\"plot\":{\"id\":\"5e9618d9-90a3-426f-904c-86660780caa3\",\"subtype\":\"Figure\",\"type\":\"Plot\"}},\"id\":\"e4358837-ebb0-4cfd-8ad7-c6c039255f81\",\"type\":\"ResetTool\"},{\"attributes\":{},\"id\":\"5c231319-fe07-4baa-b594-417df79133e6\",\"type\":\"BasicTicker\"},{\"attributes\":{\"callback\":null},\"id\":\"20ab0eac-5aad-4c1c-9836-cdad7307aed3\",\"type\":\"DataRange1d\"},{\"attributes\":{\"callback\":null,\"plot\":{\"id\":\"e7ec2631-eb37-4f20-bbdc-3e482d7d169e\",\"subtype\":\"Figure\",\"type\":\"Plot\"},\"tooltips\":[[\"x\",\"@x\"],[\"x\",\"@y\"],[\"Titles\",\"@title\"]]},\"id\":\"a5e94194-d30e-4411-8304-734723aa164f\",\"type\":\"HoverTool\"},{\"attributes\":{\"formatter\":{\"id\":\"956e692c-3a92-4e01-ad6f-5df0857acfcf\",\"type\":\"BasicTickFormatter\"},\"plot\":{\"id\":\"e7ec2631-eb37-4f20-bbdc-3e482d7d169e\",\"subtype\":\"Figure\",\"type\":\"Plot\"},\"ticker\":{\"id\":\"5c231319-fe07-4baa-b594-417df79133e6\",\"type\":\"BasicTicker\"}},\"id\":\"27c83f28-ddb8-41e0-88c5-4cf9398c96ba\",\"type\":\"LinearAxis\"},{\"attributes\":{\"data_source\":{\"id\":\"9c564c61-cbff-46a6-b1f7-62ca0dd6205f\",\"type\":\"ColumnDataSource\"},\"glyph\":{\"id\":\"756deee4-a6ec-4c9d-a40c-04bb9c511897\",\"type\":\"Rect\"},\"hover_glyph\":null,\"nonselection_glyph\":{\"id\":\"e22dc5e8-36b9-4365-bb3e-b2e3e1b11dd1\",\"type\":\"Rect\"},\"selection_glyph\":null},\"id\":\"3971b8ed-ffb2-423c-87e6-c32ba07c06c4\",\"type\":\"GlyphRenderer\"},{\"attributes\":{\"plot\":{\"id\":\"e7ec2631-eb37-4f20-bbdc-3e482d7d169e\",\"subtype\":\"Figure\",\"type\":\"Plot\"}},\"id\":\"517340d4-4dde-4e86-9541-1833e8c1ee1b\",\"type\":\"WheelZoomTool\"},{\"attributes\":{\"formatter\":{\"id\":\"4b9ce6bd-6982-4452-b08e-194bac2754ae\",\"type\":\"BasicTickFormatter\"},\"plot\":{\"id\":\"5e9618d9-90a3-426f-904c-86660780caa3\",\"subtype\":\"Figure\",\"type\":\"Plot\"},\"ticker\":{\"id\":\"6f9bd599-0071-44e0-a021-5b20f902fd94\",\"type\":\"BasicTicker\"}},\"id\":\"703fa848-7c38-4222-afbb-55d374f5a9bb\",\"type\":\"LinearAxis\"},{\"attributes\":{\"dimension\":1,\"plot\":{\"id\":\"5e9618d9-90a3-426f-904c-86660780caa3\",\"subtype\":\"Figure\",\"type\":\"Plot\"},\"ticker\":{\"id\":\"53b64598-f61d-434f-9304-369c14918fe0\",\"type\":\"BasicTicker\"}},\"id\":\"25d2ff11-77a9-4cda-b558-c3820639f704\",\"type\":\"Grid\"},{\"attributes\":{\"dimension\":1,\"plot\":{\"id\":\"e7ec2631-eb37-4f20-bbdc-3e482d7d169e\",\"subtype\":\"Figure\",\"type\":\"Plot\"},\"ticker\":{\"id\":\"5c231319-fe07-4baa-b594-417df79133e6\",\"type\":\"BasicTicker\"}},\"id\":\"93833a59-e309-4e74-a518-f3d356dc941c\",\"type\":\"Grid\"},{\"attributes\":{\"plot\":{\"id\":\"5e9618d9-90a3-426f-904c-86660780caa3\",\"subtype\":\"Figure\",\"type\":\"Plot\"}},\"id\":\"fc68d9fb-ee4c-4106-a3a1-90085f103572\",\"type\":\"PreviewSaveTool\"},{\"attributes\":{\"plot\":{\"id\":\"5e9618d9-90a3-426f-904c-86660780caa3\",\"subtype\":\"Figure\",\"type\":\"Plot\"}},\"id\":\"2fdb016a-8f6b-4282-b62c-980a2de79bef\",\"type\":\"PanTool\"},{\"attributes\":{\"formatter\":{\"id\":\"8feee713-de48-4268-99e7-08c8224dd7c6\",\"type\":\"BasicTickFormatter\"},\"plot\":{\"id\":\"5e9618d9-90a3-426f-904c-86660780caa3\",\"subtype\":\"Figure\",\"type\":\"Plot\"},\"ticker\":{\"id\":\"53b64598-f61d-434f-9304-369c14918fe0\",\"type\":\"BasicTicker\"}},\"id\":\"59f7710c-1acd-45ba-b7f3-f8a41b883fa4\",\"type\":\"LinearAxis\"},{\"attributes\":{},\"id\":\"53b64598-f61d-434f-9304-369c14918fe0\",\"type\":\"BasicTicker\"},{\"attributes\":{\"fill_alpha\":{\"value\":0.1},\"fill_color\":{\"value\":\"#1f77b4\"},\"line_alpha\":{\"value\":0.1},\"line_color\":{\"value\":\"#1f77b4\"},\"size\":{\"units\":\"screen\",\"value\":7},\"x\":{\"field\":\"x\"},\"y\":{\"field\":\"y\"}},\"id\":\"75207a4b-49df-4ed5-9307-988ee086d624\",\"type\":\"Circle\"},{\"attributes\":{},\"id\":\"956e692c-3a92-4e01-ad6f-5df0857acfcf\",\"type\":\"BasicTickFormatter\"},{\"attributes\":{},\"id\":\"6f9bd599-0071-44e0-a021-5b20f902fd94\",\"type\":\"BasicTicker\"},{\"attributes\":{\"callback\":null,\"column_names\":[\"y\",\"x\",\"titles\",\"count\",\"color\"],\"data\":{\"color\":[\"#abd9e9\",\"#4575b4\",\"#fee090\",\"#fee090\",\"#4575b4\",\"#abd9e9\",\"#f46d43\",\"#74add1\",\"#ffffbf\",\"#abd9e9\",\"#313695\",\"#f46d43\",\"#e0f3f8\",\"#e0f3f8\",\"#abd9e9\",\"#abd9e9\",\"#313695\",\"#313695\",\"#74add1\",\"#fee090\",\"#313695\",\"#313695\",\"#d73027\",\"#abd9e9\",\"#fee090\",\"#313695\",\"#ffffbf\",\"#abd9e9\",\"#ffffbf\",\"#ffffbf\",\"#ffffbf\",\"#313695\",\"#313695\",\"#ffffbf\",\"#fee090\",\"#313695\",\"#ffffbf\",\"#fee090\",\"#313695\",\"#e0f3f8\",\"#fee090\",\"#abd9e9\",\"#e0f3f8\",\"#313695\",\"#74add1\",\"#fee090\",\"#313695\",\"#ffffbf\",\"#313695\",\"#74add1\",\"#abd9e9\",\"#313695\",\"#fee090\",\"#313695\",\"#a50026\",\"#4575b4\",\"#fdae61\",\"#ffffbf\",\"#313695\",\"#f46d43\"],\"count\":[6,3,9,9,3,6,12,4,8,5,2,12,7,7,5,6,1,1,4,9,1,2,13,6,9,1,8,6,8,8,8,1,1,8,10,2,8,10,2,7,10,6,7,2,4,10,1,8,1,4,5,1,10,1,14,3,11,8,1,12],\"titles\":[\"Bioconductor for Genomic Data Science || Command Line Tools for Genomic Data Science || Genomic Data Science with Galaxy || Statistics for Genomic Data Science || Introduction to Genomic Technologies || Python for Genomic Data Science\",\"Introduction to Data Science || A Crash Course in Data Science || Data Science Through the Lens of Social Science - VideoLectu\",\"Accounting Analytics || Introduction to People Analytics || Decision-Making and Scenarios || Introduction to Spreadsheets and Models || People Analytics || Mastering Data Analysis in Excel || Customer Analytics || Forensic Accounting and Fraud Examination || Business Metrics for Data-Driven Companies\",\"Operations Analytics || Managing Data Analysis || Increasing Real Estate Management Profits: Harnessing Data A || Data Science in Real Life || Data Visualization and Communication with Tableau || Case studies in business analytics with ACCENTURE || Business Analytics Capstone || Wharton Business and Financial Modeling Capstone || Foundations of strategic business analytics\",\"Communicating Data Science Results || Building a Data Science Team || Process Mining: Data science in Action\",\"Data Analysis and Interpretation Capstone || Data Science at Scale - Capstone Project || Executive Data Science Capstone || Big Data - Capstone Project || Capstone: Geospatial Analysis || Data Science Capstone\",\"Python Data Structures || Data Management and Visualization || Exploratory Data Analysis || Developing Data Products || Machine Learning: Recommender Systems & Dimensionality Reduc || Using Databases with Python || Capstone: Retrieving, Processing, and Visualizing Data with  || Introduction to Recommender Systems || Healthcare Data Visualization || Computing in Parallel With Python and Visualizing the Result || Visual features II - VideoLectures.NET || Visual features: From Fourier to Gabor - VideoLectures.NET\",\"Real-Time Analytics with Apache Storm || Data Visualization || Principles of fMRI 1 || Getting and Cleaning Data\",\"Managing Big Data with MySQL || Relational Database Support for Data Warehouses || Data Warehouse Concepts, Design, and Data Integration || Business Intelligence Concepts, Tools, and Applications || Modeling Risk and Realities || Design and Build a Data Warehouse for Business Intelligence  || Database Management Essentials || Fundamentals of Quantitative Modeling\",\"Machine Learning Capstone: An Intelligent Application with D || Deep Learning for Machine Vision - VideoLectures.NET || Deep Learning - VideoLectures.NET || Tutorial on Learning Deep Architectures - VideoLectures.NET || Scaling Up Deep Learning - VideoLectures.NET\",\"A/B Testing || Data Wrangling with MongoDB\",\"Intro to Computer Science || Data Visualization and D3.js || Intro to Machine Learning || Intro to Hadoop and MapReduce || Intro to Data Analysis || Intro to Data Science || Data Analysis with R || Intro to Descriptive Statistics || Intro to Inferential Statistics || Model Building and Validation || Intro to Statistics || Machine Learning\",\"Deep Learning || NLP and Deep Learning 1: Human Language & Word Vectors\\t - Vi || Deep NLP Recurrent Neural Networks - VideoLectures.NET || Deep Belief Networks  - VideoLectures.NET || Deep\\tNLP Applications and Dynamic Memory Networks - VideoLec || Training Deep Neural Networks - VideoLectures.NET || NLP and Deep Learning 2: Compositional Deep Learning\\t - Vide\",\"Speech Recognition and Deep Learning - VideoLectures.NET || Deep Learning (hopefully faster)\\t - VideoLectures.NET || Deep Learning for Distribution Estimation - VideoLectures.NE || Deep\\tLearning:Theoretical Motivations - VideoLectures.NET || Deep Generative Models - VideoLectures.NET || Deep Learning 2 - VideoLectures.NET || Seeing People with Deep Learning - VideoLectures.NET\",\"Bayesian or Frequentist, Which Are You? - VideoLectures.NET || Learning Bayesian Networks - VideoLectures.NET || Bayesian Nonparametrics - VideoLectures.NET || Introduction to Reinforcement Learning and Bayesian learning || Model-based Bayesian RL - VideoLectures.NET\",\"Tutorial on Neural Network Optimization Problems - VideoLect || Convex Optimization in Python with CVXPY - VideoLectures.NET || Smooth, Finite, and Convex Optimization Deep Learning Summer || Non Smooth, Non Finite, and Non Convex Optimization - VideoL || Multilayer Neural Networks - VideoLectures.NET || Multilayer Neural Networks - VideoLectures.NET\",\"The Battle for the Future of Data Mining - VideoLectures.NET\",\"Nonparametric Bayesian Models - VideoLectures.NET\",\"Modern Nonparametric Statistics on Modern Big Data - VideoLe || Dirichlet Processes: Tutorial and Practical Course - VideoLe || Recent Advances in Bayesian Methods - VideoLectures.NET || Foundations of Nonparametric Bayesian Methods  - VideoLectur\",\"Statistical Inference || Data Analysis and Statistical Inference  || Discrete Inference and Learning in Artificial Vision || Approximate Inference - VideoLectures.NET || High-dimensional Statistics: Prediction, Association and Cau || Sequential Monte-Carlo Methods - VideoLectures.NET || Causal Inference as Computational Learning - VideoLectures.N || Foundations of Statistical Learning Theory : Empirical Infe- || Causality - VideoLectures.NET\",\"Inference in Graphical Models - VideoLectures.NET\",\"Practical Predictive Analytics: Models and Methods || Latent Factor Models for Relational Arrays and Network Data \",\"Data Analysis Tools || Mathematical Biostatistics Boot Camp 2 || Passion Driven Statistics || Statistics One || Introduction to Statistics for the Social Sciences || R Programming || Basic Statistics || Preparing for the AP* Statistics Exam || Inferential Statistics || Designing, Running, and Analyzing Experiments || Teaching Statistical Thinking: Part 1 Descriptive Statistics || Statistical Reasoning for Public Health 1: Estimation, Infer || An Introduction to Statistical Relational Learning - VideoLe\",\"Dirichlet Processes and Nonparametric Bayesian Modelling - V || Bayesian Time Series Modeling: Structured Representations fo || Bayesian Inference - VideoLectures.NET || Introduction To Bayesian Inference - VideoLectures.NET || Probability, Information Theory and Bayesian Inference - Vid || Bayesian inference and Gaussian processes - VideoLectures.NE\",\"Probabilistic Graphical Models || Undirected Graphical Models - VideoLectures.NET || Introduction to Graphical Models for Data Mining - VideoLect || Graphical Models and message-passing algorithms - VideoLectu || Graphical Models - VideoLectures.NET || Graphical models - VideoLectures.NET || Machine Learning, Probability and Graphical Models - VideoLe || Probabilistic Graphical Models and Structured Prediction - V || Introduction to Graphical Models - VideoLectures.NET\",\"Advances in Structured Prediction - VideoLectures.NET\",\"Machine Learning || Machine learning for cognitive science 1: What is machine le || Introduction To Statistical Machine Learning - VideoLectures || Introduction to Machine Learning - VideoLectures.NET || Machine learning for cognitive science 2: Bayesian methods a || Tutorial on Statistical Machine Learning with Applications t || Introduction to Statistical Machine Learning - VideoLectures || Group Theory in Machine Learning - VideoLectures.NET\",\"Natural Language Processing || Natural Language Processing || Introduction to Natural Language Processing || Neural Networks for Machine Learning || Document Analysis - VideoLectures.NET || From Language Modelling to Machine Translation - VideoLectur\",\"Machine Learning || Machine Learning: Classification || Machine Learning With Big Data || Practical Machine Learning || Machine Learning Foundations: A Case Study Approach || Machine Learning for Data Analysis || Introduction to Machine Learning - VideoLectures.NET || Support Vector Machines - VideoLectures.NET\",\"Kernel Methods - VideoLectures.NET || ML in Bioinformatics  - VideoLectures.NET || Theory and Applications of Kernel Space - VideoLectures.NET ||  Kernel methods and Support Vector Machines - VideoLectures. || Kernels and Gaussian Processes - VideoLectures.NET || Kernel methods for integrating biological data - VideoLectur || Gaussian Processes - VideoLectures.NET || Kernel Methods and Support Vector Machines - VideoLectures.N\",\"Submodularity in Machine Learning and Vision - VideoLectures || Data, Predictions, and Decisions in Support of People and So || Adversarial bandit problems: the power of randomization - Vi || Stacks of Restricted Boltzmann Machines - VideoLectures.NET || Algorithms for Predicting Structured Data - VideoLectures.NE || Algorithms for Interpretable Machine Learning - VideoLecture || Foundations of Machine Learning - VideoLectures.NET || Structured Prediction for Natural Language Processing - Vide\",\"Machine learning for cognitive science 3: Kernel methods and\",\"Gaussian Processes and Gene Regulation  - VideoLectures.NET\",\"Regression Models || Applied Regression Analysis || Statistical Reasoning for Public Health 2: Regression Method || Core Concepts in Data Analysis || Computational Methods for Data Analysis || Regression Modeling in Practice || Independent Component Analysis - VideoLectures.NET || Exponential Families - VideoLectures.NET\",\"The Regularization Frontier in Machine Learning - VideoLectu || From Trees to Forests and Rule Sets - A Unified Overview of  || Cost-sensitive Classification: Algorithms and Advances - Vid || Sparse methods for machine learning: Theory and algorithms - || Tutorial on Machine Learning Reductions - VideoLectures.NET || Sparse Methods for Machine Learning: Theory and Algorithms - || Sparse Methods for Under-determined Inverse Problems - Video || Survey of Boosting from an Optimization Perspective - VideoL || Boosting - VideoLectures.NET || Optimization Algorithms in Machine Learning - VideoLectures.\",\"Introduction to Machine Learning - VideoLectures.NET || Machine Learning and Signal Processing Tools for BCI - Video\",\"Discrete Optimization || Machine Learning: Regression || Coding the Matrix: Linear Algebra through Computer Science A || Linear and Discrete Optimization || Monte-Carlo Planning: Basic Principles and Recent Progress - || Making Very Large-Scale Linear Algebraic Computations Possib || Learning through Exploration - VideoLectures.NET || Optimization in Learning and Data Analysis - VideoLectures.N\",\"PAC-Bayesian Analysis and Its Applications - VideoLectures.N || Bounding Excess Risk in Machine Learning - VideoLectures.NET || Modern Convex Optimization Methods for Large-scale Empirical || Pattern Classification and Large Margin Classifiers - VideoL || PAC-Bayesian Bounds and Aggregation - VideoLectures.NET || Active Learning - VideoLectures.NET || Unsupervised learning - VideoLectures.NET || Learning with Dependencies between Several Response Variable || Theory, Methods and Applications of Active Learning - VideoL || Semi-Supervised Learning - VideoLectures.NET\",\"Cluster Analysis in Data Mining || Data mining and Machine learning algorithms - VideoLectures.\",\"Machine Learning: Clustering & Retrieval || New Developments in the Theory of Clustering - VideoLectures || Big Data Clustering - VideoLectures.NET || Correlation Clustering: From Theory to Practice - VideoLectu || Game Theory & Clustering - VideoLectures.NET || Analysis of Clustering Procedures - VideoLectures.NET || Lectures on Clustering - VideoLectures.NET\",\"Reinforcement Learning || Reinforcement Learning - VideoLectures.NET || Deep Reinforcement Learning - VideoLectures.NET || Reinforcement Learning - VideoLectures.NET || Reinforcement Learning in Humans and Other Animals - VideoLe || Reinforcement Learning for Embodied Cognition  - VideoLectur || Introduction to Reinforcement Learning - VideoLectures.NET || Model-Based Reinforcement Learning - VideoLectures.NET || Basics of Computational Reinforcement Learning - VideoLectur || Reinforcement learning - VideoLectures.NET\",\"Artificial Intelligence Planning || PAC-Bayes Theory in Supervised Learning - VideoLectures.NET || Learning Theory - VideoLectures.NET || Learning Theory - VideoLectures.NET || Introduction to Learning Theory - VideoLectures.NET || Information Theory - VideoLectures.NET\",\"Mining Massive Datasets || Constructing and Mining Web-Scale Knowledge Graphs - VideoLe || Query Log Mining - VideoLectures.NET || Distributed, Real-Time Bayesian Learning in Online Service - || Statistical Modeling of Relational Data - VideoLectures.NET || A Data Scientist\\u2019s Guide to Making Money from Start-ups -  || Mining Massive RFID, Trajectory, and Traffic Data Sets - Vid\",\"Mining Heterogeneous Information Networks - VideoLectures.NE || Mining Heterogeneous Information Networks - VideoLectures.NE\",\"Social and Economic Networks:  Models and Analysis || Capstone: Analyzing (Social) Network Data || Social Network Analysis || Network Mining and Analysis for Social Applications - VideoL\",\"Pattern Discovery in Data Mining || Contrast Data Mining: Methods and Applications  - VideoLectu || Mining Sets of Patterns - VideoLectures.NET || Data Mining - VideoLectures.NET || Text Mining, Information and Fact Extraction (TMIFE) - Video || Statistical Aspects of Pattern Analysis - VideoLectures.NET || A framework for pattern analysis - VideoLectures.NET || Statistically Sound Pattern Discovery  - VideoLectures.NET || Semantic Data Mining - VideoLectures.NET || Natural Language Understanding: Foundations and State-of-the\",\"Computational Social Science - VideoLectures.NET\",\"Web Intelligence and Big Data || Measuring Causal Effects in the Social Sciences || The Importance of Listening || Understanding China, 1700-2000: A Data Analytic Approach, Pa || Bringing Structure to Text: Mining Phrases, Entity Concepts, || Recommendation in Social Media  - VideoLectures.NET || Citizen Sensor Data Mining, Social Media Analytics and Devel || Mining Complex Entities from Heterogeneous Information Netwo\",\"Machine Learning with Knowledge Graphs - VideoLectures.NET\",\"Principles of Very Large Scale Modeling - VideoLectures.NET || Practical Statistical Relational Learning - VideoLectures.NE || Sampling for Big Data - VideoLectures.NET || Mining Uncertain and Probabilistic Data: problems, Challenge\",\"Bugbears or Legitimate Threats? (Social) Scientists' Critici || Geometric Tools for Graph Mining of Large Social and Informa || Convolutional Networks - VideoLectures.NET || Can cascades be predicted? - VideoLectures.NET || Understanding and Managing Cascades on Large Graphs - VideoL\",\"Data analytics involving text - VideoLectures.NET\",\"Digital Analytics for Marketing Professionals: Marketing Ana || Applied Logistic Regression || Text Mining and Analytics || Big Data Analytics for Healthcare || Graph Analytics for Big Data || Data Manipulation at Scale: Systems and Algorithms || Marketing Analytics || Practical Learning Analytics ||  Large-scale Data Mining: MapReduce and Beyond - VideoLectur || Scale-out Beyond MapReduce - VideoLectures.NET\",\"Vowpal Wabbit - VideoLectures.NET\",\"Probability || Experimentation for Improvement || Reproducible Research || Understanding Clinical Research: Behind the Statistics || Learning to Compare - VideoLectures.NET || Learning with Probabilities - VideoLectures.NET || Event Detection - VideoLectures.NET || Temporal Pattern Mining in Symbolic Time Point and Time Inte || Data Mining for Anomaly Detection - VideoLectures.NET || Semantic technology empowering real world outcomes in biomed || Variational Autoencoder and Extensions - VideoLectures.NET || On manifolds and autoencoders - VideoLectures.NET || Indexing and Mining Time Sequences - VideoLectures.NET || Medicine in the Age of Electronic Health Records - VideoLect\",\"Qualitative Research Methods || Econometrics: Methods and Applications || Topic Models - VideoLectures.NET\",\"Interprofessional Healthcare Informatics  || Introduction to Recommender Systems || Evolving Systems - VideoLectures.NET || Recommender Problems for Web Applications - VideoLectures.NE || Mining complex dynamic data - VideoLectures.NET || Bridging the gap between machines and people - VideoLectures || The Recommender Problem Revisited - VideoLectures.NET || Policy Search: Methods and Applications - VideoLectures.NET || State of the Art in Data Stream Mining - VideoLectures.NET || Mining Big Data in Real Time - VideoLectures.NET || Adversarial Examples - VideoLectures.NET\",\"Algorithms for DNA Sequencing || Capstone:  Create Value from Open Data || ORANGE: Data Mining Fruitful and Fun - VideoLectures.NET || Markov Chain Monte Carlo - VideoLectures.NET || Memory, Reading, and Comprehension - VideoLectures.NET || Preference Learning - VideoLectures.NET || Monte Carlo Simulation for Statistical Inference, Model Sele || Monte Carlo Methods - VideoLectures.NET\",\"The Caltech-JPL Summer School on Big Data Analytics\",\"Introduction to Big Data || Statistics: Making Sense of Data || Introduction to Big Data Analytics || Hadoop Platform and Application Framework || Text Retrieval and Search Engines || Introduction to Search Engine Optimization || Big Data Science with the BD2K-LINCS Data Coordination and I || The Data Scientist\\u2019s Toolbox || Case-Based Introduction to Biostatistics || Why Big Data Matters - a lot - VideoLectures.NET || Security, Privacy and Big Data Standards - VideoLectures.NET || Big-Data Tutorial - VideoLectures.NET\"],\"x\":[0,0,0,1,1,1,2,2,2,3,3,3,4,4,5,5,5,6,6,6,7,7,7,7,8,8,8,9,9,10,10,10,11,11,11,12,12,12,13,13,13,14,14,15,15,15,16,16,16,16,17,17,17,18,18,18,18,19,19,19],\"y\":[1,2,4,0,2,3,1,2,4,0,2,3,1,4,0,2,4,0,1,3,0,1,2,4,0,1,3,1,4,0,2,4,0,1,3,0,2,4,0,1,3,2,4,0,1,3,1,2,3,4,0,2,3,0,1,2,4,0,2,3]}},\"id\":\"9c564c61-cbff-46a6-b1f7-62ca0dd6205f\",\"type\":\"ColumnDataSource\"},{\"attributes\":{\"fill_color\":{\"field\":\"color\"},\"height\":{\"units\":\"data\",\"value\":1},\"line_color\":{\"value\":\"white\"},\"width\":{\"units\":\"data\",\"value\":1},\"x\":{\"field\":\"x\"},\"y\":{\"field\":\"y\"}},\"id\":\"756deee4-a6ec-4c9d-a40c-04bb9c511897\",\"type\":\"Rect\"},{\"attributes\":{\"callback\":null},\"id\":\"c0b60c0c-31ed-422a-af05-926bb1c1a098\",\"type\":\"DataRange1d\"},{\"attributes\":{\"plot\":{\"id\":\"e7ec2631-eb37-4f20-bbdc-3e482d7d169e\",\"subtype\":\"Figure\",\"type\":\"Plot\"}},\"id\":\"59de10eb-b4a0-42b9-8a6e-193c6908d8ea\",\"type\":\"ResizeTool\"},{\"attributes\":{\"callback\":null},\"id\":\"5a0472d9-2cf4-4162-88bb-29a15ec83f98\",\"type\":\"DataRange1d\"},{\"attributes\":{\"data_source\":{\"id\":\"ea3c6422-4676-476c-92ac-6f5d2b8f8a50\",\"type\":\"ColumnDataSource\"},\"glyph\":{\"id\":\"201f5782-481b-43c7-bbb6-4ecfeb5f7669\",\"type\":\"Circle\"},\"hover_glyph\":null,\"nonselection_glyph\":{\"id\":\"75207a4b-49df-4ed5-9307-988ee086d624\",\"type\":\"Circle\"},\"selection_glyph\":null},\"id\":\"4739ff9a-15b7-4911-9bd5-01588510edd2\",\"type\":\"GlyphRenderer\"},{\"attributes\":{\"formatter\":{\"id\":\"562f8378-d154-4b82-aa7a-e12006567532\",\"type\":\"BasicTickFormatter\"},\"plot\":{\"id\":\"e7ec2631-eb37-4f20-bbdc-3e482d7d169e\",\"subtype\":\"Figure\",\"type\":\"Plot\"},\"ticker\":{\"id\":\"1586eb61-d54e-41aa-9f20-d49bbb47a7e3\",\"type\":\"BasicTicker\"}},\"id\":\"947bb1fd-c23e-4a17-be74-d2f4c76380cb\",\"type\":\"LinearAxis\"},{\"attributes\":{},\"id\":\"8feee713-de48-4268-99e7-08c8224dd7c6\",\"type\":\"BasicTickFormatter\"},{\"attributes\":{\"overlay\":{\"id\":\"9eb89912-b9f6-481d-b3b9-e73ee977275b\",\"type\":\"BoxAnnotation\"},\"plot\":{\"id\":\"5e9618d9-90a3-426f-904c-86660780caa3\",\"subtype\":\"Figure\",\"type\":\"Plot\"}},\"id\":\"95bd1cdb-944b-4fa4-baba-b92e7bb02b51\",\"type\":\"BoxZoomTool\"},{\"attributes\":{\"plot\":{\"id\":\"e7ec2631-eb37-4f20-bbdc-3e482d7d169e\",\"subtype\":\"Figure\",\"type\":\"Plot\"}},\"id\":\"e6eca3c4-1d44-45f6-99ef-5a78c8e7a59b\",\"type\":\"PreviewSaveTool\"},{\"attributes\":{\"plot\":{\"id\":\"5e9618d9-90a3-426f-904c-86660780caa3\",\"subtype\":\"Figure\",\"type\":\"Plot\"},\"ticker\":{\"id\":\"6f9bd599-0071-44e0-a021-5b20f902fd94\",\"type\":\"BasicTicker\"}},\"id\":\"a17b4e8e-0af0-4a25-88ad-b4e760f0cce8\",\"type\":\"Grid\"},{\"attributes\":{\"bottom_units\":\"screen\",\"fill_alpha\":{\"value\":0.5},\"fill_color\":{\"value\":\"lightgrey\"},\"left_units\":\"screen\",\"level\":\"overlay\",\"line_alpha\":{\"value\":1.0},\"line_color\":{\"value\":\"black\"},\"line_dash\":[4,4],\"line_width\":{\"value\":2},\"plot\":null,\"render_mode\":\"css\",\"right_units\":\"screen\",\"top_units\":\"screen\"},\"id\":\"9eb89912-b9f6-481d-b3b9-e73ee977275b\",\"type\":\"BoxAnnotation\"},{\"attributes\":{\"callback\":null},\"id\":\"1be6ff2d-d34c-4d33-b8f5-46b3188fe007\",\"type\":\"DataRange1d\"},{\"attributes\":{},\"id\":\"9ffa75af-86f2-4069-8457-5ea1e56380a4\",\"type\":\"ToolEvents\"},{\"attributes\":{\"overlay\":{\"id\":\"3f0ea0c0-ee07-4c62-9684-70058b850093\",\"type\":\"BoxAnnotation\"},\"plot\":{\"id\":\"e7ec2631-eb37-4f20-bbdc-3e482d7d169e\",\"subtype\":\"Figure\",\"type\":\"Plot\"}},\"id\":\"8e2e3db4-77b7-4c3f-bf2d-2e8d8618d540\",\"type\":\"BoxZoomTool\"},{\"attributes\":{\"plot\":{\"id\":\"5e9618d9-90a3-426f-904c-86660780caa3\",\"subtype\":\"Figure\",\"type\":\"Plot\"}},\"id\":\"5d08d9f8-d470-4e18-8c42-8c52186b25b9\",\"type\":\"WheelZoomTool\"},{\"attributes\":{\"plot\":{\"id\":\"e7ec2631-eb37-4f20-bbdc-3e482d7d169e\",\"subtype\":\"Figure\",\"type\":\"Plot\"},\"ticker\":{\"id\":\"1586eb61-d54e-41aa-9f20-d49bbb47a7e3\",\"type\":\"BasicTicker\"}},\"id\":\"4d75e89d-311c-4b94-aa8d-5b1082a26f1f\",\"type\":\"Grid\"},{\"attributes\":{\"callback\":null,\"plot\":{\"id\":\"5e9618d9-90a3-426f-904c-86660780caa3\",\"subtype\":\"Figure\",\"type\":\"Plot\"},\"tooltips\":\"\\n            <div>\\n                <span style=\\\"font-size: 10px; width: 200px; display: block;\\\">@titles</span>\\n            </div>\\n            \"},\"id\":\"ae93b207-6c89-4ef8-8958-1eab1e6b137e\",\"type\":\"HoverTool\"},{\"attributes\":{\"plot\":{\"id\":\"5e9618d9-90a3-426f-904c-86660780caa3\",\"subtype\":\"Figure\",\"type\":\"Plot\"}},\"id\":\"82d6fbaa-c8e8-412b-ad73-fa24cbf9a30d\",\"type\":\"ResizeTool\"},{\"attributes\":{\"bottom_units\":\"screen\",\"fill_alpha\":{\"value\":0.5},\"fill_color\":{\"value\":\"lightgrey\"},\"left_units\":\"screen\",\"level\":\"overlay\",\"line_alpha\":{\"value\":1.0},\"line_color\":{\"value\":\"black\"},\"line_dash\":[4,4],\"line_width\":{\"value\":2},\"plot\":null,\"render_mode\":\"css\",\"right_units\":\"screen\",\"top_units\":\"screen\"},\"id\":\"3f0ea0c0-ee07-4c62-9684-70058b850093\",\"type\":\"BoxAnnotation\"},{\"attributes\":{},\"id\":\"4b9ce6bd-6982-4452-b08e-194bac2754ae\",\"type\":\"BasicTickFormatter\"},{\"attributes\":{\"background_fill_color\":{\"value\":\"#DFDFE5\"},\"below\":[{\"id\":\"947bb1fd-c23e-4a17-be74-d2f4c76380cb\",\"type\":\"LinearAxis\"}],\"left\":[{\"id\":\"27c83f28-ddb8-41e0-88c5-4cf9398c96ba\",\"type\":\"LinearAxis\"}],\"plot_height\":450,\"plot_width\":650,\"renderers\":[{\"id\":\"947bb1fd-c23e-4a17-be74-d2f4c76380cb\",\"type\":\"LinearAxis\"},{\"id\":\"4d75e89d-311c-4b94-aa8d-5b1082a26f1f\",\"type\":\"Grid\"},{\"id\":\"27c83f28-ddb8-41e0-88c5-4cf9398c96ba\",\"type\":\"LinearAxis\"},{\"id\":\"93833a59-e309-4e74-a518-f3d356dc941c\",\"type\":\"Grid\"},{\"id\":\"3f0ea0c0-ee07-4c62-9684-70058b850093\",\"type\":\"BoxAnnotation\"},{\"id\":\"4739ff9a-15b7-4911-9bd5-01588510edd2\",\"type\":\"GlyphRenderer\"}],\"tool_events\":{\"id\":\"9ffa75af-86f2-4069-8457-5ea1e56380a4\",\"type\":\"ToolEvents\"},\"tools\":[{\"id\":\"985eb9a1-d626-480d-ae96-f98e85c5efb5\",\"type\":\"PanTool\"},{\"id\":\"517340d4-4dde-4e86-9541-1833e8c1ee1b\",\"type\":\"WheelZoomTool\"},{\"id\":\"8e2e3db4-77b7-4c3f-bf2d-2e8d8618d540\",\"type\":\"BoxZoomTool\"},{\"id\":\"e6eca3c4-1d44-45f6-99ef-5a78c8e7a59b\",\"type\":\"PreviewSaveTool\"},{\"id\":\"59de10eb-b4a0-42b9-8a6e-193c6908d8ea\",\"type\":\"ResizeTool\"},{\"id\":\"e74de7a5-7945-4d18-a968-6bd549fc5aaa\",\"type\":\"ResetTool\"},{\"id\":\"045ca555-587f-4d91-b316-860b9fb4baf9\",\"type\":\"HelpTool\"},{\"id\":\"a5e94194-d30e-4411-8304-734723aa164f\",\"type\":\"HoverTool\"}],\"x_range\":{\"id\":\"c0b60c0c-31ed-422a-af05-926bb1c1a098\",\"type\":\"DataRange1d\"},\"y_range\":{\"id\":\"1be6ff2d-d34c-4d33-b8f5-46b3188fe007\",\"type\":\"DataRange1d\"}},\"id\":\"e7ec2631-eb37-4f20-bbdc-3e482d7d169e\",\"subtype\":\"Figure\",\"type\":\"Plot\"},{\"attributes\":{\"plot\":{\"id\":\"e7ec2631-eb37-4f20-bbdc-3e482d7d169e\",\"subtype\":\"Figure\",\"type\":\"Plot\"}},\"id\":\"045ca555-587f-4d91-b316-860b9fb4baf9\",\"type\":\"HelpTool\"},{\"attributes\":{},\"id\":\"659990cb-9529-4008-8fe6-8b9f07733a06\",\"type\":\"ToolEvents\"},{\"attributes\":{\"fill_alpha\":{\"value\":0.5},\"fill_color\":{\"value\":\"#1f77b4\"},\"line_alpha\":{\"value\":0.5},\"line_color\":{\"value\":\"#1f77b4\"},\"size\":{\"units\":\"screen\",\"value\":7},\"x\":{\"field\":\"x\"},\"y\":{\"field\":\"y\"}},\"id\":\"201f5782-481b-43c7-bbb6-4ecfeb5f7669\",\"type\":\"Circle\"},{\"attributes\":{},\"id\":\"562f8378-d154-4b82-aa7a-e12006567532\",\"type\":\"BasicTickFormatter\"},{\"attributes\":{\"callback\":null,\"column_names\":[\"y\",\"x\",\"index\",\"title\"],\"data\":{\"index\":[0,1,2,3,4,5,6,7,8,9,10,11,12,13,14,15,16,17,18,19,20,21,22,23,24,25,26,27,28,29,30,31,32,33,34,35,36,37,38,39,40,41,42,43,44,45,46,47,48,49,50,51,52,53,54,55,56,57,58,59,60,61,62,63,64,65,66,67,68,69,70,71,72,73,74,75,76,77,78,79,80,81,82,83,84,85,86,87,88,89,90,91,92,93,94,95,96,97,98,99,100,101,102,103,104,105,106,107,108,109,110,111,112,113,114,115,116,117,118,119,120,121,122,123,124,125,126,127,128,129,130,131,132,133,134,135,136,137,138,139,140,141,142,143,144,145,146,147,148,149,150,151,152,153,154,155,156,157,158,159,160,161,162,163,164,165,166,167,168,169,170,171,172,173,174,175,176,177,178,179,180,181,182,183,184,185,186,187,188,189,190,191,192,193,194,195,196,197,198,199,200,201,202,203,204,205,206,207,208,209,210,211,212,213,214,215,216,217,218,219,220,221,222,223,224,225,226,227,228,229,230,231,232,233,234,235,236,237,238,239,240,241,242,243,244,245,246,247,248,249,250,251,252,253,254,255,256,257,258,259,260,261,262,263,264,265,266,267,268,269,270,271,272,273,274,275,276,277,278,279,280,281,282,283,284,285,286,287,288,289,290,291,292,293,294,295,296,297,298,299,300,301,302,303,304,305,306,307,308,309,310,311,312,313,314,315,316,317,318,319,320,321,322,323,324,325,326,327,328,329,330,331,332,333,334,335,336,337,338,339,340,341,342,343,344,345,346,347,348,349,350,351,352,353,354,355,356],\"title\":[\"Intro to Computer Science\",\"A/B Testing\",\"Data Visualization and D3.js\",\"Intro to Machine Learning\",\"Intro to Hadoop and MapReduce\",\"Real-Time Analytics with Apache Storm\",\"Intro to Data Analysis\",\"Intro to Data Science\",\"Data Analysis with R\",\"Intro to Descriptive Statistics\",\"Intro to Inferential Statistics\",\"Reinforcement Learning\",\"Data Wrangling with MongoDB\",\"Model Building and Validation\",\"Deep Learning\",\"Intro to Statistics\",\"Machine Learning\",\"Introduction to Big Data\",\"Machine Learning Capstone: An Intelligent Application with Deep Learning\",\"Accounting Analytics\",\"Discrete Optimization\",\"Data Analysis Tools\",\"Machine Learning\",\"Python Data Structures\",\"The Caltech-JPL Summer School on Big Data Analytics\",\"Bioconductor for Genomic Data Science\",\"Mining Massive Datasets\",\"Qualitative Research Methods\",\"Regression Models\",\"Managing Big Data with MySQL\",\"Statistics: Making Sense of Data\",\"Data Management and Visualization\",\"Web Intelligence and Big Data\",\"Social and Economic Networks:  Models and Analysis\",\"Relational Database Support for Data Warehouses\",\"Mathematical Biostatistics Boot Camp 2\",\"Measuring Causal Effects in the Social Sciences\",\"Operations Analytics\",\"Data Analysis and Interpretation Capstone\",\"Passion Driven Statistics\",\"Exploratory Data Analysis\",\"Introduction to People Analytics\",\"Developing Data Products\",\"The Importance of Listening\",\"Machine Learning: Recommender Systems & Dimensionality Reduction\",\"Introduction to Big Data Analytics\",\"Managing Data Analysis\",\"Machine Learning: Classification\",\"Command Line Tools for Genomic Data Science\",\"Digital Analytics for Marketing Professionals: Marketing Analytics in Practice\",\"Data Visualization\",\"Applied Logistic Regression\",\"Text Mining and Analytics\",\"Data Warehouse Concepts, Design, and Data Integration\",\"Decision-Making and Scenarios\",\"Understanding China, 1700-2000: A Data Analytic Approach, Part 2\",\"Artificial Intelligence Planning\",\"Machine Learning With Big Data\",\"Big Data Analytics for Healthcare\",\"Capstone: Analyzing (Social) Network Data\",\"Introduction to Spreadsheets and Models\",\"Algorithms for DNA Sequencing\",\"Natural Language Processing\",\"Communicating Data Science Results\",\"Data Science at Scale - Capstone Project\",\"Graph Analytics for Big Data\",\"Statistical Inference\",\"Executive Data Science Capstone\",\"Probability\",\"Increasing Real Estate Management Profits: Harnessing Data Analytics\",\"Natural Language Processing\",\"Applied Regression Analysis\",\"Statistical Reasoning for Public Health 2: Regression Methods\",\"Data Manipulation at Scale: Systems and Algorithms\",\"Introduction to Data Science\",\"People Analytics\",\"Machine Learning\",\"Hadoop Platform and Application Framework\",\"Pattern Discovery in Data Mining\",\"Using Databases with Python\",\"Social Network Analysis\",\"Cluster Analysis in Data Mining\",\"Genomic Data Science with Galaxy\",\"Capstone:  Create Value from Open Data\",\"Probabilistic Graphical Models\",\"Business Intelligence Concepts, Tools, and Applications\",\"Statistics One\",\"Machine Learning: Regression\",\"Introduction to Statistics for the Social Sciences\",\"Modeling Risk and Realities\",\"Data Science in Real Life\",\"Design and Build a Data Warehouse for Business Intelligence Implementation\",\"Practical Machine Learning\",\"Data Analysis and Statistical Inference \",\"Big Data - Capstone Project\",\"R Programming\",\"Data Visualization and Communication with Tableau\",\"Experimentation for Improvement\",\"Marketing Analytics\",\"Econometrics: Methods and Applications\",\"Interprofessional Healthcare Informatics \",\"Capstone: Geospatial Analysis\",\"Mastering Data Analysis in Excel\",\"Reproducible Research\",\"Core Concepts in Data Analysis\",\"Text Retrieval and Search Engines\",\"Basic Statistics\",\"Coding the Matrix: Linear Algebra through Computer Science Applications\",\"Machine Learning: Clustering & Retrieval\",\"Principles of fMRI 1\",\"Case studies in business analytics with ACCENTURE\",\"Practical Learning Analytics\",\"Introduction to Search Engine Optimization\",\"Building a Data Science Team\",\"Business Analytics Capstone\",\"Capstone: Retrieving, Processing, and Visualizing Data with Python\",\"Big Data Science with the BD2K-LINCS Data Coordination and Integration Center\",\"Data Science Capstone\",\"Understanding Clinical Research: Behind the Statistics\",\"Database Management Essentials\",\"Practical Predictive Analytics: Models and Methods\",\"The Data Scientist\\u2019s Toolbox\",\"Statistics for Genomic Data Science\",\"Introduction to Natural Language Processing\",\"Wharton Business and Financial Modeling Capstone\",\"Case-Based Introduction to Biostatistics\",\"Linear and Discrete Optimization\",\"A Crash Course in Data Science\",\"Introduction to Recommender Systems\",\"Computational Methods for Data Analysis\",\"Preparing for the AP* Statistics Exam\",\"Introduction to Genomic Technologies\",\"Regression Modeling in Practice\",\"Machine Learning Foundations: A Case Study Approach\",\"Customer Analytics\",\"Fundamentals of Quantitative Modeling\",\"Foundations of strategic business analytics\",\"Getting and Cleaning Data\",\"Forensic Accounting and Fraud Examination\",\"Machine Learning for Data Analysis\",\"Introduction to Recommender Systems\",\"Discrete Inference and Learning in Artificial Vision\",\"Inferential Statistics\",\"Designing, Running, and Analyzing Experiments\",\"Healthcare Data Visualization\",\"Process Mining: Data science in Action\",\"Business Metrics for Data-Driven Companies\",\"Neural Networks for Machine Learning\",\"Python for Genomic Data Science\",\"Teaching Statistical Thinking: Part 1 Descriptive Statistics\",\"Statistical Reasoning for Public Health 1: Estimation, Inference, & Interpretation\",\"Deep Learning for Machine Vision - VideoLectures.NET\",\"Introduction to Machine Learning - VideoLectures.NET\",\"Modern Nonparametric Statistics on Modern Big Data - VideoLectures.NET\",\"Contrast Data Mining: Methods and Applications  - VideoLectures.NET\",\"Principles of Very Large Scale Modeling - VideoLectures.NET\",\"Constructing and Mining Web-Scale Knowledge Graphs - VideoLectures.NET\",\"Dirichlet Processes and Nonparametric Bayesian Modelling - VideoLectures.NET\",\"Inference in Graphical Models - VideoLectures.NET\",\"Advances in Structured Prediction - VideoLectures.NET\",\"Data mining and Machine learning algorithms - VideoLectures.NET\",\"Machine learning for cognitive science 1: What is machine learning? - VideoLectures.NET\",\"Mining Sets of Patterns - VideoLectures.NET\",\"Nonparametric Bayesian Models - VideoLectures.NET\",\"Data Mining - VideoLectures.NET\",\"New Developments in the Theory of Clustering - VideoLectures.NET\",\"Bayesian Time Series Modeling: Structured Representations for Scalability - VideoLectures.NET\",\"Tutorial on Neural Network Optimization Problems - VideoLectures.NET\",\"The Regularization Frontier in Machine Learning - VideoLectures.NET\",\"Kernel Methods - VideoLectures.NET\",\"Text Mining, Information and Fact Extraction (TMIFE) - VideoLectures.NET\",\"Convex Optimization in Python with CVXPY - VideoLectures.NET\",\"Reinforcement Learning - VideoLectures.NET\",\"Speech Recognition and Deep Learning - VideoLectures.NET\",\"From Trees to Forests and Rule Sets - A Unified Overview of Ensemble Methods - VideoLectures.NET\",\"Deep Learning (hopefully faster)\\t - VideoLectures.NET\",\"Computing in Parallel With Python and Visualizing the Results - VideoLectures.NET\",\"Bugbears or Legitimate Threats? (Social) Scientists' Criticisms of Machine Learning - VideoLectures.NET\",\"Monte-Carlo Planning: Basic Principles and Recent Progress - VideoLectures.NET\",\"Approximate Inference - VideoLectures.NET\",\"Visual features II - VideoLectures.NET\",\"Mining Heterogeneous Information Networks - VideoLectures.NET\",\"Making Very Large-Scale Linear Algebraic Computations Possible Via Randomization - VideoLectures.NET\",\"Undirected Graphical Models - VideoLectures.NET\",\"Independent Component Analysis - VideoLectures.NET\",\"ML in Bioinformatics  - VideoLectures.NET\",\"Evolving Systems - VideoLectures.NET\",\"Smooth, Finite, and Convex Optimization Deep Learning Summer School - VideoLectures.NET\",\"Big Data Clustering - VideoLectures.NET\",\"PAC-Bayes Theory in Supervised Learning - VideoLectures.NET\",\"Theory and Applications of Kernel Space - VideoLectures.NET\",\"PAC-Bayesian Analysis and Its Applications - VideoLectures.NET\",\"Introduction To Statistical Machine Learning - VideoLectures.NET\",\"Bounding Excess Risk in Machine Learning - VideoLectures.NET\",\"Topic Models - VideoLectures.NET\",\"Deep Reinforcement Learning - VideoLectures.NET\",\"Recommender Problems for Web Applications - VideoLectures.NET\",\"Submodularity in Machine Learning and Vision - VideoLectures.NET\",\"High-dimensional Statistics: Prediction, Association and Causal Inference - VideoLectures.NET\",\"Bayesian Inference - VideoLectures.NET\",\"Modern Convex Optimization Methods for Large-scale Empirical Risk Minimization - VideoLectures.NET\",\"Introduction to Graphical Models for Data Mining - VideoLectures.NET\",\"Deep Learning for Distribution Estimation - VideoLectures.NET\",\"NLP and Deep Learning 1: Human Language & Word Vectors\\t - VideoLectures.NET\",\"Mining complex dynamic data - VideoLectures.NET\",\"Machine learning for cognitive science 3: Kernel methods and Bayesian methods - VideoLectures.NET\",\"Dirichlet Processes: Tutorial and Practical Course - VideoLectures.NET\",\"Deep\\tLearning:Theoretical Motivations - VideoLectures.NET\",\"Graphical Models and message-passing algorithms - VideoLectures.NET\",\"Deep Learning - VideoLectures.NET\",\"Query Log Mining - VideoLectures.NET\",\"Introduction to Machine Learning - VideoLectures.NET\",\"Cost-sensitive Classification: Algorithms and Advances - VideoLectures.NET\",\"Learning to Compare - VideoLectures.NET\",\"Learning Theory - VideoLectures.NET\",\"Bayesian or Frequentist, Which Are You? - VideoLectures.NET\",\"Network Mining and Analysis for Social Applications - VideoLectures.NET\",\"Deep NLP Recurrent Neural Networks - VideoLectures.NET\",\"Learning with Probabilities - VideoLectures.NET\",\"Pattern Classification and Large Margin Classifiers - VideoLectures.NET\",\"Practical Statistical Relational Learning - VideoLectures.NET\",\"Document Analysis - VideoLectures.NET\",\"Statistical Aspects of Pattern Analysis - VideoLectures.NET\",\"Mining Heterogeneous Information Networks - VideoLectures.NET\",\"Why Big Data Matters - a lot - VideoLectures.NET\",\"Sampling for Big Data - VideoLectures.NET\",\"Geometric Tools for Graph Mining of Large Social and Information Networks - VideoLectures.NET\",\"Sequential Monte-Carlo Methods - VideoLectures.NET\",\"Deep Generative Models - VideoLectures.NET\",\"Machine learning for cognitive science 2: Bayesian methods and statistical learning theory - VideoLectures.NET\",\"Recent Advances in Bayesian Methods - VideoLectures.NET\",\" Kernel methods and Support Vector Machines - VideoLectures.NET\",\"Introduction To Bayesian Inference - VideoLectures.NET\",\"Deep Belief Networks  - VideoLectures.NET\",\"Machine Learning and Signal Processing Tools for BCI - VideoLectures.NET\",\"Non Smooth, Non Finite, and Non Convex Optimization - VideoLectures.NET\",\"Distributed, Real-Time Bayesian Learning in Online Service - VideoLectures.NET\",\"Data, Predictions, and Decisions in Support of People and Society - VideoLectures.NET\",\"Adversarial bandit problems: the power of randomization - VideoLectures.NET\",\"Bridging the gap between machines and people - VideoLectures.NET\",\"Kernels and Gaussian Processes - VideoLectures.NET\",\"From Language Modelling to Machine Translation - VideoLectures.NET\",\"Learning Theory - VideoLectures.NET\",\"Causal Inference as Computational Learning - VideoLectures.NET\",\"An Introduction to Statistical Relational Learning - VideoLectures.NET\",\"Event Detection - VideoLectures.NET\",\"Correlation Clustering: From Theory to Practice - VideoLectures.NET\",\"Introduction to Machine Learning - VideoLectures.NET\",\"Mining Uncertain and Probabilistic Data: problems, Challenges, Methods, and Applications - VideoLectures.NET\",\"Sparse methods for machine learning: Theory and algorithms - VideoLectures.NET\",\"Graphical Models - VideoLectures.NET\",\"Learning Bayesian Networks - VideoLectures.NET\",\"Temporal Pattern Mining in Symbolic Time Point and Time Interval Data - VideoLectures.NET\",\"Kernel methods for integrating biological data - VideoLectures.NET\",\"Reinforcement Learning - VideoLectures.NET\",\"Visual features: From Fourier to Gabor - VideoLectures.NET\",\"The Battle for the Future of Data Mining - VideoLectures.NET\",\"Foundations of Nonparametric Bayesian Methods  - VideoLectures.NET\",\"Data Science Through the Lens of Social Science - VideoLectures.NET\",\"Gaussian Processes - VideoLectures.NET\",\"Graphical models - VideoLectures.NET\",\"Data Mining for Anomaly Detection - VideoLectures.NET\",\"Probability, Information Theory and Bayesian Inference - VideoLectures.NET\",\"ORANGE: Data Mining Fruitful and Fun - VideoLectures.NET\",\"The Recommender Problem Revisited - VideoLectures.NET\",\"Security, Privacy and Big Data Standards - VideoLectures.NET\",\"Stacks of Restricted Boltzmann Machines - VideoLectures.NET\",\"Latent Factor Models for Relational Arrays and Network Data - VideoLectures.NET\",\"Learning through Exploration - VideoLectures.NET\",\"Machine Learning with Knowledge Graphs - VideoLectures.NET\",\"Vowpal Wabbit - VideoLectures.NET\",\"PAC-Bayesian Bounds and Aggregation - VideoLectures.NET\",\"Convolutional Networks - VideoLectures.NET\",\"Tutorial on Machine Learning Reductions - VideoLectures.NET\",\"Sparse Methods for Machine Learning: Theory and Algorithms - VideoLectures.NET\",\"Kernel Methods and Support Vector Machines - VideoLectures.NET\",\"Deep Learning 2 - VideoLectures.NET\",\"Introduction to Learning Theory - VideoLectures.NET\",\" Large-scale Data Mining: MapReduce and Beyond - VideoLectures.NET\",\"Active Learning - VideoLectures.NET\",\"A framework for pattern analysis - VideoLectures.NET\",\"Computational Social Science - VideoLectures.NET\",\"Reinforcement Learning in Humans and Other Animals - VideoLectures.NET\",\"Semantic technology empowering real world outcomes in biomedical research and clinical practices - VideoLectures.NET\",\"Can cascades be predicted? - VideoLectures.NET\",\"Unsupervised learning - VideoLectures.NET\",\"Statistical Modeling of Relational Data - VideoLectures.NET\",\"Variational Autoencoder and Extensions - VideoLectures.NET\",\"On manifolds and autoencoders - VideoLectures.NET\",\"Reinforcement Learning for Embodied Cognition  - VideoLectures.NET\",\"Seeing People with Deep Learning - VideoLectures.NET\",\"Scale-out Beyond MapReduce - VideoLectures.NET\",\"Tutorial on Statistical Machine Learning with Applications to Multimodal Processing - VideoLectures.NET\",\"Game Theory & Clustering - VideoLectures.NET\",\"Statistically Sound Pattern Discovery  - VideoLectures.NET\",\"Semantic Data Mining - VideoLectures.NET\",\"Gaussian Processes and Gene Regulation  - VideoLectures.NET\",\"Information Theory - VideoLectures.NET\",\"Sparse Methods for Under-determined Inverse Problems - VideoLectures.NET\",\"Big-Data Tutorial - VideoLectures.NET\",\"Foundations of Statistical Learning Theory : Empirical Infe-rence in high-dimention spaces  - VideoLectures.NET\",\"Understanding and Managing Cascades on Large Graphs - VideoLectures.NET\",\"Introduction to Statistical Machine Learning - VideoLectures.NET\",\"Causality - VideoLectures.NET\",\"Indexing and Mining Time Sequences - VideoLectures.NET\",\"Policy Search: Methods and Applications - VideoLectures.NET\",\"Markov Chain Monte Carlo - VideoLectures.NET\",\"Memory, Reading, and Comprehension - VideoLectures.NET\",\"A Data Scientist\\u2019s Guide to Making Money from Start-ups - VideoLectures.NET\",\"Medicine in the Age of Electronic Health Records - VideoLectures.NET\",\"Machine Learning, Probability and Graphical Models - VideoLectures.NET\",\"Analysis of Clustering Procedures - VideoLectures.NET\",\"Bringing Structure to Text: Mining Phrases, Entity Concepts, Topics, and Hierarchies - VideoLectures.NET\",\"Bayesian inference and Gaussian processes - VideoLectures.NET\",\"State of the Art in Data Stream Mining - VideoLectures.NET\",\"Preference Learning - VideoLectures.NET\",\"Mining Big Data in Real Time - VideoLectures.NET\",\"Algorithms for Predicting Structured Data - VideoLectures.NET\",\"Introduction to Reinforcement Learning - VideoLectures.NET\",\"Survey of Boosting from an Optimization Perspective - VideoLectures.NET\",\"Bayesian Nonparametrics - VideoLectures.NET\",\"Monte Carlo Simulation for Statistical Inference, Model Selection and Decision Making  - VideoLectures.NET\",\"Lectures on Clustering - VideoLectures.NET\",\"Optimization in Learning and Data Analysis - VideoLectures.NET\",\"Algorithms for Interpretable Machine Learning - VideoLectures.NET\",\"Learning with Dependencies between Several Response Variables - VideoLectures.NET\",\"Theory, Methods and Applications of Active Learning - VideoLectures.NET\",\"Introduction to Reinforcement Learning and Bayesian learning - VideoLectures.NET\",\"Boosting - VideoLectures.NET\",\"Foundations of Machine Learning - VideoLectures.NET\",\"Structured Prediction for Natural Language Processing - VideoLectures.NET\",\"Semi-Supervised Learning - VideoLectures.NET\",\"Natural Language Understanding: Foundations and State-of-the-Art - VideoLectures.NET\",\"Mining Massive RFID, Trajectory, and Traffic Data Sets - VideoLectures.NET\",\"Model-Based Reinforcement Learning - VideoLectures.NET\",\"Multilayer Neural Networks - VideoLectures.NET\",\"Monte Carlo Methods - VideoLectures.NET\",\"Multilayer Neural Networks - VideoLectures.NET\",\"Basics of Computational Reinforcement Learning - VideoLectures.NET\",\"Exponential Families - VideoLectures.NET\",\"Deep\\tNLP Applications and Dynamic Memory Networks - VideoLectures.NET\",\"Probabilistic Graphical Models and Structured Prediction - VideoLectures.NET\",\"Support Vector Machines - VideoLectures.NET\",\"Recommendation in Social Media  - VideoLectures.NET\",\"Reinforcement learning - VideoLectures.NET\",\"Citizen Sensor Data Mining, Social Media Analytics and Development Centric Web Applications - VideoLectures.NET\",\"Group Theory in Machine Learning - VideoLectures.NET\",\"Data analytics involving text - VideoLectures.NET\",\"Model-based Bayesian RL - VideoLectures.NET\",\"Optimization Algorithms in Machine Learning - VideoLectures.NET\",\"Training Deep Neural Networks - VideoLectures.NET\",\"Tutorial on Learning Deep Architectures - VideoLectures.NET\",\"Adversarial Examples - VideoLectures.NET\",\"Mining Complex Entities from Heterogeneous Information Networks - VideoLectures.NET\",\"NLP and Deep Learning 2: Compositional Deep Learning\\t - VideoLectures.NET\",\"Scaling Up Deep Learning - VideoLectures.NET\",\"Introduction to Graphical Models - VideoLectures.NET\"],\"x\":[3.5502820274970563,2.9191944054961487,3.7367388461735747,2.9873109964777265,2.819182499722625,3.7309641782321132,3.436003492362259,3.4830781565247824,3.6208442911430496,3.1940467734774103,3.094670854427118,-4.435491405959989,3.3912964097478113,3.201415123699971,-0.6514738153840309,3.2059872719011517,3.2201422413138534,2.0324428812185924,-2.2854379761844745,2.0411430018292838,4.205298423460404,1.4294995114762126,1.0045938200319102,6.070136845884618,5.044183532111993,6.812593788391842,-0.6695349236045905,4.6867717135332105,2.7031657001918146,2.749003076178859,4.438392320255817,2.1872897171796484,0.7319203028725954,4.051987204609767,3.0211339065578677,-5.496752480854853,4.657051139976707,2.3443540363698476,3.87962180619475,0.8658567073622161,1.2320683416423126,2.011293605439707,-2.2195677993223226,1.0274039512748125,-2.717632689662163,2.3362609627895616,4.5300239295710005,1.1958017540893056,6.83210120159,1.038514146391974,5.506599121737341,2.975694356961847,0.5343607805821113,3.127257904379287,3.525762467792919,1.2681259940452003,3.3227279519643482,1.6450317794319298,0.37553303118723186,3.9026090338741626,4.35930360695749,6.024836580400751,-0.601353207727657,2.272844885257494,4.124711118468315,1.0467671179154996,-2.1908999850972317,4.223967322443623,5.505671323615856,3.278657268478152,-0.5762845987828227,2.8467677243693066,2.7669453056880196,2.7874762039549834,5.114509174684283,1.9091894899462465,1.438233437659945,2.484445389981818,-4.398474472341512,5.94583286075179,3.920745413938287,-1.1724950487480799,6.768138883847134,3.3943023371312977,-4.103885191098082,3.020414386981245,0.3741632293991733,1.8582339658660285,0.3800206679998709,4.091382743281334,4.603265586322841,3.1122818910947037,1.2122151935946088,-1.6929135469059269,3.6178835135453404,0.960421451939394,3.580979596234502,2.2065667133872355,1.0612416589672329,2.8195952307037246,0.04562181801577225,3.88757019302651,2.184196420568649,1.28049998539301,1.520020319251687,5.756978002512161,0.7874923224866223,3.2133902487929307,-1.956322411117711,1.7697447836969076,2.9030690283761174,0.7368074640394499,5.755080130386856,4.716400051476576,2.8320583788631453,5.84337759037233,4.9191505508311835,3.968280219287008,0.8931694089412792,2.919049195027708,1.7377297071576114,1.033390334887285,6.7940191014550315,-0.64656980749289,3.448575706642364,-5.6557860063545755,3.8463187431180863,4.7100696213667925,-1.5379705381404674,3.542948656109389,-2.0790925830409908,6.475405873342251,2.756297177747669,0.9935304470664952,2.037257968546946,3.898500393965326,2.6408889613228124,1.9637523915569588,1.7357424785389899,0.9621025952102513,-2.6521473121309604,3.1742051188933016,1.944104504697259,2.5798830350809014,5.832217058267756,4.610254053266616,2.616193721595321,0.21545760544294285,6.802842703904237,-1.8004513138154454,2.7598062820289524,-1.291891341031167,-0.7825559011534211,-0.8556891570834768,-1.990867609615916,-1.0170263525409653,0.21281640686373965,-1.4682230887850292,-3.510318230568253,-0.9116669807092956,-2.1204870489876324,0.4807554201965667,-4.1605132662583495,-1.4269724824172367,-2.0037154988707773,-3.031716914055166,-1.5508789791224074,0.2244901119023297,1.2191574585499185,1.703335413805718,-0.9552045812726928,4.164350098582641,-4.884894912829263,-2.0376216306082657,3.1906414292113285,-2.053207043799097,5.866168477851603,3.4995748481310063,-1.3806679712727359,-2.736981884710212,5.912164860757642,-1.994238046785146,2.6678734991590582,-4.665640328947018,0.5123803573846439,1.7664609871599626,-0.8891019324101814,4.1049767808234625,-2.9711293180890137,-3.135419937428837,1.704626810371032,4.26697502747511,0.3360525055245324,3.0981501010490633,0.40214302570999216,-4.426501877059232,-2.957177076931046,1.8676425289043164,-3.231942745098995,-1.8263215899801035,2.7774948067940275,-3.5821518637056684,-1.8555190938226782,-1.121062059862527,-0.9779898677443737,0.4697395285573378,-0.4898568345927476,-1.7336161640460592,-4.425287629441138,-1.7652817474960807,0.38750874334241214,0.20511924644319968,0.696671889650271,5.577610889320324,-2.7216590851963054,-2.001670182357586,3.881448561688487,-0.771623542303099,-5.443013004782935,-3.730524352391464,-0.5367760661337674,-0.8660569202148698,-4.064459767852938,-2.030960076977223,1.5259664122927576,0.6968094717272549,-0.20600682817108643,0.8412629420763978,-1.7386559931384442,0.36667867830851913,-1.0559644665831711,1.7310828588456004,-2.166557685134884,-1.3543233979250033,-1.1083954177726596,4.128329589361994,2.1537191757552367,1.2626017935384668,-3.1349605332039543,4.438772303855686,-0.06715755282255002,-0.24229745269941141,-3.049323702433378,-3.2766904004042856,0.23203685973951443,-2.896350502297182,-2.923516605937248,0.168029038880888,6.863976915086996,1.3134202989803085,-4.104795567773922,-2.5344760381812517,-3.121757775256999,1.7695787595025319,-5.212004630286863,5.983266369632734,-0.3931558492259426,-1.3813922958887652,4.681718217351773,-0.2706508348047603,-3.7568655629826795,5.998223868993643,-2.5893247716039083,4.892812460694401,-3.032827853500162,1.429089734500728,2.2104432602419264,-0.009121353312938368,-1.0136756793464947,-0.028089557797993103,1.5455565987877486,4.365902586925959,-2.9334420597659236,1.0908339510811451,1.3045333253814773,1.7424160549541166,-1.7110004193222224,-2.3253893147813343,2.360983955988697,-4.337516880502184,-4.177375438551118,4.1367543278680765,1.7575193887728475,-0.8199581096782369,-0.8764061499320832,0.8066784084589869,0.039477571552326216,7.702531244717941,7.695278436180603,1.88449706975702,-1.7606242205294602,1.4758160625744483,-0.08655968767205499,-3.4442423544936234,-4.374404781739924,-1.3763650338197928,-0.2665251417231335,-3.0185915824735363,1.6139048555325677,0.7938674637646806,-2.5670612495619793,-1.1829213819717987,0.20997303076074053,-3.3122582077334313,5.40805240989375,4.804452383954343,2.269079480441193,7.014591088464024,4.769698134429047,-1.6309628582541211,-5.1869022197579975,-3.020706703353347,-0.22017333412985762,-0.610721981847665,5.720254076613338,-1.9368766160258821,-0.07917865880112615,-0.45182683868560025,-5.012400107161297,3.701967791894393,-1.5078905129167655,2.215160505838061,-2.973926835297106,2.2110096389333456,0.6320167924275022,-0.2214388016225161,-4.289786444111811,-2.3747968519907885,3.7579869531079773,0.5930403057679109,-0.7784330741106367,-5.594249317626577,-1.39595830810076,-0.375569233270991,-4.891766683441832,0.16073851306308037,2.237392008192252,0.27037578859508393,-4.7527946895537205,2.7702784951524806,-1.0055713940882671,-4.186200949965336,2.061752222248228,-0.3786186474676313,-4.386763799952627,-0.15543890789133558,-1.1121783623394077,0.18884873170756342,-2.3659056392374853,1.7254651328403425,-0.4849907645232339,-1.816351794612516,-2.9630972706013754,-1.0360517705615337,-1.4184421090306871,-2.0745111736628963,-4.413316606537446],\"y\":[-1.9225612793337261,-2.6203585476969646,-2.9018549210442797,-1.9142337820218445,-4.101670070275109,-3.5042141619176794,-2.419748611104885,-2.661884330922049,-2.752799423214944,-2.0834918485115885,-2.16927826904012,-0.15890652922453727,-3.0964937551037375,-2.2428450612324977,6.199111305292128,-2.1432391674388627,-2.19779881071952,-4.4513815553017135,-4.64474702588774,-6.879667288354054,1.1617840712277796,-3.0755090489200203,0.1620397549730643,-2.452701619907424,-0.6685331899680045,0.6498023732960608,-3.7679109345602586,-0.4974634151286326,-0.034424579630508684,-6.721167193882441,-2.075577344713049,-3.626235216785678,-4.661997073620237,-0.9635386214121567,-7.192666362478421,-2.7330044538938836,-1.3411093529779903,-6.085466699111714,-4.684764960537542,-2.5826981383928684,-2.343699867237472,-5.3614893347064925,-4.619372076536034,-5.665547113735339,-5.105028948170539,-4.718447896592728,-3.1408047625863045,-0.7284296028819226,0.653391047238319,-6.805990808121748,-2.0579565475580472,0.18913806594381136,-5.301953631207476,-7.316338921632993,-6.377144702909569,-4.941126752758706,1.337990441053873,-1.3734646684417067,-6.712426795592246,-4.137997115003367,-6.360513424048894,1.4339930711436137,1.212856124910163,-4.082756104740115,-4.362622098882375,-4.922017992546881,0.9691809042097647,-4.181215570583048,-1.1575705378560488,-5.775366813043515,1.1947811677991762,0.0836397962428237,-0.21439889593173014,-4.0605633829859125,-1.911184778613353,-5.724755731130484,0.3903315128004459,-4.600702171229615,-3.596234329370085,-2.6858211325576704,-0.8034448273729462,-3.9391075115293277,0.6336605715919861,-4.178610560524142,2.4235445823811137,-7.115022996253245,-1.8144798843554533,-0.6348442136010118,-1.9160509254403186,-6.077684185292242,-3.212331251125683,-7.263537012292191,-0.7049085875532355,0.131812694575115,-4.477513319090675,-2.312303030794936,-5.491920007665397,-3.837439665962771,-6.765600706456956,-4.775913178394141,-6.926488828293386,-4.41402208859963,-3.1783716990776187,-3.88965963154704,-1.3047302660639843,-0.11911144978492386,-2.0397391805246676,-0.9376802774181248,-2.415461584539177,-2.5897934719973414,-5.601751450804834,-6.396762119922115,-0.1287429302525905,-3.2385753482557806,-6.136838211154455,-3.1419309310666033,1.602194996111471,-4.603767482267254,-3.5092849280038965,-7.070802197374564,-1.880705583471644,-3.789244780351033,0.6519019002268658,1.0807137395064736,-5.965506677821366,-2.7412197195836336,1.0723726381897973,-3.159988794006949,-5.681436907036036,0.15340877956821797,-4.405142126978947,0.9079993450904749,-0.05768224929828525,-0.4257490406586237,-6.395937460773771,-6.357821813437306,-6.236945741897048,-2.422265342138941,-7.673892284603361,0.18956969059747372,-5.063500595157948,1.390359793829704,-1.9051332866690933,-2.7842293603128123,-3.920768272413588,-1.91584204416065,-6.152797613621265,5.454292459634573,0.6229427669797175,-3.9808420659354113,-0.39946805952112174,4.763630911440179,-0.6215909328175167,2.7267412837380363,-1.2494385801022814,-4.2265712854332005,-3.798839853966688,2.119683035609573,2.04367585166656,0.061767546923715784,-2.0198119234341476,2.1117811614912796,-3.441562364335419,2.8995768339716665,-1.241991475354248,-1.6379294284533243,0.757327467352531,5.96214029826566,1.2595695003430156,3.622576899499757,-2.969874590694278,4.496476918822324,0.12129587532263586,6.619328446018839,2.1037112454926454,6.79620302325397,-3.0219672937947797,-0.9416892505275182,-0.7110540313591125,1.6290469472534566,-3.7960419066912756,-3.387303991687044,-1.0121086271916682,2.422091960962073,-2.7975420684979397,3.391017094384593,-6.743391776449933,4.710089228626743,-1.6633925179803002,0.24028122811770286,3.6143491356285513,3.227238665133892,0.1856985172419836,3.027965019163106,-3.21992849936349,0.6060211248830474,-5.165832354375451,1.3420702192012206,3.5611387241090116,1.8643727894284228,2.5775531811180756,1.735512754741928,6.528042592456424,5.809430125193802,-2.9636588374171375,2.383307354978535,2.142838479482891,6.541804280873359,2.341059533454245,5.011315862130875,-3.679115649698949,0.47062138819649385,-0.5172980730899693,-6.4325860765322584,-0.418454606051309,2.9622706414133386,-0.7143525893923431,6.115273824014059,2.5213366334551757,-2.780592802365464,-2.186208969546067,0.7823560092151151,-3.3686674609682767,-3.371492016518308,-4.478197161576062,-3.864446125787934,-3.7955734941823303,3.2656921421011003,6.444716584550559,2.265586014606752,2.377405393660391,3.5569321789397472,1.9222108214146856,6.467124013825314,-1.5332201778030177,4.685119452864231,-1.267567593959841,-1.2455713669491877,-6.370404347729382,0.31902779355912625,3.5820515489167,1.179245978893828,0.27619953573163447,3.7198920321779716,-1.7162502999260412,-3.2930205197007103,-1.6179516256865905,-0.04325085128743176,-4.797975127182174,2.2327028862494673,2.233107445646322,2.872934062419424,-3.1426049700517797,3.554555184388873,0.09948339192865474,-3.800589643110096,-5.577149116368862,2.904897515021226,-1.5199043766629516,3.539211894244769,2.1604648934214357,-5.675541467600213,1.2025698908124387,-5.745625487953406,-5.113957264999817,-4.215795040222741,1.7527865358746793,-1.8182216424815498,-1.2537569490692007,-3.432097845973904,-3.168722841408544,3.266337115646149,5.098032340502392,1.105521614743506,2.2282352239373973,3.561491968036376,6.426086117614131,-0.33233824863764083,-4.402438595580114,-1.511530579406638,-3.467563122581051,-1.1103492285162455,0.16023680318261965,-6.5822105641921045,-5.348177702665934,4.855613119365722,-2.642089990199036,-1.2968907095678484,-1.295631846830265,-0.305992945277502,6.491884235778941,-4.733764012237114,-0.7164450991444792,-1.793271396555579,-3.647324053270137,-2.6304701914472486,3.562882538635188,0.29308373460784415,2.2914918523723187,-4.177143198059391,0.535913361868574,-4.877161694928215,0.28851101021378944,3.7856173127371058,-5.2853633277163645,0.6691938481638486,5.279330799650902,-2.3479562742956235,-4.9788732812394345,-6.845878446214073,2.47637125914386,-1.6544908359851564,-4.683711399621762,3.322232972205464,-4.648789239060813,-5.838410930653194,-6.194302885969699,0.036564285282561365,-0.41753331572916524,2.333051724019975,2.8928993476858422,5.21134108941065,-1.7966315472524876,1.0384760179921202,-0.8346500647569302,-1.1455031299218084,-1.6031100674958432,2.348589507234588,2.3560030254841067,1.4540813263926349,5.112488990343982,-1.1447635298598782,-2.5490898441722853,-3.0708043604479482,0.10321029379619873,6.044561214135621,5.2124399842540985,6.092044205727974,0.11572066138503127,0.9785408211366918,6.030157631472592,2.2880663287387435,2.5298676633358346,-4.911074623005494,-0.27391313903660763,-4.892171258477786,-1.7980957663643113,-5.282275997311923,2.355017642239447,1.1266802607214517,6.183063922135788,5.6096711454015,-6.639721150913574,-3.691551807009329,6.268179620491092,6.060094375264775,2.3171501034071538]}},\"id\":\"ea3c6422-4676-476c-92ac-6f5d2b8f8a50\",\"type\":\"ColumnDataSource\"},{\"attributes\":{\"fill_alpha\":{\"value\":0.1},\"fill_color\":{\"value\":\"#1f77b4\"},\"height\":{\"units\":\"data\",\"value\":1},\"line_alpha\":{\"value\":0.1},\"line_color\":{\"value\":\"#1f77b4\"},\"width\":{\"units\":\"data\",\"value\":1},\"x\":{\"field\":\"x\"},\"y\":{\"field\":\"y\"}},\"id\":\"e22dc5e8-36b9-4365-bb3e-b2e3e1b11dd1\",\"type\":\"Rect\"},{\"attributes\":{},\"id\":\"1586eb61-d54e-41aa-9f20-d49bbb47a7e3\",\"type\":\"BasicTicker\"},{\"attributes\":{\"plot\":{\"id\":\"e7ec2631-eb37-4f20-bbdc-3e482d7d169e\",\"subtype\":\"Figure\",\"type\":\"Plot\"}},\"id\":\"e74de7a5-7945-4d18-a968-6bd549fc5aaa\",\"type\":\"ResetTool\"}],\"root_ids\":[\"5e9618d9-90a3-426f-904c-86660780caa3\",\"e7ec2631-eb37-4f20-bbdc-3e482d7d169e\"]},\"title\":\"Bokeh Application\",\"version\":\"0.11.1\"}};\n",
       "            var render_items = [{\"docid\":\"152d052f-f76b-48fe-a270-1cdd1613b59a\",\"elementid\":\"f5ea0e69-994e-4787-9f9a-ad14a2128bbf\",\"modelid\":\"e7ec2631-eb37-4f20-bbdc-3e482d7d169e\",\"notebook_comms_target\":\"ae2fd751-8cb2-452c-8987-afeb5ff6929e\"}];\n",
       "            \n",
       "            Bokeh.embed.embed_items(docs_json, render_items);\n",
       "        });\n",
       "      },\n",
       "      function(Bokeh) {\n",
       "      }\n",
       "    ];\n",
       "  \n",
       "    function run_inline_js() {\n",
       "      for (var i = 0; i < inline_js.length; i++) {\n",
       "        inline_js[i](window.Bokeh);\n",
       "      }\n",
       "    }\n",
       "  \n",
       "    if (window._bokeh_is_loading === 0) {\n",
       "      console.log(\"Bokeh: BokehJS loaded, going straight to plotting\");\n",
       "      run_inline_js();\n",
       "    } else {\n",
       "      load_libs(js_urls, function() {\n",
       "        console.log(\"Bokeh: BokehJS plotting callback run at\", now());\n",
       "        run_inline_js();\n",
       "      });\n",
       "    }\n",
       "  }(this));\n",
       "</script>"
      ]
     },
     "metadata": {},
     "output_type": "display_data"
    },
    {
     "name": "stderr",
     "output_type": "stream",
     "text": [
      "/opt/anaconda2/lib/python2.7/site-packages/ipykernel/comm/comm.py:52: DeprecationWarning: Comm._comm_id_default is deprecated: use @default decorator instead.\n",
      "  def _comm_id_default(self):\n",
      "/opt/anaconda2/lib/python2.7/site-packages/ipykernel/comm/comm.py:29: DeprecationWarning: Comm._iopub_socket_default is deprecated: use @default decorator instead.\n",
      "  def _iopub_socket_default(self):\n",
      "/opt/anaconda2/lib/python2.7/site-packages/ipykernel/comm/comm.py:24: DeprecationWarning: Comm._kernel_default is deprecated: use @default decorator instead.\n",
      "  def _kernel_default(self):\n",
      "/opt/anaconda2/lib/python2.7/site-packages/ipykernel/comm/comm.py:32: DeprecationWarning: Comm._session_default is deprecated: use @default decorator instead.\n",
      "  def _session_default(self):\n",
      "/opt/anaconda2/lib/python2.7/site-packages/ipykernel/comm/comm.py:41: DeprecationWarning: Comm._topic_default is deprecated: use @default decorator instead.\n",
      "  def _topic_default(self):\n",
      "/opt/anaconda2/lib/python2.7/site-packages/ipykernel/comm/comm.py:24: DeprecationWarning: Comm._kernel_default is deprecated: use @default decorator instead.\n",
      "  def _kernel_default(self):\n",
      "/opt/anaconda2/lib/python2.7/site-packages/ipykernel/comm/comm.py:52: DeprecationWarning: Comm._comm_id_default is deprecated: use @default decorator instead.\n",
      "  def _comm_id_default(self):\n",
      "/opt/anaconda2/lib/python2.7/site-packages/ipykernel/comm/comm.py:32: DeprecationWarning: Comm._session_default is deprecated: use @default decorator instead.\n",
      "  def _session_default(self):\n",
      "/opt/anaconda2/lib/python2.7/site-packages/ipykernel/comm/comm.py:41: DeprecationWarning: Comm._topic_default is deprecated: use @default decorator instead.\n",
      "  def _topic_default(self):\n"
     ]
    },
    {
     "data": {
      "text/html": [
       "<p><code>&lt;Bokeh Notebook handle for <strong>In[41]</strong>&gt;</code></p>"
      ],
      "text/plain": [
       "<bokeh.io._CommsHandle at 0x7fd9d1929d10>"
      ]
     },
     "execution_count": 41,
     "metadata": {},
     "output_type": "execute_result"
    }
   ],
   "source": [
    "hover = HoverTool(\n",
    "    tooltips=[(\"x\", \"@x\"), (\"x\", \"@y\"), (\"Titles\", \"@title\")]\n",
    ")\n",
    "\n",
    "source = ColumnDataSource(plot_df)\n",
    "p = figure(background_fill='#DFDFE5', plot_width=650, \n",
    "                          plot_height=450)\n",
    "# Add the hover tool\n",
    "p.add_tools(hover)\n",
    "\n",
    "# Populate glyphs\n",
    "p.circle(x='x', y='y', size=7, alpha=0.5, source=source)\n",
    "#p = Scatter(plot_df, title=\"scat\", width=800, tools=[hover, \"pan\",\"box_zoom\",\"wheel_zoom\",\"reset\",\"resize\",\"save\"])\n",
    "show(p)"
   ]
  },
  {
   "cell_type": "code",
   "execution_count": null,
   "metadata": {
    "collapsed": true
   },
   "outputs": [],
   "source": []
  },
  {
   "cell_type": "code",
   "execution_count": null,
   "metadata": {
    "collapsed": true
   },
   "outputs": [],
   "source": []
  }
 ],
 "metadata": {
  "kernelspec": {
   "display_name": "Python 2",
   "language": "python",
   "name": "python2"
  },
  "language_info": {
   "codemirror_mode": {
    "name": "ipython",
    "version": 2
   },
   "file_extension": ".py",
   "mimetype": "text/x-python",
   "name": "python",
   "nbconvert_exporter": "python",
   "pygments_lexer": "ipython2",
   "version": "2.7.12"
  }
 },
 "nbformat": 4,
 "nbformat_minor": 0
}
