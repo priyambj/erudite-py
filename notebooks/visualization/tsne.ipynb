{
 "cells": [
  {
   "cell_type": "code",
   "execution_count": null,
   "metadata": {
    "collapsed": true
   },
   "outputs": [],
   "source": [
    "from sklearn.manifold import TSNE\n",
    "from __future__ import print_function, division\n",
    "%pylab inline\n",
    "import numpy as np\n",
    "import pandas as pd\n",
    "import warnings\n",
    "warnings.filterwarnings('ignore')\n",
    "import seaborn as sns\n",
    "from bokeh.plotting import *\n",
    "\n",
    "from bokeh.io import output_notebook\n",
    "output_notebook()\n",
    "from bokeh.charts import Scatter"
   ]
  },
  {
   "cell_type": "code",
   "execution_count": null,
   "metadata": {
    "collapsed": true
   },
   "outputs": [],
   "source": [
    "tsne = TSNE(n_components=2, learning_rate=500, n_iter=1000000, random_state=2016)\n",
    "tsne_text = tsne.fit_transform(vectorized_text) # [n_samples, n_features]\n",
    "plot_df = pd.DataFrame(columns=['x', 'y'], data=tsne_text)\n",
    "plot_df['title'] = df['title'] # add info for hovering \n",
    "plot_df['tags'] = df['tags'] # add info for hovering\n",
    "print(len(plot_df))"
   ]
  },
  {
   "cell_type": "code",
   "execution_count": null,
   "metadata": {
    "collapsed": true
   },
   "outputs": [],
   "source": [
    "hover = HoverTool(\n",
    "    tooltips=[(\"x\", \"@x\"), (\"x\", \"@y\"), (\"Titles\", \"@title\")]\n",
    ")\n",
    "\n",
    "source = ColumnDataSource(plot_df)\n",
    "p = figure(background_fill='#DFDFE5', plot_width=650, \n",
    "                          plot_height=450)\n",
    "# Add the hover tool\n",
    "p.add_tools(hover)\n",
    "\n",
    "# Populate glyphs\n",
    "p.circle(x='x', y='y', size=7, alpha=0.5, source=source)\n",
    "#p = Scatter(plot_df, title=\"scat\", width=800, tools=[hover, \"pan\",\"box_zoom\",\"wheel_zoom\",\"reset\",\"resize\",\"save\"])\n",
    "show(p)"
   ]
  }
 ],
 "metadata": {
  "kernelspec": {
   "display_name": "Python 2",
   "language": "python",
   "name": "python2"
  },
  "language_info": {
   "codemirror_mode": {
    "name": "ipython",
    "version": 2
   },
   "file_extension": ".py",
   "mimetype": "text/x-python",
   "name": "python",
   "nbconvert_exporter": "python",
   "pygments_lexer": "ipython2",
   "version": "2.7.12"
  }
 },
 "nbformat": 4,
 "nbformat_minor": 0
}
